{
 "cells": [
  {
   "cell_type": "markdown",
   "id": "17f3d7c3",
   "metadata": {},
   "source": [
    "# Import File"
   ]
  },
  {
   "cell_type": "code",
   "execution_count": 1,
   "id": "e4adcae0",
   "metadata": {},
   "outputs": [],
   "source": [
    "import os, re\n",
    "\n",
    "\n",
    "### Fungsi untuk membaca file\n",
    "def read_text_file(file_path):\n",
    "    with open(file_path, 'r') as f:\n",
    "        return(f.read())\n",
    "\n",
    "### Fungsi untuk mengecek isi dari folder tersebut\n",
    "def read_file(folder_path):\n",
    "    file_path = []\n",
    "    for file in os.listdir(folder_path):\n",
    "        if os.path.isfile(os.path.join(folder_path, file)):\n",
    "            if file.endswith(\".txt\"):\n",
    "                file_path.append(file)\n",
    "    print(file_path)\n",
    "\n",
    "### Fungsi untuk menampilkan isi dari setiap file\n",
    "def read_content_file(path):\n",
    "    berita = []\n",
    "    for file in os.listdir(path):\n",
    "        if file.endswith(\".txt\"):\n",
    "            file_path = f\"{path}\\{file}\"\n",
    " \n",
    "            print(read_text_file(file_path))\n",
    "            berita.append(read_text_file(file_path))\n",
    "    return(berita)\n"
   ]
  },
  {
   "cell_type": "markdown",
   "id": "67d7f4bc",
   "metadata": {},
   "source": [
    "# Checking File"
   ]
  },
  {
   "cell_type": "code",
   "execution_count": 2,
   "id": "9bc3ed40",
   "metadata": {},
   "outputs": [
    {
     "name": "stdout",
     "output_type": "stream",
     "text": [
      "['berita1.txt', 'berita2.txt', 'berita3.txt', 'berita4.txt', 'berita5.txt']\n",
      "Wilayah Kamu Sudah 'Bebas' COVID-19? Cek 34 Kab/Kota Zona Hijau Terbaru\n",
      "\n",
      "Jakarta - Pemerintah rencananya bakal menerapkan Pemberlakuan Pembatasan Kegiatan Masyarakat (PPKM) level 3 terhitung 24 Desember 2021 hingga 2 Januari 2021. Namun, Kementerian Kesehatan RI memastikan kebijakan PPKM level 3 ini masih dalam tahap kajian.\n",
      "Menurut Direktur Pencegahan dan Pengendalian Penyakit Menular Langsung (P2PML) Kemenkes RI dr Siti Nadia Tarmizi, PPKM level 3 bakal diterapkan jika kasus COVID-19 naik signifikan. Hal ini umumnya dipicu dengan peningkatan mobilitas dan pelonggaran protokol kesehatan.\n",
      "\n",
      "https://health.detik.com/berita-detikhealth/d-5816690/wilayah-kamu-sudah-bebas-covid-19-cek-34-kabkota-zona-hijau-terbaru\n",
      "Vaksin COVID-19 Bakal Rutin Setiap Tahun? Tergantung, Ini Penjelasannya\n",
      "\n",
      "Jakarta - Pemberian booster atau dosis ketiga vaksin COVID-19 di Indonesia direncanakan bakal berlangsung Januari 2022. Lantas adakah kemungkinan vaksinasi COVID-19 bakal harus dilakukan setiap tahun seperti vaksinasi influenza?\n",
      "Ketua Satgas COVID-19 Ikatan Dokter Indonesia (IDI) Prof Zubairi Djoerban menjelaskan hingga kini belum ada kepastian terkait hal tersebut. Menurutnya masih ada kemungkinan vaksin COVID-19 harus diberikan setiap tahun, ada juga kemungkinan cukup booster diberikan sekali kemudian vaksinasi COVID-19 tidak diperlukan lagi.\n",
      "\n",
      "https://health.detik.com/berita-detikhealth/d-5816582/vaksin-covid-19-bakal-rutin-setiap-tahun-tergantung-ini-penjelasannya\n",
      "RI Mulai Suntikkan Booster di 2022, Masihkah Ampuh Lawan Varian Delta Cs?\n",
      "\n",
      "Jakarta - Pakar mengakui vaksin-vaksin yang sudah digunakan untuk dosis 1-2 memang mengalami penurunan efektivitas terhadap varian baru Corona seperti varian Delta. Mengingat booster atau dosis ketiga vaksin COVID-19 di Indonesia disebut bakal dimulai awal 2022, apakah jenis vaksin yang digunakan bakal mengikuti strain virus terbaru?\n",
      "Menjawab pertanyaan tersebut, Ketua Satgas COVID-19 Ikatan Dokter Indonesia (IDI) Prof Zubairi Djoerban kembali menyinggung riset yang sudah berlangsung terkait efektivitas vaksin COVID-19 dosis 1 dan 2. Ia menyebut berdasarkan riset sejauh ini, efektivitas vaksin COVID-19 Pfizer dan Moderna terbukti menurun dalam melawan varian Delta.\n",
      "\n",
      "https://health.detik.com/berita-detikhealth/d-5816534/ri-mulai-suntikkan-booster-di-2022-masihkah-ampuh-lawan-varian-delta-cs\n",
      "Alert! Kasus Varian Delta COVID-19 di DKI Meningkat\n",
      "\n",
      "Jakarta - Data terbaru dari Balitbangkes Kemenkes RI per 13 November, menunjukkan adanya penambahan varian Delta. Penambahan tersebut terjadi di Jawa Barat ada 165 kasus, DKI Jakarta 90 kasus, dan Sulawesi Utara 86 kasus.\n",
      "Dalam satu bulan terakhir, Balitbangkes menyebutkan DKI Jakarta mengalami peningkatan kasus varian Delta yang signifikan. Sementara, pada varian baru seperti varian Alpha, varian Delta, hingga Beta terbanyak di Indonesia berasal dari DKI Jakarta, dengan total 1.327 kasus .\n",
      "\n",
      "https://health.detik.com/berita-detikhealth/d-5812940/alert-kasus-varian-delta-covid-19-di-dki-meningkat\n",
      "Corona di AS Mendadak Naik Lagi Usai Serangan Delta Sempat Mereda\n",
      "\n",
      "Jakarta - Kasus COVID-19 kembali naik di sejumlah wilayah Amerika Serikat (AS). Padahal diketahui, COVID-19 sempat tercatat stabil pasca serangan varian Delta musim panas ini. Ada apa?\n",
      "Hal tersebut disampaikan oleh kepala penasihat medis Gedung Putih Dr. Anthony Fauci, Senin (15/11/2021). Diketahui, kasus nasional turun 57 persen minggu lalu dari puncak gelombang varian Delta pada musim panas. Namun jumlah pasien COVID-19 di area Barat Tengah dan Timur laut kini naik mendadak.\n",
      "\n",
      "https://health.detik.com/berita-detikhealth/d-5813949/corona-di-as-mendadak-naik-lagi-usai-serangan-delta-sempat-mereda\n"
     ]
    }
   ],
   "source": [
    "## Path yang digunakan\n",
    "path = \"C:/Users/yanto/Documents/STIS/Semester 5/Mata Kuliah/Information Retrieval/Praktikum/Praktikum 3/berita\"\n",
    "\n",
    "## Menampilkan file yang ada pada folder 'berita'\n",
    "read_file(path)\n",
    "\n",
    "## Menampilkan isi pada setiap file yang ada pada folder berita dan menyimpan ke dalam variabel berita\n",
    "berita = read_content_file(path)\n"
   ]
  },
  {
   "cell_type": "markdown",
   "id": "7aa6dc97",
   "metadata": {},
   "source": [
    "# Preprocessing\n",
    "## Case-Folding\n"
   ]
  },
  {
   "cell_type": "code",
   "execution_count": 3,
   "id": "eb4f5f71",
   "metadata": {},
   "outputs": [
    {
     "data": {
      "text/plain": [
       "'!\"#$%&\\'()*+,-./:;<=>?@[\\\\]^_`{|}~'"
      ]
     },
     "execution_count": 3,
     "metadata": {},
     "output_type": "execute_result"
    }
   ],
   "source": [
    "# Coba buat Punctuation \n",
    "import string\n",
    "string.punctuation"
   ]
  },
  {
   "cell_type": "code",
   "execution_count": 4,
   "id": "05bc0d96",
   "metadata": {},
   "outputs": [
    {
     "name": "stdout",
     "output_type": "stream",
     "text": [
      "Wilayah Kamu Sudah Bebas COVID19 Cek 34 KabKota Zona Hijau Terbaru\n",
      "\n",
      "Jakarta  Pemerintah rencananya bakal menerapkan Pemberlakuan Pembatasan Kegiatan Masyarakat PPKM level 3 terhitung 24 Desember 2021 hingga 2 Januari 2021 Namun Kementerian Kesehatan RI memastikan kebijakan PPKM level 3 ini masih dalam tahap kajian\n",
      "Menurut Direktur Pencegahan dan Pengendalian Penyakit Menular Langsung P2PML Kemenkes RI dr Siti Nadia Tarmizi PPKM level 3 bakal diterapkan jika kasus COVID19 naik signifikan Hal ini umumnya dipicu dengan peningkatan mobilitas dan pelonggaran protokol kesehatan\n",
      "\n",
      "httpshealthdetikcomberitadetikhealthd5816690wilayahkamusudahbebascovid19cek34kabkotazonahijauterbaru\n",
      "Vaksin COVID19 Bakal Rutin Setiap Tahun Tergantung Ini Penjelasannya\n",
      "\n",
      "Jakarta  Pemberian booster atau dosis ketiga vaksin COVID19 di Indonesia direncanakan bakal berlangsung Januari 2022 Lantas adakah kemungkinan vaksinasi COVID19 bakal harus dilakukan setiap tahun seperti vaksinasi influenza\n",
      "Ketua Satgas COVID19 Ikatan Dokter Indonesia IDI Prof Zubairi Djoerban menjelaskan hingga kini belum ada kepastian terkait hal tersebut Menurutnya masih ada kemungkinan vaksin COVID19 harus diberikan setiap tahun ada juga kemungkinan cukup booster diberikan sekali kemudian vaksinasi COVID19 tidak diperlukan lagi\n",
      "\n",
      "httpshealthdetikcomberitadetikhealthd5816582vaksincovid19bakalrutinsetiaptahuntergantunginipenjelasannya\n",
      "RI Mulai Suntikkan Booster di 2022 Masihkah Ampuh Lawan Varian Delta Cs\n",
      "\n",
      "Jakarta  Pakar mengakui vaksinvaksin yang sudah digunakan untuk dosis 12 memang mengalami penurunan efektivitas terhadap varian baru Corona seperti varian Delta Mengingat booster atau dosis ketiga vaksin COVID19 di Indonesia disebut bakal dimulai awal 2022 apakah jenis vaksin yang digunakan bakal mengikuti strain virus terbaru\n",
      "Menjawab pertanyaan tersebut Ketua Satgas COVID19 Ikatan Dokter Indonesia IDI Prof Zubairi Djoerban kembali menyinggung riset yang sudah berlangsung terkait efektivitas vaksin COVID19 dosis 1 dan 2 Ia menyebut berdasarkan riset sejauh ini efektivitas vaksin COVID19 Pfizer dan Moderna terbukti menurun dalam melawan varian Delta\n",
      "\n",
      "httpshealthdetikcomberitadetikhealthd5816534rimulaisuntikkanboosterdi2022masihkahampuhlawanvariandeltacs\n",
      "Alert Kasus Varian Delta COVID19 di DKI Meningkat\n",
      "\n",
      "Jakarta  Data terbaru dari Balitbangkes Kemenkes RI per 13 November menunjukkan adanya penambahan varian Delta Penambahan tersebut terjadi di Jawa Barat ada 165 kasus DKI Jakarta 90 kasus dan Sulawesi Utara 86 kasus\n",
      "Dalam satu bulan terakhir Balitbangkes menyebutkan DKI Jakarta mengalami peningkatan kasus varian Delta yang signifikan Sementara pada varian baru seperti varian Alpha varian Delta hingga Beta terbanyak di Indonesia berasal dari DKI Jakarta dengan total 1327 kasus \n",
      "\n",
      "httpshealthdetikcomberitadetikhealthd5812940alertkasusvariandeltacovid19didkimeningkat\n",
      "Corona di AS Mendadak Naik Lagi Usai Serangan Delta Sempat Mereda\n",
      "\n",
      "Jakarta  Kasus COVID19 kembali naik di sejumlah wilayah Amerika Serikat AS Padahal diketahui COVID19 sempat tercatat stabil pasca serangan varian Delta musim panas ini Ada apa\n",
      "Hal tersebut disampaikan oleh kepala penasihat medis Gedung Putih Dr Anthony Fauci Senin 15112021 Diketahui kasus nasional turun 57 persen minggu lalu dari puncak gelombang varian Delta pada musim panas Namun jumlah pasien COVID19 di area Barat Tengah dan Timur laut kini naik mendadak\n",
      "\n",
      "httpshealthdetikcomberitadetikhealthd5813949coronadiasmendadaknaiklagiusaiserangandeltasempatmereda\n"
     ]
    }
   ],
   "source": [
    "#defining the function to remove punctuation\n",
    "def remove_punctuation(text):\n",
    "    punctuationfree=\"\".join([i for i in text if i not in string.punctuation])\n",
    "    return punctuationfree\n",
    "#storing the puntuation free text\n",
    "\n",
    "no_punctuation = []\n",
    "for i in berita:\n",
    "    no_punctuation.append(remove_punctuation(i))\n",
    "for i in range(len(no_punctuation)):    \n",
    "    print(no_punctuation[i])\n",
    "\n"
   ]
  },
  {
   "cell_type": "code",
   "execution_count": 5,
   "id": "0e9c51f6",
   "metadata": {},
   "outputs": [
    {
     "name": "stdout",
     "output_type": "stream",
     "text": [
      "wilayah kamu sudah bebas covid19 cek 34 kabkota zona hijau terbaru\n",
      "\n",
      "jakarta  pemerintah rencananya bakal menerapkan pemberlakuan pembatasan kegiatan masyarakat ppkm level 3 terhitung 24 desember 2021 hingga 2 januari 2021 namun kementerian kesehatan ri memastikan kebijakan ppkm level 3 ini masih dalam tahap kajian\n",
      "menurut direktur pencegahan dan pengendalian penyakit menular langsung p2pml kemenkes ri dr siti nadia tarmizi ppkm level 3 bakal diterapkan jika kasus covid19 naik signifikan hal ini umumnya dipicu dengan peningkatan mobilitas dan pelonggaran protokol kesehatan\n",
      "\n",
      "httpshealthdetikcomberitadetikhealthd5816690wilayahkamusudahbebascovid19cek34kabkotazonahijauterbaru\n",
      "vaksin covid19 bakal rutin setiap tahun tergantung ini penjelasannya\n",
      "\n",
      "jakarta  pemberian booster atau dosis ketiga vaksin covid19 di indonesia direncanakan bakal berlangsung januari 2022 lantas adakah kemungkinan vaksinasi covid19 bakal harus dilakukan setiap tahun seperti vaksinasi influenza\n",
      "ketua satgas covid19 ikatan dokter indonesia idi prof zubairi djoerban menjelaskan hingga kini belum ada kepastian terkait hal tersebut menurutnya masih ada kemungkinan vaksin covid19 harus diberikan setiap tahun ada juga kemungkinan cukup booster diberikan sekali kemudian vaksinasi covid19 tidak diperlukan lagi\n",
      "\n",
      "httpshealthdetikcomberitadetikhealthd5816582vaksincovid19bakalrutinsetiaptahuntergantunginipenjelasannya\n",
      "ri mulai suntikkan booster di 2022 masihkah ampuh lawan varian delta cs\n",
      "\n",
      "jakarta  pakar mengakui vaksinvaksin yang sudah digunakan untuk dosis 12 memang mengalami penurunan efektivitas terhadap varian baru corona seperti varian delta mengingat booster atau dosis ketiga vaksin covid19 di indonesia disebut bakal dimulai awal 2022 apakah jenis vaksin yang digunakan bakal mengikuti strain virus terbaru\n",
      "menjawab pertanyaan tersebut ketua satgas covid19 ikatan dokter indonesia idi prof zubairi djoerban kembali menyinggung riset yang sudah berlangsung terkait efektivitas vaksin covid19 dosis 1 dan 2 ia menyebut berdasarkan riset sejauh ini efektivitas vaksin covid19 pfizer dan moderna terbukti menurun dalam melawan varian delta\n",
      "\n",
      "httpshealthdetikcomberitadetikhealthd5816534rimulaisuntikkanboosterdi2022masihkahampuhlawanvariandeltacs\n",
      "alert kasus varian delta covid19 di dki meningkat\n",
      "\n",
      "jakarta  data terbaru dari balitbangkes kemenkes ri per 13 november menunjukkan adanya penambahan varian delta penambahan tersebut terjadi di jawa barat ada 165 kasus dki jakarta 90 kasus dan sulawesi utara 86 kasus\n",
      "dalam satu bulan terakhir balitbangkes menyebutkan dki jakarta mengalami peningkatan kasus varian delta yang signifikan sementara pada varian baru seperti varian alpha varian delta hingga beta terbanyak di indonesia berasal dari dki jakarta dengan total 1327 kasus \n",
      "\n",
      "httpshealthdetikcomberitadetikhealthd5812940alertkasusvariandeltacovid19didkimeningkat\n",
      "corona di as mendadak naik lagi usai serangan delta sempat mereda\n",
      "\n",
      "jakarta  kasus covid19 kembali naik di sejumlah wilayah amerika serikat as padahal diketahui covid19 sempat tercatat stabil pasca serangan varian delta musim panas ini ada apa\n",
      "hal tersebut disampaikan oleh kepala penasihat medis gedung putih dr anthony fauci senin 15112021 diketahui kasus nasional turun 57 persen minggu lalu dari puncak gelombang varian delta pada musim panas namun jumlah pasien covid19 di area barat tengah dan timur laut kini naik mendadak\n",
      "\n",
      "httpshealthdetikcomberitadetikhealthd5813949coronadiasmendadaknaiklagiusaiserangandeltasempatmereda\n"
     ]
    }
   ],
   "source": [
    "case_folding = []\n",
    "for i in range(len(no_punctuation)):\n",
    "    case_folding.append(no_punctuation[i].lower())\n",
    "\n",
    "for i in range(len(case_folding)):\n",
    "    print(case_folding[i])"
   ]
  },
  {
   "cell_type": "markdown",
   "id": "535ffa5f",
   "metadata": {},
   "source": [
    "## Tokenisasi"
   ]
  },
  {
   "cell_type": "code",
   "execution_count": 6,
   "id": "cdb935b3",
   "metadata": {},
   "outputs": [
    {
     "name": "stdout",
     "output_type": "stream",
     "text": [
      "[['wilayah', 'kamu', 'sudah', 'bebas', 'covid19', 'cek', '34', 'kabkota', 'zona', 'hijau', 'terbaru', '\\n\\n', 'jakarta', ' ', 'pemerintah', 'rencananya', 'bakal', 'menerapkan', 'pemberlakuan', 'pembatasan', 'kegiatan', 'masyarakat', 'ppkm', 'level', '3', 'terhitung', '24', 'desember', '2021', 'hingga', '2', 'januari', '2021', 'namun', 'kementerian', 'kesehatan', 'ri', 'memastikan', 'kebijakan', 'ppkm', 'level', '3', 'ini', 'masih', 'dalam', 'tahap', 'kajian', '\\n', 'menurut', 'direktur', 'pencegahan', 'dan', 'pengendalian', 'penyakit', 'menular', 'langsung', 'p2pml', 'kemenkes', 'ri', 'dr', 'siti', 'nadia', 'tarmizi', 'ppkm', 'level', '3', 'bakal', 'diterapkan', 'jika', 'kasus', 'covid19', 'naik', 'signifikan', 'hal', 'ini', 'umumnya', 'dipicu', 'dengan', 'peningkatan', 'mobilitas', 'dan', 'pelonggaran', 'protokol', 'kesehatan', '\\n\\n', 'httpshealthdetikcomberitadetikhealthd5816690wilayahkamusudahbebascovid19cek34kabkotazonahijauterbaru'], ['vaksin', 'covid19', 'bakal', 'rutin', 'setiap', 'tahun', 'tergantung', 'ini', 'penjelasannya', '\\n\\n', 'jakarta', ' ', 'pemberian', 'booster', 'atau', 'dosis', 'ketiga', 'vaksin', 'covid19', 'di', 'indonesia', 'direncanakan', 'bakal', 'berlangsung', 'januari', '2022', 'lantas', 'adakah', 'kemungkinan', 'vaksinasi', 'covid19', 'bakal', 'harus', 'dilakukan', 'setiap', 'tahun', 'seperti', 'vaksinasi', 'influenza', '\\n', 'ketua', 'satgas', 'covid19', 'ikatan', 'dokter', 'indonesia', 'idi', 'prof', 'zubairi', 'djoerban', 'menjelaskan', 'hingga', 'kini', 'belum', 'ada', 'kepastian', 'terkait', 'hal', 'tersebut', 'menurutnya', 'masih', 'ada', 'kemungkinan', 'vaksin', 'covid19', 'harus', 'diberikan', 'setiap', 'tahun', 'ada', 'juga', 'kemungkinan', 'cukup', 'booster', 'diberikan', 'sekali', 'kemudian', 'vaksinasi', 'covid19', 'tidak', 'diperlukan', 'lagi', '\\n\\n', 'httpshealthdetikcomberitadetikhealthd5816582vaksincovid19bakalrutinsetiaptahuntergantunginipenjelasannya'], ['ri', 'mulai', 'suntikkan', 'booster', 'di', '2022', 'masihkah', 'ampuh', 'lawan', 'varian', 'delta', 'cs', '\\n\\n', 'jakarta', ' ', 'pakar', 'mengakui', 'vaksinvaksin', 'yang', 'sudah', 'digunakan', 'untuk', 'dosis', '12', 'memang', 'mengalami', 'penurunan', 'efektivitas', 'terhadap', 'varian', 'baru', 'corona', 'seperti', 'varian', 'delta', 'mengingat', 'booster', 'atau', 'dosis', 'ketiga', 'vaksin', 'covid19', 'di', 'indonesia', 'disebut', 'bakal', 'dimulai', 'awal', '2022', 'apakah', 'jenis', 'vaksin', 'yang', 'digunakan', 'bakal', 'mengikuti', 'strain', 'virus', 'terbaru', '\\n', 'menjawab', 'pertanyaan', 'tersebut', 'ketua', 'satgas', 'covid19', 'ikatan', 'dokter', 'indonesia', 'idi', 'prof', 'zubairi', 'djoerban', 'kembali', 'menyinggung', 'riset', 'yang', 'sudah', 'berlangsung', 'terkait', 'efektivitas', 'vaksin', 'covid19', 'dosis', '1', 'dan', '2', 'ia', 'menyebut', 'berdasarkan', 'riset', 'sejauh', 'ini', 'efektivitas', 'vaksin', 'covid19', 'pfizer', 'dan', 'moderna', 'terbukti', 'menurun', 'dalam', 'melawan', 'varian', 'delta', '\\n\\n', 'httpshealthdetikcomberitadetikhealthd5816534rimulaisuntikkanboosterdi2022masihkahampuhlawanvariandeltacs'], ['alert', 'kasus', 'varian', 'delta', 'covid19', 'di', 'dki', 'meningkat', '\\n\\n', 'jakarta', ' ', 'data', 'terbaru', 'dari', 'balitbangkes', 'kemenkes', 'ri', 'per', '13', 'november', 'menunjukkan', 'adanya', 'penambahan', 'varian', 'delta', 'penambahan', 'tersebut', 'terjadi', 'di', 'jawa', 'barat', 'ada', '165', 'kasus', 'dki', 'jakarta', '90', 'kasus', 'dan', 'sulawesi', 'utara', '86', 'kasus', '\\n', 'dalam', 'satu', 'bulan', 'terakhir', 'balitbangkes', 'menyebutkan', 'dki', 'jakarta', 'mengalami', 'peningkatan', 'kasus', 'varian', 'delta', 'yang', 'signifikan', 'sementara', 'pada', 'varian', 'baru', 'seperti', 'varian', 'alpha', 'varian', 'delta', 'hingga', 'beta', 'terbanyak', 'di', 'indonesia', 'berasal', 'dari', 'dki', 'jakarta', 'dengan', 'total', '1327', 'kasus', '\\n\\n', 'httpshealthdetikcomberitadetikhealthd5812940alertkasusvariandeltacovid19didkimeningkat'], ['corona', 'di', 'as', 'mendadak', 'naik', 'lagi', 'usai', 'serangan', 'delta', 'sempat', 'mereda', '\\n\\n', 'jakarta', ' ', 'kasus', 'covid19', 'kembali', 'naik', 'di', 'sejumlah', 'wilayah', 'amerika', 'serikat', 'as', 'padahal', 'diketahui', 'covid19', 'sempat', 'tercatat', 'stabil', 'pasca', 'serangan', 'varian', 'delta', 'musim', 'panas', 'ini', 'ada', 'apa', '\\n', 'hal', 'tersebut', 'disampaikan', 'oleh', 'kepala', 'penasihat', 'medis', 'gedung', 'putih', 'dr', 'anthony', 'fauci', 'senin', '15112021', 'diketahui', 'kasus', 'nasional', 'turun', '57', 'persen', 'minggu', 'lalu', 'dari', 'puncak', 'gelombang', 'varian', 'delta', 'pada', 'musim', 'panas', 'namun', 'jumlah', 'pasien', 'covid19', 'di', 'area', 'barat', 'tengah', 'dan', 'timur', 'laut', 'kini', 'naik', 'mendadak', '\\n\\n', 'httpshealthdetikcomberitadetikhealthd5813949coronadiasmendadaknaiklagiusaiserangandeltasempatmereda']]\n"
     ]
    }
   ],
   "source": [
    "from spacy.lang.id import Indonesian\n",
    "import spacy\n",
    "nlp = spacy.blank('id') \n",
    "\n",
    "tokenisasi = []\n",
    "for i in case_folding:\n",
    "    spacy_idn = nlp(i)\n",
    "    tokenisasi.append( [tokenisasi.text for tokenisasi in spacy_idn])\n",
    "    \n",
    "print(tokenisasi)"
   ]
  },
  {
   "cell_type": "markdown",
   "id": "540e83a0",
   "metadata": {},
   "source": [
    "## Stopwords Removing"
   ]
  },
  {
   "cell_type": "code",
   "execution_count": 7,
   "id": "5e0d789f",
   "metadata": {},
   "outputs": [
    {
     "name": "stdout",
     "output_type": "stream",
     "text": [
      "[['wilayah', 'bebas', 'covid19', 'cek', '34', 'kabkota', 'zona', 'hijau', 'terbaru', '\\n\\n', 'jakarta', ' ', 'pemerintah', 'rencananya', 'menerapkan', 'pemberlakuan', 'pembatasan', 'kegiatan', 'masyarakat', 'ppkm', 'level', '3', 'terhitung', '24', 'desember', '2021', '2', 'januari', '2021', 'kementerian', 'kesehatan', 'ri', 'kebijakan', 'ppkm', 'level', '3', 'tahap', 'kajian', '\\n', 'direktur', 'pencegahan', 'pengendalian', 'penyakit', 'menular', 'langsung', 'p2pml', 'kemenkes', 'ri', 'dr', 'siti', 'nadia', 'tarmizi', 'ppkm', 'level', '3', 'diterapkan', 'covid19', 'signifikan', 'dipicu', 'peningkatan', 'mobilitas', 'pelonggaran', 'protokol', 'kesehatan', '\\n\\n', 'httpshealthdetikcomberitadetikhealthd5816690wilayahkamusudahbebascovid19cek34kabkotazonahijauterbaru'], ['vaksin', 'covid19', 'rutin', 'tergantung', 'penjelasannya', '\\n\\n', 'jakarta', ' ', 'pemberian', 'booster', 'dosis', 'ketiga', 'vaksin', 'covid19', 'indonesia', 'direncanakan', 'januari', '2022', 'lantas', 'adakah', 'vaksinasi', 'covid19', 'vaksinasi', 'influenza', '\\n', 'ketua', 'satgas', 'covid19', 'ikatan', 'dokter', 'indonesia', 'idi', 'prof', 'zubairi', 'djoerban', 'kepastian', 'terkait', 'menurutnya', 'vaksin', 'covid19', 'booster', 'vaksinasi', 'covid19', '\\n\\n', 'httpshealthdetikcomberitadetikhealthd5816582vaksincovid19bakalrutinsetiaptahuntergantunginipenjelasannya'], ['ri', 'suntikkan', 'booster', '2022', 'ampuh', 'lawan', 'varian', 'delta', 'cs', '\\n\\n', 'jakarta', ' ', 'pakar', 'mengakui', 'vaksinvaksin', 'dosis', '12', 'mengalami', 'penurunan', 'efektivitas', 'varian', 'corona', 'varian', 'delta', 'booster', 'dosis', 'ketiga', 'vaksin', 'covid19', 'indonesia', '2022', 'jenis', 'vaksin', 'mengikuti', 'strain', 'virus', 'terbaru', '\\n', 'ketua', 'satgas', 'covid19', 'ikatan', 'dokter', 'indonesia', 'idi', 'prof', 'zubairi', 'djoerban', 'menyinggung', 'riset', 'terkait', 'efektivitas', 'vaksin', 'covid19', 'dosis', '1', '2', 'menyebut', 'berdasarkan', 'riset', 'efektivitas', 'vaksin', 'covid19', 'pfizer', 'moderna', 'terbukti', 'menurun', 'melawan', 'varian', 'delta', '\\n\\n', 'httpshealthdetikcomberitadetikhealthd5816534rimulaisuntikkanboosterdi2022masihkahampuhlawanvariandeltacs'], ['alert', 'varian', 'delta', 'covid19', 'dki', 'meningkat', '\\n\\n', 'jakarta', ' ', 'data', 'terbaru', 'balitbangkes', 'kemenkes', 'ri', '13', 'november', 'penambahan', 'varian', 'delta', 'penambahan', 'jawa', 'barat', '165', 'dki', 'jakarta', '90', 'sulawesi', 'utara', '86', '\\n', 'balitbangkes', 'dki', 'jakarta', 'mengalami', 'peningkatan', 'varian', 'delta', 'signifikan', 'varian', 'varian', 'alpha', 'varian', 'delta', 'beta', 'indonesia', 'berasal', 'dki', 'jakarta', 'total', '1327', '\\n\\n', 'httpshealthdetikcomberitadetikhealthd5812940alertkasusvariandeltacovid19didkimeningkat'], ['corona', 'as', 'mendadak', 'serangan', 'delta', 'mereda', '\\n\\n', 'jakarta', ' ', 'covid19', 'wilayah', 'amerika', 'serikat', 'as', 'covid19', 'tercatat', 'stabil', 'pasca', 'serangan', 'varian', 'delta', 'musim', 'panas', '\\n', 'kepala', 'penasihat', 'medis', 'gedung', 'putih', 'dr', 'anthony', 'fauci', 'senin', '15112021', 'nasional', 'turun', '57', 'persen', 'minggu', 'puncak', 'gelombang', 'varian', 'delta', 'musim', 'panas', 'pasien', 'covid19', 'area', 'barat', 'timur', 'laut', 'mendadak', '\\n\\n', 'httpshealthdetikcomberitadetikhealthd5813949coronadiasmendadaknaiklagiusaiserangandeltasempatmereda']]\n"
     ]
    }
   ],
   "source": [
    "no_sw = []\n",
    "stopwords =  nlp.Defaults.stop_words\n",
    "\n",
    "for i in tokenisasi: \n",
    "    no_sw.append([w for w in i if not w in stopwords])\n",
    "print(no_sw)"
   ]
  },
  {
   "cell_type": "code",
   "execution_count": 10,
   "id": "61667f44",
   "metadata": {},
   "outputs": [
    {
     "data": {
      "text/plain": [
       "True"
      ]
     },
     "execution_count": 10,
     "metadata": {},
     "output_type": "execute_result"
    }
   ],
   "source": [
    "str1 = 'httpsgfdfdssfd'\n",
    "'http' in str1"
   ]
  },
  {
   "cell_type": "markdown",
   "id": "19a3f49f",
   "metadata": {},
   "source": [
    "## Stemming"
   ]
  },
  {
   "cell_type": "code",
   "execution_count": 19,
   "id": "123f0f88",
   "metadata": {},
   "outputs": [
    {
     "name": "stdout",
     "output_type": "stream",
     "text": [
      "[['wilayah', 'bebas', 'covid19', 'cek', '34', 'kabkota', 'zona', 'hijau', 'baru', '', 'jakarta', '', 'perintah', 'rencana', 'terap', 'laku', 'batas', 'giat', 'masyarakat', 'ppkm', 'level', '3', 'hitung', '24', 'desember', '2021', '2', 'januari', '2021', 'menteri', 'sehat', 'ri', 'bijak', 'ppkm', 'level', '3', 'tahap', 'kaji', '', 'direktur', 'cegah', 'kendali', 'sakit', 'tular', 'langsung', 'p2pml', 'kemenkes', 'ri', 'dr', 'siti', 'nadia', 'tarmizi', 'ppkm', 'level', '3', 'terap', 'covid19', 'signifikan', 'picu', 'tingkat', 'mobilitas', 'longgar', 'protokol', 'sehat', ''], ['vaksin', 'covid19', 'rutin', 'gantung', 'jelas', '', 'jakarta', '', 'beri', 'booster', 'dosis', 'tiga', 'vaksin', 'covid19', 'indonesia', 'rencana', 'januari', '2022', 'lantas', 'ada', 'vaksinasi', 'covid19', 'vaksinasi', 'influenza', '', 'ketua', 'satgas', 'covid19', 'ikat', 'dokter', 'indonesia', 'idi', 'prof', 'zubairi', 'djoerban', 'pasti', 'kait', 'turut', 'vaksin', 'covid19', 'booster', 'vaksinasi', 'covid19', ''], ['ri', 'suntik', 'booster', '2022', 'ampuh', 'lawan', 'varian', 'delta', 'cs', '', 'jakarta', '', 'pakar', 'aku', 'vaksinvaksin', 'dosis', '12', 'alami', 'turun', 'efektivitas', 'varian', 'corona', 'varian', 'delta', 'booster', 'dosis', 'tiga', 'vaksin', 'covid19', 'indonesia', '2022', 'jenis', 'vaksin', 'ikut', 'strain', 'virus', 'baru', '', 'ketua', 'satgas', 'covid19', 'ikat', 'dokter', 'indonesia', 'idi', 'prof', 'zubairi', 'djoerban', 'singgung', 'riset', 'kait', 'efektivitas', 'vaksin', 'covid19', 'dosis', '1', '2', 'sebut', 'dasar', 'riset', 'efektivitas', 'vaksin', 'covid19', 'pfizer', 'moderna', 'bukti', 'turun', 'lawan', 'varian', 'delta', ''], ['alert', 'varian', 'delta', 'covid19', 'dki', 'tingkat', '', 'jakarta', '', 'data', 'baru', 'balitbangkes', 'kemenkes', 'ri', '13', 'november', 'tambah', 'varian', 'delta', 'tambah', 'jawa', 'barat', '165', 'dki', 'jakarta', '90', 'sulawesi', 'utara', '86', '', 'balitbangkes', 'dki', 'jakarta', 'alami', 'tingkat', 'varian', 'delta', 'signifikan', 'varian', 'varian', 'alpha', 'varian', 'delta', 'beta', 'indonesia', 'asal', 'dki', 'jakarta', 'total', '1327', ''], ['corona', 'as', 'dadak', 'serang', 'delta', 'reda', '', 'jakarta', '', 'covid19', 'wilayah', 'amerika', 'serikat', 'as', 'covid19', 'catat', 'stabil', 'pasca', 'serang', 'varian', 'delta', 'musim', 'panas', '', 'kepala', 'nasihat', 'medis', 'gedung', 'putih', 'dr', 'anthony', 'fauci', 'senin', '15112021', 'nasional', 'turun', '57', 'persen', 'minggu', 'puncak', 'gelombang', 'varian', 'delta', 'musim', 'panas', 'pasien', 'covid19', 'area', 'barat', 'timur', 'laut', 'dadak', '']]\n"
     ]
    }
   ],
   "source": [
    "from Sastrawi.Stemmer.StemmerFactory import StemmerFactory\n",
    "\n",
    "factory = StemmerFactory()\n",
    "stemmer = factory.create_stemmer()\n",
    "\n",
    "\n",
    "steming =[] # membuat tempat buat keseluruhan berita\n",
    "for i in no_sw:\n",
    "    stm = [] # membuat berita  yang mau di stemming pada iterasi ke-i\n",
    "    for j in i:\n",
    "        stm.append(stemmer.stem(j)) #stemming di iterasi ke i\n",
    "    st1 = [k for k in stm if 'http' not in k] # menghilangkan string link\n",
    "    steming.append(st1) # masukin kelist \n",
    "\n",
    "# output masih sama kaya awal, yaitu tiap file berita masuk ke dalam list masing-masing \n",
    "final = steming\n",
    "print(final)"
   ]
  },
  {
   "cell_type": "code",
   "execution_count": 98,
   "id": "546bb304",
   "metadata": {},
   "outputs": [
    {
     "name": "stdout",
     "output_type": "stream",
     "text": [
      "[['wilayah', 'bebas', 'covid', 'cek', 'kabkota', 'zona', 'hijau', 'baru', 'jakarta', 'perintah', 'rencana', 'terap', 'laku', 'batas', 'giat', 'masyarakat', 'ppkm', 'level', 'hitung', 'desember', 'januari', 'menteri', 'sehat', 'ri', 'bijak', 'ppkm', 'level', 'tahap', 'kaji', 'direktur', 'cegah', 'kendali', 'sakit', 'tular', 'langsung', 'ppml', 'kemenkes', 'ri', 'dr', 'siti', 'nadia', 'tarmizi', 'ppkm', 'level', 'terap', 'covid', 'signifikan', 'picu', 'tingkat', 'mobilitas', 'longgar', 'protokol', 'sehat'], ['vaksin', 'covid', 'rutin', 'gantung', 'jelas', 'jakarta', 'beri', 'booster', 'dosis', 'tiga', 'vaksin', 'covid', 'indonesia', 'rencana', 'januari', 'lantas', 'ada', 'vaksinasi', 'covid', 'vaksinasi', 'influenza', 'ketua', 'satgas', 'covid', 'ikat', 'dokter', 'indonesia', 'idi', 'prof', 'zubairi', 'djoerban', 'pasti', 'kait', 'turut', 'vaksin', 'covid', 'booster', 'vaksinasi', 'covid'], ['ri', 'suntik', 'booster', 'ampuh', 'lawan', 'varian', 'delta', 'cs', 'jakarta', 'pakar', 'aku', 'vaksinvaksin', 'dosis', 'alami', 'turun', 'efektivitas', 'varian', 'corona', 'varian', 'delta', 'booster', 'dosis', 'tiga', 'vaksin', 'covid', 'indonesia', 'jenis', 'vaksin', 'ikut', 'strain', 'virus', 'baru', 'ketua', 'satgas', 'covid', 'ikat', 'dokter', 'indonesia', 'idi', 'prof', 'zubairi', 'djoerban', 'singgung', 'riset', 'kait', 'efektivitas', 'vaksin', 'covid', 'dosis', 'sebut', 'dasar', 'riset', 'efektivitas', 'vaksin', 'covid', 'pfizer', 'moderna', 'bukti', 'turun', 'lawan', 'varian', 'delta'], ['alert', 'varian', 'delta', 'covid', 'dki', 'tingkat', 'jakarta', 'data', 'baru', 'balitbangkes', 'kemenkes', 'ri', 'november', 'tambah', 'varian', 'delta', 'tambah', 'jawa', 'barat', 'dki', 'jakarta', 'sulawesi', 'utara', 'balitbangkes', 'dki', 'jakarta', 'alami', 'tingkat', 'varian', 'delta', 'signifikan', 'varian', 'varian', 'alpha', 'varian', 'delta', 'beta', 'indonesia', 'asal', 'dki', 'jakarta', 'total'], ['corona', 'as', 'dadak', 'serang', 'delta', 'reda', 'jakarta', 'covid', 'wilayah', 'amerika', 'serikat', 'as', 'covid', 'catat', 'stabil', 'pasca', 'serang', 'varian', 'delta', 'musim', 'panas', 'kepala', 'nasihat', 'medis', 'gedung', 'putih', 'dr', 'anthony', 'fauci', 'senin', 'nasional', 'turun', 'persen', 'minggu', 'puncak', 'gelombang', 'varian', 'delta', 'musim', 'panas', 'pasien', 'covid', 'area', 'barat', 'timur', 'laut', 'dadak']]\n"
     ]
    }
   ],
   "source": [
    "final1 = []\n",
    "for i in (final):\n",
    "    fnl = []\n",
    "    for j in i : \n",
    "        nn = re.sub('[0-9,'']','',j) # menhilangkan angka yang ga perlu \n",
    "#         nnn = [k for k in nn if k != '']\n",
    "        fnl.append(nn)\n",
    "    nnn = [k for k in fnl if k != ''] # menghilangkan string kosong\n",
    "    final1.append(nnn)\n",
    "# for i in final1:\n",
    "#     s = [k for k in stm if 'http' not in k]\n",
    "#     print(i)\n",
    "print(final1)"
   ]
  },
  {
   "cell_type": "markdown",
   "id": "61dd15da",
   "metadata": {},
   "source": [
    "# Output Preprocessing\n",
    "\n",
    "Variabel 'final' merupakan sebuah list yang berisi 5 list berita yang telah dilakukan _preprocessing_ (_Case-Folding, Tokenization, Stopwords Removal, dan Stemming_). _Lemmatization_ tidak dilakukan karena text pada kali ini menggunakan Bahasa Indonesia, sehingga sedikit keperluannya jika melakukan proses _Lemmatization_, terlebih kurang ada _package_ yang mendukung di python untuk melakukan _Lemmatization_ dengan Bahasa Indonesia.\n",
    "\n",
    "## Tambahan : \n",
    "Tidak dilakukan _lemmatization_ pada _preprocessing_ kali ini, dikarenakan : \n",
    "1. Bahasa yang digunakan adalah bahasa Indonesia (sejauh saya _searching_ belum menemukan library yang bisa digunakan, sempat menemukan, tapi tidak bisa digunakan)\n",
    "2. Sebenarnya dapat dilakukan _lemmatization_ dengan manual, akan tetapi jumlah kata yang ada akan kurang efektif jika dilakukan manual, dan tidak dinamis"
   ]
  },
  {
   "cell_type": "markdown",
   "id": "df8f5aa5",
   "metadata": {},
   "source": [
    "# Getting Inverted Index"
   ]
  },
  {
   "cell_type": "code",
   "execution_count": 99,
   "id": "bab5b428",
   "metadata": {},
   "outputs": [],
   "source": [
    "## Definisikan fungsi untuk melakukan stemming dan mendapatkan inverted index\n",
    "def stemming(text):\n",
    "    from Sastrawi.Stemmer.StemmerFactory import StemmerFactory\n",
    "    \n",
    "    # create stemmer\n",
    "    factory = StemmerFactory()\n",
    "    stemmer = factory.create_stemmer()\n",
    "    \n",
    "    output = stemmer.stem(text)\n",
    "    return(output)\n",
    "\n",
    "def inverted_index(corpus_term):\n",
    "    inverted_index = {}\n",
    "    \n",
    "    for i in range(len(corpus_term)):\n",
    "        for item in corpus_term[i]:\n",
    "            item = stemming(item)\n",
    "            if item not in inverted_index: # inputing item in dictionary if not available\n",
    "                inverted_index[item] = []\n",
    "            if (item in inverted_index) and ((i+1) not in inverted_index[item]): # setelah ada di key dictionary, masukin indeksnya ke berapa aja\n",
    "                inverted_index[item].append(i+1)\n",
    "    return(inverted_index)\n"
   ]
  },
  {
   "cell_type": "code",
   "execution_count": 100,
   "id": "83dd3850",
   "metadata": {},
   "outputs": [
    {
     "name": "stdout",
     "output_type": "stream",
     "text": [
      "{'wilayah': [1, 5], 'bebas': [1], 'covid': [1, 2, 3, 4, 5], 'cek': [1], 'kabkota': [1], 'zona': [1], 'hijau': [1], 'baru': [1, 3, 4], 'jakarta': [1, 2, 3, 4, 5], 'perintah': [1], 'rencana': [1, 2], 'terap': [1], 'laku': [1], 'batas': [1], 'giat': [1], 'masyarakat': [1], 'ppkm': [1], 'level': [1], 'hitung': [1], 'desember': [1], 'januari': [1, 2], 'menteri': [1], 'sehat': [1], 'ri': [1, 3, 4], 'bijak': [1], 'tahap': [1], 'kaji': [1], 'direktur': [1], 'cegah': [1], 'kendali': [1], 'sakit': [1], 'tular': [1], 'langsung': [1], 'ppml': [1], 'kemenkes': [1, 4], 'dr': [1, 5], 'siti': [1], 'nadia': [1], 'tarmizi': [1], 'signifikan': [1, 4], 'picu': [1], 'tingkat': [1, 4], 'mobilitas': [1], 'longgar': [1], 'protokol': [1], 'vaksin': [2, 3], 'rutin': [2], 'gantung': [2], 'jelas': [2], 'beri': [2], 'booster': [2, 3], 'dosis': [2, 3], 'tiga': [2, 3], 'indonesia': [2, 3, 4], 'lantas': [2], 'ada': [2], 'vaksinasi': [2], 'influenza': [2], 'ketua': [2, 3], 'satgas': [2, 3], 'ikat': [2, 3], 'dokter': [2, 3], 'idi': [2, 3], 'prof': [2, 3], 'zubairi': [2, 3], 'djoerban': [2, 3], 'pasti': [2], 'kait': [2, 3], 'turut': [2], 'suntik': [3], 'ampuh': [3], 'lawan': [3], 'varian': [3, 4, 5], 'delta': [3, 4, 5], 'cs': [3], 'pakar': [3], 'aku': [3], 'vaksinvaksin': [3], 'alami': [3, 4], 'turun': [3, 5], 'efektivitas': [3], 'corona': [3, 5], 'jenis': [3], 'ikut': [3], 'strain': [3], 'virus': [3], 'singgung': [3], 'riset': [3], 'sebut': [3], 'dasar': [3], 'pfizer': [3], 'moderna': [3], 'bukti': [3], 'alert': [4], 'dki': [4], 'data': [4], 'balitbangkes': [4], 'november': [4], 'tambah': [4], 'jawa': [4], 'barat': [4, 5], 'sulawesi': [4], 'utara': [4], 'alpha': [4], 'beta': [4], 'asal': [4], 'total': [4], 'as': [5], 'dadak': [5], 'serang': [5], 'reda': [5], 'amerika': [5], 'serikat': [5], 'catat': [5], 'stabil': [5], 'pasca': [5], 'musim': [5], 'panas': [5], 'kepala': [5], 'nasihat': [5], 'medis': [5], 'gedung': [5], 'putih': [5], 'anthony': [5], 'fauci': [5], 'senin': [5], 'nasional': [5], 'persen': [5], 'minggu': [5], 'puncak': [5], 'gelombang': [5], 'pasien': [5], 'area': [5], 'timur': [5], 'laut': [5]}\n"
     ]
    }
   ],
   "source": [
    "# Getting Inverted Index (2)\n",
    "\n",
    "inv_idx = inverted_index(final1)\n",
    "print(inv_idx)"
   ]
  },
  {
   "cell_type": "markdown",
   "id": "8f9f2eee",
   "metadata": {},
   "source": [
    "# Output Inverted Index\n",
    "\n",
    "Dari hasil _preprocessing_ sebelumnya, dilakukan _inverted indexing_ yang memberikan hasil pada seeprti di output di atas. _Inverted Index_ di atas memberikan tiap _term_ hasil _preprocessing_ sebagai _\"keys\"_ nya. Sehingga setiap _term_ terdapat minimal satu _list_ yang berisi letak file berita dimana _term_ tersebut berada."
   ]
  },
  {
   "cell_type": "markdown",
   "id": "10ad0c3e",
   "metadata": {},
   "source": [
    "# Boolean Model "
   ]
  },
  {
   "cell_type": "code",
   "execution_count": 101,
   "id": "4c231b1a",
   "metadata": {},
   "outputs": [],
   "source": [
    "import math\n",
    "class BooleanModel():\n",
    "    @staticmethod\n",
    "    def and_operation(left_operand, right_operand):\n",
    "        # perfom 'merge'\n",
    "        result = [] # reslts list to be returned\n",
    "        l_index = 0 # current index in left_operand\n",
    "        r_index = 0 # current index in right_operand\n",
    "        l_skip =  int(math.sqrt(len(left_operand)))\n",
    "        # skip pointer distance for l_index\n",
    "        r_skip = int(math.sqrt(len(right_operand)))\n",
    "        # skip pointer distance for r_index\n",
    "        \n",
    "        while(l_index < len(left_operand) and r_index <len(right_operand)):\n",
    "            l_item = left_operand[l_index]\n",
    "            r_item = right_operand[r_index]\n",
    "            \n",
    "            # case 1 : if match \n",
    "            if(l_item == r_item):\n",
    "                result.append(l_item) # add to result \n",
    "                l_index += 1       # advance left index\n",
    "                r_index += 1       # advance left index\n",
    "                \n",
    "            # case 2 : if left item is more than right item \n",
    "            elif (l_item > r_item):\n",
    "                # if r_index can be skipped (if new r _index is still within range and resulting item is <= left item)\n",
    "                if (r_index + r_skip <= len(right_operand)) and right_operand[r_index + r_skip] <= l_item :\n",
    "                    r_index += r_skip\n",
    "                # else advance r_index by 1\n",
    "                else:\n",
    "                    r_index += 1\n",
    "                    \n",
    "            # case 3 : if left item is less than right item \n",
    "            else: \n",
    "                # if l_index can be skipped (if new l_index is still within range and resulting item is < = right item)\n",
    "                if(l_index + l_skip < len(left_operand)) and left_operand[l_index + l_skip] <= r_item:\n",
    "                    l_index += l_skip\n",
    "                #else advance l_index by 1\n",
    "                else:\n",
    "                    l_index +=1\n",
    "        return(result)\n",
    "    \n",
    "    @staticmethod\n",
    "    def or_operation(left_operand, right_operand):\n",
    "        result = [] # union of left and right operand\n",
    "        l_index = 0 # current index in left operand\n",
    "        r_index = 0 # current index in right operand\n",
    "        \n",
    "        # while lists have not ten been covered\n",
    "        while(l_index < len(left_operand) or r_index < len(right_operand)):\n",
    "            # if both list are not yer exhausted\n",
    "            if(l_index < len(left_operand) and r_index < len(right_operand)): \n",
    "                l_item = left_operand[l_index] # current item in left_operand\n",
    "                r_item = right_operand[r_index] # current item in right_operand\n",
    "                \n",
    "                # case 1 : if items are equal, add either one to result and advance both pointers\n",
    "                if(l_item == r_item):\n",
    "                    result.append(l_item)\n",
    "                    l_index += 1\n",
    "                    r_index += 1\n",
    "                \n",
    "                # case 2: l_item greater than r_item, add r_item and advance r_index\n",
    "                elif(l_item > r_item):\n",
    "                    result.append(r_item)\n",
    "                    r_index += 1\n",
    "                \n",
    "                # case 3 : l_item lower that r_item, add l_item and advance l_item \n",
    "                else:\n",
    "                    result.append(l_item)\n",
    "                    l_index += 1\n",
    "                        \n",
    "            # if left operand list is exhausted, append r_item and advance r_index\n",
    "            elif(l_index >= len(left_operand)):\n",
    "                r_item = right_operand[r_index]\n",
    "                result.append(r_item)\n",
    "                r_index += 1\n",
    "                \n",
    "            # else id right_operand list is exhausted, append l_item and advance l_index\n",
    "            else:\n",
    "                l_item = left_operand[l_index]\n",
    "                result.append(l_item)\n",
    "                l_index += 1\n",
    "        return(result)\n",
    "    \n",
    "    @staticmethod\n",
    "    def not_operation(right_operand, indexed_docIDs):\n",
    "        # complement of an empty list is list of all indexedd docID\n",
    "        if (not right_operand):\n",
    "            return indexed_docIDs\n",
    "                \n",
    "                \n",
    "        result = []\n",
    "        r_index = 0 # index for right operand\n",
    "        for item in indexed_docIDs:\n",
    "            # if item do not match that in right_operand, it belongs to compliment \n",
    "            if(item != right_operand[r_index]):\n",
    "                result.append(item)\n",
    "            # else if item matches and r_index still can progress, advance it by 1\n",
    "            elif(r_index + 1 < len(right_operand)):\n",
    "                r_index += 1\n",
    "        return(result)"
   ]
  },
  {
   "cell_type": "markdown",
   "id": "6a774698",
   "metadata": {},
   "source": [
    "# Parse Query"
   ]
  },
  {
   "cell_type": "code",
   "execution_count": 102,
   "id": "5b1b1d9f",
   "metadata": {},
   "outputs": [],
   "source": [
    "## Fungsi \"parse_query\" untuk mengembalikan query yang telah di-parsing\n",
    "import collections\n",
    "def parse_query(infix_tokens):\n",
    "    \"\"\" Parse Query\n",
    "    Parsing done using Shunting Yard Algorithm\n",
    "    \"\"\"\n",
    "    precedence = {}\n",
    "    precedence['NOT'] = 3\n",
    "    precedence['AND'] = 2\n",
    "    precedence['OR'] = 1\n",
    "    precedence['('] = 0\n",
    "    precedence[')'] = 0\n",
    "    \n",
    "    output = []\n",
    "    operator_stack = []\n",
    "    \n",
    "    for token in infix_tokens:\n",
    "        if(token == '('):\n",
    "            operator_stack.append(token)\n",
    "        \n",
    "        # if right bracket, pop all operators from operator stack onto output untill we hit left bracket \n",
    "        elif(token == ')'):\n",
    "            operator = operator_stack.pop()\n",
    "            while operator != '(':\n",
    "                output.append(operator)\n",
    "                operator = operator_stack.pop()\n",
    "          \n",
    "         # if operator, pop operators form operator stack to queue if they are of higher precedence\n",
    "        elif(token in precedence):\n",
    "            # if operator stack is not empty\n",
    "            if (operator_stack):\n",
    "                current_operator = operator_stack[-1]\n",
    "                while(operator_stack and precedence[current_operator] > precedence[token]):\n",
    "                    output.append(operator_stack.pop())\n",
    "                    if(operator_stack):\n",
    "                        current_operator = operator_stack[-1]\n",
    "            operator_stack.append(token) # add token to stack \n",
    "        else:\n",
    "            output.append(token.lower())\n",
    "                \n",
    "        # while there are still operators on the stack, pop them into the queue\n",
    "    while(operator_stack):\n",
    "        output.append(operator_stack.pop())     \n",
    "    return (output) \n",
    "    \n",
    "       "
   ]
  },
  {
   "cell_type": "markdown",
   "id": "2dccc894",
   "metadata": {},
   "source": [
    "# Query Process"
   ]
  },
  {
   "cell_type": "code",
   "execution_count": 103,
   "id": "c0fac6fa",
   "metadata": {},
   "outputs": [],
   "source": [
    "## Pendefinisian Proses Kuerisasi \n",
    "def process_query(query, n_docs, inverted_index):\n",
    "    #prepare query list\n",
    "    query = query.replace('(','( ')\n",
    "    query = query.replace(')',' )')\n",
    "    query = query.split(' ')\n",
    "    print(query)\n",
    "\n",
    "    indexed_docIDs = list(range(1, n_docs+1))\n",
    "    results_stack = []\n",
    "    postfix_queue = collections.deque(parse_query(query)) # get query in postfix notation as a queue\n",
    "    while postfix_queue:\n",
    "        token = postfix_queue.popleft()\n",
    "        print(token) #print the token of the query that we want to searching for\n",
    "        result = [] # the evaluated result at each stage\n",
    "        #if operand, add posting list for term to results stack \n",
    "        if (token != 'AND' and token != 'OR' and token != 'NOT'):\n",
    "            token = stemming(token) #stem the token\n",
    "            #default empty list if not in dictionary\n",
    "            if(token in inverted_index):\n",
    "                result = inverted_index[token]\n",
    "                \n",
    "        \n",
    "        elif (token == 'AND'):\n",
    "            right_operand = results_stack.pop()\n",
    "            left_operand = results_stack.pop()\n",
    "            result = BooleanModel.and_operation(left_operand,right_operand) # evaluate and\n",
    "        elif (token == 'OR'):\n",
    "            right_operand = results_stack.pop()\n",
    "            left_operand = results_stack.pop()\n",
    "            result = BooleanModel.or_operation(left_operand,right_operand)\n",
    "        elif (token == 'NOT'):\n",
    "            right_operand = result_stack.pop()\n",
    "            result = BooleanModel.not_operation(right_operand, indexed_docIDs) #evaluate NOT\n",
    "        print(result) # print the result of the Boolean Retrieval Model search the query\n",
    "        results_stack.append(result)\n",
    "        \n",
    "    # NOTE : at this point results_stack should only have one item and it is the final result \n",
    "    if len(results_stack) != 1:\n",
    "        print(\"ERROR : Invalid Query. Please check query syntax.\")\n",
    "        return None\n",
    "    return results_stack.pop()\n"
   ]
  },
  {
   "cell_type": "markdown",
   "id": "8fdfb61c",
   "metadata": {},
   "source": [
    "# Output Final\n",
    "## (Boolean Retrieval)"
   ]
  },
  {
   "cell_type": "code",
   "execution_count": 104,
   "id": "2e095576",
   "metadata": {},
   "outputs": [
    {
     "name": "stdout",
     "output_type": "stream",
     "text": [
      "['corona']\n",
      "corona\n",
      "[3, 5]\n",
      "Result the search of query is on document: [3, 5]\n"
     ]
    }
   ],
   "source": [
    "# Output (1)\n",
    "## 'corona'\n",
    "print(f\"Result the search of query is on document: {process_query('corona', len(final), inv_idx)}\")"
   ]
  },
  {
   "cell_type": "markdown",
   "id": "8fd2cbd0",
   "metadata": {},
   "source": [
    "# Output (1)\n",
    "\n",
    "Berdasarkan kuerisasi yang di-_run_, didapatkan hasil bahwa _query_ pencarian \"corona\" berada pada _list_ 3 dan 5. Hal ini kata \"corona\" berada pada _berita 3_ dan _berita 5_."
   ]
  },
  {
   "cell_type": "code",
   "execution_count": 105,
   "id": "a614d458",
   "metadata": {},
   "outputs": [
    {
     "name": "stdout",
     "output_type": "stream",
     "text": [
      "['covid']\n",
      "covid\n",
      "[1, 2, 3, 4, 5]\n",
      "Result the search of query is on document: [1, 2, 3, 4, 5]\n"
     ]
    }
   ],
   "source": [
    "# Output (2)\n",
    "## 'covid'\n",
    "print(f\"Result the search of query is on document: {process_query('covid', len(final), inv_idx)}\")"
   ]
  },
  {
   "cell_type": "markdown",
   "id": "57a8edf3",
   "metadata": {},
   "source": [
    "# Output (2)\n",
    "\n",
    "Bedasarkan kuerisasi yang di-_run_, didapatkan hasil bahwa _query_ pencarian \"covid\" berada pada _list_ 1,2,3,4,5. Hal ini berarti bahwa kata \"covid\" ada pada setiap file berita."
   ]
  },
  {
   "cell_type": "code",
   "execution_count": 106,
   "id": "816678a4",
   "metadata": {},
   "outputs": [
    {
     "name": "stdout",
     "output_type": "stream",
     "text": [
      "['vaksin']\n",
      "vaksin\n",
      "[2, 3]\n",
      "Result the search of query is on document: [2, 3]\n"
     ]
    }
   ],
   "source": [
    "# Output (3)\n",
    "## vaksin\n",
    "print(f\"Result the search of query is on document: {process_query('vaksin', len(final), inv_idx)}\")"
   ]
  },
  {
   "cell_type": "markdown",
   "id": "9ab9a671",
   "metadata": {},
   "source": [
    "# Output (3)\n",
    "\n",
    "Berdasarkan kuerisasi yang di-_run_, didapatkan hasil bahwa _query_ pencarian \"vaksin\" berada pada _list_ 2 dan 3. Hal ini kata \"vaksin\" berada pada _berita 2_ dan _berita 3_."
   ]
  },
  {
   "cell_type": "code",
   "execution_count": 107,
   "id": "87784f61",
   "metadata": {},
   "outputs": [
    {
     "name": "stdout",
     "output_type": "stream",
     "text": [
      "['corona', 'OR', 'covid']\n",
      "corona\n",
      "[3, 5]\n",
      "covid\n",
      "[1, 2, 3, 4, 5]\n",
      "OR\n",
      "[1, 2, 3, 4, 5]\n",
      "Result the search of query is on document: [1, 2, 3, 4, 5]\n"
     ]
    }
   ],
   "source": [
    "# Output (4)\n",
    "## 'corona OR covid'\n",
    "print(f\"Result the search of query is on document: {process_query('corona OR covid', len(final), inv_idx)}\")"
   ]
  },
  {
   "cell_type": "markdown",
   "id": "1a68e5f3",
   "metadata": {},
   "source": [
    "# Output (4)\n",
    "\n",
    "Berdasarkan kuerisasi yang di-_run_, didapatkan hasil bahwa _query_ pencarian \"corona\" berada pada _list_ 3 dan 5, sedangkan _query_ \"covid\" berada pada setiap file. Dikarenakan _operand_ yang digunakan adalah 'OR' maka, hasil yang didapatkan dari _query_ \"corona OR covid\" adalah bahwa terdapat pada setiap file."
   ]
  },
  {
   "cell_type": "code",
   "execution_count": 108,
   "id": "9bfb888f",
   "metadata": {},
   "outputs": [
    {
     "name": "stdout",
     "output_type": "stream",
     "text": [
      "['vaksin', 'AND', 'corona']\n",
      "vaksin\n",
      "[2, 3]\n",
      "corona\n",
      "[3, 5]\n",
      "AND\n",
      "[3]\n",
      "Result the search of query is on document: [3]\n"
     ]
    }
   ],
   "source": [
    "# Output (5)\n",
    "## 'vaksin AND corona'\n",
    "print(f\"Result the search of query is on document: {process_query('vaksin AND corona', len(final), inv_idx)}\")"
   ]
  },
  {
   "cell_type": "markdown",
   "id": "f05610b0",
   "metadata": {},
   "source": [
    "# Output (5)\n",
    "\n",
    "Berdasarkan kuerisasi yang di-_run_, didapatkan hasil bahwa _query_ pencarian \"vaksin\" berada pada _list_ 2 dan 3, sedangkan _query_ \"corona\" berada pada _list_ 3 dan 5. Dikarenakan _operand_ yang digunakan adalah 'AND' maka, hasil yang didapatkan dari _query_ \"vaksin AND corona\" ditunjukkan dengan irisan dari kedua _query_ tersebut, yakni pada dokumen _berita 3_."
   ]
  },
  {
   "cell_type": "code",
   "execution_count": 109,
   "id": "e7d38674",
   "metadata": {},
   "outputs": [
    {
     "name": "stdout",
     "output_type": "stream",
     "text": [
      "['vaksin', 'AND', '(', 'corona', 'OR', 'covid', ')']\n",
      "vaksin\n",
      "[2, 3]\n",
      "corona\n",
      "[3, 5]\n",
      "covid\n",
      "[1, 2, 3, 4, 5]\n",
      "OR\n",
      "[1, 2, 3, 4, 5]\n",
      "AND\n",
      "[2, 3]\n",
      "Result the search of query is on document: [2, 3]\n"
     ]
    }
   ],
   "source": [
    "# Output (6)\n",
    "## 'vaksin AND (corona OR covid)'\n",
    "print(f\"Result the search of query is on document: {process_query('vaksin AND (corona OR covid)', len(final), inv_idx)}\")"
   ]
  },
  {
   "cell_type": "markdown",
   "id": "d89badef",
   "metadata": {},
   "source": [
    "# Output (6)\n",
    "\n",
    "Berdasarkan kuerisasi yang di-_run_, _operand_ \"OR\" dilakukan terlebih dahulu karena prioritas utama (berada dalam kurung), sehingga dari kueri \"corona OR covid\" didapatkan hasil berada pada setiap _list_. Selanjutnya, dioperasikan dengan _query_ \"vaksin\" yang mana _query_ \"vaksin\" berada pada dokumen ke 2 dan 3. Sehingga dapat diambil irisannya, dan hasil akhir dari _query_ tersebut menunjukkan angka 2 dan 3. Hal ini berarti _query_ yang di-_run_ menunjukkan lokasi dokumen _berita ke 2 dan 3_."
   ]
  }
 ],
 "metadata": {
  "kernelspec": {
   "display_name": "Python 3 (ipykernel)",
   "language": "python",
   "name": "python3"
  },
  "language_info": {
   "codemirror_mode": {
    "name": "ipython",
    "version": 3
   },
   "file_extension": ".py",
   "mimetype": "text/x-python",
   "name": "python",
   "nbconvert_exporter": "python",
   "pygments_lexer": "ipython3",
   "version": "3.8.13"
  }
 },
 "nbformat": 4,
 "nbformat_minor": 5
}
