{
 "cells": [
  {
   "cell_type": "code",
   "execution_count": 89,
   "id": "7807c1c1",
   "metadata": {},
   "outputs": [],
   "source": [
    "### Ini adlah boolean\n",
    "import math\n",
    "class BooleanModel():\n",
    "    @staticmethod\n",
    "    def and_operation(left_operand, right_operand):\n",
    "        # perfom 'merge'\n",
    "        result = [] # reslts list to be returned\n",
    "        l_index = 0 # current index in left_operand\n",
    "        r_index = 0 # current index in right_operand\n",
    "        l_skip =  int(math.sqrt(len(left_operand)))\n",
    "        # skip pointer distance for l_index\n",
    "        r_skip = int(math.sqrt(len(right_operand)))\n",
    "        # skip pointer distance for r_index\n",
    "        \n",
    "        while(l_index < len(left_operand) and r_index <len(right_operand)):\n",
    "            l_item = left_operand[l_index]\n",
    "            r_item = right_operand[r_index]\n",
    "            \n",
    "            # case 1 : if match \n",
    "            if(l_item == r_item):\n",
    "                result.append(l_item) # add to result \n",
    "                l_index += 1       # advance left index\n",
    "                r_index += 1       # advance left index\n",
    "                \n",
    "            # case 2 : if left item is more than right item \n",
    "            elif (l_item > r_item):\n",
    "                # if r_index can be skipped (if new r _index is still within range and resulting item is <= left item)\n",
    "                if (r_index + r_skip <= len(right_operand)) and right_operand[r_index + r_skip] <= l_item :\n",
    "                    r_index += r_skip\n",
    "                # else advance r_index by 1\n",
    "                else:\n",
    "                    r_index += 1\n",
    "                    \n",
    "            # case 3 : if left item is less than right item \n",
    "            else: \n",
    "                # if l_index can be skipped (if new l_index is still within range and resulting item is < = right item)\n",
    "                if(l_index + l_skip < len(left_operand)) and left_operand[l_index + l_skip] <= r_item:\n",
    "                    l_index += l_skip\n",
    "                #else advance l_index by 1\n",
    "                else:\n",
    "                    l_index +=1\n",
    "        return(result)\n",
    "    \n",
    "    @staticmethod\n",
    "    def or_operation(left_operand, right_operand):\n",
    "        result = [] # union of left and right operand\n",
    "        l_index = 0 # current index in left operand\n",
    "        r_index = 0 # current index in right operand\n",
    "        \n",
    "        # while lists have not ten been covered\n",
    "        while(l_index < len(left_operand) or r_index < len(right_operand)):\n",
    "            # if both list are not yer exhausted\n",
    "            if(l_index < len(left_operand) and r_index < len(right_operand)): \n",
    "                l_item = left_operand[l_index] # current item in left_operand\n",
    "                r_item = right_operand[r_index] # current item in right_operand\n",
    "                \n",
    "                # case 1 : if items are equal, add either one to result and advance both pointers\n",
    "                if(l_item == r_item):\n",
    "                    result.append(l_item)\n",
    "                    l_index += 1\n",
    "                    r_index += 1\n",
    "                \n",
    "                # case 2: l_item greater than r_item, add r_item and advance r_index\n",
    "                elif(l_item > r_item):\n",
    "                    result.append(r_item)\n",
    "                    r_index += 1\n",
    "                \n",
    "                # case 3 : l_item lower that r_item, add l_item and advance l_item \n",
    "                else:\n",
    "                    result.append(l_item)\n",
    "                    l_index += 1\n",
    "                        \n",
    "            # if left operand list is exhausted, append r_item and advance r_index\n",
    "            elif(l_index >= len(left_operand)):\n",
    "                r_item = right_operand[r_index]\n",
    "                result.append(r_item)\n",
    "                r_index += 1\n",
    "                \n",
    "            # else id right_operand list is exhausted, append l_item and advance l_index\n",
    "            else:\n",
    "                l_item = left_operand[l_index]\n",
    "                result.append(l_item)\n",
    "                l_index += 1\n",
    "        return(result)\n",
    "    \n",
    "    @staticmethod\n",
    "    def not_operation(right_operand, indexed_docIDs):\n",
    "        # complement of an empty list is list of all indexedd docID\n",
    "        if (not right_operand):\n",
    "            return indexed_docIDs\n",
    "                \n",
    "                \n",
    "        result = []\n",
    "        r_index = 0 # index for right operand\n",
    "        for item in indexed_docIDs:\n",
    "            # if item do not match that in right_operand, it belongs to compliment \n",
    "            if(item != right_operand[r_index]):\n",
    "                result.append(item)\n",
    "            # else if item matches and r_index still can progress, advance it by 1\n",
    "            elif(r_index + 1 < len(right_operand)):\n",
    "                r_index += 1\n",
    "        return(result)"
   ]
  },
  {
   "cell_type": "code",
   "execution_count": 91,
   "id": "56c467f4",
   "metadata": {},
   "outputs": [],
   "source": [
    "def parse_query(infix_tokens):\n",
    "    \"\"\" Parse Query\n",
    "    Parsing done using Shunting Yard Algorithm\n",
    "    \"\"\"\n",
    "    precedence = {}\n",
    "    precedence['NOT'] = 3\n",
    "    precedence['AND'] = 2\n",
    "    precedence['OR'] = 1\n",
    "    precedence['('] = 0\n",
    "    precedence[')'] = 0\n",
    "    \n",
    "    output = []\n",
    "    operator_stack = []\n",
    "    \n",
    "    for token in infix_tokens:\n",
    "        if(token == '('):\n",
    "            operator_stack.append(token)\n",
    "        \n",
    "        # if right bracket, pop all operators from operator stack onto output untill we hit left bracket \n",
    "        elif(token == ')'):\n",
    "            operator = operator_stack.pop()\n",
    "            while operator != '(':\n",
    "                output.append(operator)\n",
    "                operator = operator_stack.pop()\n",
    "          \n",
    "         # if operator, pop operators form operator stack to queue if they are of higher precedence\n",
    "        elif(token in precedence):\n",
    "            # if operator stack is not empty\n",
    "            if (operator_stack):\n",
    "                current_operator = operator_stack[-1]\n",
    "                while(operator_stack and precedence[current_operator] > precedence[token]):\n",
    "                    output.append(operator_stack.pop())\n",
    "                    if(operator_stack):\n",
    "                        current_operator = operator_stack[-1]\n",
    "            operator_stack.append(token) # add token to stack \n",
    "        else:\n",
    "            output.append(token.lower())\n",
    "                \n",
    "        # while there are still operators on the stack, pop them into the queue\n",
    "    while(operator_stack):\n",
    "        output.append(operator_stack.pop())     \n",
    "    return (output) \n",
    "    \n",
    "       "
   ]
  },
  {
   "cell_type": "code",
   "execution_count": 4,
   "id": "ad46c2ee",
   "metadata": {},
   "outputs": [
    {
     "data": {
      "text/plain": [
       "['vaksin', 'aku']"
      ]
     },
     "execution_count": 4,
     "metadata": {},
     "output_type": "execute_result"
    }
   ],
   "source": [
    "parse_query([\"vaksin\", \"aku\"])"
   ]
  },
  {
   "cell_type": "code",
   "execution_count": 5,
   "id": "fa1b7413",
   "metadata": {},
   "outputs": [],
   "source": [
    "# Code buat inverted Index\n",
    "\n",
    "def stemming(text):\n",
    "    from Sastrawi.Stemmer.StemmerFactory import StemmerFactory\n",
    "    \n",
    "    # create stemmer\n",
    "    factory = StemmerFactory()\n",
    "    stemmer = factory.create_stemmer()\n",
    "    \n",
    "    output = stemmer.stem(text)\n",
    "    return(output)\n",
    "    inverted_index = {}\n",
    "def inverted_index(corpus_term):\n",
    "    inverted_index = {}\n",
    "    \n",
    "    for i in range(len(corpus_term)):\n",
    "        for item in corpus_term[i]:\n",
    "            item = stemming(item)\n",
    "            if item not in inverted_index: # inputing item in dictionary if not available\n",
    "                inverted_index[item] = []\n",
    "            if (item in inverted_index) and ((i+1) not in inverted_index[item]): # setelah ada di key dictionary, masukin indeksnya ke berapa aja\n",
    "                inverted_index[item].append(i+1)\n",
    "    return(inverted_index)\n"
   ]
  },
  {
   "cell_type": "code",
   "execution_count": 95,
   "id": "94babce8",
   "metadata": {},
   "outputs": [],
   "source": [
    "# import collections\n",
    "# from boolean import BooleanModel\n",
    "\n",
    "\n",
    "def process_query(query, n_docs, inverted_index):\n",
    "    #prepare query list\n",
    "    query = query.replace('(','( ')\n",
    "    query = query.replace(')',' )')\n",
    "    query = query.split(' ')\n",
    "    print(query)\n",
    "\n",
    "    indexed_docIDs = list(range(1, n_docs+1))\n",
    "    results_stack = []\n",
    "    postfix_queue = collections.deque(parse_query(query)) # get query in postfix notation as a queue\n",
    "    print(postfix_queue)\n",
    "    while postfix_queue:\n",
    "        token = postfix_queue.popleft()\n",
    "        print(token) #print the token of the query that we want to searching for\n",
    "        result = [] # the evaluated result at each stage\n",
    "        #if operand, add posting list for term to results stack \n",
    "        if (token != 'AND' and token != 'OR' and token != 'NOT'):\n",
    "            token = stemming(token) #stem the token\n",
    "            #default empty list if not in dictionary\n",
    "            if(token in inverted_index):\n",
    "                result = inverted_index[token]\n",
    "                \n",
    "        \n",
    "        elif (token == 'AND'):\n",
    "            right_operand = results_stack.pop()\n",
    "            left_operand = results_stack.pop()\n",
    "            result = BooleanModel.and_operation(left_operand,right_operand) # evaluate and\n",
    "        elif (token == 'OR'):\n",
    "            right_operand = results_stack.pop()\n",
    "            left_operand = results_stack.pop()\n",
    "            result = BooleanModel.or_operation(left_operand,right_operand)\n",
    "        elif (token == 'NOT'):\n",
    "            right_operand = result_stack.pop()\n",
    "            result = BooleanModel.not_operation(right_operand, indexed_docIDs) #evaluate NOT\n",
    "        print(result) # print the result of the Boolean Retrieval Model search the query\n",
    "        results_stack.append(result)\n",
    "        \n",
    "    # NOTE : at this point results_stack should only have one item and it is the final result \n",
    "    if len(results_stack) != 1:\n",
    "        print(\"ERROR : Invalid Query. Please check query syntax.\")\n",
    "        return None\n",
    "    return results_stack.pop()\n"
   ]
  },
  {
   "cell_type": "code",
   "execution_count": 7,
   "id": "0a759f0d",
   "metadata": {},
   "outputs": [],
   "source": [
    "inv = {'virus': [1, 2, 3], 'sistem': [1, 3], 'informasi': [1], 'jadwal': [1], 'model': [2], 'analisis': [2, 3], 'sentimen': [2], 'berita': [2], 'input': [3], 'output': [3]}"
   ]
  },
  {
   "cell_type": "code",
   "execution_count": 94,
   "id": "d0663cef",
   "metadata": {},
   "outputs": [
    {
     "name": "stdout",
     "output_type": "stream",
     "text": [
      "['(', 'informasi', 'OR', '(', 'analisis', ')', ')']\n",
      "deque(['informasi', 'analisis', 'OR'])\n",
      "informasi\n",
      "[1]\n",
      "analisis\n",
      "[2, 3]\n",
      "OR\n",
      "[1, 2, 3]\n",
      "Result the search of query is on document: [1, 2, 3]\n"
     ]
    }
   ],
   "source": [
    "print(f\"Result the search of query is on document: {process_query('(informasi OR (analisis))', 3, inv)}\")"
   ]
  },
  {
   "cell_type": "code",
   "execution_count": 92,
   "id": "e134caba",
   "metadata": {},
   "outputs": [
    {
     "name": "stdout",
     "output_type": "stream",
     "text": [
      "deque(['analisis', 'berita', 'OR'])\n"
     ]
    }
   ],
   "source": [
    "postfix_queue = collections.deque(parse_query(['analisis', 'OR', 'berita']))\n",
    "print(postfix_queue)\n"
   ]
  },
  {
   "cell_type": "code",
   "execution_count": 88,
   "id": "25c00fc7",
   "metadata": {},
   "outputs": [
    {
     "name": "stdout",
     "output_type": "stream",
     "text": [
      "[1, 2, 3]\n"
     ]
    }
   ],
   "source": [
    "indexed_docIDs = list(range(1, 3+1))\n",
    "print(indexed_docIDs)"
   ]
  },
  {
   "cell_type": "code",
   "execution_count": 26,
   "id": "6053e005",
   "metadata": {},
   "outputs": [
    {
     "name": "stdout",
     "output_type": "stream",
     "text": [
      "3\n",
      "['1', '2']\n"
     ]
    }
   ],
   "source": [
    "dump = ['1','2','3']\n",
    "dump1 = dump.pop()\n",
    "print(dump1)\n",
    "print(dump)"
   ]
  },
  {
   "cell_type": "code",
   "execution_count": 93,
   "id": "f8503764",
   "metadata": {},
   "outputs": [
    {
     "ename": "IndexError",
     "evalue": "pop from empty list",
     "output_type": "error",
     "traceback": [
      "\u001b[1;31m---------------------------------------------------------------------------\u001b[0m",
      "\u001b[1;31mIndexError\u001b[0m                                Traceback (most recent call last)",
      "Input \u001b[1;32mIn [93]\u001b[0m, in \u001b[0;36m<cell line: 4>\u001b[1;34m()\u001b[0m\n\u001b[0;32m      2\u001b[0m resultt_stack\u001b[38;5;241m.\u001b[39mappend(\u001b[38;5;124m\"\u001b[39m\u001b[38;5;124mstack\u001b[39m\u001b[38;5;124m\"\u001b[39m)\n\u001b[0;32m      3\u001b[0m kanan_operand \u001b[38;5;241m=\u001b[39m resultt_stack\u001b[38;5;241m.\u001b[39mpop()\n\u001b[1;32m----> 4\u001b[0m kiri_operand \u001b[38;5;241m=\u001b[39m \u001b[43mresultt_stack\u001b[49m\u001b[38;5;241;43m.\u001b[39;49m\u001b[43mpop\u001b[49m\u001b[43m(\u001b[49m\u001b[43m)\u001b[49m\n",
      "\u001b[1;31mIndexError\u001b[0m: pop from empty list"
     ]
    }
   ],
   "source": [
    "resultt_stack = []\n",
    "resultt_stack.append(\"stack\")\n",
    "kanan_operand = resultt_stack.pop()\n",
    "kiri_operand = resultt_stack.pop()"
   ]
  },
  {
   "cell_type": "code",
   "execution_count": 42,
   "id": "c8beca03",
   "metadata": {},
   "outputs": [
    {
     "name": "stdout",
     "output_type": "stream",
     "text": [
      "<class 'str'>\n",
      "d\n",
      "a\n"
     ]
    }
   ],
   "source": [
    "word= \"word\"\n",
    "o  = word[2]\n",
    "j = word [3]\n",
    "print(type(o))\n",
    "print(j)\n",
    "if(o>j):\n",
    "    print(\"a\")"
   ]
  }
 ],
 "metadata": {
  "kernelspec": {
   "display_name": "Python 3 (ipykernel)",
   "language": "python",
   "name": "python3"
  },
  "language_info": {
   "codemirror_mode": {
    "name": "ipython",
    "version": 3
   },
   "file_extension": ".py",
   "mimetype": "text/x-python",
   "name": "python",
   "nbconvert_exporter": "python",
   "pygments_lexer": "ipython3",
   "version": "3.8.13"
  }
 },
 "nbformat": 4,
 "nbformat_minor": 5
}
