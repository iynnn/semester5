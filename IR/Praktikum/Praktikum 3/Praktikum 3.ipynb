{
 "cells": [
  {
   "cell_type": "code",
   "execution_count": 3,
   "id": "06721912",
   "metadata": {},
   "outputs": [
    {
     "data": {
      "text/plain": [
       "[['pengembangan', 'sistem', 'informasi', 'penjadwalan'],\n",
       " ['pengembangan', 'model', 'analisis', 'sentimen', 'berita'],\n",
       " ['pengembangan', 'analisis', 'sistem', 'input', 'output']]"
      ]
     },
     "execution_count": 3,
     "metadata": {},
     "output_type": "execute_result"
    }
   ],
   "source": [
    "# Inverted Index \n",
    "doc1_term = [\"pengembangan\", \"sistem\", \"informasi\", \"penjadwalan\"]\n",
    "doc2_term = [\"pengembangan\", \"model\", \"analisis\", \"sentimen\", \"berita\"]\n",
    "doc3_term = [\"pengembangan\", \"analisis\", \"sistem\", \"input\", \"output\"]\n",
    "\n",
    "corpus_term = [doc1_term, doc2_term, doc3_term ]\n",
    "\n",
    "corpus_term"
   ]
  },
  {
   "cell_type": "code",
   "execution_count": 2,
   "id": "ea1ece8a",
   "metadata": {},
   "outputs": [
    {
     "name": "stdout",
     "output_type": "stream",
     "text": [
      "{'kembang': [1, 2, 3], 'sistem': [1, 3], 'informasi': [1], 'jadwal': [1], 'model': [2], 'analisis': [2, 3], 'sentimen': [2], 'berita': [2], 'input': [3], 'output': [3]}\n"
     ]
    }
   ],
   "source": [
    "inverted_index = {}\n",
    "\n",
    "\n",
    "\n",
    "def stemming(text):\n",
    "    from Sastrawi.Stemmer.StemmerFactory import StemmerFactory\n",
    "\n",
    "    # create stemmer\n",
    "    factory = StemmerFactory()\n",
    "    stemmer = factory.create_stemmer()\n",
    "    \n",
    "    output = stemmer.stem(text)\n",
    "    return(output)\n",
    "\n",
    "for i in range(len(corpus_term)):\n",
    "    for item in corpus_term[i]:\n",
    "        item = stemming(item)\n",
    "        if item not in inverted_index: # inputing item in dictionary if not available\n",
    "            inverted_index[item] = []\n",
    "        if (item in inverted_index) and ((i+1) not in inverted_index[item]): # setelah ada di key dictionary, masukin indeksnya ke berapa aja\n",
    "            inverted_index[item].append(i+1)\n",
    "print(inverted_index)\n",
    "        \n"
   ]
  },
  {
   "cell_type": "code",
   "execution_count": null,
   "id": "648ceb4c",
   "metadata": {},
   "outputs": [],
   "source": []
  }
 ],
 "metadata": {
  "kernelspec": {
   "display_name": "Python 3 (ipykernel)",
   "language": "python",
   "name": "python3"
  },
  "language_info": {
   "codemirror_mode": {
    "name": "ipython",
    "version": 3
   },
   "file_extension": ".py",
   "mimetype": "text/x-python",
   "name": "python",
   "nbconvert_exporter": "python",
   "pygments_lexer": "ipython3",
   "version": "3.8.13"
  }
 },
 "nbformat": 4,
 "nbformat_minor": 5
}
