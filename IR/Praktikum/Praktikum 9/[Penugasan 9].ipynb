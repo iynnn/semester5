{
 "cells": [
  {
   "cell_type": "code",
   "execution_count": 4,
   "id": "092c0142",
   "metadata": {},
   "outputs": [],
   "source": [
    "import os, re\n",
    "\n",
    "\n",
    "### Fungsi untuk membaca file\n",
    "def read_text_file(file_path):\n",
    "    with open(file_path, 'r') as f:\n",
    "        return(f.read())\n",
    "\n",
    "### Fungsi untuk mengecek isi dari folder tersebut\n",
    "def read_file(folder_path):\n",
    "    file_path = []\n",
    "    for file in os.listdir(folder_path):\n",
    "        if os.path.isfile(os.path.join(folder_path, file)):\n",
    "            if file.endswith(\".txt\"):\n",
    "                file_path.append(file)\n",
    "    print(file_path)\n",
    "\n",
    "### Fungsi untuk menampilkan isi dari setiap file\n",
    "def read_content_file(path):\n",
    "    berita = []\n",
    "    for file in os.listdir(path):\n",
    "        if file.endswith(\".txt\"):\n",
    "            file_path = f\"{path}\\{file}\"\n",
    " \n",
    "#             print(read_text_file(file_path))\n",
    "            berita.append(read_text_file(file_path))\n",
    "    return(berita)\n"
   ]
  },
  {
   "cell_type": "code",
   "execution_count": 5,
   "id": "0b335966",
   "metadata": {},
   "outputs": [
    {
     "name": "stdout",
     "output_type": "stream",
     "text": [
      "['berita1.txt', 'berita2.txt', 'berita3.txt', 'berita4.txt', 'berita5.txt']\n",
      "[\"Wilayah Kamu Sudah 'Bebas' COVID-19? Cek 34 Kab/Kota Zona Hijau Terbaru\\n\\nJakarta - Pemerintah rencananya bakal menerapkan Pemberlakuan Pembatasan Kegiatan Masyarakat (PPKM) level 3 terhitung 24 Desember 2021 hingga 2 Januari 2021. Namun, Kementerian Kesehatan RI memastikan kebijakan PPKM level 3 ini masih dalam tahap kajian.\\nMenurut Direktur Pencegahan dan Pengendalian Penyakit Menular Langsung (P2PML) Kemenkes RI dr Siti Nadia Tarmizi, PPKM level 3 bakal diterapkan jika kasus COVID-19 naik signifikan. Hal ini umumnya dipicu dengan peningkatan mobilitas dan pelonggaran protokol kesehatan.\\n\\nhttps://health.detik.com/berita-detikhealth/d-5816690/wilayah-kamu-sudah-bebas-covid-19-cek-34-kabkota-zona-hijau-terbaru\", 'Vaksin COVID-19 Bakal Rutin Setiap Tahun? Tergantung, Ini Penjelasannya\\n\\nJakarta - Pemberian booster atau dosis ketiga vaksin COVID-19 di Indonesia direncanakan bakal berlangsung Januari 2022. Lantas adakah kemungkinan vaksinasi COVID-19 bakal harus dilakukan setiap tahun seperti vaksinasi influenza?\\nKetua Satgas COVID-19 Ikatan Dokter Indonesia (IDI) Prof Zubairi Djoerban menjelaskan hingga kini belum ada kepastian terkait hal tersebut. Menurutnya masih ada kemungkinan vaksin COVID-19 harus diberikan setiap tahun, ada juga kemungkinan cukup booster diberikan sekali kemudian vaksinasi COVID-19 tidak diperlukan lagi.\\n\\nhttps://health.detik.com/berita-detikhealth/d-5816582/vaksin-covid-19-bakal-rutin-setiap-tahun-tergantung-ini-penjelasannya', 'RI Mulai Suntikkan Booster di 2022, Masihkah Ampuh Lawan Varian Delta Cs?\\n\\nJakarta - Pakar mengakui vaksin-vaksin yang sudah digunakan untuk dosis 1-2 memang mengalami penurunan efektivitas terhadap varian baru Corona seperti varian Delta. Mengingat booster atau dosis ketiga vaksin COVID-19 di Indonesia disebut bakal dimulai awal 2022, apakah jenis vaksin yang digunakan bakal mengikuti strain virus terbaru?\\nMenjawab pertanyaan tersebut, Ketua Satgas COVID-19 Ikatan Dokter Indonesia (IDI) Prof Zubairi Djoerban kembali menyinggung riset yang sudah berlangsung terkait efektivitas vaksin COVID-19 dosis 1 dan 2. Ia menyebut berdasarkan riset sejauh ini, efektivitas vaksin COVID-19 Pfizer dan Moderna terbukti menurun dalam melawan varian Delta.\\n\\nhttps://health.detik.com/berita-detikhealth/d-5816534/ri-mulai-suntikkan-booster-di-2022-masihkah-ampuh-lawan-varian-delta-cs', 'Alert! Kasus Varian Delta COVID-19 di DKI Meningkat\\n\\nJakarta - Data terbaru dari Balitbangkes Kemenkes RI per 13 November, menunjukkan adanya penambahan varian Delta. Penambahan tersebut terjadi di Jawa Barat ada 165 kasus, DKI Jakarta 90 kasus, dan Sulawesi Utara 86 kasus.\\nDalam satu bulan terakhir, Balitbangkes menyebutkan DKI Jakarta mengalami peningkatan kasus varian Delta yang signifikan. Sementara, pada varian baru seperti varian Alpha, varian Delta, hingga Beta terbanyak di Indonesia berasal dari DKI Jakarta, dengan total 1.327 kasus .\\n\\nhttps://health.detik.com/berita-detikhealth/d-5812940/alert-kasus-varian-delta-covid-19-di-dki-meningkat', 'Corona di AS Mendadak Naik Lagi Usai Serangan Delta Sempat Mereda\\n\\nJakarta - Kasus COVID-19 kembali naik di sejumlah wilayah Amerika Serikat (AS). Padahal diketahui, COVID-19 sempat tercatat stabil pasca serangan varian Delta musim panas ini. Ada apa?\\nHal tersebut disampaikan oleh kepala penasihat medis Gedung Putih Dr. Anthony Fauci, Senin (15/11/2021). Diketahui, kasus nasional turun 57 persen minggu lalu dari puncak gelombang varian Delta pada musim panas. Namun jumlah pasien COVID-19 di area Barat Tengah dan Timur laut kini naik mendadak.\\n\\nhttps://health.detik.com/berita-detikhealth/d-5813949/corona-di-as-mendadak-naik-lagi-usai-serangan-delta-sempat-mereda']\n"
     ]
    }
   ],
   "source": [
    "## Path yang digunakan\n",
    "path = \"C:/Users/yanto/Documents/STIS/Semester 5/Mata Kuliah/Information Retrieval/Praktikum/Praktikum 3/berita\"\n",
    "\n",
    "## Menampilkan file yang ada pada folder 'berita'\n",
    "read_file(path)\n",
    "\n",
    "## Menampilkan isi pada setiap file yang ada pada folder berita dan menyimpan ke dalam variabel berita\n",
    "beritaa = read_content_file(path)\n",
    "print(beritaa)\n",
    "\n",
    "# ini semua bisa diganti ke dictionary\n",
    "berita = {}\n",
    "berita['berita1'] = beritaa[0]\n",
    "berita['berita2'] = beritaa[1]\n",
    "berita['berita3'] = beritaa[2]\n",
    "berita['berita4'] = beritaa[3]\n",
    "berita['berita5'] = beritaa[4]\n"
   ]
  },
  {
   "cell_type": "markdown",
   "id": "12bad259",
   "metadata": {},
   "source": [
    "# Preprocessing"
   ]
  },
  {
   "cell_type": "markdown",
   "id": "bb48f0d4",
   "metadata": {},
   "source": [
    "### No Punctuation"
   ]
  },
  {
   "cell_type": "code",
   "execution_count": 6,
   "id": "b4f7a2c5",
   "metadata": {},
   "outputs": [
    {
     "data": {
      "text/plain": [
       "'!\"#$%&\\'()*+,-./:;<=>?@[\\\\]^_`{|}~'"
      ]
     },
     "execution_count": 6,
     "metadata": {},
     "output_type": "execute_result"
    }
   ],
   "source": [
    "# Coba buat Punctuation \n",
    "import string\n",
    "string.punctuation"
   ]
  },
  {
   "cell_type": "code",
   "execution_count": 7,
   "id": "c7c8bcf7",
   "metadata": {},
   "outputs": [
    {
     "name": "stdout",
     "output_type": "stream",
     "text": [
      "{'berita1': 'Wilayah Kamu Sudah Bebas COVID19 Cek 34 KabKota Zona Hijau Terbaru\\n\\nJakarta  Pemerintah rencananya bakal menerapkan Pemberlakuan Pembatasan Kegiatan Masyarakat PPKM level 3 terhitung 24 Desember 2021 hingga 2 Januari 2021 Namun Kementerian Kesehatan RI memastikan kebijakan PPKM level 3 ini masih dalam tahap kajian\\nMenurut Direktur Pencegahan dan Pengendalian Penyakit Menular Langsung P2PML Kemenkes RI dr Siti Nadia Tarmizi PPKM level 3 bakal diterapkan jika kasus COVID19 naik signifikan Hal ini umumnya dipicu dengan peningkatan mobilitas dan pelonggaran protokol kesehatan\\n\\nhttpshealthdetikcomberitadetikhealthd5816690wilayahkamusudahbebascovid19cek34kabkotazonahijauterbaru', 'berita2': 'Vaksin COVID19 Bakal Rutin Setiap Tahun Tergantung Ini Penjelasannya\\n\\nJakarta  Pemberian booster atau dosis ketiga vaksin COVID19 di Indonesia direncanakan bakal berlangsung Januari 2022 Lantas adakah kemungkinan vaksinasi COVID19 bakal harus dilakukan setiap tahun seperti vaksinasi influenza\\nKetua Satgas COVID19 Ikatan Dokter Indonesia IDI Prof Zubairi Djoerban menjelaskan hingga kini belum ada kepastian terkait hal tersebut Menurutnya masih ada kemungkinan vaksin COVID19 harus diberikan setiap tahun ada juga kemungkinan cukup booster diberikan sekali kemudian vaksinasi COVID19 tidak diperlukan lagi\\n\\nhttpshealthdetikcomberitadetikhealthd5816582vaksincovid19bakalrutinsetiaptahuntergantunginipenjelasannya', 'berita3': 'RI Mulai Suntikkan Booster di 2022 Masihkah Ampuh Lawan Varian Delta Cs\\n\\nJakarta  Pakar mengakui vaksinvaksin yang sudah digunakan untuk dosis 12 memang mengalami penurunan efektivitas terhadap varian baru Corona seperti varian Delta Mengingat booster atau dosis ketiga vaksin COVID19 di Indonesia disebut bakal dimulai awal 2022 apakah jenis vaksin yang digunakan bakal mengikuti strain virus terbaru\\nMenjawab pertanyaan tersebut Ketua Satgas COVID19 Ikatan Dokter Indonesia IDI Prof Zubairi Djoerban kembali menyinggung riset yang sudah berlangsung terkait efektivitas vaksin COVID19 dosis 1 dan 2 Ia menyebut berdasarkan riset sejauh ini efektivitas vaksin COVID19 Pfizer dan Moderna terbukti menurun dalam melawan varian Delta\\n\\nhttpshealthdetikcomberitadetikhealthd5816534rimulaisuntikkanboosterdi2022masihkahampuhlawanvariandeltacs', 'berita4': 'Alert Kasus Varian Delta COVID19 di DKI Meningkat\\n\\nJakarta  Data terbaru dari Balitbangkes Kemenkes RI per 13 November menunjukkan adanya penambahan varian Delta Penambahan tersebut terjadi di Jawa Barat ada 165 kasus DKI Jakarta 90 kasus dan Sulawesi Utara 86 kasus\\nDalam satu bulan terakhir Balitbangkes menyebutkan DKI Jakarta mengalami peningkatan kasus varian Delta yang signifikan Sementara pada varian baru seperti varian Alpha varian Delta hingga Beta terbanyak di Indonesia berasal dari DKI Jakarta dengan total 1327 kasus \\n\\nhttpshealthdetikcomberitadetikhealthd5812940alertkasusvariandeltacovid19didkimeningkat', 'berita5': 'Corona di AS Mendadak Naik Lagi Usai Serangan Delta Sempat Mereda\\n\\nJakarta  Kasus COVID19 kembali naik di sejumlah wilayah Amerika Serikat AS Padahal diketahui COVID19 sempat tercatat stabil pasca serangan varian Delta musim panas ini Ada apa\\nHal tersebut disampaikan oleh kepala penasihat medis Gedung Putih Dr Anthony Fauci Senin 15112021 Diketahui kasus nasional turun 57 persen minggu lalu dari puncak gelombang varian Delta pada musim panas Namun jumlah pasien COVID19 di area Barat Tengah dan Timur laut kini naik mendadak\\n\\nhttpshealthdetikcomberitadetikhealthd5813949coronadiasmendadaknaiklagiusaiserangandeltasempatmereda'}\n"
     ]
    }
   ],
   "source": [
    "# defining the function to remove punctuation\n",
    "def remove_punctuation(text):\n",
    "    punctuationfree=\"\".join([i for i in text if i not in string.punctuation])\n",
    "    return punctuationfree\n",
    "#storing the puntuation free text\n",
    "\n",
    "no_punctuation = {}\n",
    "# for doc_id in berita.keys():\n",
    "#     no_punctuation[doc_id] = remove_punctuation(berita[doc_id])\n",
    "# for i in berita:\n",
    "#     no_punctuation.append(remove_punctuation(i))\n",
    "# for i in range(len(no_punctuation)):    \n",
    "#     print(no_punctuation[i])\n",
    "    \n",
    "for doc_id in berita.keys():\n",
    "    no_punctuation[doc_id] = remove_punctuation(berita[doc_id])\n",
    "# for i in range(len(no_punctuation)):    \n",
    "#     print(no_punctuation[i])\n",
    "print(no_punctuation)"
   ]
  },
  {
   "cell_type": "markdown",
   "id": "c23f0587",
   "metadata": {},
   "source": [
    "## Case Folding"
   ]
  },
  {
   "cell_type": "code",
   "execution_count": 8,
   "id": "504ef720",
   "metadata": {},
   "outputs": [
    {
     "data": {
      "text/plain": [
       "{'berita1': 'wilayah kamu sudah bebas covid19 cek 34 kabkota zona hijau terbaru\\n\\njakarta  pemerintah rencananya bakal menerapkan pemberlakuan pembatasan kegiatan masyarakat ppkm level 3 terhitung 24 desember 2021 hingga 2 januari 2021 namun kementerian kesehatan ri memastikan kebijakan ppkm level 3 ini masih dalam tahap kajian\\nmenurut direktur pencegahan dan pengendalian penyakit menular langsung p2pml kemenkes ri dr siti nadia tarmizi ppkm level 3 bakal diterapkan jika kasus covid19 naik signifikan hal ini umumnya dipicu dengan peningkatan mobilitas dan pelonggaran protokol kesehatan\\n\\nhttpshealthdetikcomberitadetikhealthd5816690wilayahkamusudahbebascovid19cek34kabkotazonahijauterbaru',\n",
       " 'berita2': 'vaksin covid19 bakal rutin setiap tahun tergantung ini penjelasannya\\n\\njakarta  pemberian booster atau dosis ketiga vaksin covid19 di indonesia direncanakan bakal berlangsung januari 2022 lantas adakah kemungkinan vaksinasi covid19 bakal harus dilakukan setiap tahun seperti vaksinasi influenza\\nketua satgas covid19 ikatan dokter indonesia idi prof zubairi djoerban menjelaskan hingga kini belum ada kepastian terkait hal tersebut menurutnya masih ada kemungkinan vaksin covid19 harus diberikan setiap tahun ada juga kemungkinan cukup booster diberikan sekali kemudian vaksinasi covid19 tidak diperlukan lagi\\n\\nhttpshealthdetikcomberitadetikhealthd5816582vaksincovid19bakalrutinsetiaptahuntergantunginipenjelasannya',\n",
       " 'berita3': 'ri mulai suntikkan booster di 2022 masihkah ampuh lawan varian delta cs\\n\\njakarta  pakar mengakui vaksinvaksin yang sudah digunakan untuk dosis 12 memang mengalami penurunan efektivitas terhadap varian baru corona seperti varian delta mengingat booster atau dosis ketiga vaksin covid19 di indonesia disebut bakal dimulai awal 2022 apakah jenis vaksin yang digunakan bakal mengikuti strain virus terbaru\\nmenjawab pertanyaan tersebut ketua satgas covid19 ikatan dokter indonesia idi prof zubairi djoerban kembali menyinggung riset yang sudah berlangsung terkait efektivitas vaksin covid19 dosis 1 dan 2 ia menyebut berdasarkan riset sejauh ini efektivitas vaksin covid19 pfizer dan moderna terbukti menurun dalam melawan varian delta\\n\\nhttpshealthdetikcomberitadetikhealthd5816534rimulaisuntikkanboosterdi2022masihkahampuhlawanvariandeltacs',\n",
       " 'berita4': 'alert kasus varian delta covid19 di dki meningkat\\n\\njakarta  data terbaru dari balitbangkes kemenkes ri per 13 november menunjukkan adanya penambahan varian delta penambahan tersebut terjadi di jawa barat ada 165 kasus dki jakarta 90 kasus dan sulawesi utara 86 kasus\\ndalam satu bulan terakhir balitbangkes menyebutkan dki jakarta mengalami peningkatan kasus varian delta yang signifikan sementara pada varian baru seperti varian alpha varian delta hingga beta terbanyak di indonesia berasal dari dki jakarta dengan total 1327 kasus \\n\\nhttpshealthdetikcomberitadetikhealthd5812940alertkasusvariandeltacovid19didkimeningkat',\n",
       " 'berita5': 'corona di as mendadak naik lagi usai serangan delta sempat mereda\\n\\njakarta  kasus covid19 kembali naik di sejumlah wilayah amerika serikat as padahal diketahui covid19 sempat tercatat stabil pasca serangan varian delta musim panas ini ada apa\\nhal tersebut disampaikan oleh kepala penasihat medis gedung putih dr anthony fauci senin 15112021 diketahui kasus nasional turun 57 persen minggu lalu dari puncak gelombang varian delta pada musim panas namun jumlah pasien covid19 di area barat tengah dan timur laut kini naik mendadak\\n\\nhttpshealthdetikcomberitadetikhealthd5813949coronadiasmendadaknaiklagiusaiserangandeltasempatmereda'}"
      ]
     },
     "execution_count": 8,
     "metadata": {},
     "output_type": "execute_result"
    }
   ],
   "source": [
    "case_folding = {}\n",
    "# for i in range(len(no_punctuation)):\n",
    "#     case_folding.append(no_punctuation[i].lower())\n",
    "\n",
    "# for i in range(len(case_folding)):\n",
    "#     print(case_folding[i])\n",
    "\n",
    "for doc_id in berita.keys():\n",
    "    case_folding[doc_id] = no_punctuation[doc_id].lower()\n",
    "case_folding"
   ]
  },
  {
   "cell_type": "markdown",
   "id": "f9329b7c",
   "metadata": {},
   "source": [
    "## Stemming"
   ]
  },
  {
   "cell_type": "code",
   "execution_count": 9,
   "id": "2b453bed",
   "metadata": {},
   "outputs": [
    {
     "data": {
      "text/plain": [
       "{'berita1': 'wilayah kamu sudah bebas covid19 cek 34 kabkota zona hijau baru jakarta  perintah rencana bakal terap laku batas giat masyarakat ppkm level 3 hitung 24 desember 2021 hingga 2 januari 2021 namun menteri sehat ri pasti bijak ppkm level 3 ini masih dalam tahap kaji turut direktur cegah dan kendali sakit tular langsung p2pml kemenkes ri dr siti nadia tarmizi ppkm level 3 bakal terap jika kasus covid19 naik signifikan hal ini umum picu dengan tingkat mobilitas dan longgar protokol sehat httpshealthdetikcomberitadetikhealthd5816690wilayahkamusudahbebascovid19cek34kabkotazonahijauterbaru',\n",
       " 'berita2': 'vaksin covid19 bakal rutin tiap tahun gantung ini jelas jakarta  beri booster atau dosis tiga vaksin covid19 di indonesia rencana bakal langsung januari 2022 lantas ada mungkin vaksinasi covid19 bakal harus laku tiap tahun seperti vaksinasi influenza ketua satgas covid19 ikat dokter indonesia idi prof zubairi djoerban jelas hingga kini belum ada pasti kait hal sebut turut masih ada mungkin vaksin covid19 harus beri tiap tahun ada juga mungkin cukup booster beri sekali kemudian vaksinasi covid19 tidak perlu lagi httpshealthdetikcomberitadetikhealthd5816582vaksincovid19bakalrutinsetiaptahuntergantunginipenjelasannya',\n",
       " 'berita3': 'ri mulai suntik booster di 2022 masih ampuh lawan varian delta cs jakarta  pakar aku vaksinvaksin yang sudah guna untuk dosis 12 memang alami turun efektivitas hadap varian baru corona seperti varian delta ingat booster atau dosis tiga vaksin covid19 di indonesia sebut bakal mulai awal 2022 apakah jenis vaksin yang guna bakal ikut strain virus baru jawab tanya sebut ketua satgas covid19 ikat dokter indonesia idi prof zubairi djoerban kembali singgung riset yang sudah langsung kait efektivitas vaksin covid19 dosis 1 dan 2 ia sebut dasar riset jauh ini efektivitas vaksin covid19 pfizer dan moderna bukti turun dalam lawan varian delta httpshealthdetikcomberitadetikhealthd5816534rimulaisuntikkanboosterdi2022masihkahampuhlawanvariandeltacs',\n",
       " 'berita4': 'alert kasus varian delta covid19 di dki tingkat jakarta  data baru dari balitbangkes kemenkes ri per 13 november tunjuk ada tambah varian delta tambah sebut jadi di jawa barat ada 165 kasus dki jakarta 90 kasus dan sulawesi utara 86 kasus dalam satu bulan akhir balitbangkes sebut dki jakarta alami tingkat kasus varian delta yang signifikan sementara pada varian baru seperti varian alpha varian delta hingga beta banyak di indonesia asal dari dki jakarta dengan total 1327 kasus httpshealthdetikcomberitadetikhealthd5812940alertkasusvariandeltacovid19didkimeningkat',\n",
       " 'berita5': 'corona di as dadak naik lagi usai serang delta sempat reda jakarta  kasus covid19 kembali naik di jumlah wilayah amerika serikat as padahal tahu covid19 sempat catat stabil pasca serang varian delta musim panas ini ada apa hal sebut sampai oleh kepala nasihat medis gedung putih dr anthony fauci senin 15112021 tahu kasus nasional turun 57 persen minggu lalu dari puncak gelombang varian delta pada musim panas namun jumlah pasien covid19 di area barat tengah dan timur laut kini naik dadak httpshealthdetikcomberitadetikhealthd5813949coronadiasmendadaknaiklagiusaiserangandeltasempatmereda'}"
      ]
     },
     "execution_count": 9,
     "metadata": {},
     "output_type": "execute_result"
    }
   ],
   "source": [
    "def tokenisasi(text):\n",
    "    tokens = text.split(\" \")\n",
    "    return tokens\n",
    "\n",
    "from Sastrawi.Stemmer.StemmerFactory import StemmerFactory\n",
    "def stemming(text):\n",
    "    #Create Stemmer\n",
    "    factory = StemmerFactory()\n",
    "    stemmer = factory.create_stemmer()\n",
    "    \n",
    "    #stemming process\n",
    "    output = stemmer.stem(text)\n",
    "    return output\n",
    "\n",
    "def stemming_sentence(text):\n",
    "    output = \"\"\n",
    "    for token in tokenisasi(text):\n",
    "        output = output + stemming(token) + \" \"\n",
    "    return output[:-1]\n",
    "\n",
    "stemming_corpus = {}\n",
    "for doc_id, doc in case_folding.items():\n",
    "    stemming_corpus[doc_id] = stemming_sentence(doc)\n",
    "\n",
    "stemming_corpus\n",
    "\n",
    "\n",
    "## nanti dilanjutkan ya, yang eliminasi punctuation dll jangan lupa jua"
   ]
  },
  {
   "cell_type": "markdown",
   "id": "d808b007",
   "metadata": {},
   "source": [
    "## Eliminasi Stopwords"
   ]
  },
  {
   "cell_type": "code",
   "execution_count": 10,
   "id": "aea9eb90",
   "metadata": {},
   "outputs": [],
   "source": [
    "## No Stopwords\n",
    "from spacy.lang.id import Indonesian\n",
    "import spacy\n",
    "nlp = spacy.blank('id') \n",
    "# def tokenisasi(text):\n",
    "#     tokens = text.split(\" \")\n",
    "#     return tokens\n",
    "\n"
   ]
  },
  {
   "cell_type": "code",
   "execution_count": 11,
   "id": "1ea6d4e8",
   "metadata": {},
   "outputs": [
    {
     "data": {
      "text/plain": [
       "{'berita1': 'wilayah bebas covid cek kabkota zona hijau jakarta perintah rencana terap laku batas giat masyarakat ppkm level hitung desember januari menteri sehat ri bijak ppkm level tahap kaji direktur cegah kendali sakit tular langsung ppml kemenkes ri dr siti nadia tarmizi ppkm level terap covid signifikan picu tingkat mobilitas longgar protokol sehat httpshealthdetikcomberitadetikhealthdwilayahkamusudahbebascovidcekkabkotazonahijauterbaru ',\n",
       " 'berita2': 'vaksin covid rutin gantung jakarta booster dosis vaksin covid indonesia rencana langsung januari lantas vaksinasi covid laku vaksinasi influenza ketua satgas covid ikat dokter indonesia idi prof zubairi djoerban kait vaksin covid booster vaksinasi covid httpshealthdetikcomberitadetikhealthdvaksincovidbakalrutinsetiaptahuntergantunginipenjelasannya ',\n",
       " 'berita3': 'ri suntik booster ampuh lawan varian delta cs jakarta pakar vaksinvaksin dosis alami turun efektivitas hadap varian corona varian delta booster dosis vaksin covid indonesia jenis vaksin strain virus ketua satgas covid ikat dokter indonesia idi prof zubairi djoerban singgung riset langsung kait efektivitas vaksin covid dosis dasar riset efektivitas vaksin covid pfizer moderna bukti turun lawan varian delta httpshealthdetikcomberitadetikhealthdrimulaisuntikkanboosterdimasihkahampuhlawanvariandeltacs ',\n",
       " 'berita4': 'alert varian delta covid dki tingkat jakarta data balitbangkes kemenkes ri november varian delta jawa barat dki jakarta sulawesi utara balitbangkes dki jakarta alami tingkat varian delta signifikan varian varian alpha varian delta beta indonesia dki jakarta total httpshealthdetikcomberitadetikhealthdalertkasusvariandeltacoviddidkimeningkat ',\n",
       " 'berita5': 'corona as dadak serang delta reda jakarta covid wilayah amerika serikat as covid catat stabil pasca serang varian delta musim panas kepala nasihat medis gedung putih dr anthony fauci senin nasional turun persen minggu puncak gelombang varian delta musim panas pasien covid area barat timur laut dadak httpshealthdetikcomberitadetikhealthdcoronadiasmendadaknaiklagiusaiserangandeltasempatmereda '}"
      ]
     },
     "execution_count": 11,
     "metadata": {},
     "output_type": "execute_result"
    }
   ],
   "source": [
    "no_sw = {}\n",
    "stopwords =  nlp.Defaults.stop_words\n",
    "\n",
    "for doc_id, doc_dict in stemming_corpus.items():\n",
    "    output = \"\"\n",
    "    for token in tokenisasi(stemming_corpus[doc_id]):\n",
    "        token1 = re.sub('[0-9,'']','',token) \n",
    "        if (token1 not in stopwords) and (token1 != \"\"):\n",
    "            output = output  + token1 + \" \"\n",
    "#             output1 = re.sub('[0-9,'']','',token)\n",
    "#         else :\n",
    "#             print(token)\n",
    "#     print(output)\n",
    "    no_sw[doc_id] = output\n",
    "no_sw\n",
    "\n",
    "# kurang eliminasi https"
   ]
  },
  {
   "cell_type": "markdown",
   "id": "08e739a1",
   "metadata": {},
   "source": [
    "## Tokenisasi"
   ]
  },
  {
   "cell_type": "code",
   "execution_count": 12,
   "id": "aefcbe6d",
   "metadata": {
    "scrolled": true
   },
   "outputs": [
    {
     "name": "stdout",
     "output_type": "stream",
     "text": [
      "[['wilayah', 'bebas', 'covid', 'cek', 'kabkota', 'zona', 'hijau', 'jakarta', 'perintah', 'rencana', 'terap', 'laku', 'batas', 'giat', 'masyarakat', 'ppkm', 'level', 'hitung', 'desember', 'januari', 'menteri', 'sehat', 'ri', 'bijak', 'ppkm', 'level', 'tahap', 'kaji', 'direktur', 'cegah', 'kendali', 'sakit', 'tular', 'langsung', 'ppml', 'kemenkes', 'ri', 'dr', 'siti', 'nadia', 'tarmizi', 'ppkm', 'level', 'terap', 'covid', 'signifikan', 'picu', 'tingkat', 'mobilitas', 'longgar', 'protokol', 'sehat', 'httpshealthdetikcomberitadetikhealthdwilayahkamusudahbebascovidcekkabkotazonahijauterbaru'], ['vaksin', 'covid', 'rutin', 'gantung', 'jakarta', 'booster', 'dosis', 'vaksin', 'covid', 'indonesia', 'rencana', 'langsung', 'januari', 'lantas', 'vaksinasi', 'covid', 'laku', 'vaksinasi', 'influenza', 'ketua', 'satgas', 'covid', 'ikat', 'dokter', 'indonesia', 'idi', 'prof', 'zubairi', 'djoerban', 'kait', 'vaksin', 'covid', 'booster', 'vaksinasi', 'covid', 'httpshealthdetikcomberitadetikhealthdvaksincovidbakalrutinsetiaptahuntergantunginipenjelasannya'], ['ri', 'suntik', 'booster', 'ampuh', 'lawan', 'varian', 'delta', 'cs', 'jakarta', 'pakar', 'vaksinvaksin', 'dosis', 'alami', 'turun', 'efektivitas', 'hadap', 'varian', 'corona', 'varian', 'delta', 'booster', 'dosis', 'vaksin', 'covid', 'indonesia', 'jenis', 'vaksin', 'strain', 'virus', 'ketua', 'satgas', 'covid', 'ikat', 'dokter', 'indonesia', 'idi', 'prof', 'zubairi', 'djoerban', 'singgung', 'riset', 'langsung', 'kait', 'efektivitas', 'vaksin', 'covid', 'dosis', 'dasar', 'riset', 'efektivitas', 'vaksin', 'covid', 'pfizer', 'moderna', 'bukti', 'turun', 'lawan', 'varian', 'delta', 'httpshealthdetikcomberitadetikhealthdrimulaisuntikkanboosterdimasihkahampuhlawanvariandeltacs'], ['alert', 'varian', 'delta', 'covid', 'dki', 'tingkat', 'jakarta', 'data', 'balitbangkes', 'kemenkes', 'ri', 'november', 'varian', 'delta', 'jawa', 'barat', 'dki', 'jakarta', 'sulawesi', 'utara', 'balitbangkes', 'dki', 'jakarta', 'alami', 'tingkat', 'varian', 'delta', 'signifikan', 'varian', 'varian', 'alpha', 'varian', 'delta', 'beta', 'indonesia', 'dki', 'jakarta', 'total', 'httpshealthdetikcomberitadetikhealthdalertkasusvariandeltacoviddidkimeningkat'], ['corona', 'as', 'dadak', 'serang', 'delta', 'reda', 'jakarta', 'covid', 'wilayah', 'amerika', 'serikat', 'as', 'covid', 'catat', 'stabil', 'pasca', 'serang', 'varian', 'delta', 'musim', 'panas', 'kepala', 'nasihat', 'medis', 'gedung', 'putih', 'dr', 'anthony', 'fauci', 'senin', 'nasional', 'turun', 'persen', 'minggu', 'puncak', 'gelombang', 'varian', 'delta', 'musim', 'panas', 'pasien', 'covid', 'area', 'barat', 'timur', 'laut', 'dadak', 'httpshealthdetikcomberitadetikhealthdcoronadiasmendadaknaiklagiusaiserangandeltasempatmereda']]\n"
     ]
    }
   ],
   "source": [
    "tokenized = [tokenisasi(no_sw[doc_id]) for doc_id in no_sw]\n",
    "\n",
    "tokenized_corpus = []\n",
    "\n",
    "for i in tokenized:\n",
    "#     final = []\n",
    "    nnn = [k for k in i if k != ''] # menghilangkan string kosong\n",
    "    tokenized_corpus.append(nnn)\n",
    "\n",
    "print(tokenized_corpus)\n",
    "\n",
    "token_korpus = {}\n",
    "token_korpus['berita1'] = tokenized_corpus[0]\n",
    "token_korpus['berita2'] = tokenized_corpus[1]\n",
    "token_korpus['berita3'] = tokenized_corpus[2]\n",
    "token_korpus['berita4'] = tokenized_corpus[3]\n",
    "token_korpus['berita5'] = tokenized_corpus[4]\n"
   ]
  },
  {
   "cell_type": "code",
   "execution_count": 13,
   "id": "9383d9f1",
   "metadata": {},
   "outputs": [
    {
     "data": {
      "text/plain": [
       "dict_keys(['berita1', 'berita2', 'berita3', 'berita4', 'berita5'])"
      ]
     },
     "execution_count": 13,
     "metadata": {},
     "output_type": "execute_result"
    }
   ],
   "source": [
    "no_sw.keys()"
   ]
  },
  {
   "cell_type": "code",
   "execution_count": 19,
   "id": "c62d18b6",
   "metadata": {},
   "outputs": [
    {
     "data": {
      "text/plain": [
       "1"
      ]
     },
     "execution_count": 19,
     "metadata": {},
     "output_type": "execute_result"
    }
   ],
   "source": [
    "tokenisasi(no_sw['berita3']).count('corona')"
   ]
  },
  {
   "cell_type": "markdown",
   "id": "ec582d3f",
   "metadata": {},
   "source": [
    "## Penugasan 9"
   ]
  },
  {
   "cell_type": "markdown",
   "id": "cb10e2a0",
   "metadata": {},
   "source": [
    "## Standard Query Likelihood"
   ]
  },
  {
   "cell_type": "code",
   "execution_count": 20,
   "id": "fed39551",
   "metadata": {},
   "outputs": [],
   "source": [
    "def tokenisasi(text):\n",
    "    tokens = text.split(\" \")\n",
    "    return tokens\n",
    "\n",
    "query = \"vaksin corona jakarta\"\n",
    "tokenized_query = tokenisasi(query)"
   ]
  },
  {
   "cell_type": "code",
   "execution_count": 21,
   "id": "de350494",
   "metadata": {},
   "outputs": [
    {
     "name": "stdout",
     "output_type": "stream",
     "text": [
      "{'berita1': 0.0, 'berita2': 0.0, 'berita3': 1.762262039553972e-05, 'berita4': 0.0, 'berita5': 0.0}\n"
     ]
    }
   ],
   "source": [
    "likelihood_scores = {}\n",
    "vocab = set()\n",
    "for doc_id in no_sw.keys():\n",
    "    likelihood_scores[doc_id] = 1\n",
    "    tokens = tokenisasi(no_sw[doc_id])\n",
    "#     print(tokens)\n",
    "#     print(len(tokens))\n",
    "    vocab.update(tokens)\n",
    "    for q in tokenized_query:\n",
    "#         print(doc_id)\n",
    "#         print(q)\n",
    "#         print(tokens.count(q))\n",
    "#         print(len(tokens))\n",
    "#         print(likelihood_scores[doc_id])\n",
    "        likelihood_scores[doc_id]=likelihood_scores[doc_id]*tokens.count(q)/len(tokens)\n",
    "#         print(tokens.count(q))\n",
    "#         print(likelihood_scores[doc_id])\n",
    "        \n",
    "print(likelihood_scores)\n"
   ]
  },
  {
   "cell_type": "code",
   "execution_count": 23,
   "id": "8a80ab93",
   "metadata": {},
   "outputs": [],
   "source": [
    "from collections import OrderedDict\n",
    "def exact_top_k_lm(doc_dict, rank_score, k):\n",
    "    relevance_scores = {}\n",
    "    i = 0\n",
    "    for doc_id in doc_dict.keys():\n",
    "        relevance_scores[doc_id] = rank_score[doc_id]        \n",
    "        sorted_value = OrderedDict(sorted(relevance_scores.items(),key = lambda x:x[1], reverse = True))\n",
    "        top_k = {j : sorted_value[j] for j in list(sorted_value)[:k]}\n",
    "    return top_k"
   ]
  },
  {
   "cell_type": "markdown",
   "id": "ff14e763",
   "metadata": {},
   "source": [
    "## Top 3 Standard Query Likelihood"
   ]
  },
  {
   "cell_type": "code",
   "execution_count": 78,
   "id": "c654a1f1",
   "metadata": {},
   "outputs": [
    {
     "name": "stdout",
     "output_type": "stream",
     "text": [
      "berita3: 1.5996992565397702e-05\n",
      "berita1: 0.0\n",
      "berita2: 0.0\n"
     ]
    }
   ],
   "source": [
    "rank_lm = exact_top_k_lm(no_sw, likelihood_scores,3)\n",
    "for doc_id in rank_lm:\n",
    "    \n",
    "    \n",
    "    print (f\"{doc_id}: {rank_lm[doc_id]}\")"
   ]
  },
  {
   "cell_type": "markdown",
   "id": "f0df396c",
   "metadata": {},
   "source": [
    "## Laplace Smoothing"
   ]
  },
  {
   "cell_type": "code",
   "execution_count": 25,
   "id": "b7013082",
   "metadata": {},
   "outputs": [
    {
     "name": "stdout",
     "output_type": "stream",
     "text": [
      "0\n",
      "0\n",
      "1\n",
      "3\n",
      "0\n",
      "1\n",
      "4\n",
      "1\n",
      "1\n",
      "0\n",
      "0\n",
      "4\n",
      "0\n",
      "1\n",
      "1\n",
      "{'berita1': 3.2105284786718173e-07, 'berita2': 1.7176733341735618e-06, 'berita3': 2.870317203059586e-06, 'berita4': 1.017708121310808e-06, 'berita5': 6.974304395956368e-07}\n"
     ]
    }
   ],
   "source": [
    "alpha = 1\n",
    "likelihood_scores_lap = {}\n",
    "for doc_id in berita.keys():\n",
    "    likelihood_scores_lap[doc_id] = 1\n",
    "    tokens = tokenisasi(no_sw[doc_id])\n",
    "    for q in tokenized_query:\n",
    "        print(tokens.count(q))\n",
    "        likelihood_scores_lap[doc_id] = likelihood_scores_lap[doc_id] * (tokens.count(q)+alpha)/(len(tokens)+len(vocab)*alpha)\n",
    "print(likelihood_scores_lap)"
   ]
  },
  {
   "cell_type": "markdown",
   "id": "7d64b1a9",
   "metadata": {},
   "source": [
    "## Top 3 Laplace Smoothing"
   ]
  },
  {
   "cell_type": "code",
   "execution_count": 77,
   "id": "d14ce765",
   "metadata": {},
   "outputs": [
    {
     "name": "stdout",
     "output_type": "stream",
     "text": [
      "berita3: 2.870317203059586e-06\n",
      "berita2: 1.7176733341735618e-06\n",
      "berita4: 1.017708121310808e-06\n"
     ]
    }
   ],
   "source": [
    "rank_lap = exact_top_k_lm(no_sw, likelihood_scores_lap, 3)\n",
    "for doc_id in rank_lap:\n",
    "    print (f\"{doc_id}: {rank_lap[doc_id]}\")"
   ]
  },
  {
   "cell_type": "code",
   "execution_count": 59,
   "id": "3bbf2ccd",
   "metadata": {},
   "outputs": [
    {
     "data": {
      "text/plain": [
       "['wilayah',\n",
       " 'bebas',\n",
       " 'covid',\n",
       " 'cek',\n",
       " 'kabkota',\n",
       " 'zona',\n",
       " 'hijau',\n",
       " 'jakarta',\n",
       " 'perintah',\n",
       " 'rencana',\n",
       " 'terap',\n",
       " 'laku',\n",
       " 'batas',\n",
       " 'giat',\n",
       " 'masyarakat',\n",
       " 'ppkm',\n",
       " 'level',\n",
       " 'hitung',\n",
       " 'desember',\n",
       " 'januari',\n",
       " 'menteri',\n",
       " 'sehat',\n",
       " 'ri',\n",
       " 'bijak',\n",
       " 'tahap',\n",
       " 'kaji',\n",
       " 'direktur',\n",
       " 'cegah',\n",
       " 'kendali',\n",
       " 'sakit',\n",
       " 'tular',\n",
       " 'langsung',\n",
       " 'ppml',\n",
       " 'kemenkes',\n",
       " 'dr',\n",
       " 'siti',\n",
       " 'nadia',\n",
       " 'tarmizi',\n",
       " 'signifikan',\n",
       " 'picu',\n",
       " 'tingkat',\n",
       " 'mobilitas',\n",
       " 'longgar',\n",
       " 'protokol',\n",
       " 'httpshealthdetikcomberitadetikhealthdwilayahkamusudahbebascovidcekkabkotazonahijauterbaru',\n",
       " 'vaksin',\n",
       " 'rutin',\n",
       " 'gantung',\n",
       " 'booster',\n",
       " 'dosis',\n",
       " 'indonesia',\n",
       " 'lantas',\n",
       " 'vaksinasi',\n",
       " 'influenza',\n",
       " 'ketua',\n",
       " 'satgas',\n",
       " 'ikat',\n",
       " 'dokter',\n",
       " 'idi',\n",
       " 'prof',\n",
       " 'zubairi',\n",
       " 'djoerban',\n",
       " 'kait',\n",
       " 'httpshealthdetikcomberitadetikhealthdvaksincovidbakalrutinsetiaptahuntergantunginipenjelasannya',\n",
       " 'suntik',\n",
       " 'ampuh',\n",
       " 'lawan',\n",
       " 'varian',\n",
       " 'delta',\n",
       " 'cs',\n",
       " 'pakar',\n",
       " 'vaksinvaksin',\n",
       " 'alami',\n",
       " 'turun',\n",
       " 'efektivitas',\n",
       " 'hadap',\n",
       " 'corona',\n",
       " 'jenis',\n",
       " 'strain',\n",
       " 'virus',\n",
       " 'singgung',\n",
       " 'riset',\n",
       " 'dasar',\n",
       " 'pfizer',\n",
       " 'moderna',\n",
       " 'bukti',\n",
       " 'httpshealthdetikcomberitadetikhealthdrimulaisuntikkanboosterdimasihkahampuhlawanvariandeltacs',\n",
       " 'alert',\n",
       " 'dki',\n",
       " 'data',\n",
       " 'balitbangkes',\n",
       " 'november',\n",
       " 'jawa',\n",
       " 'barat',\n",
       " 'sulawesi',\n",
       " 'utara',\n",
       " 'alpha',\n",
       " 'beta',\n",
       " 'total',\n",
       " 'httpshealthdetikcomberitadetikhealthdalertkasusvariandeltacoviddidkimeningkat',\n",
       " 'as',\n",
       " 'dadak',\n",
       " 'serang',\n",
       " 'reda',\n",
       " 'amerika',\n",
       " 'serikat',\n",
       " 'catat',\n",
       " 'stabil',\n",
       " 'pasca',\n",
       " 'musim',\n",
       " 'panas',\n",
       " 'kepala',\n",
       " 'nasihat',\n",
       " 'medis',\n",
       " 'gedung',\n",
       " 'putih',\n",
       " 'anthony',\n",
       " 'fauci',\n",
       " 'senin',\n",
       " 'nasional',\n",
       " 'persen',\n",
       " 'minggu',\n",
       " 'puncak',\n",
       " 'gelombang',\n",
       " 'pasien',\n",
       " 'area',\n",
       " 'timur',\n",
       " 'laut',\n",
       " 'httpshealthdetikcomberitadetikhealthdcoronadiasmendadaknaiklagiusaiserangandeltasempatmereda']"
      ]
     },
     "execution_count": 59,
     "metadata": {},
     "output_type": "execute_result"
    }
   ],
   "source": [
    "# ini unlist ygy dan masih make vocab, bukan corpus\n",
    "from itertools import chain\n",
    "tokenized_corpus2 = list(dict.fromkeys(list(chain(*tokenized_corpus))))\n",
    "tokenized_corpus2"
   ]
  },
  {
   "cell_type": "markdown",
   "id": "c1e1c95d",
   "metadata": {},
   "source": [
    "## Jelinek Mercer Smoothing"
   ]
  },
  {
   "cell_type": "code",
   "execution_count": 65,
   "id": "494436f7",
   "metadata": {},
   "outputs": [
    {
     "name": "stdout",
     "output_type": "stream",
     "text": [
      "{'berita1': 1.9733231553853917e-07, 'berita2': 2.993721377858216e-06, 'berita3': 5.343605548663745e-06, 'berita4': 8.093859893072541e-07, 'berita5': 7.68402424805343e-07}\n"
     ]
    }
   ],
   "source": [
    "lamda = 0.5\n",
    "likelihood_scores_jm = {}\n",
    "for doc_id in no_sw.keys():\n",
    "    likelihood_scores_jm[doc_id] = 1\n",
    "    tokens = tokenisasi(no_sw[doc_id])\n",
    "    for q in tokenized_query:\n",
    "#         print(tokens.count(q),(lamda*tokens.count(q)/len(tokens))+((1-lamda)*tokenized_corpus2.count(q)/len(tokens)))\n",
    "        likelihood_scores_jm[doc_id]=likelihood_scores_jm[doc_id]*((lamda*tokens.count(q)/len(tokens))+((1-lamda)*tokenized_corpus2.count(q)/len(tokenized_corpus2)))\n",
    "print(likelihood_scores_jm)\n"
   ]
  },
  {
   "cell_type": "markdown",
   "id": "bae81d80",
   "metadata": {},
   "source": [
    "## Top 3 Jelinek-Mercer Smoothing"
   ]
  },
  {
   "cell_type": "code",
   "execution_count": 76,
   "id": "90a7611b",
   "metadata": {},
   "outputs": [
    {
     "name": "stdout",
     "output_type": "stream",
     "text": [
      "berita3: 5.343605548663745e-06\n",
      "berita2: 2.993721377858216e-06\n",
      "berita4: 8.093859893072541e-07\n"
     ]
    }
   ],
   "source": [
    "rank_jm = exact_top_k_lm(no_sw, likelihood_scores_jm, 3)\n",
    "for doc_id in rank_jm:\n",
    "    print (f\"{doc_id}: {rank_jm[doc_id]}\")"
   ]
  },
  {
   "cell_type": "markdown",
   "id": "bab483ca",
   "metadata": {},
   "source": [
    "## Dirichlet Smoothing "
   ]
  },
  {
   "cell_type": "code",
   "execution_count": 67,
   "id": "64e120c2",
   "metadata": {},
   "outputs": [
    {
     "name": "stdout",
     "output_type": "stream",
     "text": [
      "0\n",
      "0\n",
      "1\n",
      "3\n",
      "0\n",
      "1\n",
      "4\n",
      "1\n",
      "1\n",
      "0\n",
      "0\n",
      "4\n",
      "0\n",
      "1\n",
      "1\n",
      "{'berita1': 1.3899464705105486e-09, 'berita2': 8.003647272632313e-07, 'berita3': 1.6560809893382465e-05, 'berita4': 1.3027849983139868e-08, 'berita5': 1.2052938144770354e-07}\n"
     ]
    }
   ],
   "source": [
    "miu = 2\n",
    "likelihood_scores_dir = {}\n",
    "for doc_id in no_sw.keys():\n",
    "    likelihood_scores_dir[doc_id] = 1\n",
    "    tokens = tokenisasi(no_sw[doc_id])\n",
    "    for q in tokenized_query:\n",
    "#         print(likelihood_scores_dir)\n",
    "        print(tokens.count(q))\n",
    "        likelihood_scores_dir[doc_id]=likelihood_scores_dir[doc_id]*(tokens.count(q)+miu*tokenized_corpus2.count(q)/len(tokenized_corpus2))/(len(tokens)+miu)\n",
    "print(likelihood_scores_dir)\n",
    "# cek rumusnya lagi ya"
   ]
  },
  {
   "cell_type": "markdown",
   "id": "13b8a3f1",
   "metadata": {},
   "source": [
    "## Top 3 Dirichlet Smoothing"
   ]
  },
  {
   "cell_type": "code",
   "execution_count": 75,
   "id": "ae8dc123",
   "metadata": {},
   "outputs": [
    {
     "name": "stdout",
     "output_type": "stream",
     "text": [
      "berita3: 1.6560809893382465e-05\n",
      "berita2: 8.003647272632313e-07\n",
      "berita5: 1.2052938144770354e-07\n"
     ]
    }
   ],
   "source": [
    "rank_dir = exact_top_k_lm(no_sw, likelihood_scores_dir, 3)\n",
    "for doc_id in rank_dir:\n",
    "    print (f\"{doc_id}: {rank_dir[doc_id]}\")"
   ]
  },
  {
   "cell_type": "code",
   "execution_count": 30,
   "id": "9a84be06",
   "metadata": {},
   "outputs": [
    {
     "name": "stdout",
     "output_type": "stream",
     "text": [
      "{'berita1': 0.0, 'berita2': 0.0, 'berita3': 1.5996992565397702e-05, 'berita4': 0.0, 'berita5': 0.0}\n"
     ]
    }
   ],
   "source": [
    "miu = 2\n",
    "likelihood_scores = {}\n",
    "for doc_id in no_sw.keys():\n",
    "    likelihood_scores[doc_id] = 1\n",
    "    tokens = tokenisasi(no_sw[doc_id])\n",
    "    for q in tokenized_query:\n",
    "        likelihood_scores[doc_id]=likelihood_scores[doc_id]*(tokens.count(q)+miu*tokenized_corpus.count(q)/len(tokenized_corpus))/(len(tokens)+miu)\n",
    "print(likelihood_scores)"
   ]
  }
 ],
 "metadata": {
  "kernelspec": {
   "display_name": "Python 3 (ipykernel)",
   "language": "python",
   "name": "python3"
  },
  "language_info": {
   "codemirror_mode": {
    "name": "ipython",
    "version": 3
   },
   "file_extension": ".py",
   "mimetype": "text/x-python",
   "name": "python",
   "nbconvert_exporter": "python",
   "pygments_lexer": "ipython3",
   "version": "3.8.13"
  }
 },
 "nbformat": 4,
 "nbformat_minor": 5
}
