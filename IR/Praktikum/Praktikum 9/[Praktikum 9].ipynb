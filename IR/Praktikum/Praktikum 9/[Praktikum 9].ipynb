{
 "cells": [
  {
   "cell_type": "markdown",
   "id": "ec1c1666",
   "metadata": {},
   "source": [
    "# Modul 9\n",
    "### LANGUAGE MODELS FOR INFORMATION RETRIEVAL"
   ]
  },
  {
   "cell_type": "code",
   "execution_count": 4,
   "id": "c60ee0aa",
   "metadata": {},
   "outputs": [],
   "source": [
    "def tokenisasi(text):\n",
    "    tokens = text.split(\" \")\n",
    "    return tokens\n",
    "\n",
    "from Sastrawi.Stemmer.StemmerFactory import StemmerFactory\n",
    "def stemming(text):\n",
    "    #Create Stemmer\n",
    "    factory = StemmerFactory()\n",
    "    stemmer = factory.create_stemmer()\n",
    "    \n",
    "    #stemming process\n",
    "    output = stemmer.stem(text)\n",
    "    return output\n",
    "    \n",
    "def stemming_sentence(text):\n",
    "    output = \"\"\n",
    "    for token in tokenisasi(text):\n",
    "        output = output + stemming(token) + \" \"\n",
    "    return output[:-1]"
   ]
  },
  {
   "cell_type": "code",
   "execution_count": 7,
   "id": "d4ebbca1",
   "metadata": {},
   "outputs": [],
   "source": [
    "doc_dict_raw = {}\n",
    "doc_dict_raw['doc1'] = \"pengembangan sistem informasi penjadwalan\"\n",
    "doc_dict_raw['doc2'] = \"pengembangan model analisis sentimen berita\"\n",
    "doc_dict_raw['doc3'] = \"analisis sistem input output\"\n",
    "doc_dict_raw['doc4'] = \"pengembangan sistem informasi akademik universitas\"\n",
    "doc_dict_raw['doc5'] = \"pengembangan sistem cari berita ekonomi\"\n",
    "doc_dict_raw['doc6'] = \"analisis sistem neraca nasional\"\n",
    "doc_dict_raw['doc7'] = \"pengembangan sistem informasi layanan statistik\"\n",
    "doc_dict_raw['doc8'] = \"pengembangan sistem pencarian skripsi di universitas\"\n",
    "doc_dict_raw['doc9'] = \"analisis sentimen publik terhadap pemerintah\"\n",
    "doc_dict_raw['doc10'] = \"pengembangan model klasifikasi sentimen berita\"\n",
    "\n",
    "doc_dict = {}\n",
    "for doc_id, doc in doc_dict_raw.items():\n",
    "    doc_dict[doc_id] = stemming_sentence(doc)\n",
    "\n",
    "query = \"sistem informasi statistik\"\n",
    "tokenized_query = tokenisasi(query)"
   ]
  },
  {
   "cell_type": "code",
   "execution_count": 8,
   "id": "1f116cd3",
   "metadata": {},
   "outputs": [
    {
     "name": "stdout",
     "output_type": "stream",
     "text": [
      "{'doc1': 0.0, 'doc2': 0.0, 'doc3': 0.0, 'doc4': 0.0, 'doc5': 0.0, 'doc6': 0.0, 'doc7': 0.008, 'doc8': 0.0, 'doc9': 0.0, 'doc10': 0.0}\n"
     ]
    }
   ],
   "source": [
    "likelihood_scores = {}\n",
    "vocab = set()\n",
    "for doc_id in doc_dict.keys():\n",
    "    likelihood_scores[doc_id] = 1\n",
    "    tokens = tokenisasi(doc_dict[doc_id])\n",
    "    vocab.update(tokens)\n",
    "    for q in tokenized_query:\n",
    "        likelihood_scores[doc_id] = likelihood_scores[doc_id]*tokens.count(q)/len(tokens)\n",
    "print(likelihood_scores)"
   ]
  },
  {
   "cell_type": "code",
   "execution_count": 27,
   "id": "41ce1d7a",
   "metadata": {},
   "outputs": [],
   "source": [
    "from collections import OrderedDict\n",
    "def exact_top_k_lm(doc_dict, rank_score, k):\n",
    "    relevance_scores = {}\n",
    "    i = 0\n",
    "    for doc_id in doc_dict.keys():\n",
    "        relevance_scores[doc_id] = rank_score[doc_id]        \n",
    "        sorted_value = OrderedDict(sorted(relevance_scores.items(),key = lambda x:x[1], reverse = True))\n",
    "        top_k = {j : sorted_value[j] for j in list(sorted_value)[:k]}\n",
    "    return top_k"
   ]
  },
  {
   "cell_type": "code",
   "execution_count": 26,
   "id": "ff43cdfb",
   "metadata": {},
   "outputs": [
    {
     "name": "stdout",
     "output_type": "stream",
     "text": [
      "{'doc7': 0.008, 'doc1': 0.0, 'doc2': 0.0, 'doc3': 0.0, 'doc4': 0.0}\n"
     ]
    }
   ],
   "source": [
    "top_5_lm = exact_top_k_lm(doc_dict,likelihood_scores ,5)\n",
    "print(top_5_lm)"
   ]
  },
  {
   "cell_type": "code",
   "execution_count": 31,
   "id": "e1a3e2bb",
   "metadata": {},
   "outputs": [
    {
     "name": "stdout",
     "output_type": "stream",
     "text": [
      "{'perintah', 'publik', 'klasifikasi', 'nasional', 'neraca', 'output', 'sistem', 'input', 'akademik', 'kembang', 'layan', 'jadwal', 'model', 'ekonomi', 'hadap', 'universitas', 'berita', 'analisis', 'informasi', 'skripsi', 'cari', 'statistik', 'sentimen', 'di'}\n"
     ]
    }
   ],
   "source": [
    "tokenized_corpus = [j for sub in [tokenisasi(doc_dict[doc_id]) for doc_id in doc_dict] for j in sub]\n",
    "vocab = set(tokenized_corpus)\n",
    "print(vocab)"
   ]
  },
  {
   "cell_type": "markdown",
   "id": "d9938c69",
   "metadata": {},
   "source": [
    "## Laplace Smoothing "
   ]
  },
  {
   "cell_type": "code",
   "execution_count": 47,
   "id": "3107af39",
   "metadata": {},
   "outputs": [
    {
     "name": "stdout",
     "output_type": "stream",
     "text": [
      "{'doc1': 0.00018221574344023323, 'doc2': 4.1002091106646436e-05, 'doc3': 9.110787172011662e-05, 'doc4': 0.00016400836442658574, 'doc5': 8.200418221329287e-05, 'doc6': 9.110787172011662e-05, 'doc7': 0.0003280167288531715, 'doc8': 7.407407407407407e-05, 'doc9': 4.1002091106646436e-05, 'doc10': 4.1002091106646436e-05}\n"
     ]
    }
   ],
   "source": [
    "alpha = 1\n",
    "likelihood_scores_lap = {}\n",
    "for doc_id in doc_dict.keys():\n",
    "    likelihood_scores_lap[doc_id] = 1\n",
    "    tokens = tokenisasi(doc_dict[doc_id])\n",
    "    for q in tokenized_query:\n",
    "        likelihood_scores_lap[doc_id] = likelihood_scores_lap[doc_id] * (tokens.count(q)+alpha)/(len(tokens)+len(vocab)*alpha)\n",
    "print(likelihood_scores_lap)"
   ]
  },
  {
   "cell_type": "code",
   "execution_count": 52,
   "id": "5418b0e1",
   "metadata": {},
   "outputs": [
    {
     "name": "stdout",
     "output_type": "stream",
     "text": [
      "{'doc7': 0.0003280167288531715, 'doc1': 0.00018221574344023323, 'doc4': 0.00016400836442658574, 'doc3': 9.110787172011662e-05, 'doc6': 9.110787172011662e-05}\n"
     ]
    }
   ],
   "source": [
    "rank_laplace = exact_top_k_lm(doc_dict, likelihood_scores_lap,5)\n",
    "print(rank_laplace)"
   ]
  },
  {
   "cell_type": "markdown",
   "id": "ed96e694",
   "metadata": {},
   "source": [
    "## Jelinek-Mercer Smoothing"
   ]
  },
  {
   "cell_type": "code",
   "execution_count": 59,
   "id": "dad2ec4e",
   "metadata": {},
   "outputs": [
    {
     "name": "stdout",
     "output_type": "stream",
     "text": [
      "{'doc1': 1, 'doc2': 4.1002091106646436e-05, 'doc3': 9.110787172011662e-05, 'doc4': 0.00016400836442658574, 'doc5': 8.200418221329287e-05, 'doc6': 9.110787172011662e-05, 'doc7': 0.0003280167288531715, 'doc8': 7.407407407407407e-05, 'doc9': 4.1002091106646436e-05, 'doc10': 4.1002091106646436e-05}\n"
     ]
    }
   ],
   "source": [
    "lamda = 0.5\n",
    "likelihood_scores_jm = {}\n",
    "for doc_id in doc_dict.keys():\n",
    "    likelihood_scores_jm[doc_id] = 1\n",
    "    tokens = tokenisasi(doc_dict[doc_id])\n",
    "    for q in tokenized_query:\n",
    "        likelihood_scores_jm[doc_id]=likelihood_scores_jm[doc_id]*((lamda*tokens.count(q)/len(tokens))+((1-lamda)*tokenized_corpus.count(q)/len(tokenized_corpus)))\n",
    "print(likelihood_scores)\n"
   ]
  },
  {
   "cell_type": "code",
   "execution_count": 63,
   "id": "1708f8ed",
   "metadata": {},
   "outputs": [
    {
     "name": "stdout",
     "output_type": "stream",
     "text": [
      "{'doc7': 0.0025059407552083337, 'doc1': 0.0003221299913194445, 'doc4': 0.00023640950520833334, 'doc3': 6.442599826388889e-05, 'doc6': 6.442599826388889e-05}\n"
     ]
    }
   ],
   "source": [
    "rank_jm = exact_top_k_lm(doc_dict, likelihood_scores_jm,5)\n",
    "print(rank_jm)"
   ]
  },
  {
   "cell_type": "markdown",
   "id": "3de58a89",
   "metadata": {},
   "source": [
    "## Dirichlet Smoothing"
   ]
  },
  {
   "cell_type": "code",
   "execution_count": 56,
   "id": "b8449328",
   "metadata": {},
   "outputs": [
    {
     "name": "stdout",
     "output_type": "stream",
     "text": [
      "{'doc1': 0.0002803096064814815, 'doc2': 4.428854875283447e-06, 'doc3': 3.114551183127572e-05, 'doc4': 0.00017652150145772597, 'doc5': 1.961350016196955e-05, 'doc6': 3.114551183127572e-05, 'doc7': 0.004413037536443149, 'doc8': 1.3139512803819445e-05, 'doc9': 4.428854875283447e-06, 'doc10': 4.428854875283447e-06}\n"
     ]
    }
   ],
   "source": [
    "miu = 2\n",
    "likelihood_scores_dir = {}\n",
    "for doc_id in doc_dict.keys():\n",
    "    likelihood_scores_dir[doc_id] = 1\n",
    "    tokens = tokenisasi(doc_dict[doc_id])\n",
    "    for q in tokenized_query:\n",
    "        likelihood_scores_dir[doc_id]=likelihood_scores_dir[doc_id]*(tokens.count(q)+miu*tokenized_corpus.count(q)/len(tokenized_corpus))/(len(tokens)+miu)\n",
    "print(likelihood_scores_dir)\n"
   ]
  },
  {
   "cell_type": "code",
   "execution_count": 58,
   "id": "cf5ab54f",
   "metadata": {},
   "outputs": [
    {
     "name": "stdout",
     "output_type": "stream",
     "text": [
      "{'doc7': 0.004413037536443149, 'doc1': 0.0002803096064814815, 'doc4': 0.00017652150145772597, 'doc3': 3.114551183127572e-05, 'doc6': 3.114551183127572e-05}\n"
     ]
    }
   ],
   "source": [
    "rank_dirr = exact_top_k_lm(doc_dict, likelihood_scores_dir,5)\n",
    "print(rank_dirr)"
   ]
  }
 ],
 "metadata": {
  "kernelspec": {
   "display_name": "Python 3 (ipykernel)",
   "language": "python",
   "name": "python3"
  },
  "language_info": {
   "codemirror_mode": {
    "name": "ipython",
    "version": 3
   },
   "file_extension": ".py",
   "mimetype": "text/x-python",
   "name": "python",
   "nbconvert_exporter": "python",
   "pygments_lexer": "ipython3",
   "version": "3.8.13"
  }
 },
 "nbformat": 4,
 "nbformat_minor": 5
}
