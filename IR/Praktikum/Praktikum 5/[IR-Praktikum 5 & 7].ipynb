{
 "cells": [
  {
   "cell_type": "markdown",
   "id": "47d17a03",
   "metadata": {},
   "source": [
    "# Scoring dan Ranking\n",
    "(Index Elimination and Champion List)"
   ]
  },
  {
   "cell_type": "markdown",
   "id": "852db76f",
   "metadata": {},
   "source": [
    "## Preprocessing"
   ]
  },
  {
   "cell_type": "code",
   "execution_count": 6,
   "id": "abf291c8",
   "metadata": {},
   "outputs": [],
   "source": [
    "def tokenisasi(text):\n",
    "    tokens = text.split(\" \")\n",
    "    return tokens\n",
    "\n",
    "def stemming(text):\n",
    "    from Sastrawi.Stemmer.StemmerFactory import StemmerFactory\n",
    "    # create stemmer\n",
    "    factory = StemmerFactory()\n",
    "    stemmer = factory.create_stemmer()\n",
    "    # stemming process\n",
    "    output = stemmer.stem(text)\n",
    "    return output\n",
    "\n",
    "def stemming_sentence(text):\n",
    "    output = \"\"\n",
    "    for token in tokenisasi(text):\n",
    "        output = output + stemming(token) + \" \"\n",
    "    return output[:-1]\n"
   ]
  },
  {
   "cell_type": "markdown",
   "id": "7de87018",
   "metadata": {},
   "source": [
    "## Inisisasi Dokumen"
   ]
  },
  {
   "cell_type": "code",
   "execution_count": 7,
   "id": "699f762c",
   "metadata": {},
   "outputs": [],
   "source": [
    "doc_dict_raw = {}\n",
    "doc_dict_raw['doc1'] = \"pengembangan sistem informasi penjadwalan\"\n",
    "doc_dict_raw['doc2'] = \"pengembangan model analisis sentimen berita\"\n",
    "doc_dict_raw['doc3'] = \"analisis sistem input output\"\n",
    "doc_dict_raw['doc4'] = \"pengembangan sistem informasi akademik universitas\"\n",
    "doc_dict_raw['doc5'] = \"pengembangan sistem cari berita ekonomi\"\n",
    "doc_dict_raw['doc6'] = \"analisis sistem neraca nasional\"\n",
    "doc_dict_raw['doc7'] = \"pengembangan sistem informasi layanan statistik\"\n",
    "doc_dict_raw['doc8'] = \"pengembangan sistem pencarian skripsi di universitas\"\n",
    "doc_dict_raw['doc9'] = \"analisis sentimen publik terhadap pemerintah\"\n",
    "doc_dict_raw['doc10'] = \"pengembangan model klasifikasi sentimen berita\"\n"
   ]
  },
  {
   "cell_type": "markdown",
   "id": "d5a380a2",
   "metadata": {},
   "source": [
    "## Proses Stemming Kalimat"
   ]
  },
  {
   "cell_type": "code",
   "execution_count": 8,
   "id": "d8de0ac3",
   "metadata": {},
   "outputs": [
    {
     "name": "stdout",
     "output_type": "stream",
     "text": [
      "{'doc1': 'kembang sistem informasi jadwal', 'doc2': 'kembang model analisis sentimen berita', 'doc3': 'analisis sistem input output', 'doc4': 'kembang sistem informasi akademik universitas', 'doc5': 'kembang sistem cari berita ekonomi', 'doc6': 'analisis sistem neraca nasional', 'doc7': 'kembang sistem informasi layan statistik', 'doc8': 'kembang sistem cari skripsi di universitas', 'doc9': 'analisis sentimen publik hadap perintah', 'doc10': 'kembang model klasifikasi sentimen berita'}\n"
     ]
    }
   ],
   "source": [
    "doc_dict = {}\n",
    "for doc_id, doc in doc_dict_raw.items():\n",
    "    doc_dict[doc_id] = stemming_sentence(doc)\n",
    "print(doc_dict)"
   ]
  },
  {
   "cell_type": "markdown",
   "id": "f3247e95",
   "metadata": {},
   "source": [
    "## Inverted Index"
   ]
  },
  {
   "cell_type": "code",
   "execution_count": 25,
   "id": "879b6560",
   "metadata": {},
   "outputs": [
    {
     "name": "stdout",
     "output_type": "stream",
     "text": [
      "kembang\n",
      "sistem\n",
      "informasi\n",
      "jadwal\n",
      "kembang\n",
      "model\n",
      "analisis\n",
      "sentimen\n",
      "berita\n",
      "analisis\n",
      "sistem\n",
      "input\n",
      "output\n",
      "kembang\n",
      "sistem\n",
      "informasi\n",
      "akademik\n",
      "universitas\n",
      "kembang\n",
      "sistem\n",
      "cari\n",
      "berita\n",
      "ekonomi\n",
      "analisis\n",
      "sistem\n",
      "neraca\n",
      "nasional\n",
      "kembang\n",
      "sistem\n",
      "informasi\n",
      "layan\n",
      "statistik\n",
      "kembang\n",
      "sistem\n",
      "cari\n",
      "skripsi\n",
      "di\n",
      "universitas\n",
      "analisis\n",
      "sentimen\n",
      "publik\n",
      "hadap\n",
      "perintah\n",
      "kembang\n",
      "model\n",
      "klasifikasi\n",
      "sentimen\n",
      "berita\n",
      "\n",
      "This is Vocab :\n",
      "['kembang', 'sistem', 'informasi', 'jadwal', 'model', 'analisis', 'sentimen', 'berita', 'input', 'output', 'akademik', 'universitas', 'cari', 'ekonomi', 'neraca', 'nasional', 'layan', 'statistik', 'skripsi', 'di', 'publik', 'hadap', 'perintah', 'klasifikasi']\n",
      "\n",
      "This is inverted Index : \n",
      "kembang : \n",
      "['doc1', 'doc2', 'doc4', 'doc5', 'doc7', 'doc8', 'doc10']\n",
      "\n",
      "\n",
      "sistem : \n",
      "['doc1', 'doc3', 'doc4', 'doc5', 'doc6', 'doc7', 'doc8']\n",
      "\n",
      "\n",
      "informasi : \n",
      "['doc1', 'doc4', 'doc7']\n",
      "\n",
      "\n",
      "jadwal : \n",
      "['doc1']\n",
      "\n",
      "\n",
      "model : \n",
      "['doc2', 'doc10']\n",
      "\n",
      "\n",
      "analisis : \n",
      "['doc2', 'doc3', 'doc6', 'doc9']\n",
      "\n",
      "\n",
      "sentimen : \n",
      "['doc2', 'doc9', 'doc10']\n",
      "\n",
      "\n",
      "berita : \n",
      "['doc2', 'doc5', 'doc10']\n",
      "\n",
      "\n",
      "input : \n",
      "['doc3']\n",
      "\n",
      "\n",
      "output : \n",
      "['doc3']\n",
      "\n",
      "\n",
      "akademik : \n",
      "['doc4']\n",
      "\n",
      "\n",
      "universitas : \n",
      "['doc4', 'doc8']\n",
      "\n",
      "\n",
      "cari : \n",
      "['doc5', 'doc8']\n",
      "\n",
      "\n",
      "ekonomi : \n",
      "['doc5']\n",
      "\n",
      "\n",
      "neraca : \n",
      "['doc6']\n",
      "\n",
      "\n",
      "nasional : \n",
      "['doc6']\n",
      "\n",
      "\n",
      "layan : \n",
      "['doc7']\n",
      "\n",
      "\n",
      "statistik : \n",
      "['doc7']\n",
      "\n",
      "\n",
      "skripsi : \n",
      "['doc8']\n",
      "\n",
      "\n",
      "di : \n",
      "['doc8']\n",
      "\n",
      "\n",
      "publik : \n",
      "['doc9']\n",
      "\n",
      "\n",
      "hadap : \n",
      "['doc9']\n",
      "\n",
      "\n",
      "perintah : \n",
      "['doc9']\n",
      "\n",
      "\n",
      "klasifikasi : \n",
      "['doc10']\n",
      "\n",
      "\n",
      "{'kembang': ['doc1', 'doc2', 'doc4', 'doc5', 'doc7', 'doc8', 'doc10'], 'sistem': ['doc1', 'doc3', 'doc4', 'doc5', 'doc6', 'doc7', 'doc8'], 'informasi': ['doc1', 'doc4', 'doc7'], 'jadwal': ['doc1'], 'model': ['doc2', 'doc10'], 'analisis': ['doc2', 'doc3', 'doc6', 'doc9'], 'sentimen': ['doc2', 'doc9', 'doc10'], 'berita': ['doc2', 'doc5', 'doc10'], 'input': ['doc3'], 'output': ['doc3'], 'akademik': ['doc4'], 'universitas': ['doc4', 'doc8'], 'cari': ['doc5', 'doc8'], 'ekonomi': ['doc5'], 'neraca': ['doc6'], 'nasional': ['doc6'], 'layan': ['doc7'], 'statistik': ['doc7'], 'skripsi': ['doc8'], 'di': ['doc8'], 'publik': ['doc9'], 'hadap': ['doc9'], 'perintah': ['doc9'], 'klasifikasi': ['doc10']}\n"
     ]
    }
   ],
   "source": [
    "vocab = []\n",
    "inverted_index = {}\n",
    "for doc_id, doc in doc_dict.items():\n",
    "    for token in tokenisasi(doc):\n",
    "        print(token)\n",
    "        if token not in vocab : \n",
    "            vocab.append(token)\n",
    "            inverted_index[token] = []\n",
    "        if token in inverted_index:\n",
    "            if doc_id not in inverted_index[token]:\n",
    "                inverted_index[token].append(doc_id)\n",
    "print(\"\\nThis is Vocab :\")\n",
    "print(vocab)\n",
    "print(\"\\nThis is inverted Index : \")\n",
    "for doc_id in inverted_index :\n",
    "    print(doc_id + \" : \")\n",
    "    print(inverted_index[doc_id])\n",
    "    print(\"\\n\")\n",
    "print(inverted_index)"
   ]
  },
  {
   "cell_type": "markdown",
   "id": "99b03325",
   "metadata": {},
   "source": [
    "## Exact Top K Document Retrieval"
   ]
  },
  {
   "cell_type": "markdown",
   "id": "9bab30ec",
   "metadata": {},
   "source": [
    "### Menghitung tf.idf"
   ]
  },
  {
   "cell_type": "code",
   "execution_count": 10,
   "id": "6be74b51",
   "metadata": {},
   "outputs": [
    {
     "name": "stdout",
     "output_type": "stream",
     "text": [
      "{'doc1': {'kembang': 1, 'sistem': 1, 'informasi': 1, 'jadwal': 1, 'model': 0, 'analisis': 0, 'sentimen': 0, 'berita': 0, 'input': 0, 'output': 0, 'akademik': 0, 'universitas': 0, 'cari': 0, 'ekonomi': 0, 'neraca': 0, 'nasional': 0, 'layan': 0, 'statistik': 0, 'skripsi': 0, 'di': 0, 'publik': 0, 'hadap': 0, 'perintah': 0, 'klasifikasi': 0}, 'doc2': {'kembang': 1, 'sistem': 0, 'informasi': 0, 'jadwal': 0, 'model': 1, 'analisis': 1, 'sentimen': 1, 'berita': 1, 'input': 0, 'output': 0, 'akademik': 0, 'universitas': 0, 'cari': 0, 'ekonomi': 0, 'neraca': 0, 'nasional': 0, 'layan': 0, 'statistik': 0, 'skripsi': 0, 'di': 0, 'publik': 0, 'hadap': 0, 'perintah': 0, 'klasifikasi': 0}, 'doc3': {'kembang': 0, 'sistem': 1, 'informasi': 0, 'jadwal': 0, 'model': 0, 'analisis': 1, 'sentimen': 0, 'berita': 0, 'input': 1, 'output': 1, 'akademik': 0, 'universitas': 0, 'cari': 0, 'ekonomi': 0, 'neraca': 0, 'nasional': 0, 'layan': 0, 'statistik': 0, 'skripsi': 0, 'di': 0, 'publik': 0, 'hadap': 0, 'perintah': 0, 'klasifikasi': 0}, 'doc4': {'kembang': 1, 'sistem': 1, 'informasi': 1, 'jadwal': 0, 'model': 0, 'analisis': 0, 'sentimen': 0, 'berita': 0, 'input': 0, 'output': 0, 'akademik': 1, 'universitas': 1, 'cari': 0, 'ekonomi': 0, 'neraca': 0, 'nasional': 0, 'layan': 0, 'statistik': 0, 'skripsi': 0, 'di': 0, 'publik': 0, 'hadap': 0, 'perintah': 0, 'klasifikasi': 0}, 'doc5': {'kembang': 1, 'sistem': 1, 'informasi': 0, 'jadwal': 0, 'model': 0, 'analisis': 0, 'sentimen': 0, 'berita': 1, 'input': 0, 'output': 0, 'akademik': 0, 'universitas': 0, 'cari': 1, 'ekonomi': 1, 'neraca': 0, 'nasional': 0, 'layan': 0, 'statistik': 0, 'skripsi': 0, 'di': 0, 'publik': 0, 'hadap': 0, 'perintah': 0, 'klasifikasi': 0}, 'doc6': {'kembang': 0, 'sistem': 1, 'informasi': 0, 'jadwal': 0, 'model': 0, 'analisis': 1, 'sentimen': 0, 'berita': 0, 'input': 0, 'output': 0, 'akademik': 0, 'universitas': 0, 'cari': 0, 'ekonomi': 0, 'neraca': 1, 'nasional': 1, 'layan': 0, 'statistik': 0, 'skripsi': 0, 'di': 0, 'publik': 0, 'hadap': 0, 'perintah': 0, 'klasifikasi': 0}, 'doc7': {'kembang': 1, 'sistem': 1, 'informasi': 1, 'jadwal': 0, 'model': 0, 'analisis': 0, 'sentimen': 0, 'berita': 0, 'input': 0, 'output': 0, 'akademik': 0, 'universitas': 0, 'cari': 0, 'ekonomi': 0, 'neraca': 0, 'nasional': 0, 'layan': 1, 'statistik': 1, 'skripsi': 0, 'di': 0, 'publik': 0, 'hadap': 0, 'perintah': 0, 'klasifikasi': 0}, 'doc8': {'kembang': 1, 'sistem': 1, 'informasi': 0, 'jadwal': 0, 'model': 0, 'analisis': 0, 'sentimen': 0, 'berita': 0, 'input': 0, 'output': 0, 'akademik': 0, 'universitas': 1, 'cari': 1, 'ekonomi': 0, 'neraca': 0, 'nasional': 0, 'layan': 0, 'statistik': 0, 'skripsi': 1, 'di': 1, 'publik': 0, 'hadap': 0, 'perintah': 0, 'klasifikasi': 0}, 'doc9': {'kembang': 0, 'sistem': 0, 'informasi': 0, 'jadwal': 0, 'model': 0, 'analisis': 1, 'sentimen': 1, 'berita': 0, 'input': 0, 'output': 0, 'akademik': 0, 'universitas': 0, 'cari': 0, 'ekonomi': 0, 'neraca': 0, 'nasional': 0, 'layan': 0, 'statistik': 0, 'skripsi': 0, 'di': 0, 'publik': 1, 'hadap': 1, 'perintah': 1, 'klasifikasi': 0}, 'doc10': {'kembang': 1, 'sistem': 0, 'informasi': 0, 'jadwal': 0, 'model': 1, 'analisis': 0, 'sentimen': 1, 'berita': 1, 'input': 0, 'output': 0, 'akademik': 0, 'universitas': 0, 'cari': 0, 'ekonomi': 0, 'neraca': 0, 'nasional': 0, 'layan': 0, 'statistik': 0, 'skripsi': 0, 'di': 0, 'publik': 0, 'hadap': 0, 'perintah': 0, 'klasifikasi': 1}}\n"
     ]
    }
   ],
   "source": [
    "# TF \n",
    "def termFrequencyInDoc(vocab, doc_dict):\n",
    "    tf_docs = {}\n",
    "    for doc_id  in doc_dict.keys():\n",
    "        tf_docs[doc_id] = {}\n",
    "    for word in vocab:\n",
    "        for doc_id, doc in doc_dict.items():\n",
    "            tf_docs[doc_id][word] = doc.count(word)\n",
    "    return (tf_docs)\n",
    "\n",
    "tf = termFrequencyInDoc(vocab, doc_dict)\n",
    "print(tf)"
   ]
  },
  {
   "cell_type": "code",
   "execution_count": 12,
   "id": "b7a83333",
   "metadata": {},
   "outputs": [
    {
     "name": "stdout",
     "output_type": "stream",
     "text": [
      "{'kembang': 1.3184537311185345, 'sistem': 1.3184537311185345, 'informasi': 2.01160091167848, 'jadwal': 2.7047480922384253, 'model': 2.2992829841302607, 'analisis': 1.7884573603642702, 'sentimen': 2.01160091167848, 'berita': 2.01160091167848, 'input': 2.7047480922384253, 'output': 2.7047480922384253, 'akademik': 2.7047480922384253, 'universitas': 2.2992829841302607, 'cari': 2.2992829841302607, 'ekonomi': 2.7047480922384253, 'neraca': 2.7047480922384253, 'nasional': 2.7047480922384253, 'layan': 2.7047480922384253, 'statistik': 2.7047480922384253, 'skripsi': 2.7047480922384253, 'di': 2.7047480922384253, 'publik': 2.7047480922384253, 'hadap': 2.7047480922384253, 'perintah': 2.7047480922384253, 'klasifikasi': 2.7047480922384253}\n"
     ]
    }
   ],
   "source": [
    "# IDF\n",
    "\n",
    "## WordDocument Count \n",
    "def wordDocFre(vocab, doc_dict):\n",
    "    df = {}\n",
    "    for word in vocab:\n",
    "        frq = 0\n",
    "        for doc in doc_dict.values():\n",
    "            if word in tokenisasi(doc):\n",
    "                frq = frq + 1\n",
    "        df[word] = frq\n",
    "    return (df)\n",
    "\n",
    "import numpy as np\n",
    "def inverseDocFre(vocab, doc_fre, length):\n",
    "    idf = {}\n",
    "    for word in vocab:\n",
    "        idf[word] =  1 + np.log((length +1) /(doc_fre[word]+1))\n",
    "    return(idf)\n",
    "idf = inverseDocFre(vocab,wordDocFre(vocab, doc_dict), len(doc_dict))\n",
    "print(idf)"
   ]
  },
  {
   "cell_type": "code",
   "execution_count": 13,
   "id": "15ac8196",
   "metadata": {
    "scrolled": true
   },
   "outputs": [
    {
     "name": "stdout",
     "output_type": "stream",
     "text": [
      "{'doc1': {'kembang': 1.3184537311185345, 'sistem': 1.3184537311185345, 'informasi': 2.01160091167848, 'jadwal': 2.7047480922384253, 'model': 0.0, 'analisis': 0.0, 'sentimen': 0.0, 'berita': 0.0, 'input': 0.0, 'output': 0.0, 'akademik': 0.0, 'universitas': 0.0, 'cari': 0.0, 'ekonomi': 0.0, 'neraca': 0.0, 'nasional': 0.0, 'layan': 0.0, 'statistik': 0.0, 'skripsi': 0.0, 'di': 0.0, 'publik': 0.0, 'hadap': 0.0, 'perintah': 0.0, 'klasifikasi': 0.0}, 'doc2': {'kembang': 1.3184537311185345, 'sistem': 0.0, 'informasi': 0.0, 'jadwal': 0.0, 'model': 2.2992829841302607, 'analisis': 1.7884573603642702, 'sentimen': 2.01160091167848, 'berita': 2.01160091167848, 'input': 0.0, 'output': 0.0, 'akademik': 0.0, 'universitas': 0.0, 'cari': 0.0, 'ekonomi': 0.0, 'neraca': 0.0, 'nasional': 0.0, 'layan': 0.0, 'statistik': 0.0, 'skripsi': 0.0, 'di': 0.0, 'publik': 0.0, 'hadap': 0.0, 'perintah': 0.0, 'klasifikasi': 0.0}, 'doc3': {'kembang': 0.0, 'sistem': 1.3184537311185345, 'informasi': 0.0, 'jadwal': 0.0, 'model': 0.0, 'analisis': 1.7884573603642702, 'sentimen': 0.0, 'berita': 0.0, 'input': 2.7047480922384253, 'output': 2.7047480922384253, 'akademik': 0.0, 'universitas': 0.0, 'cari': 0.0, 'ekonomi': 0.0, 'neraca': 0.0, 'nasional': 0.0, 'layan': 0.0, 'statistik': 0.0, 'skripsi': 0.0, 'di': 0.0, 'publik': 0.0, 'hadap': 0.0, 'perintah': 0.0, 'klasifikasi': 0.0}, 'doc4': {'kembang': 1.3184537311185345, 'sistem': 1.3184537311185345, 'informasi': 2.01160091167848, 'jadwal': 0.0, 'model': 0.0, 'analisis': 0.0, 'sentimen': 0.0, 'berita': 0.0, 'input': 0.0, 'output': 0.0, 'akademik': 2.7047480922384253, 'universitas': 2.2992829841302607, 'cari': 0.0, 'ekonomi': 0.0, 'neraca': 0.0, 'nasional': 0.0, 'layan': 0.0, 'statistik': 0.0, 'skripsi': 0.0, 'di': 0.0, 'publik': 0.0, 'hadap': 0.0, 'perintah': 0.0, 'klasifikasi': 0.0}, 'doc5': {'kembang': 1.3184537311185345, 'sistem': 1.3184537311185345, 'informasi': 0.0, 'jadwal': 0.0, 'model': 0.0, 'analisis': 0.0, 'sentimen': 0.0, 'berita': 2.01160091167848, 'input': 0.0, 'output': 0.0, 'akademik': 0.0, 'universitas': 0.0, 'cari': 2.2992829841302607, 'ekonomi': 2.7047480922384253, 'neraca': 0.0, 'nasional': 0.0, 'layan': 0.0, 'statistik': 0.0, 'skripsi': 0.0, 'di': 0.0, 'publik': 0.0, 'hadap': 0.0, 'perintah': 0.0, 'klasifikasi': 0.0}, 'doc6': {'kembang': 0.0, 'sistem': 1.3184537311185345, 'informasi': 0.0, 'jadwal': 0.0, 'model': 0.0, 'analisis': 1.7884573603642702, 'sentimen': 0.0, 'berita': 0.0, 'input': 0.0, 'output': 0.0, 'akademik': 0.0, 'universitas': 0.0, 'cari': 0.0, 'ekonomi': 0.0, 'neraca': 2.7047480922384253, 'nasional': 2.7047480922384253, 'layan': 0.0, 'statistik': 0.0, 'skripsi': 0.0, 'di': 0.0, 'publik': 0.0, 'hadap': 0.0, 'perintah': 0.0, 'klasifikasi': 0.0}, 'doc7': {'kembang': 1.3184537311185345, 'sistem': 1.3184537311185345, 'informasi': 2.01160091167848, 'jadwal': 0.0, 'model': 0.0, 'analisis': 0.0, 'sentimen': 0.0, 'berita': 0.0, 'input': 0.0, 'output': 0.0, 'akademik': 0.0, 'universitas': 0.0, 'cari': 0.0, 'ekonomi': 0.0, 'neraca': 0.0, 'nasional': 0.0, 'layan': 2.7047480922384253, 'statistik': 2.7047480922384253, 'skripsi': 0.0, 'di': 0.0, 'publik': 0.0, 'hadap': 0.0, 'perintah': 0.0, 'klasifikasi': 0.0}, 'doc8': {'kembang': 1.3184537311185345, 'sistem': 1.3184537311185345, 'informasi': 0.0, 'jadwal': 0.0, 'model': 0.0, 'analisis': 0.0, 'sentimen': 0.0, 'berita': 0.0, 'input': 0.0, 'output': 0.0, 'akademik': 0.0, 'universitas': 2.2992829841302607, 'cari': 2.2992829841302607, 'ekonomi': 0.0, 'neraca': 0.0, 'nasional': 0.0, 'layan': 0.0, 'statistik': 0.0, 'skripsi': 2.7047480922384253, 'di': 2.7047480922384253, 'publik': 0.0, 'hadap': 0.0, 'perintah': 0.0, 'klasifikasi': 0.0}, 'doc9': {'kembang': 0.0, 'sistem': 0.0, 'informasi': 0.0, 'jadwal': 0.0, 'model': 0.0, 'analisis': 1.7884573603642702, 'sentimen': 2.01160091167848, 'berita': 0.0, 'input': 0.0, 'output': 0.0, 'akademik': 0.0, 'universitas': 0.0, 'cari': 0.0, 'ekonomi': 0.0, 'neraca': 0.0, 'nasional': 0.0, 'layan': 0.0, 'statistik': 0.0, 'skripsi': 0.0, 'di': 0.0, 'publik': 2.7047480922384253, 'hadap': 2.7047480922384253, 'perintah': 2.7047480922384253, 'klasifikasi': 0.0}, 'doc10': {'kembang': 1.3184537311185345, 'sistem': 0.0, 'informasi': 0.0, 'jadwal': 0.0, 'model': 2.2992829841302607, 'analisis': 0.0, 'sentimen': 2.01160091167848, 'berita': 2.01160091167848, 'input': 0.0, 'output': 0.0, 'akademik': 0.0, 'universitas': 0.0, 'cari': 0.0, 'ekonomi': 0.0, 'neraca': 0.0, 'nasional': 0.0, 'layan': 0.0, 'statistik': 0.0, 'skripsi': 0.0, 'di': 0.0, 'publik': 0.0, 'hadap': 0.0, 'perintah': 0.0, 'klasifikasi': 2.7047480922384253}}\n"
     ]
    }
   ],
   "source": [
    "# TF.IDF\n",
    "def tfidf(vocab, tf, idf_scr, doc_dict):\n",
    "    tf_idf_scr = {}\n",
    "    for doc_id in doc_dict.keys():\n",
    "        tf_idf_scr[doc_id] = {}\n",
    "    for word in vocab:\n",
    "        for doc_id, doc in doc_dict.items():\n",
    "            tf_idf_scr[doc_id][word] = tf[doc_id][word] * idf_scr[word]\n",
    "    return (tf_idf_scr)\n",
    "print(tfidf(vocab, tf, idf, doc_dict))"
   ]
  },
  {
   "cell_type": "code",
   "execution_count": 14,
   "id": "1f130e3f",
   "metadata": {},
   "outputs": [
    {
     "name": "stdout",
     "output_type": "stream",
     "text": [
      "{'kembang': 0, 'sistem': 1, 'informasi': 1, 'jadwal': 0, 'model': 0, 'analisis': 0, 'sentimen': 0, 'berita': 0, 'input': 0, 'output': 0, 'akademik': 0, 'universitas': 0, 'cari': 0, 'ekonomi': 0, 'neraca': 0, 'nasional': 0, 'layan': 0, 'statistik': 1, 'skripsi': 0, 'di': 0, 'publik': 0, 'hadap': 0, 'perintah': 0, 'klasifikasi': 0}\n"
     ]
    }
   ],
   "source": [
    "# Term Freq \n",
    "query = \"sistem informasi statistik\"\n",
    "# query = \"sistem sentimen berita\"\n",
    "def termFrequency(vocab, query):\n",
    "    tf_query = {}\n",
    "    for word in vocab:\n",
    "        tf_query[word] = query.count(word)\n",
    "    return (tf_query)\n",
    "tf_query = termFrequency(vocab, query)\n",
    "print(tf_query)"
   ]
  },
  {
   "cell_type": "code",
   "execution_count": 15,
   "id": "106d0c81",
   "metadata": {},
   "outputs": [
    {
     "name": "stdout",
     "output_type": "stream",
     "text": [
      "[[0.        ]\n",
      " [1.31845373]\n",
      " [2.01160091]\n",
      " [0.        ]\n",
      " [0.        ]\n",
      " [0.        ]\n",
      " [0.        ]\n",
      " [0.        ]\n",
      " [0.        ]\n",
      " [0.        ]\n",
      " [0.        ]\n",
      " [0.        ]\n",
      " [0.        ]\n",
      " [0.        ]\n",
      " [0.        ]\n",
      " [0.        ]\n",
      " [0.        ]\n",
      " [2.70474809]\n",
      " [0.        ]\n",
      " [0.        ]\n",
      " [0.        ]\n",
      " [0.        ]\n",
      " [0.        ]\n",
      " [0.        ]]\n"
     ]
    }
   ],
   "source": [
    "# Term - Query Matrix\n",
    "TQ = np.zeros((len(vocab),1))\n",
    "for word in vocab:\n",
    "    ind1 = vocab.index(word)\n",
    "    TQ[ind1][0] = tf_query[word] * idf[word]\n",
    "print(TQ)"
   ]
  },
  {
   "cell_type": "code",
   "execution_count": 16,
   "id": "3be66cb8",
   "metadata": {},
   "outputs": [],
   "source": [
    "import math\n",
    "def cosine_sim(vec1, vec2):\n",
    "#     vec1 = list(vec1)  # kenapa ini list object is not callable\n",
    "#     vec2 = list(vec2) \n",
    "    dot_prod = 0\n",
    "    for i,v in enumerate(vec1):\n",
    "        dot_prod += v * vec2[i]\n",
    "    mag_1 = math.sqrt(sum([x**2 for x in vec1]))\n",
    "    mag_2 = math.sqrt(sum([x**2 for x in vec2]))\n",
    "    return(dot_prod/(mag_1*mag_2))"
   ]
  },
  {
   "cell_type": "code",
   "execution_count": 17,
   "id": "3ea418a8",
   "metadata": {},
   "outputs": [
    {
     "name": "stdout",
     "output_type": "stream",
     "text": [
      "{'doc1': {'kembang': 1.3184537311185345, 'sistem': 1.3184537311185345, 'informasi': 2.01160091167848, 'jadwal': 2.7047480922384253, 'model': 0.0, 'analisis': 0.0, 'sentimen': 0.0, 'berita': 0.0, 'input': 0.0, 'output': 0.0, 'akademik': 0.0, 'universitas': 0.0, 'cari': 0.0, 'ekonomi': 0.0, 'neraca': 0.0, 'nasional': 0.0, 'layan': 0.0, 'statistik': 0.0, 'skripsi': 0.0, 'di': 0.0, 'publik': 0.0, 'hadap': 0.0, 'perintah': 0.0, 'klasifikasi': 0.0}, 'doc2': {'kembang': 1.3184537311185345, 'sistem': 0.0, 'informasi': 0.0, 'jadwal': 0.0, 'model': 2.2992829841302607, 'analisis': 1.7884573603642702, 'sentimen': 2.01160091167848, 'berita': 2.01160091167848, 'input': 0.0, 'output': 0.0, 'akademik': 0.0, 'universitas': 0.0, 'cari': 0.0, 'ekonomi': 0.0, 'neraca': 0.0, 'nasional': 0.0, 'layan': 0.0, 'statistik': 0.0, 'skripsi': 0.0, 'di': 0.0, 'publik': 0.0, 'hadap': 0.0, 'perintah': 0.0, 'klasifikasi': 0.0}, 'doc3': {'kembang': 0.0, 'sistem': 1.3184537311185345, 'informasi': 0.0, 'jadwal': 0.0, 'model': 0.0, 'analisis': 1.7884573603642702, 'sentimen': 0.0, 'berita': 0.0, 'input': 2.7047480922384253, 'output': 2.7047480922384253, 'akademik': 0.0, 'universitas': 0.0, 'cari': 0.0, 'ekonomi': 0.0, 'neraca': 0.0, 'nasional': 0.0, 'layan': 0.0, 'statistik': 0.0, 'skripsi': 0.0, 'di': 0.0, 'publik': 0.0, 'hadap': 0.0, 'perintah': 0.0, 'klasifikasi': 0.0}, 'doc4': {'kembang': 1.3184537311185345, 'sistem': 1.3184537311185345, 'informasi': 2.01160091167848, 'jadwal': 0.0, 'model': 0.0, 'analisis': 0.0, 'sentimen': 0.0, 'berita': 0.0, 'input': 0.0, 'output': 0.0, 'akademik': 2.7047480922384253, 'universitas': 2.2992829841302607, 'cari': 0.0, 'ekonomi': 0.0, 'neraca': 0.0, 'nasional': 0.0, 'layan': 0.0, 'statistik': 0.0, 'skripsi': 0.0, 'di': 0.0, 'publik': 0.0, 'hadap': 0.0, 'perintah': 0.0, 'klasifikasi': 0.0}, 'doc5': {'kembang': 1.3184537311185345, 'sistem': 1.3184537311185345, 'informasi': 0.0, 'jadwal': 0.0, 'model': 0.0, 'analisis': 0.0, 'sentimen': 0.0, 'berita': 2.01160091167848, 'input': 0.0, 'output': 0.0, 'akademik': 0.0, 'universitas': 0.0, 'cari': 2.2992829841302607, 'ekonomi': 2.7047480922384253, 'neraca': 0.0, 'nasional': 0.0, 'layan': 0.0, 'statistik': 0.0, 'skripsi': 0.0, 'di': 0.0, 'publik': 0.0, 'hadap': 0.0, 'perintah': 0.0, 'klasifikasi': 0.0}, 'doc6': {'kembang': 0.0, 'sistem': 1.3184537311185345, 'informasi': 0.0, 'jadwal': 0.0, 'model': 0.0, 'analisis': 1.7884573603642702, 'sentimen': 0.0, 'berita': 0.0, 'input': 0.0, 'output': 0.0, 'akademik': 0.0, 'universitas': 0.0, 'cari': 0.0, 'ekonomi': 0.0, 'neraca': 2.7047480922384253, 'nasional': 2.7047480922384253, 'layan': 0.0, 'statistik': 0.0, 'skripsi': 0.0, 'di': 0.0, 'publik': 0.0, 'hadap': 0.0, 'perintah': 0.0, 'klasifikasi': 0.0}, 'doc7': {'kembang': 1.3184537311185345, 'sistem': 1.3184537311185345, 'informasi': 2.01160091167848, 'jadwal': 0.0, 'model': 0.0, 'analisis': 0.0, 'sentimen': 0.0, 'berita': 0.0, 'input': 0.0, 'output': 0.0, 'akademik': 0.0, 'universitas': 0.0, 'cari': 0.0, 'ekonomi': 0.0, 'neraca': 0.0, 'nasional': 0.0, 'layan': 2.7047480922384253, 'statistik': 2.7047480922384253, 'skripsi': 0.0, 'di': 0.0, 'publik': 0.0, 'hadap': 0.0, 'perintah': 0.0, 'klasifikasi': 0.0}, 'doc8': {'kembang': 1.3184537311185345, 'sistem': 1.3184537311185345, 'informasi': 0.0, 'jadwal': 0.0, 'model': 0.0, 'analisis': 0.0, 'sentimen': 0.0, 'berita': 0.0, 'input': 0.0, 'output': 0.0, 'akademik': 0.0, 'universitas': 2.2992829841302607, 'cari': 2.2992829841302607, 'ekonomi': 0.0, 'neraca': 0.0, 'nasional': 0.0, 'layan': 0.0, 'statistik': 0.0, 'skripsi': 2.7047480922384253, 'di': 2.7047480922384253, 'publik': 0.0, 'hadap': 0.0, 'perintah': 0.0, 'klasifikasi': 0.0}, 'doc9': {'kembang': 0.0, 'sistem': 0.0, 'informasi': 0.0, 'jadwal': 0.0, 'model': 0.0, 'analisis': 1.7884573603642702, 'sentimen': 2.01160091167848, 'berita': 0.0, 'input': 0.0, 'output': 0.0, 'akademik': 0.0, 'universitas': 0.0, 'cari': 0.0, 'ekonomi': 0.0, 'neraca': 0.0, 'nasional': 0.0, 'layan': 0.0, 'statistik': 0.0, 'skripsi': 0.0, 'di': 0.0, 'publik': 2.7047480922384253, 'hadap': 2.7047480922384253, 'perintah': 2.7047480922384253, 'klasifikasi': 0.0}, 'doc10': {'kembang': 1.3184537311185345, 'sistem': 0.0, 'informasi': 0.0, 'jadwal': 0.0, 'model': 2.2992829841302607, 'analisis': 0.0, 'sentimen': 2.01160091167848, 'berita': 2.01160091167848, 'input': 0.0, 'output': 0.0, 'akademik': 0.0, 'universitas': 0.0, 'cari': 0.0, 'ekonomi': 0.0, 'neraca': 0.0, 'nasional': 0.0, 'layan': 0.0, 'statistik': 0.0, 'skripsi': 0.0, 'di': 0.0, 'publik': 0.0, 'hadap': 0.0, 'perintah': 0.0, 'klasifikasi': 2.7047480922384253}}\n"
     ]
    }
   ],
   "source": [
    "def tfidf(vocab, tf, idf_scr, doc_dict):\n",
    "    tf_idf_scr = {}\n",
    "    for doc_id in doc_dict.keys():\n",
    "        tf_idf_scr[doc_id] = {}\n",
    "    for word in vocab:\n",
    "        for doc_id, doc in doc_dict.items():\n",
    "            tf_idf_scr[doc_id][word] = tf[doc_id][word] * idf_scr[word]\n",
    "    return (tf_idf_scr)\n",
    "\n",
    "tf_idf = tfidf(vocab, termFrequencyInDoc(vocab, doc_dict), inverseDocFre(vocab, wordDocFre(vocab, doc_dict), len(doc_dict)), doc_dict)\n",
    "print(tf_idf)"
   ]
  },
  {
   "cell_type": "code",
   "execution_count": 18,
   "id": "57cc5286",
   "metadata": {},
   "outputs": [
    {
     "name": "stdout",
     "output_type": "stream",
     "text": [
      "[[1.31845373 1.31845373 0.         1.31845373 1.31845373 0.\n",
      "  1.31845373 1.31845373 0.         1.31845373]\n",
      " [1.31845373 0.         1.31845373 1.31845373 1.31845373 1.31845373\n",
      "  1.31845373 1.31845373 0.         0.        ]\n",
      " [2.01160091 0.         0.         2.01160091 0.         0.\n",
      "  2.01160091 0.         0.         0.        ]\n",
      " [2.70474809 0.         0.         0.         0.         0.\n",
      "  0.         0.         0.         0.        ]\n",
      " [0.         2.29928298 0.         0.         0.         0.\n",
      "  0.         0.         0.         2.29928298]\n",
      " [0.         1.78845736 1.78845736 0.         0.         1.78845736\n",
      "  0.         0.         1.78845736 0.        ]\n",
      " [0.         2.01160091 0.         0.         0.         0.\n",
      "  0.         0.         2.01160091 2.01160091]\n",
      " [0.         2.01160091 0.         0.         2.01160091 0.\n",
      "  0.         0.         0.         2.01160091]\n",
      " [0.         0.         2.70474809 0.         0.         0.\n",
      "  0.         0.         0.         0.        ]\n",
      " [0.         0.         2.70474809 0.         0.         0.\n",
      "  0.         0.         0.         0.        ]\n",
      " [0.         0.         0.         2.70474809 0.         0.\n",
      "  0.         0.         0.         0.        ]\n",
      " [0.         0.         0.         2.29928298 0.         0.\n",
      "  0.         2.29928298 0.         0.        ]\n",
      " [0.         0.         0.         0.         2.29928298 0.\n",
      "  0.         2.29928298 0.         0.        ]\n",
      " [0.         0.         0.         0.         2.70474809 0.\n",
      "  0.         0.         0.         0.        ]\n",
      " [0.         0.         0.         0.         0.         2.70474809\n",
      "  0.         0.         0.         0.        ]\n",
      " [0.         0.         0.         0.         0.         2.70474809\n",
      "  0.         0.         0.         0.        ]\n",
      " [0.         0.         0.         0.         0.         0.\n",
      "  2.70474809 0.         0.         0.        ]\n",
      " [0.         0.         0.         0.         0.         0.\n",
      "  2.70474809 0.         0.         0.        ]\n",
      " [0.         0.         0.         0.         0.         0.\n",
      "  0.         2.70474809 0.         0.        ]\n",
      " [0.         0.         0.         0.         0.         0.\n",
      "  0.         2.70474809 0.         0.        ]\n",
      " [0.         0.         0.         0.         0.         0.\n",
      "  0.         0.         2.70474809 0.        ]\n",
      " [0.         0.         0.         0.         0.         0.\n",
      "  0.         0.         2.70474809 0.        ]\n",
      " [0.         0.         0.         0.         0.         0.\n",
      "  0.         0.         2.70474809 0.        ]\n",
      " [0.         0.         0.         0.         0.         0.\n",
      "  0.         0.         0.         2.70474809]]\n"
     ]
    }
   ],
   "source": [
    "# Term - Document Matrix\n",
    "TD = np.zeros((len(vocab), len(doc_dict)))\n",
    "for word in vocab:\n",
    "    for doc_id, doc in tf_idf.items():\n",
    "        ind1 = vocab.index(word)\n",
    "        ind2 = list(tf_idf.keys()).index(doc_id)\n",
    "        TD[ind1][ind2] = tf_idf[doc_id][word]\n",
    "print(TD)"
   ]
  },
  {
   "cell_type": "code",
   "execution_count": 20,
   "id": "7813453b",
   "metadata": {},
   "outputs": [
    {
     "name": "stdout",
     "output_type": "stream",
     "text": [
      "0.414904809442661\n",
      "0.0\n",
      "0.10856998991379904\n"
     ]
    }
   ],
   "source": [
    "# Menghitung Kemiripan antara Query dengan 3 dokumen \n",
    "print(cosine_sim(TQ[:,0], TD[:, 0])) # query and doc 1\n",
    "print(cosine_sim(TQ[:,0], TD[:, 1])) # query and doc 2\n",
    "print(cosine_sim(TQ[:,0], TD[:, 2])) # query and doc 3\n"
   ]
  },
  {
   "cell_type": "code",
   "execution_count": 22,
   "id": "e19cad57",
   "metadata": {},
   "outputs": [
    {
     "name": "stdout",
     "output_type": "stream",
     "text": [
      "{'doc7': 0.7689768599816609, 'doc1': 0.414904809442661}\n"
     ]
    }
   ],
   "source": [
    "# Menyimpan skor kemiripan dalam suatu list \n",
    "from collections import OrderedDict\n",
    "def exact_top_k(doc_dict, TD, q,k):\n",
    "    relevance_scores = {}\n",
    "    i = 0 \n",
    "    for doc_id in doc_dict.keys():\n",
    "        relevance_scores[doc_id] = cosine_sim(q, TD[:,i])\n",
    "        i  = i + 1\n",
    "    \n",
    "    sorted_value = OrderedDict(sorted(relevance_scores.items(),key = lambda x:x[1], reverse = True))\n",
    "    top_k = {j : sorted_value[j] for j in list(sorted_value)[:k]}\n",
    "    return top_k\n",
    "top_2 = exact_top_k(doc_dict, TD, TQ[:, 0], 2)\n",
    "print(top_2)"
   ]
  },
  {
   "cell_type": "code",
   "execution_count": 24,
   "id": "94359b03",
   "metadata": {},
   "outputs": [
    {
     "name": "stdout",
     "output_type": "stream",
     "text": [
      "{'doc7': 0.7689768599816609, 'doc1': 0.414904809442661, 'doc4': 0.35626622628022314}\n"
     ]
    }
   ],
   "source": [
    "top_3 = exact_top_k(doc_dict, TD, TQ[:, 0], 3)\n",
    "print(top_3)"
   ]
  },
  {
   "cell_type": "markdown",
   "id": "f6e712b4",
   "metadata": {},
   "source": [
    "## Inexact Top K Document Retrieval\n",
    "\n",
    "\n",
    "### Index Elimination (skip ke pertemuan 7)"
   ]
  },
  {
   "cell_type": "code",
   "execution_count": 133,
   "id": "fec346b2",
   "metadata": {},
   "outputs": [
    {
     "name": "stdout",
     "output_type": "stream",
     "text": [
      "[[1.31845373 1.31845373 2.01160091 2.70474809 0.         0.\n",
      "  0.         0.         0.         0.         0.         0.\n",
      "  0.         0.         0.         0.         0.         0.\n",
      "  0.         0.         0.         0.         0.         0.        ]\n",
      " [1.31845373 0.         0.         0.         2.29928298 1.78845736\n",
      "  2.01160091 2.01160091 0.         0.         0.         0.\n",
      "  0.         0.         0.         0.         0.         0.\n",
      "  0.         0.         0.         0.         0.         0.        ]\n",
      " [0.         1.31845373 0.         0.         0.         1.78845736\n",
      "  0.         0.         2.70474809 2.70474809 0.         0.\n",
      "  0.         0.         0.         0.         0.         0.\n",
      "  0.         0.         0.         0.         0.         0.        ]\n",
      " [1.31845373 1.31845373 2.01160091 0.         0.         0.\n",
      "  0.         0.         0.         0.         2.70474809 2.29928298\n",
      "  0.         0.         0.         0.         0.         0.\n",
      "  0.         0.         0.         0.         0.         0.        ]\n",
      " [1.31845373 1.31845373 0.         0.         0.         0.\n",
      "  0.         2.01160091 0.         0.         0.         0.\n",
      "  2.29928298 2.70474809 0.         0.         0.         0.\n",
      "  0.         0.         0.         0.         0.         0.        ]\n",
      " [0.         1.31845373 0.         0.         0.         1.78845736\n",
      "  0.         0.         0.         0.         0.         0.\n",
      "  0.         0.         2.70474809 2.70474809 0.         0.\n",
      "  0.         0.         0.         0.         0.         0.        ]\n",
      " [1.31845373 1.31845373 2.01160091 0.         0.         0.\n",
      "  0.         0.         0.         0.         0.         0.\n",
      "  0.         0.         0.         0.         2.70474809 2.70474809\n",
      "  0.         0.         0.         0.         0.         0.        ]\n",
      " [1.31845373 1.31845373 0.         0.         0.         0.\n",
      "  0.         0.         0.         0.         0.         2.29928298\n",
      "  2.29928298 0.         0.         0.         0.         0.\n",
      "  2.70474809 2.70474809 0.         0.         0.         0.        ]\n",
      " [0.         0.         0.         0.         0.         1.78845736\n",
      "  2.01160091 0.         0.         0.         0.         0.\n",
      "  0.         0.         0.         0.         0.         0.\n",
      "  0.         0.         2.70474809 2.70474809 2.70474809 0.        ]\n",
      " [1.31845373 0.         0.         0.         2.29928298 0.\n",
      "  2.01160091 2.01160091 0.         0.         0.         0.\n",
      "  0.         0.         0.         0.         0.         0.\n",
      "  0.         0.         0.         0.         0.         2.70474809]]\n"
     ]
    }
   ],
   "source": [
    "# untuk mendapatkan gambaran mengenai kedekatan antar dokumen dan query, mari kita visualisasikan terlebih dahulu dalam suatu scatter plot.\n",
    "# !pip install sklearn\n",
    "from sklearn.decomposition import TruncatedSVD\n",
    "\n",
    "DT = TD.transpose()\n",
    "print(DT)\n",
    "\n",
    "model = TruncatedSVD(n_components = 2, random_state = 7).fit(DT)\n",
    "DT_reduced = model.transform(DT)\n",
    "QT_reduced = model.transform(TQ.transpose())\n",
    "\n",
    "\n"
   ]
  },
  {
   "cell_type": "code",
   "execution_count": 134,
   "id": "e80f19c9",
   "metadata": {},
   "outputs": [
    {
     "name": "stdout",
     "output_type": "stream",
     "text": [
      "[[ 1.31383803 -1.13993425]]\n"
     ]
    }
   ],
   "source": [
    "print(QT_reduced)"
   ]
  },
  {
   "cell_type": "code",
   "execution_count": 135,
   "id": "39fee188",
   "metadata": {},
   "outputs": [
    {
     "name": "stdout",
     "output_type": "stream",
     "text": [
      "[[ 1.85460696 -1.20521699]\n",
      " [ 2.74509546  2.42223983]\n",
      " [ 1.28045858  0.40858892]\n",
      " [ 2.51437715 -1.97533782]\n",
      " [ 2.66975879 -0.52969289]\n",
      " [ 1.28045858  0.40858892]\n",
      " [ 2.21435547 -1.58772069]\n",
      " [ 3.10527994 -2.44816317]\n",
      " [ 1.68369517  3.47074251]\n",
      " [ 2.69457477  2.29898834]]\n"
     ]
    }
   ],
   "source": [
    "print(DT_reduced)"
   ]
  },
  {
   "cell_type": "code",
   "execution_count": 136,
   "id": "8995695a",
   "metadata": {},
   "outputs": [
    {
     "name": "stdout",
     "output_type": "stream",
     "text": [
      "Requirement already satisfied: matplotlib in c:\\users\\yanto\\anaconda3\\envs\\ir_env\\lib\\site-packages (3.6.0)\n",
      "Requirement already satisfied: fonttools>=4.22.0 in c:\\users\\yanto\\anaconda3\\envs\\ir_env\\lib\\site-packages (from matplotlib) (4.37.3)\n",
      "Requirement already satisfied: packaging>=20.0 in c:\\users\\yanto\\anaconda3\\envs\\ir_env\\lib\\site-packages (from matplotlib) (21.3)\n",
      "Requirement already satisfied: numpy>=1.19 in c:\\users\\yanto\\anaconda3\\envs\\ir_env\\lib\\site-packages (from matplotlib) (1.23.2)\n",
      "Requirement already satisfied: cycler>=0.10 in c:\\users\\yanto\\anaconda3\\envs\\ir_env\\lib\\site-packages (from matplotlib) (0.11.0)\n",
      "Requirement already satisfied: pyparsing>=2.2.1 in c:\\users\\yanto\\anaconda3\\envs\\ir_env\\lib\\site-packages (from matplotlib) (3.0.9)\n",
      "Requirement already satisfied: kiwisolver>=1.0.1 in c:\\users\\yanto\\anaconda3\\envs\\ir_env\\lib\\site-packages (from matplotlib) (1.4.4)\n",
      "Requirement already satisfied: pillow>=6.2.0 in c:\\users\\yanto\\anaconda3\\envs\\ir_env\\lib\\site-packages (from matplotlib) (9.2.0)\n",
      "Requirement already satisfied: contourpy>=1.0.1 in c:\\users\\yanto\\anaconda3\\envs\\ir_env\\lib\\site-packages (from matplotlib) (1.0.5)\n",
      "Requirement already satisfied: python-dateutil>=2.7 in c:\\users\\yanto\\anaconda3\\envs\\ir_env\\lib\\site-packages (from matplotlib) (2.8.2)\n",
      "Requirement already satisfied: six>=1.5 in c:\\users\\yanto\\anaconda3\\envs\\ir_env\\lib\\site-packages (from python-dateutil>=2.7->matplotlib) (1.16.0)\n"
     ]
    }
   ],
   "source": [
    "# !pip install matplotlib"
   ]
  },
  {
   "cell_type": "code",
   "execution_count": 137,
   "id": "f7d42693",
   "metadata": {},
   "outputs": [
    {
     "data": {
      "image/png": "[encoded data removed]",
      "text/plain": [
       "<Figure size 720x576 with 1 Axes>"
      ]
     },
     "metadata": {
      "needs_background": "light"
     },
     "output_type": "display_data"
    }
   ],
   "source": [
    "\n",
    "import matplotlib.pyplot as plt \n",
    "\n",
    "plt.figure(figsize = (10,8))\n",
    "plt.scatter(QT_reduced[:, 0], QT_reduced[:, 1], color = [\"red\"])\n",
    "doc_ids = list(doc_dict.keys())\n",
    "\n",
    "for i, txt in enumerate(doc_ids):\n",
    "    plt.annotate(txt, (DT_reduced[i, 0], DT_reduced[i,1]))\n",
    "    if txt in rel_vecs_id:\n",
    "        plt.scatter(DT_reduced[i,0], DT_reduced[i,1], marker = \"o\", color = ['purple'])\n",
    "    elif txt in nrel_vecs_id:\n",
    "        plt.scatter(DT_reduced[i,0], DT_reduced[i,1], marker = 'x', color = [\"blue\"])\n",
    "\n",
    "plt.annotate(\"query\", (QT_reduced[0,0], QT_reduced[0,1]))\n",
    "plt.show()"
   ]
  },
  {
   "cell_type": "code",
   "execution_count": 93,
   "id": "74e07ca5",
   "metadata": {},
   "outputs": [
    {
     "name": "stdout",
     "output_type": "stream",
     "text": [
      "{'doc2': 0.6030907532498243, 'doc10': 0.5449479045585194, 'doc5': 0.41125512441743656, 'doc9': 0.23885994806891003, 'doc1': 0.14392034355645508}\n"
     ]
    }
   ],
   "source": [
    "top_5 = exact_top_k(doc_dict, TD, TQ[:, 0], 5)\n",
    "print(top_5)"
   ]
  },
  {
   "cell_type": "code",
   "execution_count": 102,
   "id": "f061b7cd",
   "metadata": {},
   "outputs": [],
   "source": [
    "rel_vecs_id = [\"doc1\", \"doc4\", \"doc5\", \"doc7\", \"doc8\"]\n",
    "nrel_vecs_id = [\"doc2\", \"doc3\", \"doc6\", \"doc9\", \"doc10\"]\n",
    "\n",
    "rel_vecs = []\n",
    "for doc in rel_vecs_id:\n",
    "    rel_vecs.append(DT[doc_ids.index(doc), :])\n",
    "\n",
    "nrel_vecs = []\n",
    "for doc in nrel_vecs_id:\n",
    "    nrel_vecs.append(DT[doc_ids.index(doc), :])"
   ]
  },
  {
   "cell_type": "code",
   "execution_count": 138,
   "id": "081a907e",
   "metadata": {},
   "outputs": [
    {
     "name": "stdout",
     "output_type": "stream",
     "text": [
      "[[0.90973307 2.22818681 2.91682132 0.40571221 0.         0.\n",
      "  0.         0.18104408 0.         0.         0.40571221 0.6897849\n",
      "  0.6897849  0.40571221 0.         0.         0.40571221 3.11046031\n",
      "  0.40571221 0.40571221 0.         0.         0.         0.        ]]\n"
     ]
    }
   ],
   "source": [
    "query_vecs = TQ.transpose()\n",
    "alpha = 1\n",
    "beta = 0.75\n",
    "gamma = 0.15\n",
    "\n",
    "# Update query vectors with Rocchio Algorithm \n",
    "query_vecs = alpha * query_vecs + beta * np.mean(rel_vecs, axis = 0) - gamma * np.mean(nrel_vecs, axis = 0)\n",
    "query_vecs[query_vecs<0] =  0 # negative value => 0\n",
    "print(query_vecs)"
   ]
  },
  {
   "cell_type": "code",
   "execution_count": 139,
   "id": "857c922d",
   "metadata": {},
   "outputs": [
    {
     "name": "stdout",
     "output_type": "stream",
     "text": [
      "{'doc7': 0.8139410370213072, 'doc1': 0.5657921418320059, 'doc4': 0.5552329765446049, 'doc8': 0.34838332440740366, 'doc5': 0.3144070835710513}\n"
     ]
    }
   ],
   "source": [
    "top_5 = exact_top_k(doc_dict, TD, query_vecs[0, :].transpose(), 5)\n",
    "print(top_5)"
   ]
  },
  {
   "cell_type": "code",
   "execution_count": 140,
   "id": "b4cae415",
   "metadata": {},
   "outputs": [
    {
     "name": "stderr",
     "output_type": "stream",
     "text": [
      "No artists with labels found to put in legend.  Note that artists whose label start with an underscore are ignored when legend() is called with no argument.\n"
     ]
    },
    {
     "data": {
      "text/plain": [
       "Text([3.06479161], [-2.30130977], 'new query')"
      ]
     },
     "execution_count": 140,
     "metadata": {},
     "output_type": "execute_result"
    },
    {
     "data": {
      "image/png": "[encoded data removed]",
      "text/plain": [
       "<Figure size 720x576 with 1 Axes>"
      ]
     },
     "metadata": {
      "needs_background": "light"
     },
     "output_type": "display_data"
    }
   ],
   "source": [
    "QT1_reduced = model.transform(query_vecs)\n",
    "\n",
    "plt.figure(figsize = (10,8))\n",
    "plt.scatter(QT_reduced[:, 0], QT_reduced[:, 1], color = [\"red\"])\n",
    "plt.scatter(QT1_reduced[:,  0], QT1_reduced[:, 1], color = [\"green\"])\n",
    "doc_ids = list(doc_dict.keys())\n",
    "\n",
    "for i, txt in enumerate(doc_ids):\n",
    "    plt.annotate(txt, (DT_reduced[i, 0], DT_reduced[i,1]))\n",
    "    if txt in rel_vecs_id:\n",
    "        plt.scatter(DT_reduced[i,0], DT_reduced[i,1], marker = \"o\", color = [\"purple\"])\n",
    "    elif txt in nrel_vecs_id:\n",
    "        plt.scatter(DT_reduced[i,0], DT_reduced[i,1], marker = \"x\", color = [\"blue\"])\n",
    "plt.legend()\n",
    "plt.annotate(\"query\", (QT_reduced[0,0], QT_reduced[0,1]))\n",
    "plt.annotate(\"new query\", (QT1_reduced[:,0], QT1_reduced[:,1]))"
   ]
  },
  {
   "cell_type": "markdown",
   "id": "b17f893b",
   "metadata": {},
   "source": [
    "# Query Expansion dengan Thesaurus"
   ]
  },
  {
   "cell_type": "code",
   "execution_count": 142,
   "id": "e0edfbb9",
   "metadata": {},
   "outputs": [
    {
     "name": "stdout",
     "output_type": "stream",
     "text": [
      "Collecting nltk\n",
      "  Downloading nltk-3.7-py3-none-any.whl (1.5 MB)\n",
      "     ---------------------------------------- 1.5/1.5 MB 298.4 kB/s eta 0:00:00\n",
      "Collecting regex>=2021.8.3\n",
      "  Downloading regex-2022.9.13-cp38-cp38-win_amd64.whl (267 kB)\n",
      "     ------------------------------------ 267.7/267.7 kB 587.8 kB/s eta 0:00:00\n",
      "Requirement already satisfied: tqdm in c:\\users\\yanto\\anaconda3\\envs\\ir_env\\lib\\site-packages (from nltk) (4.64.0)\n",
      "Requirement already satisfied: click in c:\\users\\yanto\\anaconda3\\envs\\ir_env\\lib\\site-packages (from nltk) (8.1.3)\n",
      "Requirement already satisfied: joblib in c:\\users\\yanto\\anaconda3\\envs\\ir_env\\lib\\site-packages (from nltk) (1.2.0)\n",
      "Requirement already satisfied: colorama in c:\\users\\yanto\\anaconda3\\envs\\ir_env\\lib\\site-packages (from click->nltk) (0.4.5)\n",
      "Installing collected packages: regex, nltk\n",
      "Successfully installed nltk-3.7 regex-2022.9.13\n"
     ]
    }
   ],
   "source": [
    "# !pip install nltk"
   ]
  },
  {
   "cell_type": "code",
   "execution_count": 144,
   "id": "5d6e0d9e",
   "metadata": {},
   "outputs": [
    {
     "name": "stderr",
     "output_type": "stream",
     "text": [
      "[nltk_data] Downloading package wordnet to\n",
      "[nltk_data]     C:\\Users\\yanto\\AppData\\Roaming\\nltk_data...\n",
      "[nltk_data]   Package wordnet is already up-to-date!\n",
      "[nltk_data] Downloading package omw-1.4 to\n",
      "[nltk_data]     C:\\Users\\yanto\\AppData\\Roaming\\nltk_data...\n"
     ]
    },
    {
     "data": {
      "text/plain": [
       "True"
      ]
     },
     "execution_count": 144,
     "metadata": {},
     "output_type": "execute_result"
    }
   ],
   "source": [
    "import nltk \n",
    "nltk.download('wordnet')\n",
    "nltk.download('omw-1.4')"
   ]
  },
  {
   "cell_type": "code",
   "execution_count": 148,
   "id": "65a344ae",
   "metadata": {},
   "outputs": [
    {
     "name": "stdout",
     "output_type": "stream",
     "text": [
      "{'info', 'selective_information', 'data', 'entropy', 'information'}\n",
      "{'arrangement', 'organisation', 'system_of_rules', 'system', 'organization', 'scheme'}\n",
      "['info', 'selective_information', 'data', 'entropy', 'information', 'arrangement', 'organisation', 'system_of_rules', 'system', 'organization', 'scheme']\n",
      "information system info selective information data entropy information arrangement organisation system of rules system organization scheme\n"
     ]
    }
   ],
   "source": [
    "from itertools import chain\n",
    "from nltk.corpus import wordnet\n",
    "query = \"information system\"\n",
    "\n",
    "expand_list = []\n",
    "for term in query.split(\" \"):\n",
    "    synonyms = wordnet.synsets(term)\n",
    "    lemmas = set(chain.from_iterable([word.lemma_names() for word in synonyms]))\n",
    "    print(lemmas)\n",
    "    expand_list = expand_list + list(lemmas)\n",
    "print(expand_list)\n",
    "\n",
    "query_expand = query + \" \" + (\" \". join(expand_list)).replace(\"_\", \" \")\n",
    "print(query_expand)"
   ]
  }
 ],
 "metadata": {
  "kernelspec": {
   "display_name": "Python 3 (ipykernel)",
   "language": "python",
   "name": "python3"
  },
  "language_info": {
   "codemirror_mode": {
    "name": "ipython",
    "version": 3
   },
   "file_extension": ".py",
   "mimetype": "text/x-python",
   "name": "python",
   "nbconvert_exporter": "python",
   "pygments_lexer": "ipython3",
   "version": "3.8.13"
  }
 },
 "nbformat": 4,
 "nbformat_minor": 5
}
