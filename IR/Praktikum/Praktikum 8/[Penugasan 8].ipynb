{
 "cells": [
  {
   "cell_type": "markdown",
   "id": "18e79713",
   "metadata": {},
   "source": [
    "## Perbandingan VSM dengan BM25 dalam folder Berita"
   ]
  },
  {
   "cell_type": "code",
   "execution_count": 96,
   "id": "f0b13779",
   "metadata": {},
   "outputs": [],
   "source": [
    "import os, re\n",
    "\n",
    "\n",
    "### Fungsi untuk membaca file\n",
    "def read_text_file(file_path):\n",
    "    with open(file_path, 'r') as f:\n",
    "        return(f.read())\n",
    "\n",
    "### Fungsi untuk mengecek isi dari folder tersebut\n",
    "def read_file(folder_path):\n",
    "    file_path = []\n",
    "    for file in os.listdir(folder_path):\n",
    "        if os.path.isfile(os.path.join(folder_path, file)):\n",
    "            if file.endswith(\".txt\"):\n",
    "                file_path.append(file)\n",
    "    print(file_path)\n",
    "\n",
    "### Fungsi untuk menampilkan isi dari setiap file\n",
    "def read_content_file(path):\n",
    "    berita = []\n",
    "    for file in os.listdir(path):\n",
    "        if file.endswith(\".txt\"):\n",
    "            file_path = f\"{path}\\{file}\"\n",
    " \n",
    "#             print(read_text_file(file_path))\n",
    "            berita.append(read_text_file(file_path))\n",
    "    return(berita)\n"
   ]
  },
  {
   "cell_type": "markdown",
   "id": "3b94049c",
   "metadata": {},
   "source": [
    "### Checking Document"
   ]
  },
  {
   "cell_type": "code",
   "execution_count": 97,
   "id": "ce1a3901",
   "metadata": {},
   "outputs": [
    {
     "name": "stdout",
     "output_type": "stream",
     "text": [
      "['berita1.txt', 'berita2.txt', 'berita3.txt', 'berita4.txt', 'berita5.txt']\n",
      "[\"Wilayah Kamu Sudah 'Bebas' COVID-19? Cek 34 Kab/Kota Zona Hijau Terbaru\\n\\nJakarta - Pemerintah rencananya bakal menerapkan Pemberlakuan Pembatasan Kegiatan Masyarakat (PPKM) level 3 terhitung 24 Desember 2021 hingga 2 Januari 2021. Namun, Kementerian Kesehatan RI memastikan kebijakan PPKM level 3 ini masih dalam tahap kajian.\\nMenurut Direktur Pencegahan dan Pengendalian Penyakit Menular Langsung (P2PML) Kemenkes RI dr Siti Nadia Tarmizi, PPKM level 3 bakal diterapkan jika kasus COVID-19 naik signifikan. Hal ini umumnya dipicu dengan peningkatan mobilitas dan pelonggaran protokol kesehatan.\\n\\nhttps://health.detik.com/berita-detikhealth/d-5816690/wilayah-kamu-sudah-bebas-covid-19-cek-34-kabkota-zona-hijau-terbaru\", 'Vaksin COVID-19 Bakal Rutin Setiap Tahun? Tergantung, Ini Penjelasannya\\n\\nJakarta - Pemberian booster atau dosis ketiga vaksin COVID-19 di Indonesia direncanakan bakal berlangsung Januari 2022. Lantas adakah kemungkinan vaksinasi COVID-19 bakal harus dilakukan setiap tahun seperti vaksinasi influenza?\\nKetua Satgas COVID-19 Ikatan Dokter Indonesia (IDI) Prof Zubairi Djoerban menjelaskan hingga kini belum ada kepastian terkait hal tersebut. Menurutnya masih ada kemungkinan vaksin COVID-19 harus diberikan setiap tahun, ada juga kemungkinan cukup booster diberikan sekali kemudian vaksinasi COVID-19 tidak diperlukan lagi.\\n\\nhttps://health.detik.com/berita-detikhealth/d-5816582/vaksin-covid-19-bakal-rutin-setiap-tahun-tergantung-ini-penjelasannya', 'RI Mulai Suntikkan Booster di 2022, Masihkah Ampuh Lawan Varian Delta Cs?\\n\\nJakarta - Pakar mengakui vaksin-vaksin yang sudah digunakan untuk dosis 1-2 memang mengalami penurunan efektivitas terhadap varian baru Corona seperti varian Delta. Mengingat booster atau dosis ketiga vaksin COVID-19 di Indonesia disebut bakal dimulai awal 2022, apakah jenis vaksin yang digunakan bakal mengikuti strain virus terbaru?\\nMenjawab pertanyaan tersebut, Ketua Satgas COVID-19 Ikatan Dokter Indonesia (IDI) Prof Zubairi Djoerban kembali menyinggung riset yang sudah berlangsung terkait efektivitas vaksin COVID-19 dosis 1 dan 2. Ia menyebut berdasarkan riset sejauh ini, efektivitas vaksin COVID-19 Pfizer dan Moderna terbukti menurun dalam melawan varian Delta.\\n\\nhttps://health.detik.com/berita-detikhealth/d-5816534/ri-mulai-suntikkan-booster-di-2022-masihkah-ampuh-lawan-varian-delta-cs', 'Alert! Kasus Varian Delta COVID-19 di DKI Meningkat\\n\\nJakarta - Data terbaru dari Balitbangkes Kemenkes RI per 13 November, menunjukkan adanya penambahan varian Delta. Penambahan tersebut terjadi di Jawa Barat ada 165 kasus, DKI Jakarta 90 kasus, dan Sulawesi Utara 86 kasus.\\nDalam satu bulan terakhir, Balitbangkes menyebutkan DKI Jakarta mengalami peningkatan kasus varian Delta yang signifikan. Sementara, pada varian baru seperti varian Alpha, varian Delta, hingga Beta terbanyak di Indonesia berasal dari DKI Jakarta, dengan total 1.327 kasus .\\n\\nhttps://health.detik.com/berita-detikhealth/d-5812940/alert-kasus-varian-delta-covid-19-di-dki-meningkat', 'Corona di AS Mendadak Naik Lagi Usai Serangan Delta Sempat Mereda\\n\\nJakarta - Kasus COVID-19 kembali naik di sejumlah wilayah Amerika Serikat (AS). Padahal diketahui, COVID-19 sempat tercatat stabil pasca serangan varian Delta musim panas ini. Ada apa?\\nHal tersebut disampaikan oleh kepala penasihat medis Gedung Putih Dr. Anthony Fauci, Senin (15/11/2021). Diketahui, kasus nasional turun 57 persen minggu lalu dari puncak gelombang varian Delta pada musim panas. Namun jumlah pasien COVID-19 di area Barat Tengah dan Timur laut kini naik mendadak.\\n\\nhttps://health.detik.com/berita-detikhealth/d-5813949/corona-di-as-mendadak-naik-lagi-usai-serangan-delta-sempat-mereda']\n"
     ]
    }
   ],
   "source": [
    "## Path yang digunakan\n",
    "path = \"C:/Users/yanto/Documents/STIS/Semester 5/Mata Kuliah/Information Retrieval/Praktikum/Praktikum 3/berita\"\n",
    "\n",
    "## Menampilkan file yang ada pada folder 'berita'\n",
    "read_file(path)\n",
    "\n",
    "## Menampilkan isi pada setiap file yang ada pada folder berita dan menyimpan ke dalam variabel berita\n",
    "beritaa = read_content_file(path)\n",
    "print(beritaa)\n",
    "\n",
    "# ini semua bisa diganti ke dictionary\n",
    "berita = {}\n",
    "berita['berita1'] = beritaa[0]\n",
    "berita['berita2'] = beritaa[1]\n",
    "berita['berita3'] = beritaa[2]\n",
    "berita['berita4'] = beritaa[3]\n",
    "berita['berita5'] = beritaa[4]"
   ]
  },
  {
   "cell_type": "code",
   "execution_count": 98,
   "id": "259f27e7",
   "metadata": {},
   "outputs": [
    {
     "name": "stdout",
     "output_type": "stream",
     "text": [
      "{'berita1': \"Wilayah Kamu Sudah 'Bebas' COVID-19? Cek 34 Kab/Kota Zona Hijau Terbaru\\n\\nJakarta - Pemerintah rencananya bakal menerapkan Pemberlakuan Pembatasan Kegiatan Masyarakat (PPKM) level 3 terhitung 24 Desember 2021 hingga 2 Januari 2021. Namun, Kementerian Kesehatan RI memastikan kebijakan PPKM level 3 ini masih dalam tahap kajian.\\nMenurut Direktur Pencegahan dan Pengendalian Penyakit Menular Langsung (P2PML) Kemenkes RI dr Siti Nadia Tarmizi, PPKM level 3 bakal diterapkan jika kasus COVID-19 naik signifikan. Hal ini umumnya dipicu dengan peningkatan mobilitas dan pelonggaran protokol kesehatan.\\n\\nhttps://health.detik.com/berita-detikhealth/d-5816690/wilayah-kamu-sudah-bebas-covid-19-cek-34-kabkota-zona-hijau-terbaru\", 'berita2': 'Vaksin COVID-19 Bakal Rutin Setiap Tahun? Tergantung, Ini Penjelasannya\\n\\nJakarta - Pemberian booster atau dosis ketiga vaksin COVID-19 di Indonesia direncanakan bakal berlangsung Januari 2022. Lantas adakah kemungkinan vaksinasi COVID-19 bakal harus dilakukan setiap tahun seperti vaksinasi influenza?\\nKetua Satgas COVID-19 Ikatan Dokter Indonesia (IDI) Prof Zubairi Djoerban menjelaskan hingga kini belum ada kepastian terkait hal tersebut. Menurutnya masih ada kemungkinan vaksin COVID-19 harus diberikan setiap tahun, ada juga kemungkinan cukup booster diberikan sekali kemudian vaksinasi COVID-19 tidak diperlukan lagi.\\n\\nhttps://health.detik.com/berita-detikhealth/d-5816582/vaksin-covid-19-bakal-rutin-setiap-tahun-tergantung-ini-penjelasannya', 'berita3': 'RI Mulai Suntikkan Booster di 2022, Masihkah Ampuh Lawan Varian Delta Cs?\\n\\nJakarta - Pakar mengakui vaksin-vaksin yang sudah digunakan untuk dosis 1-2 memang mengalami penurunan efektivitas terhadap varian baru Corona seperti varian Delta. Mengingat booster atau dosis ketiga vaksin COVID-19 di Indonesia disebut bakal dimulai awal 2022, apakah jenis vaksin yang digunakan bakal mengikuti strain virus terbaru?\\nMenjawab pertanyaan tersebut, Ketua Satgas COVID-19 Ikatan Dokter Indonesia (IDI) Prof Zubairi Djoerban kembali menyinggung riset yang sudah berlangsung terkait efektivitas vaksin COVID-19 dosis 1 dan 2. Ia menyebut berdasarkan riset sejauh ini, efektivitas vaksin COVID-19 Pfizer dan Moderna terbukti menurun dalam melawan varian Delta.\\n\\nhttps://health.detik.com/berita-detikhealth/d-5816534/ri-mulai-suntikkan-booster-di-2022-masihkah-ampuh-lawan-varian-delta-cs', 'berita4': 'Alert! Kasus Varian Delta COVID-19 di DKI Meningkat\\n\\nJakarta - Data terbaru dari Balitbangkes Kemenkes RI per 13 November, menunjukkan adanya penambahan varian Delta. Penambahan tersebut terjadi di Jawa Barat ada 165 kasus, DKI Jakarta 90 kasus, dan Sulawesi Utara 86 kasus.\\nDalam satu bulan terakhir, Balitbangkes menyebutkan DKI Jakarta mengalami peningkatan kasus varian Delta yang signifikan. Sementara, pada varian baru seperti varian Alpha, varian Delta, hingga Beta terbanyak di Indonesia berasal dari DKI Jakarta, dengan total 1.327 kasus .\\n\\nhttps://health.detik.com/berita-detikhealth/d-5812940/alert-kasus-varian-delta-covid-19-di-dki-meningkat', 'berita5': 'Corona di AS Mendadak Naik Lagi Usai Serangan Delta Sempat Mereda\\n\\nJakarta - Kasus COVID-19 kembali naik di sejumlah wilayah Amerika Serikat (AS). Padahal diketahui, COVID-19 sempat tercatat stabil pasca serangan varian Delta musim panas ini. Ada apa?\\nHal tersebut disampaikan oleh kepala penasihat medis Gedung Putih Dr. Anthony Fauci, Senin (15/11/2021). Diketahui, kasus nasional turun 57 persen minggu lalu dari puncak gelombang varian Delta pada musim panas. Namun jumlah pasien COVID-19 di area Barat Tengah dan Timur laut kini naik mendadak.\\n\\nhttps://health.detik.com/berita-detikhealth/d-5813949/corona-di-as-mendadak-naik-lagi-usai-serangan-delta-sempat-mereda'}\n"
     ]
    }
   ],
   "source": [
    "print(berita)"
   ]
  },
  {
   "cell_type": "markdown",
   "id": "6e05ce38",
   "metadata": {},
   "source": [
    "## Preprocessing"
   ]
  },
  {
   "cell_type": "markdown",
   "id": "70f614fb",
   "metadata": {},
   "source": [
    "### Case-Foling"
   ]
  },
  {
   "cell_type": "code",
   "execution_count": 99,
   "id": "ad305823",
   "metadata": {},
   "outputs": [
    {
     "data": {
      "text/plain": [
       "'!\"#$%&\\'()*+,-./:;<=>?@[\\\\]^_`{|}~'"
      ]
     },
     "execution_count": 99,
     "metadata": {},
     "output_type": "execute_result"
    }
   ],
   "source": [
    "# Coba buat Punctuation \n",
    "import string\n",
    "string.punctuation"
   ]
  },
  {
   "cell_type": "code",
   "execution_count": 122,
   "id": "79da0548",
   "metadata": {},
   "outputs": [
    {
     "name": "stdout",
     "output_type": "stream",
     "text": [
      "Wilayah Kamu Sudah Bebas COVID19 Cek 34 KabKota Zona Hijau Terbaru\n",
      "\n",
      "Jakarta  Pemerintah rencananya bakal menerapkan Pemberlakuan Pembatasan Kegiatan Masyarakat PPKM level 3 terhitung 24 Desember 2021 hingga 2 Januari 2021 Namun Kementerian Kesehatan RI memastikan kebijakan PPKM level 3 ini masih dalam tahap kajian\n",
      "Menurut Direktur Pencegahan dan Pengendalian Penyakit Menular Langsung P2PML Kemenkes RI dr Siti Nadia Tarmizi PPKM level 3 bakal diterapkan jika kasus COVID19 naik signifikan Hal ini umumnya dipicu dengan peningkatan mobilitas dan pelonggaran protokol kesehatan\n",
      "\n",
      "httpshealthdetikcomberitadetikhealthd5816690wilayahkamusudahbebascovid19cek34kabkotazonahijauterbaru\n",
      "Vaksin COVID19 Bakal Rutin Setiap Tahun Tergantung Ini Penjelasannya\n",
      "\n",
      "Jakarta  Pemberian booster atau dosis ketiga vaksin COVID19 di Indonesia direncanakan bakal berlangsung Januari 2022 Lantas adakah kemungkinan vaksinasi COVID19 bakal harus dilakukan setiap tahun seperti vaksinasi influenza\n",
      "Ketua Satgas COVID19 Ikatan Dokter Indonesia IDI Prof Zubairi Djoerban menjelaskan hingga kini belum ada kepastian terkait hal tersebut Menurutnya masih ada kemungkinan vaksin COVID19 harus diberikan setiap tahun ada juga kemungkinan cukup booster diberikan sekali kemudian vaksinasi COVID19 tidak diperlukan lagi\n",
      "\n",
      "httpshealthdetikcomberitadetikhealthd5816582vaksincovid19bakalrutinsetiaptahuntergantunginipenjelasannya\n",
      "RI Mulai Suntikkan Booster di 2022 Masihkah Ampuh Lawan Varian Delta Cs\n",
      "\n",
      "Jakarta  Pakar mengakui vaksinvaksin yang sudah digunakan untuk dosis 12 memang mengalami penurunan efektivitas terhadap varian baru Corona seperti varian Delta Mengingat booster atau dosis ketiga vaksin COVID19 di Indonesia disebut bakal dimulai awal 2022 apakah jenis vaksin yang digunakan bakal mengikuti strain virus terbaru\n",
      "Menjawab pertanyaan tersebut Ketua Satgas COVID19 Ikatan Dokter Indonesia IDI Prof Zubairi Djoerban kembali menyinggung riset yang sudah berlangsung terkait efektivitas vaksin COVID19 dosis 1 dan 2 Ia menyebut berdasarkan riset sejauh ini efektivitas vaksin COVID19 Pfizer dan Moderna terbukti menurun dalam melawan varian Delta\n",
      "\n",
      "httpshealthdetikcomberitadetikhealthd5816534rimulaisuntikkanboosterdi2022masihkahampuhlawanvariandeltacs\n",
      "Alert Kasus Varian Delta COVID19 di DKI Meningkat\n",
      "\n",
      "Jakarta  Data terbaru dari Balitbangkes Kemenkes RI per 13 November menunjukkan adanya penambahan varian Delta Penambahan tersebut terjadi di Jawa Barat ada 165 kasus DKI Jakarta 90 kasus dan Sulawesi Utara 86 kasus\n",
      "Dalam satu bulan terakhir Balitbangkes menyebutkan DKI Jakarta mengalami peningkatan kasus varian Delta yang signifikan Sementara pada varian baru seperti varian Alpha varian Delta hingga Beta terbanyak di Indonesia berasal dari DKI Jakarta dengan total 1327 kasus \n",
      "\n",
      "httpshealthdetikcomberitadetikhealthd5812940alertkasusvariandeltacovid19didkimeningkat\n",
      "Corona di AS Mendadak Naik Lagi Usai Serangan Delta Sempat Mereda\n",
      "\n",
      "Jakarta  Kasus COVID19 kembali naik di sejumlah wilayah Amerika Serikat AS Padahal diketahui COVID19 sempat tercatat stabil pasca serangan varian Delta musim panas ini Ada apa\n",
      "Hal tersebut disampaikan oleh kepala penasihat medis Gedung Putih Dr Anthony Fauci Senin 15112021 Diketahui kasus nasional turun 57 persen minggu lalu dari puncak gelombang varian Delta pada musim panas Namun jumlah pasien COVID19 di area Barat Tengah dan Timur laut kini naik mendadak\n",
      "\n",
      "httpshealthdetikcomberitadetikhealthd5813949coronadiasmendadaknaiklagiusaiserangandeltasempatmereda\n"
     ]
    }
   ],
   "source": [
    "# defining the function to remove punctuation\n",
    "def remove_punctuation(text):\n",
    "    punctuationfree=\"\".join([i for i in text if i not in string.punctuation])\n",
    "    return punctuationfree\n",
    "#storing the puntuation free text\n",
    "\n",
    "no_punctuation = []\n",
    "# for doc_id in berita.keys():\n",
    "#     no_punctuation[doc_id] = remove_punctuation(berita[doc_id])\n",
    "for i in beritaa:\n",
    "    no_punctuation.append(remove_punctuation(i))\n",
    "for i in range(len(no_punctuation)):    \n",
    "    print(no_punctuation[i])"
   ]
  },
  {
   "cell_type": "code",
   "execution_count": 72,
   "id": "028e8ad7",
   "metadata": {},
   "outputs": [
    {
     "data": {
      "text/plain": [
       "{'berita1': 'Wilayah Kamu Sudah Bebas COVID19 Cek 34 KabKota Zona Hijau Terbaru\\n\\nJakarta  Pemerintah rencananya bakal menerapkan Pemberlakuan Pembatasan Kegiatan Masyarakat PPKM level 3 terhitung 24 Desember 2021 hingga 2 Januari 2021 Namun Kementerian Kesehatan RI memastikan kebijakan PPKM level 3 ini masih dalam tahap kajian\\nMenurut Direktur Pencegahan dan Pengendalian Penyakit Menular Langsung P2PML Kemenkes RI dr Siti Nadia Tarmizi PPKM level 3 bakal diterapkan jika kasus COVID19 naik signifikan Hal ini umumnya dipicu dengan peningkatan mobilitas dan pelonggaran protokol kesehatan\\n\\nhttpshealthdetikcomberitadetikhealthd5816690wilayahkamusudahbebascovid19cek34kabkotazonahijauterbaru',\n",
       " 'berita2': 'Vaksin COVID19 Bakal Rutin Setiap Tahun Tergantung Ini Penjelasannya\\n\\nJakarta  Pemberian booster atau dosis ketiga vaksin COVID19 di Indonesia direncanakan bakal berlangsung Januari 2022 Lantas adakah kemungkinan vaksinasi COVID19 bakal harus dilakukan setiap tahun seperti vaksinasi influenza\\nKetua Satgas COVID19 Ikatan Dokter Indonesia IDI Prof Zubairi Djoerban menjelaskan hingga kini belum ada kepastian terkait hal tersebut Menurutnya masih ada kemungkinan vaksin COVID19 harus diberikan setiap tahun ada juga kemungkinan cukup booster diberikan sekali kemudian vaksinasi COVID19 tidak diperlukan lagi\\n\\nhttpshealthdetikcomberitadetikhealthd5816582vaksincovid19bakalrutinsetiaptahuntergantunginipenjelasannya',\n",
       " 'berita3': 'RI Mulai Suntikkan Booster di 2022 Masihkah Ampuh Lawan Varian Delta Cs\\n\\nJakarta  Pakar mengakui vaksinvaksin yang sudah digunakan untuk dosis 12 memang mengalami penurunan efektivitas terhadap varian baru Corona seperti varian Delta Mengingat booster atau dosis ketiga vaksin COVID19 di Indonesia disebut bakal dimulai awal 2022 apakah jenis vaksin yang digunakan bakal mengikuti strain virus terbaru\\nMenjawab pertanyaan tersebut Ketua Satgas COVID19 Ikatan Dokter Indonesia IDI Prof Zubairi Djoerban kembali menyinggung riset yang sudah berlangsung terkait efektivitas vaksin COVID19 dosis 1 dan 2 Ia menyebut berdasarkan riset sejauh ini efektivitas vaksin COVID19 Pfizer dan Moderna terbukti menurun dalam melawan varian Delta\\n\\nhttpshealthdetikcomberitadetikhealthd5816534rimulaisuntikkanboosterdi2022masihkahampuhlawanvariandeltacs',\n",
       " 'berita4': 'Alert Kasus Varian Delta COVID19 di DKI Meningkat\\n\\nJakarta  Data terbaru dari Balitbangkes Kemenkes RI per 13 November menunjukkan adanya penambahan varian Delta Penambahan tersebut terjadi di Jawa Barat ada 165 kasus DKI Jakarta 90 kasus dan Sulawesi Utara 86 kasus\\nDalam satu bulan terakhir Balitbangkes menyebutkan DKI Jakarta mengalami peningkatan kasus varian Delta yang signifikan Sementara pada varian baru seperti varian Alpha varian Delta hingga Beta terbanyak di Indonesia berasal dari DKI Jakarta dengan total 1327 kasus \\n\\nhttpshealthdetikcomberitadetikhealthd5812940alertkasusvariandeltacovid19didkimeningkat',\n",
       " 'berita5': 'Corona di AS Mendadak Naik Lagi Usai Serangan Delta Sempat Mereda\\n\\nJakarta  Kasus COVID19 kembali naik di sejumlah wilayah Amerika Serikat AS Padahal diketahui COVID19 sempat tercatat stabil pasca serangan varian Delta musim panas ini Ada apa\\nHal tersebut disampaikan oleh kepala penasihat medis Gedung Putih Dr Anthony Fauci Senin 15112021 Diketahui kasus nasional turun 57 persen minggu lalu dari puncak gelombang varian Delta pada musim panas Namun jumlah pasien COVID19 di area Barat Tengah dan Timur laut kini naik mendadak\\n\\nhttpshealthdetikcomberitadetikhealthd5813949coronadiasmendadaknaiklagiusaiserangandeltasempatmereda'}"
      ]
     },
     "execution_count": 72,
     "metadata": {},
     "output_type": "execute_result"
    }
   ],
   "source": []
  },
  {
   "cell_type": "code",
   "execution_count": 123,
   "id": "5e95c4da",
   "metadata": {},
   "outputs": [
    {
     "name": "stdout",
     "output_type": "stream",
     "text": [
      "wilayah kamu sudah bebas covid19 cek 34 kabkota zona hijau terbaru\n",
      "\n",
      "jakarta  pemerintah rencananya bakal menerapkan pemberlakuan pembatasan kegiatan masyarakat ppkm level 3 terhitung 24 desember 2021 hingga 2 januari 2021 namun kementerian kesehatan ri memastikan kebijakan ppkm level 3 ini masih dalam tahap kajian\n",
      "menurut direktur pencegahan dan pengendalian penyakit menular langsung p2pml kemenkes ri dr siti nadia tarmizi ppkm level 3 bakal diterapkan jika kasus covid19 naik signifikan hal ini umumnya dipicu dengan peningkatan mobilitas dan pelonggaran protokol kesehatan\n",
      "\n",
      "httpshealthdetikcomberitadetikhealthd5816690wilayahkamusudahbebascovid19cek34kabkotazonahijauterbaru\n",
      "vaksin covid19 bakal rutin setiap tahun tergantung ini penjelasannya\n",
      "\n",
      "jakarta  pemberian booster atau dosis ketiga vaksin covid19 di indonesia direncanakan bakal berlangsung januari 2022 lantas adakah kemungkinan vaksinasi covid19 bakal harus dilakukan setiap tahun seperti vaksinasi influenza\n",
      "ketua satgas covid19 ikatan dokter indonesia idi prof zubairi djoerban menjelaskan hingga kini belum ada kepastian terkait hal tersebut menurutnya masih ada kemungkinan vaksin covid19 harus diberikan setiap tahun ada juga kemungkinan cukup booster diberikan sekali kemudian vaksinasi covid19 tidak diperlukan lagi\n",
      "\n",
      "httpshealthdetikcomberitadetikhealthd5816582vaksincovid19bakalrutinsetiaptahuntergantunginipenjelasannya\n",
      "ri mulai suntikkan booster di 2022 masihkah ampuh lawan varian delta cs\n",
      "\n",
      "jakarta  pakar mengakui vaksinvaksin yang sudah digunakan untuk dosis 12 memang mengalami penurunan efektivitas terhadap varian baru corona seperti varian delta mengingat booster atau dosis ketiga vaksin covid19 di indonesia disebut bakal dimulai awal 2022 apakah jenis vaksin yang digunakan bakal mengikuti strain virus terbaru\n",
      "menjawab pertanyaan tersebut ketua satgas covid19 ikatan dokter indonesia idi prof zubairi djoerban kembali menyinggung riset yang sudah berlangsung terkait efektivitas vaksin covid19 dosis 1 dan 2 ia menyebut berdasarkan riset sejauh ini efektivitas vaksin covid19 pfizer dan moderna terbukti menurun dalam melawan varian delta\n",
      "\n",
      "httpshealthdetikcomberitadetikhealthd5816534rimulaisuntikkanboosterdi2022masihkahampuhlawanvariandeltacs\n",
      "alert kasus varian delta covid19 di dki meningkat\n",
      "\n",
      "jakarta  data terbaru dari balitbangkes kemenkes ri per 13 november menunjukkan adanya penambahan varian delta penambahan tersebut terjadi di jawa barat ada 165 kasus dki jakarta 90 kasus dan sulawesi utara 86 kasus\n",
      "dalam satu bulan terakhir balitbangkes menyebutkan dki jakarta mengalami peningkatan kasus varian delta yang signifikan sementara pada varian baru seperti varian alpha varian delta hingga beta terbanyak di indonesia berasal dari dki jakarta dengan total 1327 kasus \n",
      "\n",
      "httpshealthdetikcomberitadetikhealthd5812940alertkasusvariandeltacovid19didkimeningkat\n",
      "corona di as mendadak naik lagi usai serangan delta sempat mereda\n",
      "\n",
      "jakarta  kasus covid19 kembali naik di sejumlah wilayah amerika serikat as padahal diketahui covid19 sempat tercatat stabil pasca serangan varian delta musim panas ini ada apa\n",
      "hal tersebut disampaikan oleh kepala penasihat medis gedung putih dr anthony fauci senin 15112021 diketahui kasus nasional turun 57 persen minggu lalu dari puncak gelombang varian delta pada musim panas namun jumlah pasien covid19 di area barat tengah dan timur laut kini naik mendadak\n",
      "\n",
      "httpshealthdetikcomberitadetikhealthd5813949coronadiasmendadaknaiklagiusaiserangandeltasempatmereda\n"
     ]
    }
   ],
   "source": [
    "case_folding = []\n",
    "for i in range(len(no_punctuation)):\n",
    "    case_folding.append(no_punctuation[i].lower())\n",
    "\n",
    "for i in range(len(case_folding)):\n",
    "    print(case_folding[i])\n",
    "\n",
    "# for doc_id in berita.keys():\n",
    "#     case_folding[doc_id] = no_punctuation[doc_id].lower()\n",
    "# case_folding"
   ]
  },
  {
   "cell_type": "markdown",
   "id": "d930a042",
   "metadata": {},
   "source": [
    "### Tokenisasi"
   ]
  },
  {
   "cell_type": "code",
   "execution_count": 124,
   "id": "bd194608",
   "metadata": {},
   "outputs": [
    {
     "name": "stdout",
     "output_type": "stream",
     "text": [
      "[['wilayah', 'kamu', 'sudah', 'bebas', 'covid19', 'cek', '34', 'kabkota', 'zona', 'hijau', 'terbaru', '\\n\\n', 'jakarta', ' ', 'pemerintah', 'rencananya', 'bakal', 'menerapkan', 'pemberlakuan', 'pembatasan', 'kegiatan', 'masyarakat', 'ppkm', 'level', '3', 'terhitung', '24', 'desember', '2021', 'hingga', '2', 'januari', '2021', 'namun', 'kementerian', 'kesehatan', 'ri', 'memastikan', 'kebijakan', 'ppkm', 'level', '3', 'ini', 'masih', 'dalam', 'tahap', 'kajian', '\\n', 'menurut', 'direktur', 'pencegahan', 'dan', 'pengendalian', 'penyakit', 'menular', 'langsung', 'p2pml', 'kemenkes', 'ri', 'dr', 'siti', 'nadia', 'tarmizi', 'ppkm', 'level', '3', 'bakal', 'diterapkan', 'jika', 'kasus', 'covid19', 'naik', 'signifikan', 'hal', 'ini', 'umumnya', 'dipicu', 'dengan', 'peningkatan', 'mobilitas', 'dan', 'pelonggaran', 'protokol', 'kesehatan', '\\n\\n', 'httpshealthdetikcomberitadetikhealthd5816690wilayahkamusudahbebascovid19cek34kabkotazonahijauterbaru'], ['vaksin', 'covid19', 'bakal', 'rutin', 'setiap', 'tahun', 'tergantung', 'ini', 'penjelasannya', '\\n\\n', 'jakarta', ' ', 'pemberian', 'booster', 'atau', 'dosis', 'ketiga', 'vaksin', 'covid19', 'di', 'indonesia', 'direncanakan', 'bakal', 'berlangsung', 'januari', '2022', 'lantas', 'adakah', 'kemungkinan', 'vaksinasi', 'covid19', 'bakal', 'harus', 'dilakukan', 'setiap', 'tahun', 'seperti', 'vaksinasi', 'influenza', '\\n', 'ketua', 'satgas', 'covid19', 'ikatan', 'dokter', 'indonesia', 'idi', 'prof', 'zubairi', 'djoerban', 'menjelaskan', 'hingga', 'kini', 'belum', 'ada', 'kepastian', 'terkait', 'hal', 'tersebut', 'menurutnya', 'masih', 'ada', 'kemungkinan', 'vaksin', 'covid19', 'harus', 'diberikan', 'setiap', 'tahun', 'ada', 'juga', 'kemungkinan', 'cukup', 'booster', 'diberikan', 'sekali', 'kemudian', 'vaksinasi', 'covid19', 'tidak', 'diperlukan', 'lagi', '\\n\\n', 'httpshealthdetikcomberitadetikhealthd5816582vaksincovid19bakalrutinsetiaptahuntergantunginipenjelasannya'], ['ri', 'mulai', 'suntikkan', 'booster', 'di', '2022', 'masihkah', 'ampuh', 'lawan', 'varian', 'delta', 'cs', '\\n\\n', 'jakarta', ' ', 'pakar', 'mengakui', 'vaksinvaksin', 'yang', 'sudah', 'digunakan', 'untuk', 'dosis', '12', 'memang', 'mengalami', 'penurunan', 'efektivitas', 'terhadap', 'varian', 'baru', 'corona', 'seperti', 'varian', 'delta', 'mengingat', 'booster', 'atau', 'dosis', 'ketiga', 'vaksin', 'covid19', 'di', 'indonesia', 'disebut', 'bakal', 'dimulai', 'awal', '2022', 'apakah', 'jenis', 'vaksin', 'yang', 'digunakan', 'bakal', 'mengikuti', 'strain', 'virus', 'terbaru', '\\n', 'menjawab', 'pertanyaan', 'tersebut', 'ketua', 'satgas', 'covid19', 'ikatan', 'dokter', 'indonesia', 'idi', 'prof', 'zubairi', 'djoerban', 'kembali', 'menyinggung', 'riset', 'yang', 'sudah', 'berlangsung', 'terkait', 'efektivitas', 'vaksin', 'covid19', 'dosis', '1', 'dan', '2', 'ia', 'menyebut', 'berdasarkan', 'riset', 'sejauh', 'ini', 'efektivitas', 'vaksin', 'covid19', 'pfizer', 'dan', 'moderna', 'terbukti', 'menurun', 'dalam', 'melawan', 'varian', 'delta', '\\n\\n', 'httpshealthdetikcomberitadetikhealthd5816534rimulaisuntikkanboosterdi2022masihkahampuhlawanvariandeltacs'], ['alert', 'kasus', 'varian', 'delta', 'covid19', 'di', 'dki', 'meningkat', '\\n\\n', 'jakarta', ' ', 'data', 'terbaru', 'dari', 'balitbangkes', 'kemenkes', 'ri', 'per', '13', 'november', 'menunjukkan', 'adanya', 'penambahan', 'varian', 'delta', 'penambahan', 'tersebut', 'terjadi', 'di', 'jawa', 'barat', 'ada', '165', 'kasus', 'dki', 'jakarta', '90', 'kasus', 'dan', 'sulawesi', 'utara', '86', 'kasus', '\\n', 'dalam', 'satu', 'bulan', 'terakhir', 'balitbangkes', 'menyebutkan', 'dki', 'jakarta', 'mengalami', 'peningkatan', 'kasus', 'varian', 'delta', 'yang', 'signifikan', 'sementara', 'pada', 'varian', 'baru', 'seperti', 'varian', 'alpha', 'varian', 'delta', 'hingga', 'beta', 'terbanyak', 'di', 'indonesia', 'berasal', 'dari', 'dki', 'jakarta', 'dengan', 'total', '1327', 'kasus', '\\n\\n', 'httpshealthdetikcomberitadetikhealthd5812940alertkasusvariandeltacovid19didkimeningkat'], ['corona', 'di', 'as', 'mendadak', 'naik', 'lagi', 'usai', 'serangan', 'delta', 'sempat', 'mereda', '\\n\\n', 'jakarta', ' ', 'kasus', 'covid19', 'kembali', 'naik', 'di', 'sejumlah', 'wilayah', 'amerika', 'serikat', 'as', 'padahal', 'diketahui', 'covid19', 'sempat', 'tercatat', 'stabil', 'pasca', 'serangan', 'varian', 'delta', 'musim', 'panas', 'ini', 'ada', 'apa', '\\n', 'hal', 'tersebut', 'disampaikan', 'oleh', 'kepala', 'penasihat', 'medis', 'gedung', 'putih', 'dr', 'anthony', 'fauci', 'senin', '15112021', 'diketahui', 'kasus', 'nasional', 'turun', '57', 'persen', 'minggu', 'lalu', 'dari', 'puncak', 'gelombang', 'varian', 'delta', 'pada', 'musim', 'panas', 'namun', 'jumlah', 'pasien', 'covid19', 'di', 'area', 'barat', 'tengah', 'dan', 'timur', 'laut', 'kini', 'naik', 'mendadak', '\\n\\n', 'httpshealthdetikcomberitadetikhealthd5813949coronadiasmendadaknaiklagiusaiserangandeltasempatmereda']]\n"
     ]
    }
   ],
   "source": [
    "from spacy.lang.id import Indonesian\n",
    "import spacy\n",
    "nlp = spacy.blank('id') \n",
    "\n",
    "tokenisasi_corpus = []\n",
    "def tokenisasi(text):\n",
    "    tokens = text.split(\" \")\n",
    "    return tokens\n",
    "\n",
    "for i in case_folding:\n",
    "    spacy_idn = nlp(i)\n",
    "    tokenisasi_corpus.append( [tokenisasi.text for tokenisasi in spacy_idn])\n",
    "# tokenisasi_corpus = [tokenisasi(case_folding[doc_id]) for doc_id in case_folding]\n",
    "\n",
    "    \n",
    "print(tokenisasi_corpus)"
   ]
  },
  {
   "cell_type": "markdown",
   "id": "b2c0d2a8",
   "metadata": {},
   "source": [
    "### Elimination Stop-Words"
   ]
  },
  {
   "cell_type": "code",
   "execution_count": 125,
   "id": "0c85b2b2",
   "metadata": {},
   "outputs": [
    {
     "name": "stdout",
     "output_type": "stream",
     "text": [
      "[['wilayah', 'bebas', 'covid19', 'cek', '34', 'kabkota', 'zona', 'hijau', 'terbaru', '\\n\\n', 'jakarta', ' ', 'pemerintah', 'rencananya', 'menerapkan', 'pemberlakuan', 'pembatasan', 'kegiatan', 'masyarakat', 'ppkm', 'level', '3', 'terhitung', '24', 'desember', '2021', '2', 'januari', '2021', 'kementerian', 'kesehatan', 'ri', 'kebijakan', 'ppkm', 'level', '3', 'tahap', 'kajian', '\\n', 'direktur', 'pencegahan', 'pengendalian', 'penyakit', 'menular', 'langsung', 'p2pml', 'kemenkes', 'ri', 'dr', 'siti', 'nadia', 'tarmizi', 'ppkm', 'level', '3', 'diterapkan', 'covid19', 'signifikan', 'dipicu', 'peningkatan', 'mobilitas', 'pelonggaran', 'protokol', 'kesehatan', '\\n\\n', 'httpshealthdetikcomberitadetikhealthd5816690wilayahkamusudahbebascovid19cek34kabkotazonahijauterbaru'], ['vaksin', 'covid19', 'rutin', 'tergantung', 'penjelasannya', '\\n\\n', 'jakarta', ' ', 'pemberian', 'booster', 'dosis', 'ketiga', 'vaksin', 'covid19', 'indonesia', 'direncanakan', 'januari', '2022', 'lantas', 'adakah', 'vaksinasi', 'covid19', 'vaksinasi', 'influenza', '\\n', 'ketua', 'satgas', 'covid19', 'ikatan', 'dokter', 'indonesia', 'idi', 'prof', 'zubairi', 'djoerban', 'kepastian', 'terkait', 'menurutnya', 'vaksin', 'covid19', 'booster', 'vaksinasi', 'covid19', '\\n\\n', 'httpshealthdetikcomberitadetikhealthd5816582vaksincovid19bakalrutinsetiaptahuntergantunginipenjelasannya'], ['ri', 'suntikkan', 'booster', '2022', 'ampuh', 'lawan', 'varian', 'delta', 'cs', '\\n\\n', 'jakarta', ' ', 'pakar', 'mengakui', 'vaksinvaksin', 'dosis', '12', 'mengalami', 'penurunan', 'efektivitas', 'varian', 'corona', 'varian', 'delta', 'booster', 'dosis', 'ketiga', 'vaksin', 'covid19', 'indonesia', '2022', 'jenis', 'vaksin', 'mengikuti', 'strain', 'virus', 'terbaru', '\\n', 'ketua', 'satgas', 'covid19', 'ikatan', 'dokter', 'indonesia', 'idi', 'prof', 'zubairi', 'djoerban', 'menyinggung', 'riset', 'terkait', 'efektivitas', 'vaksin', 'covid19', 'dosis', '1', '2', 'menyebut', 'berdasarkan', 'riset', 'efektivitas', 'vaksin', 'covid19', 'pfizer', 'moderna', 'terbukti', 'menurun', 'melawan', 'varian', 'delta', '\\n\\n', 'httpshealthdetikcomberitadetikhealthd5816534rimulaisuntikkanboosterdi2022masihkahampuhlawanvariandeltacs'], ['alert', 'varian', 'delta', 'covid19', 'dki', 'meningkat', '\\n\\n', 'jakarta', ' ', 'data', 'terbaru', 'balitbangkes', 'kemenkes', 'ri', '13', 'november', 'penambahan', 'varian', 'delta', 'penambahan', 'jawa', 'barat', '165', 'dki', 'jakarta', '90', 'sulawesi', 'utara', '86', '\\n', 'balitbangkes', 'dki', 'jakarta', 'mengalami', 'peningkatan', 'varian', 'delta', 'signifikan', 'varian', 'varian', 'alpha', 'varian', 'delta', 'beta', 'indonesia', 'berasal', 'dki', 'jakarta', 'total', '1327', '\\n\\n', 'httpshealthdetikcomberitadetikhealthd5812940alertkasusvariandeltacovid19didkimeningkat'], ['corona', 'as', 'mendadak', 'serangan', 'delta', 'mereda', '\\n\\n', 'jakarta', ' ', 'covid19', 'wilayah', 'amerika', 'serikat', 'as', 'covid19', 'tercatat', 'stabil', 'pasca', 'serangan', 'varian', 'delta', 'musim', 'panas', '\\n', 'kepala', 'penasihat', 'medis', 'gedung', 'putih', 'dr', 'anthony', 'fauci', 'senin', '15112021', 'nasional', 'turun', '57', 'persen', 'minggu', 'puncak', 'gelombang', 'varian', 'delta', 'musim', 'panas', 'pasien', 'covid19', 'area', 'barat', 'timur', 'laut', 'mendadak', '\\n\\n', 'httpshealthdetikcomberitadetikhealthd5813949coronadiasmendadaknaiklagiusaiserangandeltasempatmereda']]\n"
     ]
    }
   ],
   "source": [
    "no_sw = []\n",
    "stopwords =  nlp.Defaults.stop_words\n",
    "\n",
    "for i in tokenisasi_corpus: \n",
    "    no_sw.append([w for w in i if not w in stopwords])\n",
    "print(no_sw)\n",
    "\n",
    "# for doc_id in berita.keys():\n",
    "#     no_sw[doc_id] = [w for w in tokenisasi_corpus[doc_id] if not w in stopwords]\n",
    "# print(no_sw)\n",
    "\n",
    "# no_sw = [w for w in tokenisasi_corpus[doc_id] if not w in stopwords]"
   ]
  },
  {
   "cell_type": "code",
   "execution_count": null,
   "id": "6734d104",
   "metadata": {},
   "outputs": [],
   "source": []
  },
  {
   "cell_type": "markdown",
   "id": "40956253",
   "metadata": {},
   "source": [
    "### Stemming "
   ]
  },
  {
   "cell_type": "code",
   "execution_count": 126,
   "id": "5af244c9",
   "metadata": {},
   "outputs": [
    {
     "name": "stdout",
     "output_type": "stream",
     "text": [
      "[['wilayah', 'bebas', 'covid19', 'cek', '34', 'kabkota', 'zona', 'hijau', 'baru', '', 'jakarta', '', 'perintah', 'rencana', 'terap', 'laku', 'batas', 'giat', 'masyarakat', 'ppkm', 'level', '3', 'hitung', '24', 'desember', '2021', '2', 'januari', '2021', 'menteri', 'sehat', 'ri', 'bijak', 'ppkm', 'level', '3', 'tahap', 'kaji', '', 'direktur', 'cegah', 'kendali', 'sakit', 'tular', 'langsung', 'p2pml', 'kemenkes', 'ri', 'dr', 'siti', 'nadia', 'tarmizi', 'ppkm', 'level', '3', 'terap', 'covid19', 'signifikan', 'picu', 'tingkat', 'mobilitas', 'longgar', 'protokol', 'sehat', ''], ['vaksin', 'covid19', 'rutin', 'gantung', 'jelas', '', 'jakarta', '', 'beri', 'booster', 'dosis', 'tiga', 'vaksin', 'covid19', 'indonesia', 'rencana', 'januari', '2022', 'lantas', 'ada', 'vaksinasi', 'covid19', 'vaksinasi', 'influenza', '', 'ketua', 'satgas', 'covid19', 'ikat', 'dokter', 'indonesia', 'idi', 'prof', 'zubairi', 'djoerban', 'pasti', 'kait', 'turut', 'vaksin', 'covid19', 'booster', 'vaksinasi', 'covid19', ''], ['ri', 'suntik', 'booster', '2022', 'ampuh', 'lawan', 'varian', 'delta', 'cs', '', 'jakarta', '', 'pakar', 'aku', 'vaksinvaksin', 'dosis', '12', 'alami', 'turun', 'efektivitas', 'varian', 'corona', 'varian', 'delta', 'booster', 'dosis', 'tiga', 'vaksin', 'covid19', 'indonesia', '2022', 'jenis', 'vaksin', 'ikut', 'strain', 'virus', 'baru', '', 'ketua', 'satgas', 'covid19', 'ikat', 'dokter', 'indonesia', 'idi', 'prof', 'zubairi', 'djoerban', 'singgung', 'riset', 'kait', 'efektivitas', 'vaksin', 'covid19', 'dosis', '1', '2', 'sebut', 'dasar', 'riset', 'efektivitas', 'vaksin', 'covid19', 'pfizer', 'moderna', 'bukti', 'turun', 'lawan', 'varian', 'delta', ''], ['alert', 'varian', 'delta', 'covid19', 'dki', 'tingkat', '', 'jakarta', '', 'data', 'baru', 'balitbangkes', 'kemenkes', 'ri', '13', 'november', 'tambah', 'varian', 'delta', 'tambah', 'jawa', 'barat', '165', 'dki', 'jakarta', '90', 'sulawesi', 'utara', '86', '', 'balitbangkes', 'dki', 'jakarta', 'alami', 'tingkat', 'varian', 'delta', 'signifikan', 'varian', 'varian', 'alpha', 'varian', 'delta', 'beta', 'indonesia', 'asal', 'dki', 'jakarta', 'total', '1327', ''], ['corona', 'as', 'dadak', 'serang', 'delta', 'reda', '', 'jakarta', '', 'covid19', 'wilayah', 'amerika', 'serikat', 'as', 'covid19', 'catat', 'stabil', 'pasca', 'serang', 'varian', 'delta', 'musim', 'panas', '', 'kepala', 'nasihat', 'medis', 'gedung', 'putih', 'dr', 'anthony', 'fauci', 'senin', '15112021', 'nasional', 'turun', '57', 'persen', 'minggu', 'puncak', 'gelombang', 'varian', 'delta', 'musim', 'panas', 'pasien', 'covid19', 'area', 'barat', 'timur', 'laut', 'dadak', '']]\n"
     ]
    }
   ],
   "source": [
    "from Sastrawi.Stemmer.StemmerFactory import StemmerFactory\n",
    "\n",
    "factory = StemmerFactory()\n",
    "stemmer = factory.create_stemmer()\n",
    "\n",
    "\n",
    "steming =[] # membuat tempat buat keseluruhan berita\n",
    "for i in no_sw:\n",
    "    stm = [] # membuat berita  yang mau di stemming pada iterasi ke-i\n",
    "    for j in i:\n",
    "        stm.append(stemmer.stem(j)) #stemming di iterasi ke i\n",
    "    st1 = [k for k in stm if 'http' not in k] # menghilangkan string link\n",
    "    steming.append(st1) # masukin kelist \n",
    "\n",
    "# output masih sama kaya awal, yaitu tiap file berita masuk ke dalam list masing-masing \n",
    "final = steming\n",
    "print(final)"
   ]
  },
  {
   "cell_type": "code",
   "execution_count": 127,
   "id": "bd52bed6",
   "metadata": {
    "scrolled": true
   },
   "outputs": [
    {
     "name": "stdout",
     "output_type": "stream",
     "text": [
      "[['wilayah', 'bebas', 'covid', 'cek', 'kabkota', 'zona', 'hijau', 'baru', 'jakarta', 'perintah', 'rencana', 'terap', 'laku', 'batas', 'giat', 'masyarakat', 'ppkm', 'level', 'hitung', 'desember', 'januari', 'menteri', 'sehat', 'ri', 'bijak', 'ppkm', 'level', 'tahap', 'kaji', 'direktur', 'cegah', 'kendali', 'sakit', 'tular', 'langsung', 'ppml', 'kemenkes', 'ri', 'dr', 'siti', 'nadia', 'tarmizi', 'ppkm', 'level', 'terap', 'covid', 'signifikan', 'picu', 'tingkat', 'mobilitas', 'longgar', 'protokol', 'sehat'], ['vaksin', 'covid', 'rutin', 'gantung', 'jelas', 'jakarta', 'beri', 'booster', 'dosis', 'tiga', 'vaksin', 'covid', 'indonesia', 'rencana', 'januari', 'lantas', 'ada', 'vaksinasi', 'covid', 'vaksinasi', 'influenza', 'ketua', 'satgas', 'covid', 'ikat', 'dokter', 'indonesia', 'idi', 'prof', 'zubairi', 'djoerban', 'pasti', 'kait', 'turut', 'vaksin', 'covid', 'booster', 'vaksinasi', 'covid'], ['ri', 'suntik', 'booster', 'ampuh', 'lawan', 'varian', 'delta', 'cs', 'jakarta', 'pakar', 'aku', 'vaksinvaksin', 'dosis', 'alami', 'turun', 'efektivitas', 'varian', 'corona', 'varian', 'delta', 'booster', 'dosis', 'tiga', 'vaksin', 'covid', 'indonesia', 'jenis', 'vaksin', 'ikut', 'strain', 'virus', 'baru', 'ketua', 'satgas', 'covid', 'ikat', 'dokter', 'indonesia', 'idi', 'prof', 'zubairi', 'djoerban', 'singgung', 'riset', 'kait', 'efektivitas', 'vaksin', 'covid', 'dosis', 'sebut', 'dasar', 'riset', 'efektivitas', 'vaksin', 'covid', 'pfizer', 'moderna', 'bukti', 'turun', 'lawan', 'varian', 'delta'], ['alert', 'varian', 'delta', 'covid', 'dki', 'tingkat', 'jakarta', 'data', 'baru', 'balitbangkes', 'kemenkes', 'ri', 'november', 'tambah', 'varian', 'delta', 'tambah', 'jawa', 'barat', 'dki', 'jakarta', 'sulawesi', 'utara', 'balitbangkes', 'dki', 'jakarta', 'alami', 'tingkat', 'varian', 'delta', 'signifikan', 'varian', 'varian', 'alpha', 'varian', 'delta', 'beta', 'indonesia', 'asal', 'dki', 'jakarta', 'total'], ['corona', 'as', 'dadak', 'serang', 'delta', 'reda', 'jakarta', 'covid', 'wilayah', 'amerika', 'serikat', 'as', 'covid', 'catat', 'stabil', 'pasca', 'serang', 'varian', 'delta', 'musim', 'panas', 'kepala', 'nasihat', 'medis', 'gedung', 'putih', 'dr', 'anthony', 'fauci', 'senin', 'nasional', 'turun', 'persen', 'minggu', 'puncak', 'gelombang', 'varian', 'delta', 'musim', 'panas', 'pasien', 'covid', 'area', 'barat', 'timur', 'laut', 'dadak']]\n"
     ]
    }
   ],
   "source": [
    "final1 = []\n",
    "for i in (final):\n",
    "    fnl = []\n",
    "    for j in i : \n",
    "        nn = re.sub('[0-9,'']','',j) # menhilangkan angka yang ga perlu \n",
    "#         nnn = [k for k in nn if k != '']\n",
    "        fnl.append(nn)\n",
    "    nnn = [k for k in fnl if k != ''] # menghilangkan string kosong\n",
    "    final1.append(nnn)\n",
    "# for i in final1:\n",
    "#     s = [k for k in stm if 'http' not in k]\n",
    "#     print(i)\n",
    "print(final1)"
   ]
  },
  {
   "cell_type": "markdown",
   "id": "73acff8a",
   "metadata": {},
   "source": [
    "## Penghitungan BM25"
   ]
  },
  {
   "cell_type": "code",
   "execution_count": 128,
   "id": "746e454a",
   "metadata": {},
   "outputs": [
    {
     "data": {
      "text/plain": [
       "array([0.20614388, 0.82539215, 1.06930178, 0.40122203, 0.5593005 ])"
      ]
     },
     "execution_count": 128,
     "metadata": {},
     "output_type": "execute_result"
    }
   ],
   "source": [
    "from rank_bm25 import BM25Okapi\n",
    "def tokenisasii(text):\n",
    "    tokens = text.split(\" \")\n",
    "    return tokens\n",
    "\n",
    "def querinisasi(query, tokenized_corpus):\n",
    "    tokenized_query = tokenisasii(query)\n",
    "    bm25 = BM25Okapi(tokenized_corpus)\n",
    "    doc_scores = bm25.get_scores(tokenized_query)\n",
    "    return(doc_scores)\n",
    "querinisasi(\"vaksin corona jakarta\",final1)"
   ]
  },
  {
   "cell_type": "markdown",
   "id": "cfeebb32",
   "metadata": {},
   "source": [
    "## Perhitungan VSM "
   ]
  },
  {
   "cell_type": "markdown",
   "id": "8ffbbc7e",
   "metadata": {},
   "source": [
    "### Inverted Index"
   ]
  },
  {
   "cell_type": "code",
   "execution_count": 129,
   "id": "8c89d57a",
   "metadata": {},
   "outputs": [],
   "source": [
    "## Definisikan fungsi untuk melakukan stemming dan mendapatkan inverted index\n",
    "def stemming(text):\n",
    "    from Sastrawi.Stemmer.StemmerFactory import StemmerFactory\n",
    "    \n",
    "    # create stemmer\n",
    "    factory = StemmerFactory()\n",
    "    stemmer = factory.create_stemmer()\n",
    "    \n",
    "    output = stemmer.stem(text)\n",
    "    return(output)\n",
    "\n",
    "def inverted_index(corpus_term):\n",
    "    inverted_index = {}\n",
    "    \n",
    "    for i in range(len(corpus_term)):\n",
    "        for item in corpus_term[i]:\n",
    "            item = stemming(item)\n",
    "            if item not in inverted_index: # inputing item in dictionary if not available\n",
    "                inverted_index[item] = []\n",
    "            if (item in inverted_index) and ((i+1) not in inverted_index[item]): # setelah ada di key dictionary, masukin indeksnya ke berapa aja\n",
    "                inverted_index[item].append(i+1)\n",
    "    return(inverted_index)\n",
    "\n"
   ]
  },
  {
   "cell_type": "code",
   "execution_count": 147,
   "id": "bc4947e6",
   "metadata": {},
   "outputs": [
    {
     "name": "stdout",
     "output_type": "stream",
     "text": [
      "Wilayah\n",
      "Kamu\n",
      "Sudah\n",
      "'Bebas'\n",
      "COVID-19?\n",
      "Cek\n",
      "34\n",
      "Kab/Kota\n",
      "Zona\n",
      "Hijau\n",
      "Terbaru\n",
      "\n",
      "Jakarta\n",
      "-\n",
      "Pemerintah\n",
      "rencananya\n",
      "bakal\n",
      "menerapkan\n",
      "Pemberlakuan\n",
      "Pembatasan\n",
      "Kegiatan\n",
      "Masyarakat\n",
      "(PPKM)\n",
      "level\n",
      "3\n",
      "terhitung\n",
      "24\n",
      "Desember\n",
      "2021\n",
      "hingga\n",
      "2\n",
      "Januari\n",
      "2021.\n",
      "Namun,\n",
      "Kementerian\n",
      "Kesehatan\n",
      "RI\n",
      "memastikan\n",
      "kebijakan\n",
      "PPKM\n",
      "level\n",
      "3\n",
      "ini\n",
      "masih\n",
      "dalam\n",
      "tahap\n",
      "kajian.\n",
      "Menurut\n",
      "Direktur\n",
      "Pencegahan\n",
      "dan\n",
      "Pengendalian\n",
      "Penyakit\n",
      "Menular\n",
      "Langsung\n",
      "(P2PML)\n",
      "Kemenkes\n",
      "RI\n",
      "dr\n",
      "Siti\n",
      "Nadia\n",
      "Tarmizi,\n",
      "PPKM\n",
      "level\n",
      "3\n",
      "bakal\n",
      "diterapkan\n",
      "jika\n",
      "kasus\n",
      "COVID-19\n",
      "naik\n",
      "signifikan.\n",
      "Hal\n",
      "ini\n",
      "umumnya\n",
      "dipicu\n",
      "dengan\n",
      "peningkatan\n",
      "mobilitas\n",
      "dan\n",
      "pelonggaran\n",
      "protokol\n",
      "kesehatan.\n",
      "\n",
      "https://health.detik.com/berita-detikhealth/d-5816690/wilayah-kamu-sudah-bebas-covid-19-cek-34-kabkota-zona-hijau-terbaru\n",
      "Vaksin\n",
      "COVID-19\n",
      "Bakal\n",
      "Rutin\n",
      "Setiap\n",
      "Tahun?\n",
      "Tergantung,\n",
      "Ini\n",
      "Penjelasannya\n",
      "\n",
      "Jakarta\n",
      "-\n",
      "Pemberian\n",
      "booster\n",
      "atau\n",
      "dosis\n",
      "ketiga\n",
      "vaksin\n",
      "COVID-19\n",
      "di\n",
      "Indonesia\n",
      "direncanakan\n",
      "bakal\n",
      "berlangsung\n",
      "Januari\n",
      "2022.\n",
      "Lantas\n",
      "adakah\n",
      "kemungkinan\n",
      "vaksinasi\n",
      "COVID-19\n",
      "bakal\n",
      "harus\n",
      "dilakukan\n",
      "setiap\n",
      "tahun\n",
      "seperti\n",
      "vaksinasi\n",
      "influenza?\n",
      "Ketua\n",
      "Satgas\n",
      "COVID-19\n",
      "Ikatan\n",
      "Dokter\n",
      "Indonesia\n",
      "(IDI)\n",
      "Prof\n",
      "Zubairi\n",
      "Djoerban\n",
      "menjelaskan\n",
      "hingga\n",
      "kini\n",
      "belum\n",
      "ada\n",
      "kepastian\n",
      "terkait\n",
      "hal\n",
      "tersebut.\n",
      "Menurutnya\n",
      "masih\n",
      "ada\n",
      "kemungkinan\n",
      "vaksin\n",
      "COVID-19\n",
      "harus\n",
      "diberikan\n",
      "setiap\n",
      "tahun,\n",
      "ada\n",
      "juga\n",
      "kemungkinan\n",
      "cukup\n",
      "booster\n",
      "diberikan\n",
      "sekali\n",
      "kemudian\n",
      "vaksinasi\n",
      "COVID-19\n",
      "tidak\n",
      "diperlukan\n",
      "lagi.\n",
      "\n",
      "https://health.detik.com/berita-detikhealth/d-5816582/vaksin-covid-19-bakal-rutin-setiap-tahun-tergantung-ini-penjelasannya\n",
      "RI\n",
      "Mulai\n",
      "Suntikkan\n",
      "Booster\n",
      "di\n",
      "2022,\n",
      "Masihkah\n",
      "Ampuh\n",
      "Lawan\n",
      "Varian\n",
      "Delta\n",
      "Cs?\n",
      "\n",
      "Jakarta\n",
      "-\n",
      "Pakar\n",
      "mengakui\n",
      "vaksin-vaksin\n",
      "yang\n",
      "sudah\n",
      "digunakan\n",
      "untuk\n",
      "dosis\n",
      "1-2\n",
      "memang\n",
      "mengalami\n",
      "penurunan\n",
      "efektivitas\n",
      "terhadap\n",
      "varian\n",
      "baru\n",
      "Corona\n",
      "seperti\n",
      "varian\n",
      "Delta.\n",
      "Mengingat\n",
      "booster\n",
      "atau\n",
      "dosis\n",
      "ketiga\n",
      "vaksin\n",
      "COVID-19\n",
      "di\n",
      "Indonesia\n",
      "disebut\n",
      "bakal\n",
      "dimulai\n",
      "awal\n",
      "2022,\n",
      "apakah\n",
      "jenis\n",
      "vaksin\n",
      "yang\n",
      "digunakan\n",
      "bakal\n",
      "mengikuti\n",
      "strain\n",
      "virus\n",
      "terbaru?\n",
      "Menjawab\n",
      "pertanyaan\n",
      "tersebut,\n",
      "Ketua\n",
      "Satgas\n",
      "COVID-19\n",
      "Ikatan\n",
      "Dokter\n",
      "Indonesia\n",
      "(IDI)\n",
      "Prof\n",
      "Zubairi\n",
      "Djoerban\n",
      "kembali\n",
      "menyinggung\n",
      "riset\n",
      "yang\n",
      "sudah\n",
      "berlangsung\n",
      "terkait\n",
      "efektivitas\n",
      "vaksin\n",
      "COVID-19\n",
      "dosis\n",
      "1\n",
      "dan\n",
      "2.\n",
      "Ia\n",
      "menyebut\n",
      "berdasarkan\n",
      "riset\n",
      "sejauh\n",
      "ini,\n",
      "efektivitas\n",
      "vaksin\n",
      "COVID-19\n",
      "Pfizer\n",
      "dan\n",
      "Moderna\n",
      "terbukti\n",
      "menurun\n",
      "dalam\n",
      "melawan\n",
      "varian\n",
      "Delta.\n",
      "\n",
      "https://health.detik.com/berita-detikhealth/d-5816534/ri-mulai-suntikkan-booster-di-2022-masihkah-ampuh-lawan-varian-delta-cs\n",
      "Alert!\n",
      "Kasus\n",
      "Varian\n",
      "Delta\n",
      "COVID-19\n",
      "di\n",
      "DKI\n",
      "Meningkat\n",
      "\n",
      "Jakarta\n",
      "-\n",
      "Data\n",
      "terbaru\n",
      "dari\n",
      "Balitbangkes\n",
      "Kemenkes\n",
      "RI\n",
      "per\n",
      "13\n",
      "November,\n",
      "menunjukkan\n",
      "adanya\n",
      "penambahan\n",
      "varian\n",
      "Delta.\n",
      "Penambahan\n",
      "tersebut\n",
      "terjadi\n",
      "di\n",
      "Jawa\n",
      "Barat\n",
      "ada\n",
      "165\n",
      "kasus,\n",
      "DKI\n",
      "Jakarta\n",
      "90\n",
      "kasus,\n",
      "dan\n",
      "Sulawesi\n",
      "Utara\n",
      "86\n",
      "kasus.\n",
      "Dalam\n",
      "satu\n",
      "bulan\n",
      "terakhir,\n",
      "Balitbangkes\n",
      "menyebutkan\n",
      "DKI\n",
      "Jakarta\n",
      "mengalami\n",
      "peningkatan\n",
      "kasus\n",
      "varian\n",
      "Delta\n",
      "yang\n",
      "signifikan.\n",
      "Sementara,\n",
      "pada\n",
      "varian\n",
      "baru\n",
      "seperti\n",
      "varian\n",
      "Alpha,\n",
      "varian\n",
      "Delta,\n",
      "hingga\n",
      "Beta\n",
      "terbanyak\n",
      "di\n",
      "Indonesia\n",
      "berasal\n",
      "dari\n",
      "DKI\n",
      "Jakarta,\n",
      "dengan\n",
      "total\n",
      "1.327\n",
      "kasus\n",
      ".\n",
      "\n",
      "https://health.detik.com/berita-detikhealth/d-5812940/alert-kasus-varian-delta-covid-19-di-dki-meningkat\n",
      "Corona\n",
      "di\n",
      "AS\n",
      "Mendadak\n",
      "Naik\n",
      "Lagi\n",
      "Usai\n",
      "Serangan\n",
      "Delta\n",
      "Sempat\n",
      "Mereda\n",
      "\n",
      "Jakarta\n",
      "-\n",
      "Kasus\n",
      "COVID-19\n",
      "kembali\n",
      "naik\n",
      "di\n",
      "sejumlah\n",
      "wilayah\n",
      "Amerika\n",
      "Serikat\n",
      "(AS).\n",
      "Padahal\n",
      "diketahui,\n",
      "COVID-19\n",
      "sempat\n",
      "tercatat\n",
      "stabil\n",
      "pasca\n",
      "serangan\n",
      "varian\n",
      "Delta\n",
      "musim\n",
      "panas\n",
      "ini.\n",
      "Ada\n",
      "apa?\n",
      "Hal\n",
      "tersebut\n",
      "disampaikan\n",
      "oleh\n",
      "kepala\n",
      "penasihat\n",
      "medis\n",
      "Gedung\n",
      "Putih\n",
      "Dr.\n",
      "Anthony\n",
      "Fauci,\n",
      "Senin\n",
      "(15/11/2021).\n",
      "Diketahui,\n",
      "kasus\n",
      "nasional\n",
      "turun\n",
      "57\n",
      "persen\n",
      "minggu\n",
      "lalu\n",
      "dari\n",
      "puncak\n",
      "gelombang\n",
      "varian\n",
      "Delta\n",
      "pada\n",
      "musim\n",
      "panas.\n",
      "Namun\n",
      "jumlah\n",
      "pasien\n",
      "COVID-19\n",
      "di\n",
      "area\n",
      "Barat\n",
      "Tengah\n",
      "dan\n",
      "Timur\n",
      "laut\n",
      "kini\n",
      "naik\n",
      "mendadak.\n",
      "\n",
      "https://health.detik.com/berita-detikhealth/d-5813949/corona-di-as-mendadak-naik-lagi-usai-serangan-delta-sempat-mereda\n"
     ]
    }
   ],
   "source": [
    "#### Inverted Index\n",
    "vocab = []\n",
    "inverted_index = {}\n",
    "for doc_id, doc in berita.items():\n",
    "    for token in tokenisasi(doc):\n",
    "        print(token)\n",
    "        if token not in vocab : \n",
    "            vocab.append(token)\n",
    "            inverted_index[token] = []\n",
    "        if token in inverted_index:\n",
    "            if doc_id not in inverted_index[token]:\n",
    "                inverted_index[token].append(doc_id)\n",
    "# print(\"\\nThis is Vocab :\")\n",
    "# print(vocab)\n",
    "# print(\"\\nThis is inverted Index : \")\n",
    "# for doc_id in inverted_index :\n",
    "#     print(doc_id + \" : \")\n",
    "#     print(inverted_index[doc_id])\n",
    "#     print(\"\\n\")\n",
    "# print(inverted_index)"
   ]
  },
  {
   "cell_type": "code",
   "execution_count": 130,
   "id": "fdb5e4a0",
   "metadata": {},
   "outputs": [
    {
     "name": "stdout",
     "output_type": "stream",
     "text": [
      "{'wilayah': [1, 5], 'bebas': [1], 'covid': [1, 2, 3, 4, 5], 'cek': [1], 'kabkota': [1], 'zona': [1], 'hijau': [1], 'baru': [1, 3, 4], 'jakarta': [1, 2, 3, 4, 5], 'perintah': [1], 'rencana': [1, 2], 'terap': [1], 'laku': [1], 'batas': [1], 'giat': [1], 'masyarakat': [1], 'ppkm': [1], 'level': [1], 'hitung': [1], 'desember': [1], 'januari': [1, 2], 'menteri': [1], 'sehat': [1], 'ri': [1, 3, 4], 'bijak': [1], 'tahap': [1], 'kaji': [1], 'direktur': [1], 'cegah': [1], 'kendali': [1], 'sakit': [1], 'tular': [1], 'langsung': [1], 'ppml': [1], 'kemenkes': [1, 4], 'dr': [1, 5], 'siti': [1], 'nadia': [1], 'tarmizi': [1], 'signifikan': [1, 4], 'picu': [1], 'tingkat': [1, 4], 'mobilitas': [1], 'longgar': [1], 'protokol': [1], 'vaksin': [2, 3], 'rutin': [2], 'gantung': [2], 'jelas': [2], 'beri': [2], 'booster': [2, 3], 'dosis': [2, 3], 'tiga': [2, 3], 'indonesia': [2, 3, 4], 'lantas': [2], 'ada': [2], 'vaksinasi': [2], 'influenza': [2], 'ketua': [2, 3], 'satgas': [2, 3], 'ikat': [2, 3], 'dokter': [2, 3], 'idi': [2, 3], 'prof': [2, 3], 'zubairi': [2, 3], 'djoerban': [2, 3], 'pasti': [2], 'kait': [2, 3], 'turut': [2], 'suntik': [3], 'ampuh': [3], 'lawan': [3], 'varian': [3, 4, 5], 'delta': [3, 4, 5], 'cs': [3], 'pakar': [3], 'aku': [3], 'vaksinvaksin': [3], 'alami': [3, 4], 'turun': [3, 5], 'efektivitas': [3], 'corona': [3, 5], 'jenis': [3], 'ikut': [3], 'strain': [3], 'virus': [3], 'singgung': [3], 'riset': [3], 'sebut': [3], 'dasar': [3], 'pfizer': [3], 'moderna': [3], 'bukti': [3], 'alert': [4], 'dki': [4], 'data': [4], 'balitbangkes': [4], 'november': [4], 'tambah': [4], 'jawa': [4], 'barat': [4, 5], 'sulawesi': [4], 'utara': [4], 'alpha': [4], 'beta': [4], 'asal': [4], 'total': [4], 'as': [5], 'dadak': [5], 'serang': [5], 'reda': [5], 'amerika': [5], 'serikat': [5], 'catat': [5], 'stabil': [5], 'pasca': [5], 'musim': [5], 'panas': [5], 'kepala': [5], 'nasihat': [5], 'medis': [5], 'gedung': [5], 'putih': [5], 'anthony': [5], 'fauci': [5], 'senin': [5], 'nasional': [5], 'persen': [5], 'minggu': [5], 'puncak': [5], 'gelombang': [5], 'pasien': [5], 'area': [5], 'timur': [5], 'laut': [5]}\n"
     ]
    }
   ],
   "source": [
    "\n",
    "## Getting Inverted Index \n",
    "inv_idx = inverted_index(final1)\n",
    "print(inv_idx)"
   ]
  },
  {
   "cell_type": "code",
   "execution_count": 146,
   "id": "aa3346d1",
   "metadata": {},
   "outputs": [
    {
     "ename": "KeyError",
     "evalue": "'berita1'",
     "output_type": "error",
     "traceback": [
      "\u001b[1;31m---------------------------------------------------------------------------\u001b[0m",
      "\u001b[1;31mKeyError\u001b[0m                                  Traceback (most recent call last)",
      "Input \u001b[1;32mIn [146]\u001b[0m, in \u001b[0;36m<cell line: 11>\u001b[1;34m()\u001b[0m\n\u001b[0;32m      8\u001b[0m             tf_docs[doc_id][word] \u001b[38;5;241m=\u001b[39m doc\u001b[38;5;241m.\u001b[39mcount(word)\n\u001b[0;32m      9\u001b[0m     \u001b[38;5;28;01mreturn\u001b[39;00m (tf_docs)\n\u001b[1;32m---> 11\u001b[0m tf \u001b[38;5;241m=\u001b[39m \u001b[43mtermFrequencyInDoc\u001b[49m\u001b[43m(\u001b[49m\u001b[43mvocab\u001b[49m\u001b[43m,\u001b[49m\u001b[43mberita\u001b[49m\u001b[43m)\u001b[49m\n",
      "Input \u001b[1;32mIn [146]\u001b[0m, in \u001b[0;36mtermFrequencyInDoc\u001b[1;34m(vocab, doc_dict)\u001b[0m\n\u001b[0;32m      6\u001b[0m \u001b[38;5;28;01mfor\u001b[39;00m word \u001b[38;5;129;01min\u001b[39;00m vocab:\n\u001b[0;32m      7\u001b[0m     \u001b[38;5;28;01mfor\u001b[39;00m doc_id, doc \u001b[38;5;129;01min\u001b[39;00m doc_dict\u001b[38;5;241m.\u001b[39mitems():\n\u001b[1;32m----> 8\u001b[0m         \u001b[43mtf_docs\u001b[49m\u001b[43m[\u001b[49m\u001b[43mdoc_id\u001b[49m\u001b[43m]\u001b[49m[word] \u001b[38;5;241m=\u001b[39m doc\u001b[38;5;241m.\u001b[39mcount(word)\n\u001b[0;32m      9\u001b[0m \u001b[38;5;28;01mreturn\u001b[39;00m (tf_docs)\n",
      "\u001b[1;31mKeyError\u001b[0m: 'berita1'"
     ]
    }
   ],
   "source": [
    "# TF \n",
    "def termFrequencyInDoc(vocab, doc_dict):\n",
    "    tf_docs = {}\n",
    "    for doc_id  in doc_dict.items():\n",
    "        tf_docs[doc_id] = {}\n",
    "    for word in vocab:\n",
    "        for doc_id, doc in doc_dict.items():\n",
    "            tf_docs[doc_id][word] = doc.count(word)\n",
    "    return (tf_docs)\n",
    "\n",
    "tf = termFrequencyInDoc(vocab,berita)\n"
   ]
  },
  {
   "cell_type": "code",
   "execution_count": 155,
   "id": "8cd4ecd6",
   "metadata": {},
   "outputs": [
    {
     "ename": "TypeError",
     "evalue": "must be str, not list",
     "output_type": "error",
     "traceback": [
      "\u001b[1;31m---------------------------------------------------------------------------\u001b[0m",
      "\u001b[1;31mTypeError\u001b[0m                                 Traceback (most recent call last)",
      "Input \u001b[1;32mIn [155]\u001b[0m, in \u001b[0;36m<cell line: 11>\u001b[1;34m()\u001b[0m\n\u001b[0;32m      8\u001b[0m             tf_docs[doc_id][word] \u001b[38;5;241m=\u001b[39m doc\u001b[38;5;241m.\u001b[39mcount(word)\n\u001b[0;32m      9\u001b[0m     \u001b[38;5;28;01mreturn\u001b[39;00m (tf_docs)\n\u001b[1;32m---> 11\u001b[0m tf \u001b[38;5;241m=\u001b[39m \u001b[43mtermFrequencyInDoc\u001b[49m\u001b[43m(\u001b[49m\u001b[43mfinal1\u001b[49m\u001b[43m,\u001b[49m\u001b[43mberita\u001b[49m\u001b[43m)\u001b[49m\n\u001b[0;32m     12\u001b[0m \u001b[38;5;28mprint\u001b[39m(tf)\n",
      "Input \u001b[1;32mIn [155]\u001b[0m, in \u001b[0;36mtermFrequencyInDoc\u001b[1;34m(vocab, doc_dict)\u001b[0m\n\u001b[0;32m      6\u001b[0m \u001b[38;5;28;01mfor\u001b[39;00m word \u001b[38;5;129;01min\u001b[39;00m vocab:\n\u001b[0;32m      7\u001b[0m     \u001b[38;5;28;01mfor\u001b[39;00m doc_id, doc \u001b[38;5;129;01min\u001b[39;00m doc_dict\u001b[38;5;241m.\u001b[39mitems():\n\u001b[1;32m----> 8\u001b[0m         tf_docs[doc_id][word] \u001b[38;5;241m=\u001b[39m \u001b[43mdoc\u001b[49m\u001b[38;5;241;43m.\u001b[39;49m\u001b[43mcount\u001b[49m\u001b[43m(\u001b[49m\u001b[43mword\u001b[49m\u001b[43m)\u001b[49m\n\u001b[0;32m      9\u001b[0m \u001b[38;5;28;01mreturn\u001b[39;00m (tf_docs)\n",
      "\u001b[1;31mTypeError\u001b[0m: must be str, not list"
     ]
    }
   ],
   "source": [
    "# TF \n",
    "def termFrequencyInDoc(vocab, doc_dict):\n",
    "    tf_docs = {}\n",
    "    for doc_id  in doc_dict.keys():\n",
    "        tf_docs[doc_id] = {}\n",
    "    for word in vocab:\n",
    "        for doc_id, doc in doc_dict.items():\n",
    "            tf_docs[doc_id][word] = doc.count(word)\n",
    "    return (tf_docs)\n",
    "\n",
    "tf = termFrequencyInDoc(final1,berita)\n",
    "print(tf)\n"
   ]
  },
  {
   "cell_type": "code",
   "execution_count": 156,
   "id": "fe4a3803",
   "metadata": {},
   "outputs": [
    {
     "data": {
      "text/plain": [
       "{'berita1': \"Wilayah Kamu Sudah 'Bebas' COVID-19? Cek 34 Kab/Kota Zona Hijau Terbaru\\n\\nJakarta - Pemerintah rencananya bakal menerapkan Pemberlakuan Pembatasan Kegiatan Masyarakat (PPKM) level 3 terhitung 24 Desember 2021 hingga 2 Januari 2021. Namun, Kementerian Kesehatan RI memastikan kebijakan PPKM level 3 ini masih dalam tahap kajian.\\nMenurut Direktur Pencegahan dan Pengendalian Penyakit Menular Langsung (P2PML) Kemenkes RI dr Siti Nadia Tarmizi, PPKM level 3 bakal diterapkan jika kasus COVID-19 naik signifikan. Hal ini umumnya dipicu dengan peningkatan mobilitas dan pelonggaran protokol kesehatan.\\n\\nhttps://health.detik.com/berita-detikhealth/d-5816690/wilayah-kamu-sudah-bebas-covid-19-cek-34-kabkota-zona-hijau-terbaru\",\n",
       " 'berita2': 'Vaksin COVID-19 Bakal Rutin Setiap Tahun? Tergantung, Ini Penjelasannya\\n\\nJakarta - Pemberian booster atau dosis ketiga vaksin COVID-19 di Indonesia direncanakan bakal berlangsung Januari 2022. Lantas adakah kemungkinan vaksinasi COVID-19 bakal harus dilakukan setiap tahun seperti vaksinasi influenza?\\nKetua Satgas COVID-19 Ikatan Dokter Indonesia (IDI) Prof Zubairi Djoerban menjelaskan hingga kini belum ada kepastian terkait hal tersebut. Menurutnya masih ada kemungkinan vaksin COVID-19 harus diberikan setiap tahun, ada juga kemungkinan cukup booster diberikan sekali kemudian vaksinasi COVID-19 tidak diperlukan lagi.\\n\\nhttps://health.detik.com/berita-detikhealth/d-5816582/vaksin-covid-19-bakal-rutin-setiap-tahun-tergantung-ini-penjelasannya',\n",
       " 'berita3': 'RI Mulai Suntikkan Booster di 2022, Masihkah Ampuh Lawan Varian Delta Cs?\\n\\nJakarta - Pakar mengakui vaksin-vaksin yang sudah digunakan untuk dosis 1-2 memang mengalami penurunan efektivitas terhadap varian baru Corona seperti varian Delta. Mengingat booster atau dosis ketiga vaksin COVID-19 di Indonesia disebut bakal dimulai awal 2022, apakah jenis vaksin yang digunakan bakal mengikuti strain virus terbaru?\\nMenjawab pertanyaan tersebut, Ketua Satgas COVID-19 Ikatan Dokter Indonesia (IDI) Prof Zubairi Djoerban kembali menyinggung riset yang sudah berlangsung terkait efektivitas vaksin COVID-19 dosis 1 dan 2. Ia menyebut berdasarkan riset sejauh ini, efektivitas vaksin COVID-19 Pfizer dan Moderna terbukti menurun dalam melawan varian Delta.\\n\\nhttps://health.detik.com/berita-detikhealth/d-5816534/ri-mulai-suntikkan-booster-di-2022-masihkah-ampuh-lawan-varian-delta-cs',\n",
       " 'berita4': 'Alert! Kasus Varian Delta COVID-19 di DKI Meningkat\\n\\nJakarta - Data terbaru dari Balitbangkes Kemenkes RI per 13 November, menunjukkan adanya penambahan varian Delta. Penambahan tersebut terjadi di Jawa Barat ada 165 kasus, DKI Jakarta 90 kasus, dan Sulawesi Utara 86 kasus.\\nDalam satu bulan terakhir, Balitbangkes menyebutkan DKI Jakarta mengalami peningkatan kasus varian Delta yang signifikan. Sementara, pada varian baru seperti varian Alpha, varian Delta, hingga Beta terbanyak di Indonesia berasal dari DKI Jakarta, dengan total 1.327 kasus .\\n\\nhttps://health.detik.com/berita-detikhealth/d-5812940/alert-kasus-varian-delta-covid-19-di-dki-meningkat',\n",
       " 'berita5': 'Corona di AS Mendadak Naik Lagi Usai Serangan Delta Sempat Mereda\\n\\nJakarta - Kasus COVID-19 kembali naik di sejumlah wilayah Amerika Serikat (AS). Padahal diketahui, COVID-19 sempat tercatat stabil pasca serangan varian Delta musim panas ini. Ada apa?\\nHal tersebut disampaikan oleh kepala penasihat medis Gedung Putih Dr. Anthony Fauci, Senin (15/11/2021). Diketahui, kasus nasional turun 57 persen minggu lalu dari puncak gelombang varian Delta pada musim panas. Namun jumlah pasien COVID-19 di area Barat Tengah dan Timur laut kini naik mendadak.\\n\\nhttps://health.detik.com/berita-detikhealth/d-5813949/corona-di-as-mendadak-naik-lagi-usai-serangan-delta-sempat-mereda'}"
      ]
     },
     "execution_count": 156,
     "metadata": {},
     "output_type": "execute_result"
    }
   ],
   "source": [
    "berita"
   ]
  },
  {
   "cell_type": "raw",
   "id": "4862afe9",
   "metadata": {},
   "source": []
  }
 ],
 "metadata": {
  "kernelspec": {
   "display_name": "Python 3 (ipykernel)",
   "language": "python",
   "name": "python3"
  },
  "language_info": {
   "codemirror_mode": {
    "name": "ipython",
    "version": 3
   },
   "file_extension": ".py",
   "mimetype": "text/x-python",
   "name": "python",
   "nbconvert_exporter": "python",
   "pygments_lexer": "ipython3",
   "version": "3.8.13"
  }
 },
 "nbformat": 4,
 "nbformat_minor": 5
}
