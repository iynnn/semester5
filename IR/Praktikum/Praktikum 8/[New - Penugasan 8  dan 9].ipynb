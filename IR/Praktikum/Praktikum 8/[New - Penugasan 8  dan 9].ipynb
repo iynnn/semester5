{
 "cells": [
  {
   "cell_type": "code",
   "execution_count": 112,
   "id": "1a55e6be",
   "metadata": {},
   "outputs": [],
   "source": [
    "import os, re\n",
    "\n",
    "\n",
    "### Fungsi untuk membaca file\n",
    "def read_text_file(file_path):\n",
    "    with open(file_path, 'r') as f:\n",
    "        return(f.read())\n",
    "\n",
    "### Fungsi untuk mengecek isi dari folder tersebut\n",
    "def read_file(folder_path):\n",
    "    file_path = []\n",
    "    for file in os.listdir(folder_path):\n",
    "        if os.path.isfile(os.path.join(folder_path, file)):\n",
    "            if file.endswith(\".txt\"):\n",
    "                file_path.append(file)\n",
    "    print(file_path)\n",
    "\n",
    "### Fungsi untuk menampilkan isi dari setiap file\n",
    "def read_content_file(path):\n",
    "    berita = []\n",
    "    for file in os.listdir(path):\n",
    "        if file.endswith(\".txt\"):\n",
    "            file_path = f\"{path}\\{file}\"\n",
    " \n",
    "#             print(read_text_file(file_path))\n",
    "            berita.append(read_text_file(file_path))\n",
    "    return(berita)\n"
   ]
  },
  {
   "cell_type": "code",
   "execution_count": 113,
   "id": "b1ec1de2",
   "metadata": {},
   "outputs": [
    {
     "name": "stdout",
     "output_type": "stream",
     "text": [
      "['berita1.txt', 'berita2.txt', 'berita3.txt', 'berita4.txt', 'berita5.txt']\n",
      "[\"Wilayah Kamu Sudah 'Bebas' COVID-19? Cek 34 Kab/Kota Zona Hijau Terbaru\\n\\nJakarta - Pemerintah rencananya bakal menerapkan Pemberlakuan Pembatasan Kegiatan Masyarakat (PPKM) level 3 terhitung 24 Desember 2021 hingga 2 Januari 2021. Namun, Kementerian Kesehatan RI memastikan kebijakan PPKM level 3 ini masih dalam tahap kajian.\\nMenurut Direktur Pencegahan dan Pengendalian Penyakit Menular Langsung (P2PML) Kemenkes RI dr Siti Nadia Tarmizi, PPKM level 3 bakal diterapkan jika kasus COVID-19 naik signifikan. Hal ini umumnya dipicu dengan peningkatan mobilitas dan pelonggaran protokol kesehatan.\\n\\nhttps://health.detik.com/berita-detikhealth/d-5816690/wilayah-kamu-sudah-bebas-covid-19-cek-34-kabkota-zona-hijau-terbaru\", 'Vaksin COVID-19 Bakal Rutin Setiap Tahun? Tergantung, Ini Penjelasannya\\n\\nJakarta - Pemberian booster atau dosis ketiga vaksin COVID-19 di Indonesia direncanakan bakal berlangsung Januari 2022. Lantas adakah kemungkinan vaksinasi COVID-19 bakal harus dilakukan setiap tahun seperti vaksinasi influenza?\\nKetua Satgas COVID-19 Ikatan Dokter Indonesia (IDI) Prof Zubairi Djoerban menjelaskan hingga kini belum ada kepastian terkait hal tersebut. Menurutnya masih ada kemungkinan vaksin COVID-19 harus diberikan setiap tahun, ada juga kemungkinan cukup booster diberikan sekali kemudian vaksinasi COVID-19 tidak diperlukan lagi.\\n\\nhttps://health.detik.com/berita-detikhealth/d-5816582/vaksin-covid-19-bakal-rutin-setiap-tahun-tergantung-ini-penjelasannya', 'RI Mulai Suntikkan Booster di 2022, Masihkah Ampuh Lawan Varian Delta Cs?\\n\\nJakarta - Pakar mengakui vaksin-vaksin yang sudah digunakan untuk dosis 1-2 memang mengalami penurunan efektivitas terhadap varian baru Corona seperti varian Delta. Mengingat booster atau dosis ketiga vaksin COVID-19 di Indonesia disebut bakal dimulai awal 2022, apakah jenis vaksin yang digunakan bakal mengikuti strain virus terbaru?\\nMenjawab pertanyaan tersebut, Ketua Satgas COVID-19 Ikatan Dokter Indonesia (IDI) Prof Zubairi Djoerban kembali menyinggung riset yang sudah berlangsung terkait efektivitas vaksin COVID-19 dosis 1 dan 2. Ia menyebut berdasarkan riset sejauh ini, efektivitas vaksin COVID-19 Pfizer dan Moderna terbukti menurun dalam melawan varian Delta.\\n\\nhttps://health.detik.com/berita-detikhealth/d-5816534/ri-mulai-suntikkan-booster-di-2022-masihkah-ampuh-lawan-varian-delta-cs', 'Alert! Kasus Varian Delta COVID-19 di DKI Meningkat\\n\\nJakarta - Data terbaru dari Balitbangkes Kemenkes RI per 13 November, menunjukkan adanya penambahan varian Delta. Penambahan tersebut terjadi di Jawa Barat ada 165 kasus, DKI Jakarta 90 kasus, dan Sulawesi Utara 86 kasus.\\nDalam satu bulan terakhir, Balitbangkes menyebutkan DKI Jakarta mengalami peningkatan kasus varian Delta yang signifikan. Sementara, pada varian baru seperti varian Alpha, varian Delta, hingga Beta terbanyak di Indonesia berasal dari DKI Jakarta, dengan total 1.327 kasus .\\n\\nhttps://health.detik.com/berita-detikhealth/d-5812940/alert-kasus-varian-delta-covid-19-di-dki-meningkat', 'Corona di AS Mendadak Naik Lagi Usai Serangan Delta Sempat Mereda\\n\\nJakarta - Kasus COVID-19 kembali naik di sejumlah wilayah Amerika Serikat (AS). Padahal diketahui, COVID-19 sempat tercatat stabil pasca serangan varian Delta musim panas ini. Ada apa?\\nHal tersebut disampaikan oleh kepala penasihat medis Gedung Putih Dr. Anthony Fauci, Senin (15/11/2021). Diketahui, kasus nasional turun 57 persen minggu lalu dari puncak gelombang varian Delta pada musim panas. Namun jumlah pasien COVID-19 di area Barat Tengah dan Timur laut kini naik mendadak.\\n\\nhttps://health.detik.com/berita-detikhealth/d-5813949/corona-di-as-mendadak-naik-lagi-usai-serangan-delta-sempat-mereda']\n"
     ]
    }
   ],
   "source": [
    "## Path yang digunakan\n",
    "path = \"C:/Users/yanto/Documents/STIS/Semester 5/Mata Kuliah/Information Retrieval/Praktikum/Praktikum 3/berita\"\n",
    "\n",
    "## Menampilkan file yang ada pada folder 'berita'\n",
    "read_file(path)\n",
    "\n",
    "## Menampilkan isi pada setiap file yang ada pada folder berita dan menyimpan ke dalam variabel berita\n",
    "beritaa = read_content_file(path)\n",
    "print(beritaa)\n",
    "\n",
    "# ini semua bisa diganti ke dictionary\n",
    "berita = {}\n",
    "berita['berita1'] = beritaa[0]\n",
    "berita['berita2'] = beritaa[1]\n",
    "berita['berita3'] = beritaa[2]\n",
    "berita['berita4'] = beritaa[3]\n",
    "berita['berita5'] = beritaa[4]\n"
   ]
  },
  {
   "cell_type": "code",
   "execution_count": 114,
   "id": "55b8a7ba",
   "metadata": {},
   "outputs": [
    {
     "data": {
      "text/plain": [
       "{'berita1': \"Wilayah Kamu Sudah 'Bebas' COVID-19? Cek 34 Kab/Kota Zona Hijau Terbaru\\n\\nJakarta - Pemerintah rencananya bakal menerapkan Pemberlakuan Pembatasan Kegiatan Masyarakat (PPKM) level 3 terhitung 24 Desember 2021 hingga 2 Januari 2021. Namun, Kementerian Kesehatan RI memastikan kebijakan PPKM level 3 ini masih dalam tahap kajian.\\nMenurut Direktur Pencegahan dan Pengendalian Penyakit Menular Langsung (P2PML) Kemenkes RI dr Siti Nadia Tarmizi, PPKM level 3 bakal diterapkan jika kasus COVID-19 naik signifikan. Hal ini umumnya dipicu dengan peningkatan mobilitas dan pelonggaran protokol kesehatan.\\n\\nhttps://health.detik.com/berita-detikhealth/d-5816690/wilayah-kamu-sudah-bebas-covid-19-cek-34-kabkota-zona-hijau-terbaru\",\n",
       " 'berita2': 'Vaksin COVID-19 Bakal Rutin Setiap Tahun? Tergantung, Ini Penjelasannya\\n\\nJakarta - Pemberian booster atau dosis ketiga vaksin COVID-19 di Indonesia direncanakan bakal berlangsung Januari 2022. Lantas adakah kemungkinan vaksinasi COVID-19 bakal harus dilakukan setiap tahun seperti vaksinasi influenza?\\nKetua Satgas COVID-19 Ikatan Dokter Indonesia (IDI) Prof Zubairi Djoerban menjelaskan hingga kini belum ada kepastian terkait hal tersebut. Menurutnya masih ada kemungkinan vaksin COVID-19 harus diberikan setiap tahun, ada juga kemungkinan cukup booster diberikan sekali kemudian vaksinasi COVID-19 tidak diperlukan lagi.\\n\\nhttps://health.detik.com/berita-detikhealth/d-5816582/vaksin-covid-19-bakal-rutin-setiap-tahun-tergantung-ini-penjelasannya',\n",
       " 'berita3': 'RI Mulai Suntikkan Booster di 2022, Masihkah Ampuh Lawan Varian Delta Cs?\\n\\nJakarta - Pakar mengakui vaksin-vaksin yang sudah digunakan untuk dosis 1-2 memang mengalami penurunan efektivitas terhadap varian baru Corona seperti varian Delta. Mengingat booster atau dosis ketiga vaksin COVID-19 di Indonesia disebut bakal dimulai awal 2022, apakah jenis vaksin yang digunakan bakal mengikuti strain virus terbaru?\\nMenjawab pertanyaan tersebut, Ketua Satgas COVID-19 Ikatan Dokter Indonesia (IDI) Prof Zubairi Djoerban kembali menyinggung riset yang sudah berlangsung terkait efektivitas vaksin COVID-19 dosis 1 dan 2. Ia menyebut berdasarkan riset sejauh ini, efektivitas vaksin COVID-19 Pfizer dan Moderna terbukti menurun dalam melawan varian Delta.\\n\\nhttps://health.detik.com/berita-detikhealth/d-5816534/ri-mulai-suntikkan-booster-di-2022-masihkah-ampuh-lawan-varian-delta-cs',\n",
       " 'berita4': 'Alert! Kasus Varian Delta COVID-19 di DKI Meningkat\\n\\nJakarta - Data terbaru dari Balitbangkes Kemenkes RI per 13 November, menunjukkan adanya penambahan varian Delta. Penambahan tersebut terjadi di Jawa Barat ada 165 kasus, DKI Jakarta 90 kasus, dan Sulawesi Utara 86 kasus.\\nDalam satu bulan terakhir, Balitbangkes menyebutkan DKI Jakarta mengalami peningkatan kasus varian Delta yang signifikan. Sementara, pada varian baru seperti varian Alpha, varian Delta, hingga Beta terbanyak di Indonesia berasal dari DKI Jakarta, dengan total 1.327 kasus .\\n\\nhttps://health.detik.com/berita-detikhealth/d-5812940/alert-kasus-varian-delta-covid-19-di-dki-meningkat',\n",
       " 'berita5': 'Corona di AS Mendadak Naik Lagi Usai Serangan Delta Sempat Mereda\\n\\nJakarta - Kasus COVID-19 kembali naik di sejumlah wilayah Amerika Serikat (AS). Padahal diketahui, COVID-19 sempat tercatat stabil pasca serangan varian Delta musim panas ini. Ada apa?\\nHal tersebut disampaikan oleh kepala penasihat medis Gedung Putih Dr. Anthony Fauci, Senin (15/11/2021). Diketahui, kasus nasional turun 57 persen minggu lalu dari puncak gelombang varian Delta pada musim panas. Namun jumlah pasien COVID-19 di area Barat Tengah dan Timur laut kini naik mendadak.\\n\\nhttps://health.detik.com/berita-detikhealth/d-5813949/corona-di-as-mendadak-naik-lagi-usai-serangan-delta-sempat-mereda'}"
      ]
     },
     "execution_count": 114,
     "metadata": {},
     "output_type": "execute_result"
    }
   ],
   "source": [
    "berita"
   ]
  },
  {
   "cell_type": "markdown",
   "id": "dae95a7c",
   "metadata": {},
   "source": [
    "## Preprocessing"
   ]
  },
  {
   "cell_type": "markdown",
   "id": "608ec00f",
   "metadata": {},
   "source": [
    "### Case Folding"
   ]
  },
  {
   "cell_type": "code",
   "execution_count": 115,
   "id": "340559f1",
   "metadata": {},
   "outputs": [
    {
     "data": {
      "text/plain": [
       "'!\"#$%&\\'()*+,-./:;<=>?@[\\\\]^_`{|}~'"
      ]
     },
     "execution_count": 115,
     "metadata": {},
     "output_type": "execute_result"
    }
   ],
   "source": [
    "# Coba buat Punctuation \n",
    "import string\n",
    "string.punctuation"
   ]
  },
  {
   "cell_type": "code",
   "execution_count": 116,
   "id": "b834c24d",
   "metadata": {},
   "outputs": [
    {
     "name": "stdout",
     "output_type": "stream",
     "text": [
      "{'berita1': 'Wilayah Kamu Sudah Bebas COVID19 Cek 34 KabKota Zona Hijau Terbaru\\n\\nJakarta  Pemerintah rencananya bakal menerapkan Pemberlakuan Pembatasan Kegiatan Masyarakat PPKM level 3 terhitung 24 Desember 2021 hingga 2 Januari 2021 Namun Kementerian Kesehatan RI memastikan kebijakan PPKM level 3 ini masih dalam tahap kajian\\nMenurut Direktur Pencegahan dan Pengendalian Penyakit Menular Langsung P2PML Kemenkes RI dr Siti Nadia Tarmizi PPKM level 3 bakal diterapkan jika kasus COVID19 naik signifikan Hal ini umumnya dipicu dengan peningkatan mobilitas dan pelonggaran protokol kesehatan\\n\\nhttpshealthdetikcomberitadetikhealthd5816690wilayahkamusudahbebascovid19cek34kabkotazonahijauterbaru', 'berita2': 'Vaksin COVID19 Bakal Rutin Setiap Tahun Tergantung Ini Penjelasannya\\n\\nJakarta  Pemberian booster atau dosis ketiga vaksin COVID19 di Indonesia direncanakan bakal berlangsung Januari 2022 Lantas adakah kemungkinan vaksinasi COVID19 bakal harus dilakukan setiap tahun seperti vaksinasi influenza\\nKetua Satgas COVID19 Ikatan Dokter Indonesia IDI Prof Zubairi Djoerban menjelaskan hingga kini belum ada kepastian terkait hal tersebut Menurutnya masih ada kemungkinan vaksin COVID19 harus diberikan setiap tahun ada juga kemungkinan cukup booster diberikan sekali kemudian vaksinasi COVID19 tidak diperlukan lagi\\n\\nhttpshealthdetikcomberitadetikhealthd5816582vaksincovid19bakalrutinsetiaptahuntergantunginipenjelasannya', 'berita3': 'RI Mulai Suntikkan Booster di 2022 Masihkah Ampuh Lawan Varian Delta Cs\\n\\nJakarta  Pakar mengakui vaksinvaksin yang sudah digunakan untuk dosis 12 memang mengalami penurunan efektivitas terhadap varian baru Corona seperti varian Delta Mengingat booster atau dosis ketiga vaksin COVID19 di Indonesia disebut bakal dimulai awal 2022 apakah jenis vaksin yang digunakan bakal mengikuti strain virus terbaru\\nMenjawab pertanyaan tersebut Ketua Satgas COVID19 Ikatan Dokter Indonesia IDI Prof Zubairi Djoerban kembali menyinggung riset yang sudah berlangsung terkait efektivitas vaksin COVID19 dosis 1 dan 2 Ia menyebut berdasarkan riset sejauh ini efektivitas vaksin COVID19 Pfizer dan Moderna terbukti menurun dalam melawan varian Delta\\n\\nhttpshealthdetikcomberitadetikhealthd5816534rimulaisuntikkanboosterdi2022masihkahampuhlawanvariandeltacs', 'berita4': 'Alert Kasus Varian Delta COVID19 di DKI Meningkat\\n\\nJakarta  Data terbaru dari Balitbangkes Kemenkes RI per 13 November menunjukkan adanya penambahan varian Delta Penambahan tersebut terjadi di Jawa Barat ada 165 kasus DKI Jakarta 90 kasus dan Sulawesi Utara 86 kasus\\nDalam satu bulan terakhir Balitbangkes menyebutkan DKI Jakarta mengalami peningkatan kasus varian Delta yang signifikan Sementara pada varian baru seperti varian Alpha varian Delta hingga Beta terbanyak di Indonesia berasal dari DKI Jakarta dengan total 1327 kasus \\n\\nhttpshealthdetikcomberitadetikhealthd5812940alertkasusvariandeltacovid19didkimeningkat', 'berita5': 'Corona di AS Mendadak Naik Lagi Usai Serangan Delta Sempat Mereda\\n\\nJakarta  Kasus COVID19 kembali naik di sejumlah wilayah Amerika Serikat AS Padahal diketahui COVID19 sempat tercatat stabil pasca serangan varian Delta musim panas ini Ada apa\\nHal tersebut disampaikan oleh kepala penasihat medis Gedung Putih Dr Anthony Fauci Senin 15112021 Diketahui kasus nasional turun 57 persen minggu lalu dari puncak gelombang varian Delta pada musim panas Namun jumlah pasien COVID19 di area Barat Tengah dan Timur laut kini naik mendadak\\n\\nhttpshealthdetikcomberitadetikhealthd5813949coronadiasmendadaknaiklagiusaiserangandeltasempatmereda'}\n"
     ]
    }
   ],
   "source": [
    "# defining the function to remove punctuation\n",
    "def remove_punctuation(text):\n",
    "    punctuationfree=\"\".join([i for i in text if i not in string.punctuation])\n",
    "    return punctuationfree\n",
    "#storing the puntuation free text\n",
    "\n",
    "no_punctuation = {}\n",
    "# for doc_id in berita.keys():\n",
    "#     no_punctuation[doc_id] = remove_punctuation(berita[doc_id])\n",
    "# for i in berita:\n",
    "#     no_punctuation.append(remove_punctuation(i))\n",
    "# for i in range(len(no_punctuation)):    \n",
    "#     print(no_punctuation[i])\n",
    "    \n",
    "for doc_id in berita.keys():\n",
    "    no_punctuation[doc_id] = remove_punctuation(berita[doc_id])\n",
    "# for i in range(len(no_punctuation)):    \n",
    "#     print(no_punctuation[i])\n",
    "print(no_punctuation)"
   ]
  },
  {
   "cell_type": "code",
   "execution_count": 117,
   "id": "e4d38504",
   "metadata": {},
   "outputs": [
    {
     "data": {
      "text/plain": [
       "{'berita1': 'wilayah kamu sudah bebas covid19 cek 34 kabkota zona hijau terbaru\\n\\njakarta  pemerintah rencananya bakal menerapkan pemberlakuan pembatasan kegiatan masyarakat ppkm level 3 terhitung 24 desember 2021 hingga 2 januari 2021 namun kementerian kesehatan ri memastikan kebijakan ppkm level 3 ini masih dalam tahap kajian\\nmenurut direktur pencegahan dan pengendalian penyakit menular langsung p2pml kemenkes ri dr siti nadia tarmizi ppkm level 3 bakal diterapkan jika kasus covid19 naik signifikan hal ini umumnya dipicu dengan peningkatan mobilitas dan pelonggaran protokol kesehatan\\n\\nhttpshealthdetikcomberitadetikhealthd5816690wilayahkamusudahbebascovid19cek34kabkotazonahijauterbaru',\n",
       " 'berita2': 'vaksin covid19 bakal rutin setiap tahun tergantung ini penjelasannya\\n\\njakarta  pemberian booster atau dosis ketiga vaksin covid19 di indonesia direncanakan bakal berlangsung januari 2022 lantas adakah kemungkinan vaksinasi covid19 bakal harus dilakukan setiap tahun seperti vaksinasi influenza\\nketua satgas covid19 ikatan dokter indonesia idi prof zubairi djoerban menjelaskan hingga kini belum ada kepastian terkait hal tersebut menurutnya masih ada kemungkinan vaksin covid19 harus diberikan setiap tahun ada juga kemungkinan cukup booster diberikan sekali kemudian vaksinasi covid19 tidak diperlukan lagi\\n\\nhttpshealthdetikcomberitadetikhealthd5816582vaksincovid19bakalrutinsetiaptahuntergantunginipenjelasannya',\n",
       " 'berita3': 'ri mulai suntikkan booster di 2022 masihkah ampuh lawan varian delta cs\\n\\njakarta  pakar mengakui vaksinvaksin yang sudah digunakan untuk dosis 12 memang mengalami penurunan efektivitas terhadap varian baru corona seperti varian delta mengingat booster atau dosis ketiga vaksin covid19 di indonesia disebut bakal dimulai awal 2022 apakah jenis vaksin yang digunakan bakal mengikuti strain virus terbaru\\nmenjawab pertanyaan tersebut ketua satgas covid19 ikatan dokter indonesia idi prof zubairi djoerban kembali menyinggung riset yang sudah berlangsung terkait efektivitas vaksin covid19 dosis 1 dan 2 ia menyebut berdasarkan riset sejauh ini efektivitas vaksin covid19 pfizer dan moderna terbukti menurun dalam melawan varian delta\\n\\nhttpshealthdetikcomberitadetikhealthd5816534rimulaisuntikkanboosterdi2022masihkahampuhlawanvariandeltacs',\n",
       " 'berita4': 'alert kasus varian delta covid19 di dki meningkat\\n\\njakarta  data terbaru dari balitbangkes kemenkes ri per 13 november menunjukkan adanya penambahan varian delta penambahan tersebut terjadi di jawa barat ada 165 kasus dki jakarta 90 kasus dan sulawesi utara 86 kasus\\ndalam satu bulan terakhir balitbangkes menyebutkan dki jakarta mengalami peningkatan kasus varian delta yang signifikan sementara pada varian baru seperti varian alpha varian delta hingga beta terbanyak di indonesia berasal dari dki jakarta dengan total 1327 kasus \\n\\nhttpshealthdetikcomberitadetikhealthd5812940alertkasusvariandeltacovid19didkimeningkat',\n",
       " 'berita5': 'corona di as mendadak naik lagi usai serangan delta sempat mereda\\n\\njakarta  kasus covid19 kembali naik di sejumlah wilayah amerika serikat as padahal diketahui covid19 sempat tercatat stabil pasca serangan varian delta musim panas ini ada apa\\nhal tersebut disampaikan oleh kepala penasihat medis gedung putih dr anthony fauci senin 15112021 diketahui kasus nasional turun 57 persen minggu lalu dari puncak gelombang varian delta pada musim panas namun jumlah pasien covid19 di area barat tengah dan timur laut kini naik mendadak\\n\\nhttpshealthdetikcomberitadetikhealthd5813949coronadiasmendadaknaiklagiusaiserangandeltasempatmereda'}"
      ]
     },
     "execution_count": 117,
     "metadata": {},
     "output_type": "execute_result"
    }
   ],
   "source": [
    "case_folding = {}\n",
    "# for i in range(len(no_punctuation)):\n",
    "#     case_folding.append(no_punctuation[i].lower())\n",
    "\n",
    "# for i in range(len(case_folding)):\n",
    "#     print(case_folding[i])\n",
    "\n",
    "for doc_id in berita.keys():\n",
    "    case_folding[doc_id] = no_punctuation[doc_id].lower()\n",
    "case_folding"
   ]
  },
  {
   "cell_type": "markdown",
   "id": "ad96b489",
   "metadata": {},
   "source": [
    "### Stemming "
   ]
  },
  {
   "cell_type": "code",
   "execution_count": 118,
   "id": "160e469f",
   "metadata": {},
   "outputs": [
    {
     "data": {
      "text/plain": [
       "{'berita1': 'wilayah kamu sudah bebas covid19 cek 34 kabkota zona hijau baru jakarta  perintah rencana bakal terap laku batas giat masyarakat ppkm level 3 hitung 24 desember 2021 hingga 2 januari 2021 namun menteri sehat ri pasti bijak ppkm level 3 ini masih dalam tahap kaji turut direktur cegah dan kendali sakit tular langsung p2pml kemenkes ri dr siti nadia tarmizi ppkm level 3 bakal terap jika kasus covid19 naik signifikan hal ini umum picu dengan tingkat mobilitas dan longgar protokol sehat httpshealthdetikcomberitadetikhealthd5816690wilayahkamusudahbebascovid19cek34kabkotazonahijauterbaru',\n",
       " 'berita2': 'vaksin covid19 bakal rutin tiap tahun gantung ini jelas jakarta  beri booster atau dosis tiga vaksin covid19 di indonesia rencana bakal langsung januari 2022 lantas ada mungkin vaksinasi covid19 bakal harus laku tiap tahun seperti vaksinasi influenza ketua satgas covid19 ikat dokter indonesia idi prof zubairi djoerban jelas hingga kini belum ada pasti kait hal sebut turut masih ada mungkin vaksin covid19 harus beri tiap tahun ada juga mungkin cukup booster beri sekali kemudian vaksinasi covid19 tidak perlu lagi httpshealthdetikcomberitadetikhealthd5816582vaksincovid19bakalrutinsetiaptahuntergantunginipenjelasannya',\n",
       " 'berita3': 'ri mulai suntik booster di 2022 masih ampuh lawan varian delta cs jakarta  pakar aku vaksinvaksin yang sudah guna untuk dosis 12 memang alami turun efektivitas hadap varian baru corona seperti varian delta ingat booster atau dosis tiga vaksin covid19 di indonesia sebut bakal mulai awal 2022 apakah jenis vaksin yang guna bakal ikut strain virus baru jawab tanya sebut ketua satgas covid19 ikat dokter indonesia idi prof zubairi djoerban kembali singgung riset yang sudah langsung kait efektivitas vaksin covid19 dosis 1 dan 2 ia sebut dasar riset jauh ini efektivitas vaksin covid19 pfizer dan moderna bukti turun dalam lawan varian delta httpshealthdetikcomberitadetikhealthd5816534rimulaisuntikkanboosterdi2022masihkahampuhlawanvariandeltacs',\n",
       " 'berita4': 'alert kasus varian delta covid19 di dki tingkat jakarta  data baru dari balitbangkes kemenkes ri per 13 november tunjuk ada tambah varian delta tambah sebut jadi di jawa barat ada 165 kasus dki jakarta 90 kasus dan sulawesi utara 86 kasus dalam satu bulan akhir balitbangkes sebut dki jakarta alami tingkat kasus varian delta yang signifikan sementara pada varian baru seperti varian alpha varian delta hingga beta banyak di indonesia asal dari dki jakarta dengan total 1327 kasus httpshealthdetikcomberitadetikhealthd5812940alertkasusvariandeltacovid19didkimeningkat',\n",
       " 'berita5': 'corona di as dadak naik lagi usai serang delta sempat reda jakarta  kasus covid19 kembali naik di jumlah wilayah amerika serikat as padahal tahu covid19 sempat catat stabil pasca serang varian delta musim panas ini ada apa hal sebut sampai oleh kepala nasihat medis gedung putih dr anthony fauci senin 15112021 tahu kasus nasional turun 57 persen minggu lalu dari puncak gelombang varian delta pada musim panas namun jumlah pasien covid19 di area barat tengah dan timur laut kini naik dadak httpshealthdetikcomberitadetikhealthd5813949coronadiasmendadaknaiklagiusaiserangandeltasempatmereda'}"
      ]
     },
     "execution_count": 118,
     "metadata": {},
     "output_type": "execute_result"
    }
   ],
   "source": [
    "def tokenisasi(text):\n",
    "    tokens = text.split(\" \")\n",
    "    return tokens\n",
    "\n",
    "from Sastrawi.Stemmer.StemmerFactory import StemmerFactory\n",
    "def stemming(text):\n",
    "    #Create Stemmer\n",
    "    factory = StemmerFactory()\n",
    "    stemmer = factory.create_stemmer()\n",
    "    \n",
    "    #stemming process\n",
    "    output = stemmer.stem(text)\n",
    "    return output\n",
    "\n",
    "def stemming_sentence(text):\n",
    "    output = \"\"\n",
    "    for token in tokenisasi(text):\n",
    "        output = output + stemming(token) + \" \"\n",
    "    return output[:-1]\n",
    "\n",
    "stemming_corpus = {}\n",
    "for doc_id, doc in case_folding.items():\n",
    "    stemming_corpus[doc_id] = stemming_sentence(doc)\n",
    "\n",
    "stemming_corpus\n",
    "\n",
    "\n",
    "## nanti dilanjutkan ya, yang eliminasi punctuation dll jangan lupa jua"
   ]
  },
  {
   "cell_type": "code",
   "execution_count": 119,
   "id": "e63ff817",
   "metadata": {},
   "outputs": [],
   "source": [
    "## No Stopwords\n",
    "from spacy.lang.id import Indonesian\n",
    "import spacy\n",
    "nlp = spacy.blank('id') \n",
    "# def tokenisasi(text):\n",
    "#     tokens = text.split(\" \")\n",
    "#     return tokens\n",
    "\n"
   ]
  },
  {
   "cell_type": "markdown",
   "id": "fa0089cd",
   "metadata": {},
   "source": [
    "### Eliminasi StopWords"
   ]
  },
  {
   "cell_type": "code",
   "execution_count": 120,
   "id": "2b131fee",
   "metadata": {},
   "outputs": [
    {
     "data": {
      "text/plain": [
       "{'berita1': 'wilayah bebas covid cek kabkota zona hijau jakarta perintah rencana terap laku batas giat masyarakat ppkm level hitung desember januari menteri sehat ri bijak ppkm level tahap kaji direktur cegah kendali sakit tular langsung ppml kemenkes ri dr siti nadia tarmizi ppkm level terap covid signifikan picu tingkat mobilitas longgar protokol sehat httpshealthdetikcomberitadetikhealthdwilayahkamusudahbebascovidcekkabkotazonahijauterbaru ',\n",
       " 'berita2': 'vaksin covid rutin gantung jakarta booster dosis vaksin covid indonesia rencana langsung januari lantas vaksinasi covid laku vaksinasi influenza ketua satgas covid ikat dokter indonesia idi prof zubairi djoerban kait vaksin covid booster vaksinasi covid httpshealthdetikcomberitadetikhealthdvaksincovidbakalrutinsetiaptahuntergantunginipenjelasannya ',\n",
       " 'berita3': 'ri suntik booster ampuh lawan varian delta cs jakarta pakar vaksinvaksin dosis alami turun efektivitas hadap varian corona varian delta booster dosis vaksin covid indonesia jenis vaksin strain virus ketua satgas covid ikat dokter indonesia idi prof zubairi djoerban singgung riset langsung kait efektivitas vaksin covid dosis dasar riset efektivitas vaksin covid pfizer moderna bukti turun lawan varian delta httpshealthdetikcomberitadetikhealthdrimulaisuntikkanboosterdimasihkahampuhlawanvariandeltacs ',\n",
       " 'berita4': 'alert varian delta covid dki tingkat jakarta data balitbangkes kemenkes ri november varian delta jawa barat dki jakarta sulawesi utara balitbangkes dki jakarta alami tingkat varian delta signifikan varian varian alpha varian delta beta indonesia dki jakarta total httpshealthdetikcomberitadetikhealthdalertkasusvariandeltacoviddidkimeningkat ',\n",
       " 'berita5': 'corona as dadak serang delta reda jakarta covid wilayah amerika serikat as covid catat stabil pasca serang varian delta musim panas kepala nasihat medis gedung putih dr anthony fauci senin nasional turun persen minggu puncak gelombang varian delta musim panas pasien covid area barat timur laut dadak httpshealthdetikcomberitadetikhealthdcoronadiasmendadaknaiklagiusaiserangandeltasempatmereda '}"
      ]
     },
     "execution_count": 120,
     "metadata": {},
     "output_type": "execute_result"
    }
   ],
   "source": [
    "no_sw = {}\n",
    "stopwords =  nlp.Defaults.stop_words\n",
    "\n",
    "for doc_id, doc_dict in stemming_corpus.items():\n",
    "    output = \"\"\n",
    "    for token in tokenisasi(stemming_corpus[doc_id]):\n",
    "        token1 = re.sub('[0-9,'']','',token) \n",
    "        if (token1 not in stopwords) and (token1 != \"\"):\n",
    "            output = output  + token1 + \" \"\n",
    "#             output1 = re.sub('[0-9,'']','',token)\n",
    "#         else :\n",
    "#             print(token)\n",
    "#     print(output)\n",
    "    no_sw[doc_id] = output\n",
    "no_sw\n",
    "\n",
    "# kurang eliminasi https"
   ]
  },
  {
   "cell_type": "markdown",
   "id": "7e39ba92",
   "metadata": {},
   "source": [
    "### Tokenisasi"
   ]
  },
  {
   "cell_type": "code",
   "execution_count": 121,
   "id": "27dc7500",
   "metadata": {},
   "outputs": [
    {
     "name": "stdout",
     "output_type": "stream",
     "text": [
      "[['wilayah', 'bebas', 'covid', 'cek', 'kabkota', 'zona', 'hijau', 'jakarta', 'perintah', 'rencana', 'terap', 'laku', 'batas', 'giat', 'masyarakat', 'ppkm', 'level', 'hitung', 'desember', 'januari', 'menteri', 'sehat', 'ri', 'bijak', 'ppkm', 'level', 'tahap', 'kaji', 'direktur', 'cegah', 'kendali', 'sakit', 'tular', 'langsung', 'ppml', 'kemenkes', 'ri', 'dr', 'siti', 'nadia', 'tarmizi', 'ppkm', 'level', 'terap', 'covid', 'signifikan', 'picu', 'tingkat', 'mobilitas', 'longgar', 'protokol', 'sehat', 'httpshealthdetikcomberitadetikhealthdwilayahkamusudahbebascovidcekkabkotazonahijauterbaru'], ['vaksin', 'covid', 'rutin', 'gantung', 'jakarta', 'booster', 'dosis', 'vaksin', 'covid', 'indonesia', 'rencana', 'langsung', 'januari', 'lantas', 'vaksinasi', 'covid', 'laku', 'vaksinasi', 'influenza', 'ketua', 'satgas', 'covid', 'ikat', 'dokter', 'indonesia', 'idi', 'prof', 'zubairi', 'djoerban', 'kait', 'vaksin', 'covid', 'booster', 'vaksinasi', 'covid', 'httpshealthdetikcomberitadetikhealthdvaksincovidbakalrutinsetiaptahuntergantunginipenjelasannya'], ['ri', 'suntik', 'booster', 'ampuh', 'lawan', 'varian', 'delta', 'cs', 'jakarta', 'pakar', 'vaksinvaksin', 'dosis', 'alami', 'turun', 'efektivitas', 'hadap', 'varian', 'corona', 'varian', 'delta', 'booster', 'dosis', 'vaksin', 'covid', 'indonesia', 'jenis', 'vaksin', 'strain', 'virus', 'ketua', 'satgas', 'covid', 'ikat', 'dokter', 'indonesia', 'idi', 'prof', 'zubairi', 'djoerban', 'singgung', 'riset', 'langsung', 'kait', 'efektivitas', 'vaksin', 'covid', 'dosis', 'dasar', 'riset', 'efektivitas', 'vaksin', 'covid', 'pfizer', 'moderna', 'bukti', 'turun', 'lawan', 'varian', 'delta', 'httpshealthdetikcomberitadetikhealthdrimulaisuntikkanboosterdimasihkahampuhlawanvariandeltacs'], ['alert', 'varian', 'delta', 'covid', 'dki', 'tingkat', 'jakarta', 'data', 'balitbangkes', 'kemenkes', 'ri', 'november', 'varian', 'delta', 'jawa', 'barat', 'dki', 'jakarta', 'sulawesi', 'utara', 'balitbangkes', 'dki', 'jakarta', 'alami', 'tingkat', 'varian', 'delta', 'signifikan', 'varian', 'varian', 'alpha', 'varian', 'delta', 'beta', 'indonesia', 'dki', 'jakarta', 'total', 'httpshealthdetikcomberitadetikhealthdalertkasusvariandeltacoviddidkimeningkat'], ['corona', 'as', 'dadak', 'serang', 'delta', 'reda', 'jakarta', 'covid', 'wilayah', 'amerika', 'serikat', 'as', 'covid', 'catat', 'stabil', 'pasca', 'serang', 'varian', 'delta', 'musim', 'panas', 'kepala', 'nasihat', 'medis', 'gedung', 'putih', 'dr', 'anthony', 'fauci', 'senin', 'nasional', 'turun', 'persen', 'minggu', 'puncak', 'gelombang', 'varian', 'delta', 'musim', 'panas', 'pasien', 'covid', 'area', 'barat', 'timur', 'laut', 'dadak', 'httpshealthdetikcomberitadetikhealthdcoronadiasmendadaknaiklagiusaiserangandeltasempatmereda']]\n"
     ]
    }
   ],
   "source": [
    "tokenized = [tokenisasi(no_sw[doc_id]) for doc_id in no_sw]\n",
    "\n",
    "tokenized_corpus = []\n",
    "\n",
    "for i in tokenized:\n",
    "#     final = []\n",
    "    nnn = [k for k in i if k != ''] # menghilangkan string kosong\n",
    "    tokenized_corpus.append(nnn)\n",
    "\n",
    "print(tokenized_corpus)"
   ]
  },
  {
   "cell_type": "markdown",
   "id": "ec294576",
   "metadata": {},
   "source": [
    "### Fungsi mengembalikan top k dokumen dengan BM25"
   ]
  },
  {
   "cell_type": "code",
   "execution_count": 122,
   "id": "e72ca9a8",
   "metadata": {},
   "outputs": [],
   "source": [
    "from rank_bm25 import BM25Okapi\n",
    "\n",
    "def querinisasi(query):\n",
    "    tokenized_query = tokenisasi(query)\n",
    "    bm25 = BM25Okapi(tokenized_corpus)\n",
    "    doc_scores = bm25.get_scores(tokenized_query)\n",
    "#     print(\"Query '\" + query + \"' :\") \n",
    "#     print(doc_scores)\n",
    "    return(doc_scores)\n"
   ]
  },
  {
   "cell_type": "code",
   "execution_count": 123,
   "id": "65b8e23d",
   "metadata": {},
   "outputs": [
    {
     "data": {
      "text/plain": [
       "array([0.20065116, 0.83321164, 1.06821013, 0.3991786 , 0.54406904])"
      ]
     },
     "execution_count": 123,
     "metadata": {},
     "output_type": "execute_result"
    }
   ],
   "source": [
    "querinisasi(\"vaksin corona jakarta\")"
   ]
  },
  {
   "cell_type": "code",
   "execution_count": 124,
   "id": "1e200d2c",
   "metadata": {},
   "outputs": [],
   "source": [
    "from collections import OrderedDict\n",
    "def exact_top_k_bm25(doc_dict, rank_score, k):\n",
    "    relevance_scores = {}\n",
    "    i = 0\n",
    "    for doc_id in doc_dict.keys():\n",
    "        relevance_scores[doc_id] = rank_score[i]\n",
    "        i = i + 1\n",
    "        \n",
    "#         sorted_value = OrderedDict(sorted(relevance_scores.items(), key=lambda x: x[1], reverse = True))\n",
    "#         top_k = {j: sorted_value[j] for j in list(sorted_value)[:k]}\n",
    "        \n",
    "        sorted_value = OrderedDict(sorted(relevance_scores.items(),key = lambda x:x[1], reverse = True))\n",
    "        top_k = {j : sorted_value[j] for j in list(sorted_value)[:k]}\n",
    "    return top_k"
   ]
  },
  {
   "cell_type": "code",
   "execution_count": 125,
   "id": "32d6d645",
   "metadata": {},
   "outputs": [
    {
     "data": {
      "text/plain": [
       "{'berita3': 1.068210132282897,\n",
       " 'berita2': 0.8332116429494796,\n",
       " 'berita5': 0.544069042444546}"
      ]
     },
     "execution_count": 125,
     "metadata": {},
     "output_type": "execute_result"
    }
   ],
   "source": [
    "exact_top_k_bm25(no_sw, querinisasi(\"vaksin corona jakarta\"), 3)"
   ]
  },
  {
   "cell_type": "markdown",
   "id": "51f73d02",
   "metadata": {},
   "source": [
    "### Perhitungan dengan VSM"
   ]
  },
  {
   "cell_type": "code",
   "execution_count": 126,
   "id": "770da94b",
   "metadata": {},
   "outputs": [],
   "source": [
    "## Definisikan fungsi untuk melakukan stemming dan mendapatkan inverted index\n",
    "def stemming(text):\n",
    "    from Sastrawi.Stemmer.StemmerFactory import StemmerFactory\n",
    "    \n",
    "    # create stemmer\n",
    "    factory = StemmerFactory()\n",
    "    stemmer = factory.create_stemmer()\n",
    "    \n",
    "    output = stemmer.stem(text)\n",
    "    return(output)\n",
    "\n",
    "def inverted_index(corpus_term):\n",
    "    inverted_index = {}\n",
    "    \n",
    "    for i in range(len(corpus_term)):\n",
    "        for item in corpus_term[i]:\n",
    "            item = stemming(item)\n",
    "            if item not in inverted_index: # inputing item in dictionary if not available\n",
    "                inverted_index[item] = []\n",
    "            if (item in inverted_index) and ((i+1) not in inverted_index[item]): # setelah ada di key dictionary, masukin indeksnya ke berapa aja\n",
    "                inverted_index[item].append(i+1)\n",
    "    return(inverted_index)\n",
    "\n"
   ]
  },
  {
   "cell_type": "code",
   "execution_count": 28,
   "id": "3836b6ef",
   "metadata": {},
   "outputs": [
    {
     "name": "stdout",
     "output_type": "stream",
     "text": [
      "{'wilayah': ['berita1', 'berita5'], 'bebas': ['berita1'], 'covid': ['berita1', 'berita2', 'berita3', 'berita4', 'berita5'], 'cek': ['berita1'], 'kabkota': ['berita1'], 'zona': ['berita1'], 'hijau': ['berita1'], 'jakarta': ['berita1', 'berita2', 'berita3', 'berita4', 'berita5'], 'perintah': ['berita1'], 'rencana': ['berita1', 'berita2'], 'terap': ['berita1'], 'laku': ['berita1', 'berita2'], 'batas': ['berita1'], 'giat': ['berita1'], 'masyarakat': ['berita1'], 'ppkm': ['berita1'], 'level': ['berita1'], 'hitung': ['berita1'], 'desember': ['berita1'], 'januari': ['berita1', 'berita2'], 'menteri': ['berita1'], 'sehat': ['berita1'], 'ri': ['berita1', 'berita3', 'berita4'], 'bijak': ['berita1'], 'tahap': ['berita1'], 'kaji': ['berita1'], 'direktur': ['berita1'], 'cegah': ['berita1'], 'kendali': ['berita1'], 'sakit': ['berita1'], 'tular': ['berita1'], 'langsung': ['berita1', 'berita2', 'berita3'], 'ppml': ['berita1'], 'kemenkes': ['berita1', 'berita4'], 'dr': ['berita1', 'berita5'], 'siti': ['berita1'], 'nadia': ['berita1'], 'tarmizi': ['berita1'], 'signifikan': ['berita1', 'berita4'], 'picu': ['berita1'], 'tingkat': ['berita1', 'berita4'], 'mobilitas': ['berita1'], 'longgar': ['berita1'], 'protokol': ['berita1'], 'httpshealthdetikcomberitadetikhealthdwilayahkamusudahbebascovidcekkabkotazonahijauterbaru': ['berita1'], '': ['berita1', 'berita2', 'berita3', 'berita4', 'berita5'], 'vaksin': ['berita2', 'berita3'], 'rutin': ['berita2'], 'gantung': ['berita2'], 'booster': ['berita2', 'berita3'], 'dosis': ['berita2', 'berita3'], 'indonesia': ['berita2', 'berita3', 'berita4'], 'lantas': ['berita2'], 'vaksinasi': ['berita2'], 'influenza': ['berita2'], 'ketua': ['berita2', 'berita3'], 'satgas': ['berita2', 'berita3'], 'ikat': ['berita2', 'berita3'], 'dokter': ['berita2', 'berita3'], 'idi': ['berita2', 'berita3'], 'prof': ['berita2', 'berita3'], 'zubairi': ['berita2', 'berita3'], 'djoerban': ['berita2', 'berita3'], 'kait': ['berita2', 'berita3'], 'httpshealthdetikcomberitadetikhealthdvaksincovidbakalrutinsetiaptahuntergantunginipenjelasannya': ['berita2'], 'suntik': ['berita3'], 'ampuh': ['berita3'], 'lawan': ['berita3'], 'varian': ['berita3', 'berita4', 'berita5'], 'delta': ['berita3', 'berita4', 'berita5'], 'cs': ['berita3'], 'pakar': ['berita3'], 'vaksinvaksin': ['berita3'], 'alami': ['berita3', 'berita4'], 'turun': ['berita3', 'berita5'], 'efektivitas': ['berita3'], 'hadap': ['berita3'], 'corona': ['berita3', 'berita5'], 'jenis': ['berita3'], 'strain': ['berita3'], 'virus': ['berita3'], 'singgung': ['berita3'], 'riset': ['berita3'], 'dasar': ['berita3'], 'pfizer': ['berita3'], 'moderna': ['berita3'], 'bukti': ['berita3'], 'httpshealthdetikcomberitadetikhealthdrimulaisuntikkanboosterdimasihkahampuhlawanvariandeltacs': ['berita3'], 'alert': ['berita4'], 'dki': ['berita4'], 'data': ['berita4'], 'balitbangkes': ['berita4'], 'november': ['berita4'], 'jawa': ['berita4'], 'barat': ['berita4', 'berita5'], 'sulawesi': ['berita4'], 'utara': ['berita4'], 'alpha': ['berita4'], 'beta': ['berita4'], 'total': ['berita4'], 'httpshealthdetikcomberitadetikhealthdalertkasusvariandeltacoviddidkimeningkat': ['berita4'], 'as': ['berita5'], 'dadak': ['berita5'], 'serang': ['berita5'], 'reda': ['berita5'], 'amerika': ['berita5'], 'serikat': ['berita5'], 'catat': ['berita5'], 'stabil': ['berita5'], 'pasca': ['berita5'], 'musim': ['berita5'], 'panas': ['berita5'], 'kepala': ['berita5'], 'nasihat': ['berita5'], 'medis': ['berita5'], 'gedung': ['berita5'], 'putih': ['berita5'], 'anthony': ['berita5'], 'fauci': ['berita5'], 'senin': ['berita5'], 'nasional': ['berita5'], 'persen': ['berita5'], 'minggu': ['berita5'], 'puncak': ['berita5'], 'gelombang': ['berita5'], 'pasien': ['berita5'], 'area': ['berita5'], 'timur': ['berita5'], 'laut': ['berita5'], 'httpshealthdetikcomberitadetikhealthdcoronadiasmendadaknaiklagiusaiserangandeltasempatmereda': ['berita5']}\n"
     ]
    }
   ],
   "source": [
    "#### Inverted Index\n",
    "vocab = []\n",
    "inverted_index = {}\n",
    "for doc_id, doc in no_sw.items():\n",
    "    for token in tokenisasi(doc):\n",
    "#         print(token)\n",
    "        if token not in vocab : \n",
    "            vocab.append(token)\n",
    "            inverted_index[token] = []\n",
    "        if token in inverted_index:\n",
    "            if doc_id not in inverted_index[token]:\n",
    "                inverted_index[token].append(doc_id)\n",
    "# print(\"\\nThis is Vocab :\")\n",
    "# print(vocab)\n",
    "# print(\"\\nThis is inverted Index : \")\n",
    "# for doc_id in inverted_index :\n",
    "#     print(doc_id + \" : \")\n",
    "#     print(inverted_index[doc_id])\n",
    "#     print(\"\\n\")\n",
    "print(inverted_index)\n"
   ]
  },
  {
   "cell_type": "code",
   "execution_count": 38,
   "id": "cc33e291",
   "metadata": {},
   "outputs": [
    {
     "ename": "TypeError",
     "evalue": "'dict' object is not callable",
     "output_type": "error",
     "traceback": [
      "\u001b[1;31m---------------------------------------------------------------------------\u001b[0m",
      "\u001b[1;31mTypeError\u001b[0m                                 Traceback (most recent call last)",
      "Input \u001b[1;32mIn [38]\u001b[0m, in \u001b[0;36m<cell line: 2>\u001b[1;34m()\u001b[0m\n\u001b[0;32m      1\u001b[0m \u001b[38;5;66;03m## Getting Inverted Index \u001b[39;00m\n\u001b[1;32m----> 2\u001b[0m inv_idx \u001b[38;5;241m=\u001b[39m \u001b[43minverted_index\u001b[49m\u001b[43m(\u001b[49m\u001b[43mtokenized_corpus\u001b[49m\u001b[43m)\u001b[49m\n\u001b[0;32m      3\u001b[0m \u001b[38;5;28mprint\u001b[39m(inv_idx)\n",
      "\u001b[1;31mTypeError\u001b[0m: 'dict' object is not callable"
     ]
    }
   ],
   "source": [
    "\n",
    "## Getting Inverted Index \n",
    "inv_idx = inverted_index(tokenized_corpus)\n",
    "print(inv_idx)"
   ]
  },
  {
   "cell_type": "code",
   "execution_count": 39,
   "id": "2722df09",
   "metadata": {},
   "outputs": [
    {
     "name": "stdout",
     "output_type": "stream",
     "text": [
      "{'berita1': {'wilayah': 2, 'bebas': 2, 'covid': 3, 'cek': 2, 'kabkota': 2, 'zona': 2, 'hijau': 2, 'jakarta': 1, 'perintah': 1, 'rencana': 1, 'terap': 2, 'laku': 1, 'batas': 1, 'giat': 1, 'masyarakat': 1, 'ppkm': 3, 'level': 3, 'hitung': 1, 'desember': 1, 'januari': 1, 'menteri': 1, 'sehat': 2, 'ri': 6, 'bijak': 1, 'tahap': 1, 'kaji': 1, 'direktur': 1, 'cegah': 1, 'kendali': 1, 'sakit': 1, 'tular': 1, 'langsung': 1, 'ppml': 1, 'kemenkes': 1, 'dr': 1, 'siti': 1, 'nadia': 1, 'tarmizi': 1, 'signifikan': 1, 'picu': 1, 'tingkat': 1, 'mobilitas': 1, 'longgar': 1, 'protokol': 1, 'httpshealthdetikcomberitadetikhealthdwilayahkamusudahbebascovidcekkabkotazonahijauterbaru': 1, '': 435, 'vaksin': 0, 'rutin': 0, 'gantung': 0, 'booster': 0, 'dosis': 0, 'indonesia': 0, 'lantas': 0, 'vaksinasi': 0, 'influenza': 0, 'ketua': 0, 'satgas': 0, 'ikat': 0, 'dokter': 0, 'idi': 0, 'prof': 0, 'zubairi': 0, 'djoerban': 0, 'kait': 0, 'httpshealthdetikcomberitadetikhealthdvaksincovidbakalrutinsetiaptahuntergantunginipenjelasannya': 0, 'suntik': 0, 'ampuh': 0, 'lawan': 0, 'varian': 0, 'delta': 0, 'cs': 0, 'pakar': 0, 'vaksinvaksin': 0, 'alami': 0, 'turun': 0, 'efektivitas': 0, 'hadap': 0, 'corona': 0, 'jenis': 0, 'strain': 0, 'virus': 0, 'singgung': 0, 'riset': 0, 'dasar': 0, 'pfizer': 0, 'moderna': 0, 'bukti': 0, 'httpshealthdetikcomberitadetikhealthdrimulaisuntikkanboosterdimasihkahampuhlawanvariandeltacs': 0, 'alert': 0, 'dki': 0, 'data': 0, 'balitbangkes': 0, 'november': 0, 'jawa': 0, 'barat': 0, 'sulawesi': 0, 'utara': 0, 'alpha': 0, 'beta': 0, 'total': 0, 'httpshealthdetikcomberitadetikhealthdalertkasusvariandeltacoviddidkimeningkat': 0, 'as': 5, 'dadak': 0, 'serang': 0, 'reda': 0, 'amerika': 0, 'serikat': 0, 'catat': 0, 'stabil': 0, 'pasca': 0, 'musim': 0, 'panas': 0, 'kepala': 0, 'nasihat': 0, 'medis': 0, 'gedung': 0, 'putih': 0, 'anthony': 0, 'fauci': 0, 'senin': 0, 'nasional': 0, 'persen': 0, 'minggu': 0, 'puncak': 0, 'gelombang': 0, 'pasien': 0, 'area': 0, 'timur': 0, 'laut': 0, 'httpshealthdetikcomberitadetikhealthdcoronadiasmendadaknaiklagiusaiserangandeltasempatmereda': 0}, 'berita2': {'wilayah': 0, 'bebas': 0, 'covid': 7, 'cek': 0, 'kabkota': 0, 'zona': 0, 'hijau': 0, 'jakarta': 1, 'perintah': 0, 'rencana': 1, 'terap': 0, 'laku': 1, 'batas': 0, 'giat': 0, 'masyarakat': 0, 'ppkm': 0, 'level': 0, 'hitung': 0, 'desember': 0, 'januari': 1, 'menteri': 0, 'sehat': 0, 'ri': 3, 'bijak': 0, 'tahap': 0, 'kaji': 0, 'direktur': 0, 'cegah': 0, 'kendali': 0, 'sakit': 0, 'tular': 0, 'langsung': 1, 'ppml': 0, 'kemenkes': 0, 'dr': 0, 'siti': 0, 'nadia': 0, 'tarmizi': 0, 'signifikan': 0, 'picu': 0, 'tingkat': 0, 'mobilitas': 0, 'longgar': 0, 'protokol': 0, 'httpshealthdetikcomberitadetikhealthdwilayahkamusudahbebascovidcekkabkotazonahijauterbaru': 0, '': 351, 'vaksin': 7, 'rutin': 2, 'gantung': 2, 'booster': 2, 'dosis': 1, 'indonesia': 2, 'lantas': 1, 'vaksinasi': 3, 'influenza': 1, 'ketua': 1, 'satgas': 1, 'ikat': 1, 'dokter': 1, 'idi': 1, 'prof': 1, 'zubairi': 1, 'djoerban': 1, 'kait': 1, 'httpshealthdetikcomberitadetikhealthdvaksincovidbakalrutinsetiaptahuntergantunginipenjelasannya': 1, 'suntik': 0, 'ampuh': 0, 'lawan': 0, 'varian': 0, 'delta': 0, 'cs': 0, 'pakar': 0, 'vaksinvaksin': 0, 'alami': 0, 'turun': 0, 'efektivitas': 0, 'hadap': 0, 'corona': 0, 'jenis': 0, 'strain': 0, 'virus': 0, 'singgung': 0, 'riset': 0, 'dasar': 0, 'pfizer': 0, 'moderna': 0, 'bukti': 0, 'httpshealthdetikcomberitadetikhealthdrimulaisuntikkanboosterdimasihkahampuhlawanvariandeltacs': 0, 'alert': 0, 'dki': 0, 'data': 0, 'balitbangkes': 0, 'november': 0, 'jawa': 0, 'barat': 0, 'sulawesi': 0, 'utara': 0, 'alpha': 0, 'beta': 0, 'total': 0, 'httpshealthdetikcomberitadetikhealthdalertkasusvariandeltacoviddidkimeningkat': 0, 'as': 6, 'dadak': 0, 'serang': 0, 'reda': 0, 'amerika': 0, 'serikat': 0, 'catat': 0, 'stabil': 0, 'pasca': 0, 'musim': 0, 'panas': 0, 'kepala': 0, 'nasihat': 0, 'medis': 0, 'gedung': 0, 'putih': 0, 'anthony': 0, 'fauci': 0, 'senin': 0, 'nasional': 0, 'persen': 0, 'minggu': 0, 'puncak': 0, 'gelombang': 0, 'pasien': 0, 'area': 0, 'timur': 0, 'laut': 0, 'httpshealthdetikcomberitadetikhealthdcoronadiasmendadaknaiklagiusaiserangandeltasempatmereda': 0}, 'berita3': {'wilayah': 0, 'bebas': 0, 'covid': 4, 'cek': 0, 'kabkota': 0, 'zona': 0, 'hijau': 0, 'jakarta': 1, 'perintah': 0, 'rencana': 0, 'terap': 0, 'laku': 0, 'batas': 0, 'giat': 0, 'masyarakat': 0, 'ppkm': 0, 'level': 0, 'hitung': 0, 'desember': 0, 'januari': 0, 'menteri': 0, 'sehat': 0, 'ri': 11, 'bijak': 0, 'tahap': 0, 'kaji': 0, 'direktur': 0, 'cegah': 0, 'kendali': 0, 'sakit': 0, 'tular': 0, 'langsung': 1, 'ppml': 0, 'kemenkes': 0, 'dr': 1, 'siti': 0, 'nadia': 0, 'tarmizi': 0, 'signifikan': 0, 'picu': 0, 'tingkat': 0, 'mobilitas': 0, 'longgar': 0, 'protokol': 0, 'httpshealthdetikcomberitadetikhealthdwilayahkamusudahbebascovidcekkabkotazonahijauterbaru': 0, '': 504, 'vaksin': 6, 'rutin': 0, 'gantung': 0, 'booster': 3, 'dosis': 3, 'indonesia': 2, 'lantas': 0, 'vaksinasi': 0, 'influenza': 0, 'ketua': 1, 'satgas': 1, 'ikat': 1, 'dokter': 1, 'idi': 1, 'prof': 1, 'zubairi': 1, 'djoerban': 1, 'kait': 1, 'httpshealthdetikcomberitadetikhealthdvaksincovidbakalrutinsetiaptahuntergantunginipenjelasannya': 0, 'suntik': 2, 'ampuh': 2, 'lawan': 3, 'varian': 5, 'delta': 4, 'cs': 2, 'pakar': 1, 'vaksinvaksin': 1, 'alami': 1, 'turun': 2, 'efektivitas': 3, 'hadap': 1, 'corona': 1, 'jenis': 1, 'strain': 1, 'virus': 1, 'singgung': 1, 'riset': 2, 'dasar': 1, 'pfizer': 1, 'moderna': 1, 'bukti': 1, 'httpshealthdetikcomberitadetikhealthdrimulaisuntikkanboosterdimasihkahampuhlawanvariandeltacs': 1, 'alert': 0, 'dki': 0, 'data': 0, 'balitbangkes': 0, 'november': 0, 'jawa': 0, 'barat': 0, 'sulawesi': 0, 'utara': 0, 'alpha': 0, 'beta': 0, 'total': 0, 'httpshealthdetikcomberitadetikhealthdalertkasusvariandeltacoviddidkimeningkat': 0, 'as': 6, 'dadak': 0, 'serang': 0, 'reda': 0, 'amerika': 0, 'serikat': 0, 'catat': 0, 'stabil': 0, 'pasca': 0, 'musim': 0, 'panas': 0, 'kepala': 0, 'nasihat': 0, 'medis': 0, 'gedung': 0, 'putih': 0, 'anthony': 0, 'fauci': 0, 'senin': 0, 'nasional': 0, 'persen': 0, 'minggu': 0, 'puncak': 0, 'gelombang': 0, 'pasien': 0, 'area': 0, 'timur': 0, 'laut': 0, 'httpshealthdetikcomberitadetikhealthdcoronadiasmendadaknaiklagiusaiserangandeltasempatmereda': 0}, 'berita4': {'wilayah': 0, 'bebas': 0, 'covid': 2, 'cek': 0, 'kabkota': 0, 'zona': 0, 'hijau': 0, 'jakarta': 4, 'perintah': 0, 'rencana': 0, 'terap': 0, 'laku': 0, 'batas': 0, 'giat': 0, 'masyarakat': 0, 'ppkm': 0, 'level': 0, 'hitung': 0, 'desember': 0, 'januari': 0, 'menteri': 0, 'sehat': 0, 'ri': 9, 'bijak': 0, 'tahap': 0, 'kaji': 0, 'direktur': 0, 'cegah': 0, 'kendali': 0, 'sakit': 0, 'tular': 0, 'langsung': 0, 'ppml': 0, 'kemenkes': 1, 'dr': 0, 'siti': 0, 'nadia': 0, 'tarmizi': 0, 'signifikan': 1, 'picu': 0, 'tingkat': 2, 'mobilitas': 0, 'longgar': 0, 'protokol': 0, 'httpshealthdetikcomberitadetikhealthdwilayahkamusudahbebascovidcekkabkotazonahijauterbaru': 0, '': 343, 'vaksin': 0, 'rutin': 0, 'gantung': 0, 'booster': 0, 'dosis': 0, 'indonesia': 1, 'lantas': 0, 'vaksinasi': 0, 'influenza': 0, 'ketua': 0, 'satgas': 0, 'ikat': 0, 'dokter': 0, 'idi': 0, 'prof': 0, 'zubairi': 0, 'djoerban': 0, 'kait': 0, 'httpshealthdetikcomberitadetikhealthdvaksincovidbakalrutinsetiaptahuntergantunginipenjelasannya': 0, 'suntik': 0, 'ampuh': 0, 'lawan': 0, 'varian': 7, 'delta': 5, 'cs': 0, 'pakar': 0, 'vaksinvaksin': 0, 'alami': 1, 'turun': 0, 'efektivitas': 0, 'hadap': 0, 'corona': 0, 'jenis': 0, 'strain': 0, 'virus': 0, 'singgung': 0, 'riset': 0, 'dasar': 0, 'pfizer': 0, 'moderna': 0, 'bukti': 0, 'httpshealthdetikcomberitadetikhealthdrimulaisuntikkanboosterdimasihkahampuhlawanvariandeltacs': 0, 'alert': 2, 'dki': 5, 'data': 1, 'balitbangkes': 2, 'november': 1, 'jawa': 1, 'barat': 1, 'sulawesi': 1, 'utara': 1, 'alpha': 1, 'beta': 1, 'total': 1, 'httpshealthdetikcomberitadetikhealthdalertkasusvariandeltacoviddidkimeningkat': 1, 'as': 1, 'dadak': 0, 'serang': 0, 'reda': 0, 'amerika': 0, 'serikat': 0, 'catat': 0, 'stabil': 0, 'pasca': 0, 'musim': 0, 'panas': 0, 'kepala': 0, 'nasihat': 0, 'medis': 0, 'gedung': 0, 'putih': 0, 'anthony': 0, 'fauci': 0, 'senin': 0, 'nasional': 0, 'persen': 0, 'minggu': 0, 'puncak': 0, 'gelombang': 0, 'pasien': 0, 'area': 0, 'timur': 0, 'laut': 0, 'httpshealthdetikcomberitadetikhealthdcoronadiasmendadaknaiklagiusaiserangandeltasempatmereda': 0}, 'berita5': {'wilayah': 1, 'bebas': 0, 'covid': 3, 'cek': 0, 'kabkota': 0, 'zona': 0, 'hijau': 0, 'jakarta': 1, 'perintah': 0, 'rencana': 0, 'terap': 0, 'laku': 0, 'batas': 0, 'giat': 0, 'masyarakat': 0, 'ppkm': 0, 'level': 0, 'hitung': 0, 'desember': 0, 'januari': 0, 'menteri': 0, 'sehat': 0, 'ri': 5, 'bijak': 0, 'tahap': 0, 'kaji': 0, 'direktur': 0, 'cegah': 0, 'kendali': 0, 'sakit': 0, 'tular': 0, 'langsung': 0, 'ppml': 0, 'kemenkes': 0, 'dr': 1, 'siti': 0, 'nadia': 1, 'tarmizi': 0, 'signifikan': 0, 'picu': 0, 'tingkat': 0, 'mobilitas': 0, 'longgar': 0, 'protokol': 0, 'httpshealthdetikcomberitadetikhealthdwilayahkamusudahbebascovidcekkabkotazonahijauterbaru': 0, '': 395, 'vaksin': 0, 'rutin': 0, 'gantung': 0, 'booster': 0, 'dosis': 0, 'indonesia': 0, 'lantas': 0, 'vaksinasi': 0, 'influenza': 0, 'ketua': 0, 'satgas': 0, 'ikat': 1, 'dokter': 0, 'idi': 0, 'prof': 0, 'zubairi': 0, 'djoerban': 0, 'kait': 0, 'httpshealthdetikcomberitadetikhealthdvaksincovidbakalrutinsetiaptahuntergantunginipenjelasannya': 0, 'suntik': 0, 'ampuh': 0, 'lawan': 0, 'varian': 2, 'delta': 4, 'cs': 0, 'pakar': 0, 'vaksinvaksin': 0, 'alami': 0, 'turun': 1, 'efektivitas': 0, 'hadap': 0, 'corona': 2, 'jenis': 0, 'strain': 0, 'virus': 0, 'singgung': 0, 'riset': 0, 'dasar': 0, 'pfizer': 0, 'moderna': 0, 'bukti': 0, 'httpshealthdetikcomberitadetikhealthdrimulaisuntikkanboosterdimasihkahampuhlawanvariandeltacs': 0, 'alert': 0, 'dki': 0, 'data': 0, 'balitbangkes': 0, 'november': 0, 'jawa': 0, 'barat': 1, 'sulawesi': 0, 'utara': 0, 'alpha': 0, 'beta': 0, 'total': 0, 'httpshealthdetikcomberitadetikhealthdalertkasusvariandeltacoviddidkimeningkat': 0, 'as': 10, 'dadak': 3, 'serang': 3, 'reda': 2, 'amerika': 1, 'serikat': 1, 'catat': 1, 'stabil': 1, 'pasca': 1, 'musim': 2, 'panas': 2, 'kepala': 1, 'nasihat': 1, 'medis': 1, 'gedung': 1, 'putih': 1, 'anthony': 1, 'fauci': 1, 'senin': 1, 'nasional': 1, 'persen': 1, 'minggu': 1, 'puncak': 1, 'gelombang': 1, 'pasien': 1, 'area': 1, 'timur': 1, 'laut': 1, 'httpshealthdetikcomberitadetikhealthdcoronadiasmendadaknaiklagiusaiserangandeltasempatmereda': 1}}\n"
     ]
    }
   ],
   "source": [
    "# TF \n",
    "def termFrequencyInDoc(vocab, doc_dict):\n",
    "    tf_docs = {}\n",
    "    for doc_id  in doc_dict.keys():\n",
    "        tf_docs[doc_id] = {}\n",
    "    for word in vocab:\n",
    "        for doc_id, doc in doc_dict.items():\n",
    "            tf_docs[doc_id][word] = doc.count(word)\n",
    "    return (tf_docs)\n",
    "\n",
    "tf = termFrequencyInDoc(vocab, no_sw)\n",
    "print(tf)"
   ]
  },
  {
   "cell_type": "code",
   "execution_count": 40,
   "id": "7f8b9dde",
   "metadata": {},
   "outputs": [
    {
     "name": "stdout",
     "output_type": "stream",
     "text": [
      "{'wilayah': 1.6931471805599454, 'bebas': 2.09861228866811, 'covid': 1.0, 'cek': 2.09861228866811, 'kabkota': 2.09861228866811, 'zona': 2.09861228866811, 'hijau': 2.09861228866811, 'jakarta': 1.0, 'perintah': 2.09861228866811, 'rencana': 1.6931471805599454, 'terap': 2.09861228866811, 'laku': 1.6931471805599454, 'batas': 2.09861228866811, 'giat': 2.09861228866811, 'masyarakat': 2.09861228866811, 'ppkm': 2.09861228866811, 'level': 2.09861228866811, 'hitung': 2.09861228866811, 'desember': 2.09861228866811, 'januari': 1.6931471805599454, 'menteri': 2.09861228866811, 'sehat': 2.09861228866811, 'ri': 1.4054651081081644, 'bijak': 2.09861228866811, 'tahap': 2.09861228866811, 'kaji': 2.09861228866811, 'direktur': 2.09861228866811, 'cegah': 2.09861228866811, 'kendali': 2.09861228866811, 'sakit': 2.09861228866811, 'tular': 2.09861228866811, 'langsung': 1.4054651081081644, 'ppml': 2.09861228866811, 'kemenkes': 1.6931471805599454, 'dr': 1.6931471805599454, 'siti': 2.09861228866811, 'nadia': 2.09861228866811, 'tarmizi': 2.09861228866811, 'signifikan': 1.6931471805599454, 'picu': 2.09861228866811, 'tingkat': 1.6931471805599454, 'mobilitas': 2.09861228866811, 'longgar': 2.09861228866811, 'protokol': 2.09861228866811, 'httpshealthdetikcomberitadetikhealthdwilayahkamusudahbebascovidcekkabkotazonahijauterbaru': 2.09861228866811, '': 1.0, 'vaksin': 1.6931471805599454, 'rutin': 2.09861228866811, 'gantung': 2.09861228866811, 'booster': 1.6931471805599454, 'dosis': 1.6931471805599454, 'indonesia': 1.4054651081081644, 'lantas': 2.09861228866811, 'vaksinasi': 2.09861228866811, 'influenza': 2.09861228866811, 'ketua': 1.6931471805599454, 'satgas': 1.6931471805599454, 'ikat': 1.6931471805599454, 'dokter': 1.6931471805599454, 'idi': 1.6931471805599454, 'prof': 1.6931471805599454, 'zubairi': 1.6931471805599454, 'djoerban': 1.6931471805599454, 'kait': 1.6931471805599454, 'httpshealthdetikcomberitadetikhealthdvaksincovidbakalrutinsetiaptahuntergantunginipenjelasannya': 2.09861228866811, 'suntik': 2.09861228866811, 'ampuh': 2.09861228866811, 'lawan': 2.09861228866811, 'varian': 1.4054651081081644, 'delta': 1.4054651081081644, 'cs': 2.09861228866811, 'pakar': 2.09861228866811, 'vaksinvaksin': 2.09861228866811, 'alami': 1.6931471805599454, 'turun': 1.6931471805599454, 'efektivitas': 2.09861228866811, 'hadap': 2.09861228866811, 'corona': 1.6931471805599454, 'jenis': 2.09861228866811, 'strain': 2.09861228866811, 'virus': 2.09861228866811, 'singgung': 2.09861228866811, 'riset': 2.09861228866811, 'dasar': 2.09861228866811, 'pfizer': 2.09861228866811, 'moderna': 2.09861228866811, 'bukti': 2.09861228866811, 'httpshealthdetikcomberitadetikhealthdrimulaisuntikkanboosterdimasihkahampuhlawanvariandeltacs': 2.09861228866811, 'alert': 2.09861228866811, 'dki': 2.09861228866811, 'data': 2.09861228866811, 'balitbangkes': 2.09861228866811, 'november': 2.09861228866811, 'jawa': 2.09861228866811, 'barat': 1.6931471805599454, 'sulawesi': 2.09861228866811, 'utara': 2.09861228866811, 'alpha': 2.09861228866811, 'beta': 2.09861228866811, 'total': 2.09861228866811, 'httpshealthdetikcomberitadetikhealthdalertkasusvariandeltacoviddidkimeningkat': 2.09861228866811, 'as': 2.09861228866811, 'dadak': 2.09861228866811, 'serang': 2.09861228866811, 'reda': 2.09861228866811, 'amerika': 2.09861228866811, 'serikat': 2.09861228866811, 'catat': 2.09861228866811, 'stabil': 2.09861228866811, 'pasca': 2.09861228866811, 'musim': 2.09861228866811, 'panas': 2.09861228866811, 'kepala': 2.09861228866811, 'nasihat': 2.09861228866811, 'medis': 2.09861228866811, 'gedung': 2.09861228866811, 'putih': 2.09861228866811, 'anthony': 2.09861228866811, 'fauci': 2.09861228866811, 'senin': 2.09861228866811, 'nasional': 2.09861228866811, 'persen': 2.09861228866811, 'minggu': 2.09861228866811, 'puncak': 2.09861228866811, 'gelombang': 2.09861228866811, 'pasien': 2.09861228866811, 'area': 2.09861228866811, 'timur': 2.09861228866811, 'laut': 2.09861228866811, 'httpshealthdetikcomberitadetikhealthdcoronadiasmendadaknaiklagiusaiserangandeltasempatmereda': 2.09861228866811}\n"
     ]
    }
   ],
   "source": [
    "# IDF\n",
    "\n",
    "## WordDocument Count \n",
    "def wordDocFre(vocab, doc_dict):\n",
    "    df = {}\n",
    "    for word in vocab:\n",
    "        frq = 0\n",
    "        for doc in doc_dict.values():\n",
    "            if word in tokenisasi(doc):\n",
    "                frq = frq + 1\n",
    "        df[word] = frq\n",
    "    return (df)\n",
    "\n",
    "import numpy as np\n",
    "def inverseDocFre(vocab, doc_fre, length):\n",
    "    idf = {}\n",
    "    for word in vocab:\n",
    "        idf[word] =  1 + np.log((length +1) /(doc_fre[word]+1))\n",
    "    return(idf)\n",
    "idf = inverseDocFre(vocab,wordDocFre(vocab, no_sw), len(no_sw))\n",
    "print(idf)"
   ]
  },
  {
   "cell_type": "code",
   "execution_count": 41,
   "id": "73875cb5",
   "metadata": {},
   "outputs": [
    {
     "name": "stdout",
     "output_type": "stream",
     "text": [
      "{'berita1': {'wilayah': 3.386294361119891, 'bebas': 4.19722457733622, 'covid': 3.0, 'cek': 4.19722457733622, 'kabkota': 4.19722457733622, 'zona': 4.19722457733622, 'hijau': 4.19722457733622, 'jakarta': 1.0, 'perintah': 2.09861228866811, 'rencana': 1.6931471805599454, 'terap': 4.19722457733622, 'laku': 1.6931471805599454, 'batas': 2.09861228866811, 'giat': 2.09861228866811, 'masyarakat': 2.09861228866811, 'ppkm': 6.29583686600433, 'level': 6.29583686600433, 'hitung': 2.09861228866811, 'desember': 2.09861228866811, 'januari': 1.6931471805599454, 'menteri': 2.09861228866811, 'sehat': 4.19722457733622, 'ri': 8.432790648648986, 'bijak': 2.09861228866811, 'tahap': 2.09861228866811, 'kaji': 2.09861228866811, 'direktur': 2.09861228866811, 'cegah': 2.09861228866811, 'kendali': 2.09861228866811, 'sakit': 2.09861228866811, 'tular': 2.09861228866811, 'langsung': 1.4054651081081644, 'ppml': 2.09861228866811, 'kemenkes': 1.6931471805599454, 'dr': 1.6931471805599454, 'siti': 2.09861228866811, 'nadia': 2.09861228866811, 'tarmizi': 2.09861228866811, 'signifikan': 1.6931471805599454, 'picu': 2.09861228866811, 'tingkat': 1.6931471805599454, 'mobilitas': 2.09861228866811, 'longgar': 2.09861228866811, 'protokol': 2.09861228866811, 'httpshealthdetikcomberitadetikhealthdwilayahkamusudahbebascovidcekkabkotazonahijauterbaru': 2.09861228866811, '': 435.0, 'vaksin': 0.0, 'rutin': 0.0, 'gantung': 0.0, 'booster': 0.0, 'dosis': 0.0, 'indonesia': 0.0, 'lantas': 0.0, 'vaksinasi': 0.0, 'influenza': 0.0, 'ketua': 0.0, 'satgas': 0.0, 'ikat': 0.0, 'dokter': 0.0, 'idi': 0.0, 'prof': 0.0, 'zubairi': 0.0, 'djoerban': 0.0, 'kait': 0.0, 'httpshealthdetikcomberitadetikhealthdvaksincovidbakalrutinsetiaptahuntergantunginipenjelasannya': 0.0, 'suntik': 0.0, 'ampuh': 0.0, 'lawan': 0.0, 'varian': 0.0, 'delta': 0.0, 'cs': 0.0, 'pakar': 0.0, 'vaksinvaksin': 0.0, 'alami': 0.0, 'turun': 0.0, 'efektivitas': 0.0, 'hadap': 0.0, 'corona': 0.0, 'jenis': 0.0, 'strain': 0.0, 'virus': 0.0, 'singgung': 0.0, 'riset': 0.0, 'dasar': 0.0, 'pfizer': 0.0, 'moderna': 0.0, 'bukti': 0.0, 'httpshealthdetikcomberitadetikhealthdrimulaisuntikkanboosterdimasihkahampuhlawanvariandeltacs': 0.0, 'alert': 0.0, 'dki': 0.0, 'data': 0.0, 'balitbangkes': 0.0, 'november': 0.0, 'jawa': 0.0, 'barat': 0.0, 'sulawesi': 0.0, 'utara': 0.0, 'alpha': 0.0, 'beta': 0.0, 'total': 0.0, 'httpshealthdetikcomberitadetikhealthdalertkasusvariandeltacoviddidkimeningkat': 0.0, 'as': 10.493061443340551, 'dadak': 0.0, 'serang': 0.0, 'reda': 0.0, 'amerika': 0.0, 'serikat': 0.0, 'catat': 0.0, 'stabil': 0.0, 'pasca': 0.0, 'musim': 0.0, 'panas': 0.0, 'kepala': 0.0, 'nasihat': 0.0, 'medis': 0.0, 'gedung': 0.0, 'putih': 0.0, 'anthony': 0.0, 'fauci': 0.0, 'senin': 0.0, 'nasional': 0.0, 'persen': 0.0, 'minggu': 0.0, 'puncak': 0.0, 'gelombang': 0.0, 'pasien': 0.0, 'area': 0.0, 'timur': 0.0, 'laut': 0.0, 'httpshealthdetikcomberitadetikhealthdcoronadiasmendadaknaiklagiusaiserangandeltasempatmereda': 0.0}, 'berita2': {'wilayah': 0.0, 'bebas': 0.0, 'covid': 7.0, 'cek': 0.0, 'kabkota': 0.0, 'zona': 0.0, 'hijau': 0.0, 'jakarta': 1.0, 'perintah': 0.0, 'rencana': 1.6931471805599454, 'terap': 0.0, 'laku': 1.6931471805599454, 'batas': 0.0, 'giat': 0.0, 'masyarakat': 0.0, 'ppkm': 0.0, 'level': 0.0, 'hitung': 0.0, 'desember': 0.0, 'januari': 1.6931471805599454, 'menteri': 0.0, 'sehat': 0.0, 'ri': 4.216395324324493, 'bijak': 0.0, 'tahap': 0.0, 'kaji': 0.0, 'direktur': 0.0, 'cegah': 0.0, 'kendali': 0.0, 'sakit': 0.0, 'tular': 0.0, 'langsung': 1.4054651081081644, 'ppml': 0.0, 'kemenkes': 0.0, 'dr': 0.0, 'siti': 0.0, 'nadia': 0.0, 'tarmizi': 0.0, 'signifikan': 0.0, 'picu': 0.0, 'tingkat': 0.0, 'mobilitas': 0.0, 'longgar': 0.0, 'protokol': 0.0, 'httpshealthdetikcomberitadetikhealthdwilayahkamusudahbebascovidcekkabkotazonahijauterbaru': 0.0, '': 351.0, 'vaksin': 11.852030263919618, 'rutin': 4.19722457733622, 'gantung': 4.19722457733622, 'booster': 3.386294361119891, 'dosis': 1.6931471805599454, 'indonesia': 2.8109302162163288, 'lantas': 2.09861228866811, 'vaksinasi': 6.29583686600433, 'influenza': 2.09861228866811, 'ketua': 1.6931471805599454, 'satgas': 1.6931471805599454, 'ikat': 1.6931471805599454, 'dokter': 1.6931471805599454, 'idi': 1.6931471805599454, 'prof': 1.6931471805599454, 'zubairi': 1.6931471805599454, 'djoerban': 1.6931471805599454, 'kait': 1.6931471805599454, 'httpshealthdetikcomberitadetikhealthdvaksincovidbakalrutinsetiaptahuntergantunginipenjelasannya': 2.09861228866811, 'suntik': 0.0, 'ampuh': 0.0, 'lawan': 0.0, 'varian': 0.0, 'delta': 0.0, 'cs': 0.0, 'pakar': 0.0, 'vaksinvaksin': 0.0, 'alami': 0.0, 'turun': 0.0, 'efektivitas': 0.0, 'hadap': 0.0, 'corona': 0.0, 'jenis': 0.0, 'strain': 0.0, 'virus': 0.0, 'singgung': 0.0, 'riset': 0.0, 'dasar': 0.0, 'pfizer': 0.0, 'moderna': 0.0, 'bukti': 0.0, 'httpshealthdetikcomberitadetikhealthdrimulaisuntikkanboosterdimasihkahampuhlawanvariandeltacs': 0.0, 'alert': 0.0, 'dki': 0.0, 'data': 0.0, 'balitbangkes': 0.0, 'november': 0.0, 'jawa': 0.0, 'barat': 0.0, 'sulawesi': 0.0, 'utara': 0.0, 'alpha': 0.0, 'beta': 0.0, 'total': 0.0, 'httpshealthdetikcomberitadetikhealthdalertkasusvariandeltacoviddidkimeningkat': 0.0, 'as': 12.59167373200866, 'dadak': 0.0, 'serang': 0.0, 'reda': 0.0, 'amerika': 0.0, 'serikat': 0.0, 'catat': 0.0, 'stabil': 0.0, 'pasca': 0.0, 'musim': 0.0, 'panas': 0.0, 'kepala': 0.0, 'nasihat': 0.0, 'medis': 0.0, 'gedung': 0.0, 'putih': 0.0, 'anthony': 0.0, 'fauci': 0.0, 'senin': 0.0, 'nasional': 0.0, 'persen': 0.0, 'minggu': 0.0, 'puncak': 0.0, 'gelombang': 0.0, 'pasien': 0.0, 'area': 0.0, 'timur': 0.0, 'laut': 0.0, 'httpshealthdetikcomberitadetikhealthdcoronadiasmendadaknaiklagiusaiserangandeltasempatmereda': 0.0}, 'berita3': {'wilayah': 0.0, 'bebas': 0.0, 'covid': 4.0, 'cek': 0.0, 'kabkota': 0.0, 'zona': 0.0, 'hijau': 0.0, 'jakarta': 1.0, 'perintah': 0.0, 'rencana': 0.0, 'terap': 0.0, 'laku': 0.0, 'batas': 0.0, 'giat': 0.0, 'masyarakat': 0.0, 'ppkm': 0.0, 'level': 0.0, 'hitung': 0.0, 'desember': 0.0, 'januari': 0.0, 'menteri': 0.0, 'sehat': 0.0, 'ri': 15.460116189189808, 'bijak': 0.0, 'tahap': 0.0, 'kaji': 0.0, 'direktur': 0.0, 'cegah': 0.0, 'kendali': 0.0, 'sakit': 0.0, 'tular': 0.0, 'langsung': 1.4054651081081644, 'ppml': 0.0, 'kemenkes': 0.0, 'dr': 1.6931471805599454, 'siti': 0.0, 'nadia': 0.0, 'tarmizi': 0.0, 'signifikan': 0.0, 'picu': 0.0, 'tingkat': 0.0, 'mobilitas': 0.0, 'longgar': 0.0, 'protokol': 0.0, 'httpshealthdetikcomberitadetikhealthdwilayahkamusudahbebascovidcekkabkotazonahijauterbaru': 0.0, '': 504.0, 'vaksin': 10.158883083359672, 'rutin': 0.0, 'gantung': 0.0, 'booster': 5.079441541679836, 'dosis': 5.079441541679836, 'indonesia': 2.8109302162163288, 'lantas': 0.0, 'vaksinasi': 0.0, 'influenza': 0.0, 'ketua': 1.6931471805599454, 'satgas': 1.6931471805599454, 'ikat': 1.6931471805599454, 'dokter': 1.6931471805599454, 'idi': 1.6931471805599454, 'prof': 1.6931471805599454, 'zubairi': 1.6931471805599454, 'djoerban': 1.6931471805599454, 'kait': 1.6931471805599454, 'httpshealthdetikcomberitadetikhealthdvaksincovidbakalrutinsetiaptahuntergantunginipenjelasannya': 0.0, 'suntik': 4.19722457733622, 'ampuh': 4.19722457733622, 'lawan': 6.29583686600433, 'varian': 7.027325540540822, 'delta': 5.6218604324326575, 'cs': 4.19722457733622, 'pakar': 2.09861228866811, 'vaksinvaksin': 2.09861228866811, 'alami': 1.6931471805599454, 'turun': 3.386294361119891, 'efektivitas': 6.29583686600433, 'hadap': 2.09861228866811, 'corona': 1.6931471805599454, 'jenis': 2.09861228866811, 'strain': 2.09861228866811, 'virus': 2.09861228866811, 'singgung': 2.09861228866811, 'riset': 4.19722457733622, 'dasar': 2.09861228866811, 'pfizer': 2.09861228866811, 'moderna': 2.09861228866811, 'bukti': 2.09861228866811, 'httpshealthdetikcomberitadetikhealthdrimulaisuntikkanboosterdimasihkahampuhlawanvariandeltacs': 2.09861228866811, 'alert': 0.0, 'dki': 0.0, 'data': 0.0, 'balitbangkes': 0.0, 'november': 0.0, 'jawa': 0.0, 'barat': 0.0, 'sulawesi': 0.0, 'utara': 0.0, 'alpha': 0.0, 'beta': 0.0, 'total': 0.0, 'httpshealthdetikcomberitadetikhealthdalertkasusvariandeltacoviddidkimeningkat': 0.0, 'as': 12.59167373200866, 'dadak': 0.0, 'serang': 0.0, 'reda': 0.0, 'amerika': 0.0, 'serikat': 0.0, 'catat': 0.0, 'stabil': 0.0, 'pasca': 0.0, 'musim': 0.0, 'panas': 0.0, 'kepala': 0.0, 'nasihat': 0.0, 'medis': 0.0, 'gedung': 0.0, 'putih': 0.0, 'anthony': 0.0, 'fauci': 0.0, 'senin': 0.0, 'nasional': 0.0, 'persen': 0.0, 'minggu': 0.0, 'puncak': 0.0, 'gelombang': 0.0, 'pasien': 0.0, 'area': 0.0, 'timur': 0.0, 'laut': 0.0, 'httpshealthdetikcomberitadetikhealthdcoronadiasmendadaknaiklagiusaiserangandeltasempatmereda': 0.0}, 'berita4': {'wilayah': 0.0, 'bebas': 0.0, 'covid': 2.0, 'cek': 0.0, 'kabkota': 0.0, 'zona': 0.0, 'hijau': 0.0, 'jakarta': 4.0, 'perintah': 0.0, 'rencana': 0.0, 'terap': 0.0, 'laku': 0.0, 'batas': 0.0, 'giat': 0.0, 'masyarakat': 0.0, 'ppkm': 0.0, 'level': 0.0, 'hitung': 0.0, 'desember': 0.0, 'januari': 0.0, 'menteri': 0.0, 'sehat': 0.0, 'ri': 12.649185972973479, 'bijak': 0.0, 'tahap': 0.0, 'kaji': 0.0, 'direktur': 0.0, 'cegah': 0.0, 'kendali': 0.0, 'sakit': 0.0, 'tular': 0.0, 'langsung': 0.0, 'ppml': 0.0, 'kemenkes': 1.6931471805599454, 'dr': 0.0, 'siti': 0.0, 'nadia': 0.0, 'tarmizi': 0.0, 'signifikan': 1.6931471805599454, 'picu': 0.0, 'tingkat': 3.386294361119891, 'mobilitas': 0.0, 'longgar': 0.0, 'protokol': 0.0, 'httpshealthdetikcomberitadetikhealthdwilayahkamusudahbebascovidcekkabkotazonahijauterbaru': 0.0, '': 343.0, 'vaksin': 0.0, 'rutin': 0.0, 'gantung': 0.0, 'booster': 0.0, 'dosis': 0.0, 'indonesia': 1.4054651081081644, 'lantas': 0.0, 'vaksinasi': 0.0, 'influenza': 0.0, 'ketua': 0.0, 'satgas': 0.0, 'ikat': 0.0, 'dokter': 0.0, 'idi': 0.0, 'prof': 0.0, 'zubairi': 0.0, 'djoerban': 0.0, 'kait': 0.0, 'httpshealthdetikcomberitadetikhealthdvaksincovidbakalrutinsetiaptahuntergantunginipenjelasannya': 0.0, 'suntik': 0.0, 'ampuh': 0.0, 'lawan': 0.0, 'varian': 9.838255756757151, 'delta': 7.027325540540822, 'cs': 0.0, 'pakar': 0.0, 'vaksinvaksin': 0.0, 'alami': 1.6931471805599454, 'turun': 0.0, 'efektivitas': 0.0, 'hadap': 0.0, 'corona': 0.0, 'jenis': 0.0, 'strain': 0.0, 'virus': 0.0, 'singgung': 0.0, 'riset': 0.0, 'dasar': 0.0, 'pfizer': 0.0, 'moderna': 0.0, 'bukti': 0.0, 'httpshealthdetikcomberitadetikhealthdrimulaisuntikkanboosterdimasihkahampuhlawanvariandeltacs': 0.0, 'alert': 4.19722457733622, 'dki': 10.493061443340551, 'data': 2.09861228866811, 'balitbangkes': 4.19722457733622, 'november': 2.09861228866811, 'jawa': 2.09861228866811, 'barat': 1.6931471805599454, 'sulawesi': 2.09861228866811, 'utara': 2.09861228866811, 'alpha': 2.09861228866811, 'beta': 2.09861228866811, 'total': 2.09861228866811, 'httpshealthdetikcomberitadetikhealthdalertkasusvariandeltacoviddidkimeningkat': 2.09861228866811, 'as': 2.09861228866811, 'dadak': 0.0, 'serang': 0.0, 'reda': 0.0, 'amerika': 0.0, 'serikat': 0.0, 'catat': 0.0, 'stabil': 0.0, 'pasca': 0.0, 'musim': 0.0, 'panas': 0.0, 'kepala': 0.0, 'nasihat': 0.0, 'medis': 0.0, 'gedung': 0.0, 'putih': 0.0, 'anthony': 0.0, 'fauci': 0.0, 'senin': 0.0, 'nasional': 0.0, 'persen': 0.0, 'minggu': 0.0, 'puncak': 0.0, 'gelombang': 0.0, 'pasien': 0.0, 'area': 0.0, 'timur': 0.0, 'laut': 0.0, 'httpshealthdetikcomberitadetikhealthdcoronadiasmendadaknaiklagiusaiserangandeltasempatmereda': 0.0}, 'berita5': {'wilayah': 1.6931471805599454, 'bebas': 0.0, 'covid': 3.0, 'cek': 0.0, 'kabkota': 0.0, 'zona': 0.0, 'hijau': 0.0, 'jakarta': 1.0, 'perintah': 0.0, 'rencana': 0.0, 'terap': 0.0, 'laku': 0.0, 'batas': 0.0, 'giat': 0.0, 'masyarakat': 0.0, 'ppkm': 0.0, 'level': 0.0, 'hitung': 0.0, 'desember': 0.0, 'januari': 0.0, 'menteri': 0.0, 'sehat': 0.0, 'ri': 7.027325540540822, 'bijak': 0.0, 'tahap': 0.0, 'kaji': 0.0, 'direktur': 0.0, 'cegah': 0.0, 'kendali': 0.0, 'sakit': 0.0, 'tular': 0.0, 'langsung': 0.0, 'ppml': 0.0, 'kemenkes': 0.0, 'dr': 1.6931471805599454, 'siti': 0.0, 'nadia': 2.09861228866811, 'tarmizi': 0.0, 'signifikan': 0.0, 'picu': 0.0, 'tingkat': 0.0, 'mobilitas': 0.0, 'longgar': 0.0, 'protokol': 0.0, 'httpshealthdetikcomberitadetikhealthdwilayahkamusudahbebascovidcekkabkotazonahijauterbaru': 0.0, '': 395.0, 'vaksin': 0.0, 'rutin': 0.0, 'gantung': 0.0, 'booster': 0.0, 'dosis': 0.0, 'indonesia': 0.0, 'lantas': 0.0, 'vaksinasi': 0.0, 'influenza': 0.0, 'ketua': 0.0, 'satgas': 0.0, 'ikat': 1.6931471805599454, 'dokter': 0.0, 'idi': 0.0, 'prof': 0.0, 'zubairi': 0.0, 'djoerban': 0.0, 'kait': 0.0, 'httpshealthdetikcomberitadetikhealthdvaksincovidbakalrutinsetiaptahuntergantunginipenjelasannya': 0.0, 'suntik': 0.0, 'ampuh': 0.0, 'lawan': 0.0, 'varian': 2.8109302162163288, 'delta': 5.6218604324326575, 'cs': 0.0, 'pakar': 0.0, 'vaksinvaksin': 0.0, 'alami': 0.0, 'turun': 1.6931471805599454, 'efektivitas': 0.0, 'hadap': 0.0, 'corona': 3.386294361119891, 'jenis': 0.0, 'strain': 0.0, 'virus': 0.0, 'singgung': 0.0, 'riset': 0.0, 'dasar': 0.0, 'pfizer': 0.0, 'moderna': 0.0, 'bukti': 0.0, 'httpshealthdetikcomberitadetikhealthdrimulaisuntikkanboosterdimasihkahampuhlawanvariandeltacs': 0.0, 'alert': 0.0, 'dki': 0.0, 'data': 0.0, 'balitbangkes': 0.0, 'november': 0.0, 'jawa': 0.0, 'barat': 1.6931471805599454, 'sulawesi': 0.0, 'utara': 0.0, 'alpha': 0.0, 'beta': 0.0, 'total': 0.0, 'httpshealthdetikcomberitadetikhealthdalertkasusvariandeltacoviddidkimeningkat': 0.0, 'as': 20.986122886681102, 'dadak': 6.29583686600433, 'serang': 6.29583686600433, 'reda': 4.19722457733622, 'amerika': 2.09861228866811, 'serikat': 2.09861228866811, 'catat': 2.09861228866811, 'stabil': 2.09861228866811, 'pasca': 2.09861228866811, 'musim': 4.19722457733622, 'panas': 4.19722457733622, 'kepala': 2.09861228866811, 'nasihat': 2.09861228866811, 'medis': 2.09861228866811, 'gedung': 2.09861228866811, 'putih': 2.09861228866811, 'anthony': 2.09861228866811, 'fauci': 2.09861228866811, 'senin': 2.09861228866811, 'nasional': 2.09861228866811, 'persen': 2.09861228866811, 'minggu': 2.09861228866811, 'puncak': 2.09861228866811, 'gelombang': 2.09861228866811, 'pasien': 2.09861228866811, 'area': 2.09861228866811, 'timur': 2.09861228866811, 'laut': 2.09861228866811, 'httpshealthdetikcomberitadetikhealthdcoronadiasmendadaknaiklagiusaiserangandeltasempatmereda': 2.09861228866811}}\n"
     ]
    }
   ],
   "source": [
    "# TF.IDF\n",
    "def tfidf(vocab, tf, idf_scr, doc_dict):\n",
    "    tf_idf_scr = {}\n",
    "    for doc_id in doc_dict.keys():\n",
    "        tf_idf_scr[doc_id] = {}\n",
    "    for word in vocab:\n",
    "        for doc_id, doc in doc_dict.items():\n",
    "            tf_idf_scr[doc_id][word] = tf[doc_id][word] * idf_scr[word]\n",
    "    return (tf_idf_scr)\n",
    "print(tfidf(vocab, tf, idf, no_sw))\n"
   ]
  },
  {
   "cell_type": "code",
   "execution_count": 42,
   "id": "75aabb34",
   "metadata": {},
   "outputs": [
    {
     "name": "stdout",
     "output_type": "stream",
     "text": [
      "{'wilayah': 0, 'bebas': 0, 'covid': 0, 'cek': 0, 'kabkota': 0, 'zona': 0, 'hijau': 0, 'jakarta': 1, 'perintah': 0, 'rencana': 0, 'terap': 0, 'laku': 0, 'batas': 0, 'giat': 0, 'masyarakat': 0, 'ppkm': 0, 'level': 0, 'hitung': 0, 'desember': 0, 'januari': 0, 'menteri': 0, 'sehat': 0, 'ri': 0, 'bijak': 0, 'tahap': 0, 'kaji': 0, 'direktur': 0, 'cegah': 0, 'kendali': 0, 'sakit': 0, 'tular': 0, 'langsung': 0, 'ppml': 0, 'kemenkes': 0, 'dr': 0, 'siti': 0, 'nadia': 0, 'tarmizi': 0, 'signifikan': 0, 'picu': 0, 'tingkat': 0, 'mobilitas': 0, 'longgar': 0, 'protokol': 0, 'httpshealthdetikcomberitadetikhealthdwilayahkamusudahbebascovidcekkabkotazonahijauterbaru': 0, '': 22, 'vaksin': 1, 'rutin': 0, 'gantung': 0, 'booster': 0, 'dosis': 0, 'indonesia': 0, 'lantas': 0, 'vaksinasi': 0, 'influenza': 0, 'ketua': 0, 'satgas': 0, 'ikat': 0, 'dokter': 0, 'idi': 0, 'prof': 0, 'zubairi': 0, 'djoerban': 0, 'kait': 0, 'httpshealthdetikcomberitadetikhealthdvaksincovidbakalrutinsetiaptahuntergantunginipenjelasannya': 0, 'suntik': 0, 'ampuh': 0, 'lawan': 0, 'varian': 0, 'delta': 0, 'cs': 0, 'pakar': 0, 'vaksinvaksin': 0, 'alami': 0, 'turun': 0, 'efektivitas': 0, 'hadap': 0, 'corona': 1, 'jenis': 0, 'strain': 0, 'virus': 0, 'singgung': 0, 'riset': 0, 'dasar': 0, 'pfizer': 0, 'moderna': 0, 'bukti': 0, 'httpshealthdetikcomberitadetikhealthdrimulaisuntikkanboosterdimasihkahampuhlawanvariandeltacs': 0, 'alert': 0, 'dki': 0, 'data': 0, 'balitbangkes': 0, 'november': 0, 'jawa': 0, 'barat': 0, 'sulawesi': 0, 'utara': 0, 'alpha': 0, 'beta': 0, 'total': 0, 'httpshealthdetikcomberitadetikhealthdalertkasusvariandeltacoviddidkimeningkat': 0, 'as': 0, 'dadak': 0, 'serang': 0, 'reda': 0, 'amerika': 0, 'serikat': 0, 'catat': 0, 'stabil': 0, 'pasca': 0, 'musim': 0, 'panas': 0, 'kepala': 0, 'nasihat': 0, 'medis': 0, 'gedung': 0, 'putih': 0, 'anthony': 0, 'fauci': 0, 'senin': 0, 'nasional': 0, 'persen': 0, 'minggu': 0, 'puncak': 0, 'gelombang': 0, 'pasien': 0, 'area': 0, 'timur': 0, 'laut': 0, 'httpshealthdetikcomberitadetikhealthdcoronadiasmendadaknaiklagiusaiserangandeltasempatmereda': 0}\n"
     ]
    }
   ],
   "source": [
    "# Term Freq \n",
    "query = \"vaksin corona jakarta\"\n",
    "# query = \"sistem sentimen berita\"\n",
    "def termFrequency(vocab, query):\n",
    "    tf_query = {}\n",
    "    for word in vocab:\n",
    "        tf_query[word] = query.count(word)\n",
    "    return (tf_query)\n",
    "tf_query = termFrequency(vocab, query)\n",
    "print(tf_query)"
   ]
  },
  {
   "cell_type": "code",
   "execution_count": 43,
   "id": "796006fb",
   "metadata": {},
   "outputs": [
    {
     "name": "stdout",
     "output_type": "stream",
     "text": [
      "[[ 0.        ]\n",
      " [ 0.        ]\n",
      " [ 0.        ]\n",
      " [ 0.        ]\n",
      " [ 0.        ]\n",
      " [ 0.        ]\n",
      " [ 0.        ]\n",
      " [ 1.        ]\n",
      " [ 0.        ]\n",
      " [ 0.        ]\n",
      " [ 0.        ]\n",
      " [ 0.        ]\n",
      " [ 0.        ]\n",
      " [ 0.        ]\n",
      " [ 0.        ]\n",
      " [ 0.        ]\n",
      " [ 0.        ]\n",
      " [ 0.        ]\n",
      " [ 0.        ]\n",
      " [ 0.        ]\n",
      " [ 0.        ]\n",
      " [ 0.        ]\n",
      " [ 0.        ]\n",
      " [ 0.        ]\n",
      " [ 0.        ]\n",
      " [ 0.        ]\n",
      " [ 0.        ]\n",
      " [ 0.        ]\n",
      " [ 0.        ]\n",
      " [ 0.        ]\n",
      " [ 0.        ]\n",
      " [ 0.        ]\n",
      " [ 0.        ]\n",
      " [ 0.        ]\n",
      " [ 0.        ]\n",
      " [ 0.        ]\n",
      " [ 0.        ]\n",
      " [ 0.        ]\n",
      " [ 0.        ]\n",
      " [ 0.        ]\n",
      " [ 0.        ]\n",
      " [ 0.        ]\n",
      " [ 0.        ]\n",
      " [ 0.        ]\n",
      " [ 0.        ]\n",
      " [22.        ]\n",
      " [ 1.69314718]\n",
      " [ 0.        ]\n",
      " [ 0.        ]\n",
      " [ 0.        ]\n",
      " [ 0.        ]\n",
      " [ 0.        ]\n",
      " [ 0.        ]\n",
      " [ 0.        ]\n",
      " [ 0.        ]\n",
      " [ 0.        ]\n",
      " [ 0.        ]\n",
      " [ 0.        ]\n",
      " [ 0.        ]\n",
      " [ 0.        ]\n",
      " [ 0.        ]\n",
      " [ 0.        ]\n",
      " [ 0.        ]\n",
      " [ 0.        ]\n",
      " [ 0.        ]\n",
      " [ 0.        ]\n",
      " [ 0.        ]\n",
      " [ 0.        ]\n",
      " [ 0.        ]\n",
      " [ 0.        ]\n",
      " [ 0.        ]\n",
      " [ 0.        ]\n",
      " [ 0.        ]\n",
      " [ 0.        ]\n",
      " [ 0.        ]\n",
      " [ 0.        ]\n",
      " [ 0.        ]\n",
      " [ 1.69314718]\n",
      " [ 0.        ]\n",
      " [ 0.        ]\n",
      " [ 0.        ]\n",
      " [ 0.        ]\n",
      " [ 0.        ]\n",
      " [ 0.        ]\n",
      " [ 0.        ]\n",
      " [ 0.        ]\n",
      " [ 0.        ]\n",
      " [ 0.        ]\n",
      " [ 0.        ]\n",
      " [ 0.        ]\n",
      " [ 0.        ]\n",
      " [ 0.        ]\n",
      " [ 0.        ]\n",
      " [ 0.        ]\n",
      " [ 0.        ]\n",
      " [ 0.        ]\n",
      " [ 0.        ]\n",
      " [ 0.        ]\n",
      " [ 0.        ]\n",
      " [ 0.        ]\n",
      " [ 0.        ]\n",
      " [ 0.        ]\n",
      " [ 0.        ]\n",
      " [ 0.        ]\n",
      " [ 0.        ]\n",
      " [ 0.        ]\n",
      " [ 0.        ]\n",
      " [ 0.        ]\n",
      " [ 0.        ]\n",
      " [ 0.        ]\n",
      " [ 0.        ]\n",
      " [ 0.        ]\n",
      " [ 0.        ]\n",
      " [ 0.        ]\n",
      " [ 0.        ]\n",
      " [ 0.        ]\n",
      " [ 0.        ]\n",
      " [ 0.        ]\n",
      " [ 0.        ]\n",
      " [ 0.        ]\n",
      " [ 0.        ]\n",
      " [ 0.        ]\n",
      " [ 0.        ]\n",
      " [ 0.        ]\n",
      " [ 0.        ]\n",
      " [ 0.        ]\n",
      " [ 0.        ]\n",
      " [ 0.        ]\n",
      " [ 0.        ]\n",
      " [ 0.        ]]\n"
     ]
    }
   ],
   "source": [
    "# Term - Query Matrix\n",
    "TQ = np.zeros((len(vocab),1))\n",
    "for word in vocab:\n",
    "    ind1 = vocab.index(word)\n",
    "    TQ[ind1][0] = tf_query[word] * idf[word]\n",
    "print(TQ)"
   ]
  },
  {
   "cell_type": "code",
   "execution_count": 44,
   "id": "e9030b90",
   "metadata": {},
   "outputs": [],
   "source": [
    "import math\n",
    "def cosine_sim(vec1, vec2):\n",
    " \n",
    "    dot_prod = 0\n",
    "    for i,v in enumerate(vec1):\n",
    "        dot_prod += v * vec2[i]\n",
    "    mag_1 = math.sqrt(sum([x**2 for x in vec1]))\n",
    "    mag_2 = math.sqrt(sum([x**2 for x in vec2]))\n",
    "    return(dot_prod/(mag_1*mag_2))"
   ]
  },
  {
   "cell_type": "code",
   "execution_count": 45,
   "id": "dd880f72",
   "metadata": {},
   "outputs": [
    {
     "name": "stdout",
     "output_type": "stream",
     "text": [
      "{'berita1': {'wilayah': 3.386294361119891, 'bebas': 4.19722457733622, 'covid': 3.0, 'cek': 4.19722457733622, 'kabkota': 4.19722457733622, 'zona': 4.19722457733622, 'hijau': 4.19722457733622, 'jakarta': 1.0, 'perintah': 2.09861228866811, 'rencana': 1.6931471805599454, 'terap': 4.19722457733622, 'laku': 1.6931471805599454, 'batas': 2.09861228866811, 'giat': 2.09861228866811, 'masyarakat': 2.09861228866811, 'ppkm': 6.29583686600433, 'level': 6.29583686600433, 'hitung': 2.09861228866811, 'desember': 2.09861228866811, 'januari': 1.6931471805599454, 'menteri': 2.09861228866811, 'sehat': 4.19722457733622, 'ri': 8.432790648648986, 'bijak': 2.09861228866811, 'tahap': 2.09861228866811, 'kaji': 2.09861228866811, 'direktur': 2.09861228866811, 'cegah': 2.09861228866811, 'kendali': 2.09861228866811, 'sakit': 2.09861228866811, 'tular': 2.09861228866811, 'langsung': 1.4054651081081644, 'ppml': 2.09861228866811, 'kemenkes': 1.6931471805599454, 'dr': 1.6931471805599454, 'siti': 2.09861228866811, 'nadia': 2.09861228866811, 'tarmizi': 2.09861228866811, 'signifikan': 1.6931471805599454, 'picu': 2.09861228866811, 'tingkat': 1.6931471805599454, 'mobilitas': 2.09861228866811, 'longgar': 2.09861228866811, 'protokol': 2.09861228866811, 'httpshealthdetikcomberitadetikhealthdwilayahkamusudahbebascovidcekkabkotazonahijauterbaru': 2.09861228866811, '': 435.0, 'vaksin': 0.0, 'rutin': 0.0, 'gantung': 0.0, 'booster': 0.0, 'dosis': 0.0, 'indonesia': 0.0, 'lantas': 0.0, 'vaksinasi': 0.0, 'influenza': 0.0, 'ketua': 0.0, 'satgas': 0.0, 'ikat': 0.0, 'dokter': 0.0, 'idi': 0.0, 'prof': 0.0, 'zubairi': 0.0, 'djoerban': 0.0, 'kait': 0.0, 'httpshealthdetikcomberitadetikhealthdvaksincovidbakalrutinsetiaptahuntergantunginipenjelasannya': 0.0, 'suntik': 0.0, 'ampuh': 0.0, 'lawan': 0.0, 'varian': 0.0, 'delta': 0.0, 'cs': 0.0, 'pakar': 0.0, 'vaksinvaksin': 0.0, 'alami': 0.0, 'turun': 0.0, 'efektivitas': 0.0, 'hadap': 0.0, 'corona': 0.0, 'jenis': 0.0, 'strain': 0.0, 'virus': 0.0, 'singgung': 0.0, 'riset': 0.0, 'dasar': 0.0, 'pfizer': 0.0, 'moderna': 0.0, 'bukti': 0.0, 'httpshealthdetikcomberitadetikhealthdrimulaisuntikkanboosterdimasihkahampuhlawanvariandeltacs': 0.0, 'alert': 0.0, 'dki': 0.0, 'data': 0.0, 'balitbangkes': 0.0, 'november': 0.0, 'jawa': 0.0, 'barat': 0.0, 'sulawesi': 0.0, 'utara': 0.0, 'alpha': 0.0, 'beta': 0.0, 'total': 0.0, 'httpshealthdetikcomberitadetikhealthdalertkasusvariandeltacoviddidkimeningkat': 0.0, 'as': 10.493061443340551, 'dadak': 0.0, 'serang': 0.0, 'reda': 0.0, 'amerika': 0.0, 'serikat': 0.0, 'catat': 0.0, 'stabil': 0.0, 'pasca': 0.0, 'musim': 0.0, 'panas': 0.0, 'kepala': 0.0, 'nasihat': 0.0, 'medis': 0.0, 'gedung': 0.0, 'putih': 0.0, 'anthony': 0.0, 'fauci': 0.0, 'senin': 0.0, 'nasional': 0.0, 'persen': 0.0, 'minggu': 0.0, 'puncak': 0.0, 'gelombang': 0.0, 'pasien': 0.0, 'area': 0.0, 'timur': 0.0, 'laut': 0.0, 'httpshealthdetikcomberitadetikhealthdcoronadiasmendadaknaiklagiusaiserangandeltasempatmereda': 0.0}, 'berita2': {'wilayah': 0.0, 'bebas': 0.0, 'covid': 7.0, 'cek': 0.0, 'kabkota': 0.0, 'zona': 0.0, 'hijau': 0.0, 'jakarta': 1.0, 'perintah': 0.0, 'rencana': 1.6931471805599454, 'terap': 0.0, 'laku': 1.6931471805599454, 'batas': 0.0, 'giat': 0.0, 'masyarakat': 0.0, 'ppkm': 0.0, 'level': 0.0, 'hitung': 0.0, 'desember': 0.0, 'januari': 1.6931471805599454, 'menteri': 0.0, 'sehat': 0.0, 'ri': 4.216395324324493, 'bijak': 0.0, 'tahap': 0.0, 'kaji': 0.0, 'direktur': 0.0, 'cegah': 0.0, 'kendali': 0.0, 'sakit': 0.0, 'tular': 0.0, 'langsung': 1.4054651081081644, 'ppml': 0.0, 'kemenkes': 0.0, 'dr': 0.0, 'siti': 0.0, 'nadia': 0.0, 'tarmizi': 0.0, 'signifikan': 0.0, 'picu': 0.0, 'tingkat': 0.0, 'mobilitas': 0.0, 'longgar': 0.0, 'protokol': 0.0, 'httpshealthdetikcomberitadetikhealthdwilayahkamusudahbebascovidcekkabkotazonahijauterbaru': 0.0, '': 351.0, 'vaksin': 11.852030263919618, 'rutin': 4.19722457733622, 'gantung': 4.19722457733622, 'booster': 3.386294361119891, 'dosis': 1.6931471805599454, 'indonesia': 2.8109302162163288, 'lantas': 2.09861228866811, 'vaksinasi': 6.29583686600433, 'influenza': 2.09861228866811, 'ketua': 1.6931471805599454, 'satgas': 1.6931471805599454, 'ikat': 1.6931471805599454, 'dokter': 1.6931471805599454, 'idi': 1.6931471805599454, 'prof': 1.6931471805599454, 'zubairi': 1.6931471805599454, 'djoerban': 1.6931471805599454, 'kait': 1.6931471805599454, 'httpshealthdetikcomberitadetikhealthdvaksincovidbakalrutinsetiaptahuntergantunginipenjelasannya': 2.09861228866811, 'suntik': 0.0, 'ampuh': 0.0, 'lawan': 0.0, 'varian': 0.0, 'delta': 0.0, 'cs': 0.0, 'pakar': 0.0, 'vaksinvaksin': 0.0, 'alami': 0.0, 'turun': 0.0, 'efektivitas': 0.0, 'hadap': 0.0, 'corona': 0.0, 'jenis': 0.0, 'strain': 0.0, 'virus': 0.0, 'singgung': 0.0, 'riset': 0.0, 'dasar': 0.0, 'pfizer': 0.0, 'moderna': 0.0, 'bukti': 0.0, 'httpshealthdetikcomberitadetikhealthdrimulaisuntikkanboosterdimasihkahampuhlawanvariandeltacs': 0.0, 'alert': 0.0, 'dki': 0.0, 'data': 0.0, 'balitbangkes': 0.0, 'november': 0.0, 'jawa': 0.0, 'barat': 0.0, 'sulawesi': 0.0, 'utara': 0.0, 'alpha': 0.0, 'beta': 0.0, 'total': 0.0, 'httpshealthdetikcomberitadetikhealthdalertkasusvariandeltacoviddidkimeningkat': 0.0, 'as': 12.59167373200866, 'dadak': 0.0, 'serang': 0.0, 'reda': 0.0, 'amerika': 0.0, 'serikat': 0.0, 'catat': 0.0, 'stabil': 0.0, 'pasca': 0.0, 'musim': 0.0, 'panas': 0.0, 'kepala': 0.0, 'nasihat': 0.0, 'medis': 0.0, 'gedung': 0.0, 'putih': 0.0, 'anthony': 0.0, 'fauci': 0.0, 'senin': 0.0, 'nasional': 0.0, 'persen': 0.0, 'minggu': 0.0, 'puncak': 0.0, 'gelombang': 0.0, 'pasien': 0.0, 'area': 0.0, 'timur': 0.0, 'laut': 0.0, 'httpshealthdetikcomberitadetikhealthdcoronadiasmendadaknaiklagiusaiserangandeltasempatmereda': 0.0}, 'berita3': {'wilayah': 0.0, 'bebas': 0.0, 'covid': 4.0, 'cek': 0.0, 'kabkota': 0.0, 'zona': 0.0, 'hijau': 0.0, 'jakarta': 1.0, 'perintah': 0.0, 'rencana': 0.0, 'terap': 0.0, 'laku': 0.0, 'batas': 0.0, 'giat': 0.0, 'masyarakat': 0.0, 'ppkm': 0.0, 'level': 0.0, 'hitung': 0.0, 'desember': 0.0, 'januari': 0.0, 'menteri': 0.0, 'sehat': 0.0, 'ri': 15.460116189189808, 'bijak': 0.0, 'tahap': 0.0, 'kaji': 0.0, 'direktur': 0.0, 'cegah': 0.0, 'kendali': 0.0, 'sakit': 0.0, 'tular': 0.0, 'langsung': 1.4054651081081644, 'ppml': 0.0, 'kemenkes': 0.0, 'dr': 1.6931471805599454, 'siti': 0.0, 'nadia': 0.0, 'tarmizi': 0.0, 'signifikan': 0.0, 'picu': 0.0, 'tingkat': 0.0, 'mobilitas': 0.0, 'longgar': 0.0, 'protokol': 0.0, 'httpshealthdetikcomberitadetikhealthdwilayahkamusudahbebascovidcekkabkotazonahijauterbaru': 0.0, '': 504.0, 'vaksin': 10.158883083359672, 'rutin': 0.0, 'gantung': 0.0, 'booster': 5.079441541679836, 'dosis': 5.079441541679836, 'indonesia': 2.8109302162163288, 'lantas': 0.0, 'vaksinasi': 0.0, 'influenza': 0.0, 'ketua': 1.6931471805599454, 'satgas': 1.6931471805599454, 'ikat': 1.6931471805599454, 'dokter': 1.6931471805599454, 'idi': 1.6931471805599454, 'prof': 1.6931471805599454, 'zubairi': 1.6931471805599454, 'djoerban': 1.6931471805599454, 'kait': 1.6931471805599454, 'httpshealthdetikcomberitadetikhealthdvaksincovidbakalrutinsetiaptahuntergantunginipenjelasannya': 0.0, 'suntik': 4.19722457733622, 'ampuh': 4.19722457733622, 'lawan': 6.29583686600433, 'varian': 7.027325540540822, 'delta': 5.6218604324326575, 'cs': 4.19722457733622, 'pakar': 2.09861228866811, 'vaksinvaksin': 2.09861228866811, 'alami': 1.6931471805599454, 'turun': 3.386294361119891, 'efektivitas': 6.29583686600433, 'hadap': 2.09861228866811, 'corona': 1.6931471805599454, 'jenis': 2.09861228866811, 'strain': 2.09861228866811, 'virus': 2.09861228866811, 'singgung': 2.09861228866811, 'riset': 4.19722457733622, 'dasar': 2.09861228866811, 'pfizer': 2.09861228866811, 'moderna': 2.09861228866811, 'bukti': 2.09861228866811, 'httpshealthdetikcomberitadetikhealthdrimulaisuntikkanboosterdimasihkahampuhlawanvariandeltacs': 2.09861228866811, 'alert': 0.0, 'dki': 0.0, 'data': 0.0, 'balitbangkes': 0.0, 'november': 0.0, 'jawa': 0.0, 'barat': 0.0, 'sulawesi': 0.0, 'utara': 0.0, 'alpha': 0.0, 'beta': 0.0, 'total': 0.0, 'httpshealthdetikcomberitadetikhealthdalertkasusvariandeltacoviddidkimeningkat': 0.0, 'as': 12.59167373200866, 'dadak': 0.0, 'serang': 0.0, 'reda': 0.0, 'amerika': 0.0, 'serikat': 0.0, 'catat': 0.0, 'stabil': 0.0, 'pasca': 0.0, 'musim': 0.0, 'panas': 0.0, 'kepala': 0.0, 'nasihat': 0.0, 'medis': 0.0, 'gedung': 0.0, 'putih': 0.0, 'anthony': 0.0, 'fauci': 0.0, 'senin': 0.0, 'nasional': 0.0, 'persen': 0.0, 'minggu': 0.0, 'puncak': 0.0, 'gelombang': 0.0, 'pasien': 0.0, 'area': 0.0, 'timur': 0.0, 'laut': 0.0, 'httpshealthdetikcomberitadetikhealthdcoronadiasmendadaknaiklagiusaiserangandeltasempatmereda': 0.0}, 'berita4': {'wilayah': 0.0, 'bebas': 0.0, 'covid': 2.0, 'cek': 0.0, 'kabkota': 0.0, 'zona': 0.0, 'hijau': 0.0, 'jakarta': 4.0, 'perintah': 0.0, 'rencana': 0.0, 'terap': 0.0, 'laku': 0.0, 'batas': 0.0, 'giat': 0.0, 'masyarakat': 0.0, 'ppkm': 0.0, 'level': 0.0, 'hitung': 0.0, 'desember': 0.0, 'januari': 0.0, 'menteri': 0.0, 'sehat': 0.0, 'ri': 12.649185972973479, 'bijak': 0.0, 'tahap': 0.0, 'kaji': 0.0, 'direktur': 0.0, 'cegah': 0.0, 'kendali': 0.0, 'sakit': 0.0, 'tular': 0.0, 'langsung': 0.0, 'ppml': 0.0, 'kemenkes': 1.6931471805599454, 'dr': 0.0, 'siti': 0.0, 'nadia': 0.0, 'tarmizi': 0.0, 'signifikan': 1.6931471805599454, 'picu': 0.0, 'tingkat': 3.386294361119891, 'mobilitas': 0.0, 'longgar': 0.0, 'protokol': 0.0, 'httpshealthdetikcomberitadetikhealthdwilayahkamusudahbebascovidcekkabkotazonahijauterbaru': 0.0, '': 343.0, 'vaksin': 0.0, 'rutin': 0.0, 'gantung': 0.0, 'booster': 0.0, 'dosis': 0.0, 'indonesia': 1.4054651081081644, 'lantas': 0.0, 'vaksinasi': 0.0, 'influenza': 0.0, 'ketua': 0.0, 'satgas': 0.0, 'ikat': 0.0, 'dokter': 0.0, 'idi': 0.0, 'prof': 0.0, 'zubairi': 0.0, 'djoerban': 0.0, 'kait': 0.0, 'httpshealthdetikcomberitadetikhealthdvaksincovidbakalrutinsetiaptahuntergantunginipenjelasannya': 0.0, 'suntik': 0.0, 'ampuh': 0.0, 'lawan': 0.0, 'varian': 9.838255756757151, 'delta': 7.027325540540822, 'cs': 0.0, 'pakar': 0.0, 'vaksinvaksin': 0.0, 'alami': 1.6931471805599454, 'turun': 0.0, 'efektivitas': 0.0, 'hadap': 0.0, 'corona': 0.0, 'jenis': 0.0, 'strain': 0.0, 'virus': 0.0, 'singgung': 0.0, 'riset': 0.0, 'dasar': 0.0, 'pfizer': 0.0, 'moderna': 0.0, 'bukti': 0.0, 'httpshealthdetikcomberitadetikhealthdrimulaisuntikkanboosterdimasihkahampuhlawanvariandeltacs': 0.0, 'alert': 4.19722457733622, 'dki': 10.493061443340551, 'data': 2.09861228866811, 'balitbangkes': 4.19722457733622, 'november': 2.09861228866811, 'jawa': 2.09861228866811, 'barat': 1.6931471805599454, 'sulawesi': 2.09861228866811, 'utara': 2.09861228866811, 'alpha': 2.09861228866811, 'beta': 2.09861228866811, 'total': 2.09861228866811, 'httpshealthdetikcomberitadetikhealthdalertkasusvariandeltacoviddidkimeningkat': 2.09861228866811, 'as': 2.09861228866811, 'dadak': 0.0, 'serang': 0.0, 'reda': 0.0, 'amerika': 0.0, 'serikat': 0.0, 'catat': 0.0, 'stabil': 0.0, 'pasca': 0.0, 'musim': 0.0, 'panas': 0.0, 'kepala': 0.0, 'nasihat': 0.0, 'medis': 0.0, 'gedung': 0.0, 'putih': 0.0, 'anthony': 0.0, 'fauci': 0.0, 'senin': 0.0, 'nasional': 0.0, 'persen': 0.0, 'minggu': 0.0, 'puncak': 0.0, 'gelombang': 0.0, 'pasien': 0.0, 'area': 0.0, 'timur': 0.0, 'laut': 0.0, 'httpshealthdetikcomberitadetikhealthdcoronadiasmendadaknaiklagiusaiserangandeltasempatmereda': 0.0}, 'berita5': {'wilayah': 1.6931471805599454, 'bebas': 0.0, 'covid': 3.0, 'cek': 0.0, 'kabkota': 0.0, 'zona': 0.0, 'hijau': 0.0, 'jakarta': 1.0, 'perintah': 0.0, 'rencana': 0.0, 'terap': 0.0, 'laku': 0.0, 'batas': 0.0, 'giat': 0.0, 'masyarakat': 0.0, 'ppkm': 0.0, 'level': 0.0, 'hitung': 0.0, 'desember': 0.0, 'januari': 0.0, 'menteri': 0.0, 'sehat': 0.0, 'ri': 7.027325540540822, 'bijak': 0.0, 'tahap': 0.0, 'kaji': 0.0, 'direktur': 0.0, 'cegah': 0.0, 'kendali': 0.0, 'sakit': 0.0, 'tular': 0.0, 'langsung': 0.0, 'ppml': 0.0, 'kemenkes': 0.0, 'dr': 1.6931471805599454, 'siti': 0.0, 'nadia': 2.09861228866811, 'tarmizi': 0.0, 'signifikan': 0.0, 'picu': 0.0, 'tingkat': 0.0, 'mobilitas': 0.0, 'longgar': 0.0, 'protokol': 0.0, 'httpshealthdetikcomberitadetikhealthdwilayahkamusudahbebascovidcekkabkotazonahijauterbaru': 0.0, '': 395.0, 'vaksin': 0.0, 'rutin': 0.0, 'gantung': 0.0, 'booster': 0.0, 'dosis': 0.0, 'indonesia': 0.0, 'lantas': 0.0, 'vaksinasi': 0.0, 'influenza': 0.0, 'ketua': 0.0, 'satgas': 0.0, 'ikat': 1.6931471805599454, 'dokter': 0.0, 'idi': 0.0, 'prof': 0.0, 'zubairi': 0.0, 'djoerban': 0.0, 'kait': 0.0, 'httpshealthdetikcomberitadetikhealthdvaksincovidbakalrutinsetiaptahuntergantunginipenjelasannya': 0.0, 'suntik': 0.0, 'ampuh': 0.0, 'lawan': 0.0, 'varian': 2.8109302162163288, 'delta': 5.6218604324326575, 'cs': 0.0, 'pakar': 0.0, 'vaksinvaksin': 0.0, 'alami': 0.0, 'turun': 1.6931471805599454, 'efektivitas': 0.0, 'hadap': 0.0, 'corona': 3.386294361119891, 'jenis': 0.0, 'strain': 0.0, 'virus': 0.0, 'singgung': 0.0, 'riset': 0.0, 'dasar': 0.0, 'pfizer': 0.0, 'moderna': 0.0, 'bukti': 0.0, 'httpshealthdetikcomberitadetikhealthdrimulaisuntikkanboosterdimasihkahampuhlawanvariandeltacs': 0.0, 'alert': 0.0, 'dki': 0.0, 'data': 0.0, 'balitbangkes': 0.0, 'november': 0.0, 'jawa': 0.0, 'barat': 1.6931471805599454, 'sulawesi': 0.0, 'utara': 0.0, 'alpha': 0.0, 'beta': 0.0, 'total': 0.0, 'httpshealthdetikcomberitadetikhealthdalertkasusvariandeltacoviddidkimeningkat': 0.0, 'as': 20.986122886681102, 'dadak': 6.29583686600433, 'serang': 6.29583686600433, 'reda': 4.19722457733622, 'amerika': 2.09861228866811, 'serikat': 2.09861228866811, 'catat': 2.09861228866811, 'stabil': 2.09861228866811, 'pasca': 2.09861228866811, 'musim': 4.19722457733622, 'panas': 4.19722457733622, 'kepala': 2.09861228866811, 'nasihat': 2.09861228866811, 'medis': 2.09861228866811, 'gedung': 2.09861228866811, 'putih': 2.09861228866811, 'anthony': 2.09861228866811, 'fauci': 2.09861228866811, 'senin': 2.09861228866811, 'nasional': 2.09861228866811, 'persen': 2.09861228866811, 'minggu': 2.09861228866811, 'puncak': 2.09861228866811, 'gelombang': 2.09861228866811, 'pasien': 2.09861228866811, 'area': 2.09861228866811, 'timur': 2.09861228866811, 'laut': 2.09861228866811, 'httpshealthdetikcomberitadetikhealthdcoronadiasmendadaknaiklagiusaiserangandeltasempatmereda': 2.09861228866811}}\n"
     ]
    }
   ],
   "source": [
    "def tfidf(vocab, tf, idf_scr, doc_dict):\n",
    "    tf_idf_scr = {}\n",
    "    for doc_id in doc_dict.keys():\n",
    "        tf_idf_scr[doc_id] = {}\n",
    "    for word in vocab:\n",
    "        for doc_id, doc in doc_dict.items():\n",
    "            tf_idf_scr[doc_id][word] = tf[doc_id][word] * idf_scr[word]\n",
    "    return (tf_idf_scr)\n",
    "\n",
    "tf_idf = tfidf(vocab, termFrequencyInDoc(vocab, no_sw), inverseDocFre(vocab, wordDocFre(vocab, no_sw), len(no_sw)), no_sw)\n",
    "print(tf_idf)"
   ]
  },
  {
   "cell_type": "code",
   "execution_count": 46,
   "id": "ee0660f7",
   "metadata": {},
   "outputs": [
    {
     "name": "stdout",
     "output_type": "stream",
     "text": [
      "[[  3.38629436   0.           0.           0.           1.69314718]\n",
      " [  4.19722458   0.           0.           0.           0.        ]\n",
      " [  3.           7.           4.           2.           3.        ]\n",
      " [  4.19722458   0.           0.           0.           0.        ]\n",
      " [  4.19722458   0.           0.           0.           0.        ]\n",
      " [  4.19722458   0.           0.           0.           0.        ]\n",
      " [  4.19722458   0.           0.           0.           0.        ]\n",
      " [  1.           1.           1.           4.           1.        ]\n",
      " [  2.09861229   0.           0.           0.           0.        ]\n",
      " [  1.69314718   1.69314718   0.           0.           0.        ]\n",
      " [  4.19722458   0.           0.           0.           0.        ]\n",
      " [  1.69314718   1.69314718   0.           0.           0.        ]\n",
      " [  2.09861229   0.           0.           0.           0.        ]\n",
      " [  2.09861229   0.           0.           0.           0.        ]\n",
      " [  2.09861229   0.           0.           0.           0.        ]\n",
      " [  6.29583687   0.           0.           0.           0.        ]\n",
      " [  6.29583687   0.           0.           0.           0.        ]\n",
      " [  2.09861229   0.           0.           0.           0.        ]\n",
      " [  2.09861229   0.           0.           0.           0.        ]\n",
      " [  1.69314718   1.69314718   0.           0.           0.        ]\n",
      " [  2.09861229   0.           0.           0.           0.        ]\n",
      " [  4.19722458   0.           0.           0.           0.        ]\n",
      " [  8.43279065   4.21639532  15.46011619  12.64918597   7.02732554]\n",
      " [  2.09861229   0.           0.           0.           0.        ]\n",
      " [  2.09861229   0.           0.           0.           0.        ]\n",
      " [  2.09861229   0.           0.           0.           0.        ]\n",
      " [  2.09861229   0.           0.           0.           0.        ]\n",
      " [  2.09861229   0.           0.           0.           0.        ]\n",
      " [  2.09861229   0.           0.           0.           0.        ]\n",
      " [  2.09861229   0.           0.           0.           0.        ]\n",
      " [  2.09861229   0.           0.           0.           0.        ]\n",
      " [  1.40546511   1.40546511   1.40546511   0.           0.        ]\n",
      " [  2.09861229   0.           0.           0.           0.        ]\n",
      " [  1.69314718   0.           0.           1.69314718   0.        ]\n",
      " [  1.69314718   0.           1.69314718   0.           1.69314718]\n",
      " [  2.09861229   0.           0.           0.           0.        ]\n",
      " [  2.09861229   0.           0.           0.           2.09861229]\n",
      " [  2.09861229   0.           0.           0.           0.        ]\n",
      " [  1.69314718   0.           0.           1.69314718   0.        ]\n",
      " [  2.09861229   0.           0.           0.           0.        ]\n",
      " [  1.69314718   0.           0.           3.38629436   0.        ]\n",
      " [  2.09861229   0.           0.           0.           0.        ]\n",
      " [  2.09861229   0.           0.           0.           0.        ]\n",
      " [  2.09861229   0.           0.           0.           0.        ]\n",
      " [  2.09861229   0.           0.           0.           0.        ]\n",
      " [435.         351.         504.         343.         395.        ]\n",
      " [  0.          11.85203026  10.15888308   0.           0.        ]\n",
      " [  0.           4.19722458   0.           0.           0.        ]\n",
      " [  0.           4.19722458   0.           0.           0.        ]\n",
      " [  0.           3.38629436   5.07944154   0.           0.        ]\n",
      " [  0.           1.69314718   5.07944154   0.           0.        ]\n",
      " [  0.           2.81093022   2.81093022   1.40546511   0.        ]\n",
      " [  0.           2.09861229   0.           0.           0.        ]\n",
      " [  0.           6.29583687   0.           0.           0.        ]\n",
      " [  0.           2.09861229   0.           0.           0.        ]\n",
      " [  0.           1.69314718   1.69314718   0.           0.        ]\n",
      " [  0.           1.69314718   1.69314718   0.           0.        ]\n",
      " [  0.           1.69314718   1.69314718   0.           1.69314718]\n",
      " [  0.           1.69314718   1.69314718   0.           0.        ]\n",
      " [  0.           1.69314718   1.69314718   0.           0.        ]\n",
      " [  0.           1.69314718   1.69314718   0.           0.        ]\n",
      " [  0.           1.69314718   1.69314718   0.           0.        ]\n",
      " [  0.           1.69314718   1.69314718   0.           0.        ]\n",
      " [  0.           1.69314718   1.69314718   0.           0.        ]\n",
      " [  0.           2.09861229   0.           0.           0.        ]\n",
      " [  0.           0.           4.19722458   0.           0.        ]\n",
      " [  0.           0.           4.19722458   0.           0.        ]\n",
      " [  0.           0.           6.29583687   0.           0.        ]\n",
      " [  0.           0.           7.02732554   9.83825576   2.81093022]\n",
      " [  0.           0.           5.62186043   7.02732554   5.62186043]\n",
      " [  0.           0.           4.19722458   0.           0.        ]\n",
      " [  0.           0.           2.09861229   0.           0.        ]\n",
      " [  0.           0.           2.09861229   0.           0.        ]\n",
      " [  0.           0.           1.69314718   1.69314718   0.        ]\n",
      " [  0.           0.           3.38629436   0.           1.69314718]\n",
      " [  0.           0.           6.29583687   0.           0.        ]\n",
      " [  0.           0.           2.09861229   0.           0.        ]\n",
      " [  0.           0.           1.69314718   0.           3.38629436]\n",
      " [  0.           0.           2.09861229   0.           0.        ]\n",
      " [  0.           0.           2.09861229   0.           0.        ]\n",
      " [  0.           0.           2.09861229   0.           0.        ]\n",
      " [  0.           0.           2.09861229   0.           0.        ]\n",
      " [  0.           0.           4.19722458   0.           0.        ]\n",
      " [  0.           0.           2.09861229   0.           0.        ]\n",
      " [  0.           0.           2.09861229   0.           0.        ]\n",
      " [  0.           0.           2.09861229   0.           0.        ]\n",
      " [  0.           0.           2.09861229   0.           0.        ]\n",
      " [  0.           0.           2.09861229   0.           0.        ]\n",
      " [  0.           0.           0.           4.19722458   0.        ]\n",
      " [  0.           0.           0.          10.49306144   0.        ]\n",
      " [  0.           0.           0.           2.09861229   0.        ]\n",
      " [  0.           0.           0.           4.19722458   0.        ]\n",
      " [  0.           0.           0.           2.09861229   0.        ]\n",
      " [  0.           0.           0.           2.09861229   0.        ]\n",
      " [  0.           0.           0.           1.69314718   1.69314718]\n",
      " [  0.           0.           0.           2.09861229   0.        ]\n",
      " [  0.           0.           0.           2.09861229   0.        ]\n",
      " [  0.           0.           0.           2.09861229   0.        ]\n",
      " [  0.           0.           0.           2.09861229   0.        ]\n",
      " [  0.           0.           0.           2.09861229   0.        ]\n",
      " [  0.           0.           0.           2.09861229   0.        ]\n",
      " [ 10.49306144  12.59167373  12.59167373   2.09861229  20.98612289]\n",
      " [  0.           0.           0.           0.           6.29583687]\n",
      " [  0.           0.           0.           0.           6.29583687]\n",
      " [  0.           0.           0.           0.           4.19722458]\n",
      " [  0.           0.           0.           0.           2.09861229]\n",
      " [  0.           0.           0.           0.           2.09861229]\n",
      " [  0.           0.           0.           0.           2.09861229]\n",
      " [  0.           0.           0.           0.           2.09861229]\n",
      " [  0.           0.           0.           0.           2.09861229]\n",
      " [  0.           0.           0.           0.           4.19722458]\n",
      " [  0.           0.           0.           0.           4.19722458]\n",
      " [  0.           0.           0.           0.           2.09861229]\n",
      " [  0.           0.           0.           0.           2.09861229]\n",
      " [  0.           0.           0.           0.           2.09861229]\n",
      " [  0.           0.           0.           0.           2.09861229]\n",
      " [  0.           0.           0.           0.           2.09861229]\n",
      " [  0.           0.           0.           0.           2.09861229]\n",
      " [  0.           0.           0.           0.           2.09861229]\n",
      " [  0.           0.           0.           0.           2.09861229]\n",
      " [  0.           0.           0.           0.           2.09861229]\n",
      " [  0.           0.           0.           0.           2.09861229]\n",
      " [  0.           0.           0.           0.           2.09861229]\n",
      " [  0.           0.           0.           0.           2.09861229]\n",
      " [  0.           0.           0.           0.           2.09861229]\n",
      " [  0.           0.           0.           0.           2.09861229]\n",
      " [  0.           0.           0.           0.           2.09861229]\n",
      " [  0.           0.           0.           0.           2.09861229]\n",
      " [  0.           0.           0.           0.           2.09861229]\n",
      " [  0.           0.           0.           0.           2.09861229]]\n"
     ]
    }
   ],
   "source": [
    "# Term - Document Matrix\n",
    "TD = np.zeros((len(vocab), len(no_sw)))\n",
    "for word in vocab:\n",
    "    for doc_id, doc in tf_idf.items():\n",
    "        ind1 = vocab.index(word)\n",
    "        ind2 = list(tf_idf.keys()).index(doc_id)\n",
    "        TD[ind1][ind2] = tf_idf[doc_id][word]\n",
    "print(TD)"
   ]
  },
  {
   "cell_type": "code",
   "execution_count": 54,
   "id": "d0773a2d",
   "metadata": {},
   "outputs": [
    {
     "name": "stdout",
     "output_type": "stream",
     "text": [
      "{'berita2': 0.9937562849886573, 'berita3': 0.9932276247792821, 'berita1': 0.9918235081246563}\n"
     ]
    }
   ],
   "source": [
    "# Menyimpan skor kemiripan dalam suatu list \n",
    "from collections import OrderedDict\n",
    "def exact_top_k_vsm(doc_dict, TD, q,k):\n",
    "    relevance_scores = {}\n",
    "    i = 0 \n",
    "    for doc_id in doc_dict.keys():\n",
    "        relevance_scores[doc_id] = cosine_sim(q, TD[:,i])\n",
    "        i  = i + 1\n",
    "    \n",
    "    sorted_value = OrderedDict(sorted(relevance_scores.items(),key = lambda x:x[1], reverse = True))\n",
    "    top_k = {j : sorted_value[j] for j in list(sorted_value)[:k]}\n",
    "    return top_k\n",
    "top_3_vsm = exact_top_k_vsm(no_sw, TD, TQ[:, 0], 3)\n",
    "print(top_3_vsm)"
   ]
  },
  {
   "cell_type": "markdown",
   "id": "2ce93e68",
   "metadata": {},
   "source": [
    "# Penugasan 9"
   ]
  },
  {
   "cell_type": "code",
   "execution_count": 151,
   "id": "a0cd13f2",
   "metadata": {},
   "outputs": [],
   "source": [
    "query = \"vaksin corona jakarta\"\n",
    "tokenized_query = tokenisasi(query)"
   ]
  },
  {
   "cell_type": "markdown",
   "id": "3d52e515",
   "metadata": {},
   "source": [
    "## Standard Query Likelihood"
   ]
  },
  {
   "cell_type": "code",
   "execution_count": 189,
   "id": "880cbcec",
   "metadata": {},
   "outputs": [
    {
     "name": "stdout",
     "output_type": "stream",
     "text": [
      "{'berita1': 0.0, 'berita2': 0.0, 'berita3': 1.762262039553972e-05, 'berita4': 0.0, 'berita5': 0.0}\n"
     ]
    }
   ],
   "source": [
    "likelihood_scores = {}\n",
    "vocab = set()\n",
    "for doc_id in berita.keys():\n",
    "    likelihood_scores[doc_id] = 1\n",
    "    tokens = tokenisasi(no_sw[doc_id])\n",
    "    vocab.update(tokens)\n",
    "    for q in tokenized_query:\n",
    "        likelihood_scores[doc_id] = likelihood_scores[doc_id]*tokens.count(q)/len(tokens)\n",
    "#         print(tokens.count(q))\n",
    "print(likelihood_scores)"
   ]
  },
  {
   "cell_type": "code",
   "execution_count": 129,
   "id": "830bddfa",
   "metadata": {},
   "outputs": [],
   "source": [
    "from collections import OrderedDict\n",
    "def exact_top_k_lm(doc_dict, rank_score, k):\n",
    "    relevance_scores = {}\n",
    "    i = 0\n",
    "    for doc_id in doc_dict.keys():\n",
    "        relevance_scores[doc_id] = rank_score[doc_id]        \n",
    "        sorted_value = OrderedDict(sorted(relevance_scores.items(),key = lambda x:x[1], reverse = True))\n",
    "        top_k = {j : sorted_value[j] for j in list(sorted_value)[:k]}\n",
    "    return top_k"
   ]
  },
  {
   "cell_type": "code",
   "execution_count": 131,
   "id": "76b19690",
   "metadata": {},
   "outputs": [
    {
     "name": "stdout",
     "output_type": "stream",
     "text": [
      "{'berita3': 1.762262039553972e-05, 'berita1': 0.0, 'berita2': 0.0}\n"
     ]
    }
   ],
   "source": [
    "rank_lm = exact_top_k_lm(no_sw, likelihood_scores,3)\n",
    "print(rank_lm)"
   ]
  },
  {
   "cell_type": "markdown",
   "id": "ae606986",
   "metadata": {},
   "source": [
    "## Laplace Smoothing"
   ]
  },
  {
   "cell_type": "code",
   "execution_count": 154,
   "id": "024f23f9",
   "metadata": {},
   "outputs": [
    {
     "name": "stdout",
     "output_type": "stream",
     "text": [
      "{'berita1': 3.2105284786718173e-07, 'berita2': 1.7176733341735618e-06, 'berita3': 2.870317203059586e-06, 'berita4': 1.017708121310808e-06, 'berita5': 6.974304395956368e-07}\n"
     ]
    }
   ],
   "source": [
    "alpha = 1\n",
    "likelihood_scores_lap = {}\n",
    "for doc_id in berita.keys():\n",
    "    likelihood_scores_lap[doc_id] = 1\n",
    "    tokens = tokenisasi(no_sw[doc_id])\n",
    "    for q in tokenized_query:\n",
    "        likelihood_scores_lap[doc_id] = likelihood_scores_lap[doc_id] * (tokens.count(q)+alpha)/(len(tokens)+len(vocab)*alpha)\n",
    "print(likelihood_scores_lap)"
   ]
  },
  {
   "cell_type": "code",
   "execution_count": 133,
   "id": "4a53c6b8",
   "metadata": {},
   "outputs": [
    {
     "name": "stdout",
     "output_type": "stream",
     "text": [
      "{'berita3': 2.870317203059586e-06, 'berita2': 1.7176733341735618e-06, 'berita4': 1.017708121310808e-06}\n"
     ]
    }
   ],
   "source": [
    "rank_lap = exact_top_k_lm(no_sw, likelihood_scores_lap, 3)\n",
    "print(rank_lap)"
   ]
  },
  {
   "cell_type": "markdown",
   "id": "3117e69c",
   "metadata": {},
   "source": [
    "## Jelinek-Mercer Smoothing "
   ]
  },
  {
   "cell_type": "code",
   "execution_count": 161,
   "id": "9eda385c",
   "metadata": {},
   "outputs": [
    {
     "name": "stdout",
     "output_type": "stream",
     "text": [
      "{'berita1': 0.0, 'berita2': 0.0, 'berita3': 2.202827549442465e-06, 'berita4': 0.0, 'berita5': 0.0}\n"
     ]
    }
   ],
   "source": [
    "lamda = 0.5\n",
    "likelihood_scores_jm = {}\n",
    "for doc_id in no_sw.keys():\n",
    "    likelihood_scores_jm[doc_id] = 1\n",
    "    tokens = tokenisasi(no_sw[doc_id])\n",
    "    for q in tokenized_query:\n",
    "        likelihood_scores_jm[doc_id]=likelihood_scores_jm[doc_id]*((lamda*tokens.count(q)/len(tokens))+((1-lamda)*tokenized_corpus.count(q)/len(tokenized_corpus)))\n",
    "print(likelihood_scores_jm)\n"
   ]
  },
  {
   "cell_type": "code",
   "execution_count": 143,
   "id": "c219eff1",
   "metadata": {},
   "outputs": [
    {
     "name": "stdout",
     "output_type": "stream",
     "text": [
      "{'berita3': 2.202827549442465e-06, 'berita1': 0.0, 'berita2': 0.0}\n"
     ]
    }
   ],
   "source": [
    "rank_jm = exact_top_k_lm(no_sw, likelihood_scores_jm, 3)\n",
    "print(rank_jm)"
   ]
  },
  {
   "cell_type": "markdown",
   "id": "b7b9c8dc",
   "metadata": {},
   "source": [
    "## Dirichlet Smoothing"
   ]
  },
  {
   "cell_type": "code",
   "execution_count": 188,
   "id": "cd1f6f74",
   "metadata": {},
   "outputs": [
    {
     "name": "stdout",
     "output_type": "stream",
     "text": [
      "{'berita1': 0.0, 'berita2': 0.0, 'berita3': 1.5996992565397702e-05, 'berita4': 0.0, 'berita5': 0.0}\n"
     ]
    }
   ],
   "source": [
    "miu = 2\n",
    "likelihood_scores_dir = {}\n",
    "for doc_id in no_sw.keys():\n",
    "    likelihood_scores_dir[doc_id] = 1\n",
    "    tokens = tokenisasi(no_sw[doc_id])\n",
    "    for q in tokenized_query:\n",
    "#         print(likelihood_scores_dir)\n",
    "        likelihood_scores_dir[doc_id]=likelihood_scores_dir[doc_id]*(tokens.count(q)+miu*tokenized_corpus.count(q)/len(tokenized_corpus))/(len(tokens)+miu)\n",
    "print(likelihood_scores_dir)\n",
    "# cek rumusnya lagi ya"
   ]
  },
  {
   "cell_type": "code",
   "execution_count": null,
   "id": "2df1802c",
   "metadata": {},
   "outputs": [],
   "source": []
  }
 ],
 "metadata": {
  "kernelspec": {
   "display_name": "Python 3 (ipykernel)",
   "language": "python",
   "name": "python3"
  },
  "language_info": {
   "codemirror_mode": {
    "name": "ipython",
    "version": 3
   },
   "file_extension": ".py",
   "mimetype": "text/x-python",
   "name": "python",
   "nbconvert_exporter": "python",
   "pygments_lexer": "ipython3",
   "version": "3.8.13"
  }
 },
 "nbformat": 4,
 "nbformat_minor": 5
}
