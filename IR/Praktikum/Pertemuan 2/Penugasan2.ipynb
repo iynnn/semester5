{
 "cells": [
  {
   "cell_type": "code",
   "execution_count": 3,
   "id": "e2beaf64",
   "metadata": {},
   "outputs": [
    {
     "name": "stdout",
     "output_type": "stream",
     "text": [
      "List paragraf: \n",
      "\n",
      "p1: Mobilitas warga bakal diperketat melaluui penerapan PPKM level 3 se-Indonesia di mana libur Natal dan tahun baru (Nataru). Rencana kebijakan itu dikritik oleh Epidemiolog dari Griffith University Dicky Budiman.\n",
      "\n",
      "p2: Dicky menyebut pembatasan mobilitas memang akan memiliki dampak dalam mencegah penularan COVID-19. Tapi, kata dia, dampaknya signifikan atau tidak akan bergantung pada konsistensi yang mendasar yakni testing, tracing, treatment (3T) hingga vaksinasi COVID-19.\n",
      "\n"
     ]
    }
   ],
   "source": [
    "text = \"\"\"Mobilitas warga bakal diperketat melaluui penerapan PPKM level 3 se-Indonesia di mana libur Natal dan tahun baru (Nataru). Rencana kebijakan itu dikritik oleh Epidemiolog dari Griffith University Dicky Budiman.\n",
    "Dicky menyebut pembatasan mobilitas memang akan memiliki dampak dalam mencegah penularan COVID-19. Tapi, kata dia, dampaknya signifikan atau tidak akan bergantung pada konsistensi yang mendasar yakni testing, tracing, treatment (3T) hingga vaksinasi COVID-19.\"\"\"\n",
    "# print(text)\n",
    "\n",
    "text_parsing = {}\n",
    "key = [\"p1\", \"p2\"]\n",
    "def paragraph_parsing(text):\n",
    "    text_split = text.split(\"\\n\")\n",
    "    for i in range(len(text_split)):\n",
    "        text_parsing[key[i]] = text_split[i]\n",
    "\n",
    "paragraph_parsing(text)\n",
    "print(\"List paragraf: \\n\")\n",
    "print(\"p1: \" + text_parsing[\"p1\"]+\"\\n\")\n",
    "print(\"p2: \" + text_parsing[\"p2\"]+\"\\n\")"
   ]
  },
  {
   "cell_type": "code",
   "execution_count": 4,
   "id": "589c74bc",
   "metadata": {},
   "outputs": [
    {
     "name": "stdout",
     "output_type": "stream",
     "text": [
      "List kalimat pada paragraf 1 :\n",
      "\n",
      "s1: Mobilitas warga bakal diperketat melaluui penerapan PPKM level 3 se-Indonesia di mana libur Natal dan tahun baru (Nataru)\n",
      "\n",
      "s2: Rencana kebijakan itu dikritik oleh Epidemiolog dari Griffith University Dicky Budiman.\n",
      "\n",
      "\n",
      "List kalimat pada paragraf 2 :\n",
      "\n",
      "s1: Dicky menyebut pembatasan mobilitas memang akan memiliki dampak dalam mencegah penularan COVID-19\n",
      "\n",
      "s2: Tapi, kata dia, dampaknya signifikan atau tidak akan bergantung pada konsistensi yang mendasar yakni testing, tracing, treatment (3T) hingga vaksinasi COVID-19.\n"
     ]
    }
   ],
   "source": [
    "def sentence_parsing(par, nopar):\n",
    "    text_paragraph = par.split(\". \") # ini outputnya di titiknya masih ilang\n",
    "    print(\"List kalimat pada paragraf \" + nopar +\" :\")\n",
    "    i = 1\n",
    "    for sen in text_paragraph:\n",
    "        print(\"\\ns\" + str(i) +\": \" + sen)\n",
    "        i+=1\n",
    "sentence_parsing(text_parsing[\"p1\"],\"1\" )\n",
    "print(\"\\n\")\n",
    "sentence_parsing(text_parsing[\"p2\"],\"2\" )\n"
   ]
  },
  {
   "cell_type": "code",
   "execution_count": 2,
   "id": "7cc2a8bf",
   "metadata": {},
   "outputs": [],
   "source": [
    "import os, re"
   ]
  },
  {
   "cell_type": "code",
   "execution_count": 6,
   "id": "04799c63",
   "metadata": {},
   "outputs": [
    {
     "name": "stdout",
     "output_type": "stream",
     "text": [
      "Wilayah Kamu Sudah 'Bebas' COVID-19? Cek 34 Kab/Kota Zona Hijau Terbaru\n",
      "\n",
      "Jakarta - Pemerintah rencananya bakal menerapkan Pemberlakuan Pembatasan Kegiatan Masyarakat (PPKM) level 3 terhitung 24 Desember 2021 hingga 2 Januari 2021. Namun, Kementerian Kesehatan RI memastikan kebijakan PPKM level 3 ini masih dalam tahap kajian.\n",
      "Menurut Direktur Pencegahan dan Pengendalian Penyakit Menular Langsung (P2PML) Kemenkes RI dr Siti Nadia Tarmizi, PPKM level 3 bakal diterapkan jika kasus COVID-19 naik signifikan. Hal ini umumnya dipicu dengan peningkatan mobilitas dan pelonggaran protokol kesehatan.\n",
      "\n",
      "https://health.detik.com/berita-detikhealth/d-5816690/wilayah-kamu-sudah-bebas-covid-19-cek-34-kabkota-zona-hijau-terbaru\n",
      "Vaksin COVID-19 Bakal Rutin Setiap Tahun? Tergantung, Ini Penjelasannya\n",
      "\n",
      "Jakarta - Pemberian booster atau dosis ketiga vaksin COVID-19 di Indonesia direncanakan bakal berlangsung Januari 2022. Lantas adakah kemungkinan vaksinasi COVID-19 bakal harus dilakukan setiap tahun seperti vaksinasi influenza?\n",
      "Ketua Satgas COVID-19 Ikatan Dokter Indonesia (IDI) Prof Zubairi Djoerban menjelaskan hingga kini belum ada kepastian terkait hal tersebut. Menurutnya masih ada kemungkinan vaksin COVID-19 harus diberikan setiap tahun, ada juga kemungkinan cukup booster diberikan sekali kemudian vaksinasi COVID-19 tidak diperlukan lagi.\n",
      "\n",
      "https://health.detik.com/berita-detikhealth/d-5816582/vaksin-covid-19-bakal-rutin-setiap-tahun-tergantung-ini-penjelasannya\n",
      "RI Mulai Suntikkan Booster di 2022, Masihkah Ampuh Lawan Varian Delta Cs?\n",
      "\n",
      "Jakarta - Pakar mengakui vaksin-vaksin yang sudah digunakan untuk dosis 1-2 memang mengalami penurunan efektivitas terhadap varian baru Corona seperti varian Delta. Mengingat booster atau dosis ketiga vaksin COVID-19 di Indonesia disebut bakal dimulai awal 2022, apakah jenis vaksin yang digunakan bakal mengikuti strain virus terbaru?\n",
      "Menjawab pertanyaan tersebut, Ketua Satgas COVID-19 Ikatan Dokter Indonesia (IDI) Prof Zubairi Djoerban kembali menyinggung riset yang sudah berlangsung terkait efektivitas vaksin COVID-19 dosis 1 dan 2. Ia menyebut berdasarkan riset sejauh ini, efektivitas vaksin COVID-19 Pfizer dan Moderna terbukti menurun dalam melawan varian Delta.\n",
      "\n",
      "https://health.detik.com/berita-detikhealth/d-5816534/ri-mulai-suntikkan-booster-di-2022-masihkah-ampuh-lawan-varian-delta-cs\n",
      "Alert! Kasus Varian Delta COVID-19 di DKI Meningkat\n",
      "\n",
      "Jakarta - Data terbaru dari Balitbangkes Kemenkes RI per 13 November, menunjukkan adanya penambahan varian Delta. Penambahan tersebut terjadi di Jawa Barat ada 165 kasus, DKI Jakarta 90 kasus, dan Sulawesi Utara 86 kasus.\n",
      "Dalam satu bulan terakhir, Balitbangkes menyebutkan DKI Jakarta mengalami peningkatan kasus varian Delta yang signifikan. Sementara, pada varian baru seperti varian Alpha, varian Delta, hingga Beta terbanyak di Indonesia berasal dari DKI Jakarta, dengan total 1.327 kasus .\n",
      "\n",
      "https://health.detik.com/berita-detikhealth/d-5812940/alert-kasus-varian-delta-covid-19-di-dki-meningkat\n",
      "Corona di AS Mendadak Naik Lagi Usai Serangan Delta Sempat Mereda\n",
      "\n",
      "Jakarta - Kasus COVID-19 kembali naik di sejumlah wilayah Amerika Serikat (AS). Padahal diketahui, COVID-19 sempat tercatat stabil pasca serangan varian Delta musim panas ini. Ada apa?\n",
      "Hal tersebut disampaikan oleh kepala penasihat medis Gedung Putih Dr. Anthony Fauci, Senin (15/11/2021). Diketahui, kasus nasional turun 57 persen minggu lalu dari puncak gelombang varian Delta pada musim panas. Namun jumlah pasien COVID-19 di area Barat Tengah dan Timur laut kini naik mendadak.\n",
      "\n",
      "https://health.detik.com/berita-detikhealth/d-5813949/corona-di-as-mendadak-naik-lagi-usai-serangan-delta-sempat-mereda\n"
     ]
    }
   ],
   "source": [
    "def read_text_file(file_path):\n",
    "    with open(file_path, 'r') as f:\n",
    "        return(f.read())\n",
    "\n",
    "berita = []\n",
    "path = \"C:/Users/yanto/Documents/STIS/Semester 5/Mata Kuliah/Information Retrieval/Praktikum/Praktikum 3/berita\"\n",
    "for file in os.listdir(path):\n",
    "# Check whether file is in text format or not\n",
    "    if file.endswith(\".txt\"):\n",
    "        file_path = f\"{path}\\{file}\"\n",
    " \n",
    "        # call read text file function\n",
    "        print(read_text_file(file_path))\n",
    "        berita.append(read_text_file(file_path))\n",
    "        \n",
    "        \n",
    "\n"
   ]
  },
  {
   "cell_type": "code",
   "execution_count": 6,
   "id": "90b4fcb9",
   "metadata": {},
   "outputs": [
    {
     "name": "stdout",
     "output_type": "stream",
     "text": [
      "['berita1.txt', 'berita2.txt', 'berita3.txt', 'berita4.txt', 'berita5.txt']\n"
     ]
    }
   ],
   "source": [
    "\n",
    "path = \"C:/Users/yanto/Documents/STIS/Semester 5/Mata Kuliah/Information Retrieval/Praktikum/Pertemuan 2/berita\"\n",
    "def read_file(folder_path):\n",
    "    file_path = []\n",
    "    for file in os.listdir(folder_path):\n",
    "        if os.path.isfile(os.path.join(folder_path, file)):\n",
    "            if file.endswith(\".txt\"):\n",
    "                file_path.append(file)\n",
    "    print(file_path)\n",
    "read_file(path)"
   ]
  },
  {
   "cell_type": "code",
   "execution_count": 7,
   "id": "8ee56e57",
   "metadata": {},
   "outputs": [],
   "source": [
    "# TOKENISASI\n",
    "from spacy.lang.id import Indonesian\n",
    "import spacy\n",
    "nlp = spacy.blank('id') #blank instance\n"
   ]
  },
  {
   "cell_type": "code",
   "execution_count": 27,
   "id": "5f71037c",
   "metadata": {},
   "outputs": [
    {
     "name": "stdout",
     "output_type": "stream",
     "text": [
      "WILAYAH KAMU SUDAH 'BEBAS' COVID-19? CEK 34 KAB/KOTA ZONA HIJAU TERBARU\n",
      "\n",
      "JAKARTA - PEMERINTAH RENCANANYA BAKAL MENERAPKAN PEMBERLAKUAN PEMBATASAN KEGIATAN MASYARAKAT (PPKM) LEVEL 3 TERHITUNG 24 DESEMBER 2021 HINGGA 2 JANUARI 2021. NAMUN, KEMENTERIAN KESEHATAN RI MEMASTIKAN KEBIJAKAN PPKM LEVEL 3 INI MASIH DALAM TAHAP KAJIAN.\n",
      "MENURUT DIREKTUR PENCEGAHAN DAN PENGENDALIAN PENYAKIT MENULAR LANGSUNG (P2PML) KEMENKES RI DR SITI NADIA TARMIZI, PPKM LEVEL 3 BAKAL DITERAPKAN JIKA KASUS COVID-19 NAIK SIGNIFIKAN. HAL INI UMUMNYA DIPICU DENGAN PENINGKATAN MOBILITAS DAN PELONGGARAN PROTOKOL KESEHATAN.\n",
      "\n",
      "HTTPS://HEALTH.DETIK.COM/BERITA-DETIKHEALTH/D-5816690/WILAYAH-KAMU-SUDAH-BEBAS-COVID-19-CEK-34-KABKOTA-ZONA-HIJAU-TERBARU\n",
      "VAKSIN COVID-19 BAKAL RUTIN SETIAP TAHUN? TERGANTUNG, INI PENJELASANNYA\n",
      "\n",
      "JAKARTA - PEMBERIAN BOOSTER ATAU DOSIS KETIGA VAKSIN COVID-19 DI INDONESIA DIRENCANAKAN BAKAL BERLANGSUNG JANUARI 2022. LANTAS ADAKAH KEMUNGKINAN VAKSINASI COVID-19 BAKAL HARUS DILAKUKAN SETIAP TAHUN SEPERTI VAKSINASI INFLUENZA?\n",
      "KETUA SATGAS COVID-19 IKATAN DOKTER INDONESIA (IDI) PROF ZUBAIRI DJOERBAN MENJELASKAN HINGGA KINI BELUM ADA KEPASTIAN TERKAIT HAL TERSEBUT. MENURUTNYA MASIH ADA KEMUNGKINAN VAKSIN COVID-19 HARUS DIBERIKAN SETIAP TAHUN, ADA JUGA KEMUNGKINAN CUKUP BOOSTER DIBERIKAN SEKALI KEMUDIAN VAKSINASI COVID-19 TIDAK DIPERLUKAN LAGI.\n",
      "\n",
      "HTTPS://HEALTH.DETIK.COM/BERITA-DETIKHEALTH/D-5816582/VAKSIN-COVID-19-BAKAL-RUTIN-SETIAP-TAHUN-TERGANTUNG-INI-PENJELASANNYA\n",
      "RI MULAI SUNTIKKAN BOOSTER DI 2022, MASIHKAH AMPUH LAWAN VARIAN DELTA CS?\n",
      "\n",
      "JAKARTA - PAKAR MENGAKUI VAKSIN-VAKSIN YANG SUDAH DIGUNAKAN UNTUK DOSIS 1-2 MEMANG MENGALAMI PENURUNAN EFEKTIVITAS TERHADAP VARIAN BARU CORONA SEPERTI VARIAN DELTA. MENGINGAT BOOSTER ATAU DOSIS KETIGA VAKSIN COVID-19 DI INDONESIA DISEBUT BAKAL DIMULAI AWAL 2022, APAKAH JENIS VAKSIN YANG DIGUNAKAN BAKAL MENGIKUTI STRAIN VIRUS TERBARU?\n",
      "MENJAWAB PERTANYAAN TERSEBUT, KETUA SATGAS COVID-19 IKATAN DOKTER INDONESIA (IDI) PROF ZUBAIRI DJOERBAN KEMBALI MENYINGGUNG RISET YANG SUDAH BERLANGSUNG TERKAIT EFEKTIVITAS VAKSIN COVID-19 DOSIS 1 DAN 2. IA MENYEBUT BERDASARKAN RISET SEJAUH INI, EFEKTIVITAS VAKSIN COVID-19 PFIZER DAN MODERNA TERBUKTI MENURUN DALAM MELAWAN VARIAN DELTA.\n",
      "\n",
      "HTTPS://HEALTH.DETIK.COM/BERITA-DETIKHEALTH/D-5816534/RI-MULAI-SUNTIKKAN-BOOSTER-DI-2022-MASIHKAH-AMPUH-LAWAN-VARIAN-DELTA-CS\n",
      "ALERT! KASUS VARIAN DELTA COVID-19 DI DKI MENINGKAT\n",
      "\n",
      "JAKARTA - DATA TERBARU DARI BALITBANGKES KEMENKES RI PER 13 NOVEMBER, MENUNJUKKAN ADANYA PENAMBAHAN VARIAN DELTA. PENAMBAHAN TERSEBUT TERJADI DI JAWA BARAT ADA 165 KASUS, DKI JAKARTA 90 KASUS, DAN SULAWESI UTARA 86 KASUS.\n",
      "DALAM SATU BULAN TERAKHIR, BALITBANGKES MENYEBUTKAN DKI JAKARTA MENGALAMI PENINGKATAN KASUS VARIAN DELTA YANG SIGNIFIKAN. SEMENTARA, PADA VARIAN BARU SEPERTI VARIAN ALPHA, VARIAN DELTA, HINGGA BETA TERBANYAK DI INDONESIA BERASAL DARI DKI JAKARTA, DENGAN TOTAL 1.327 KASUS .\n",
      "\n",
      "HTTPS://HEALTH.DETIK.COM/BERITA-DETIKHEALTH/D-5812940/ALERT-KASUS-VARIAN-DELTA-COVID-19-DI-DKI-MENINGKAT\n",
      "CORONA DI AS MENDADAK NAIK LAGI USAI SERANGAN DELTA SEMPAT MEREDA\n",
      "\n",
      "JAKARTA - KASUS COVID-19 KEMBALI NAIK DI SEJUMLAH WILAYAH AMERIKA SERIKAT (AS). PADAHAL DIKETAHUI, COVID-19 SEMPAT TERCATAT STABIL PASCA SERANGAN VARIAN DELTA MUSIM PANAS INI. ADA APA?\n",
      "HAL TERSEBUT DISAMPAIKAN OLEH KEPALA PENASIHAT MEDIS GEDUNG PUTIH DR. ANTHONY FAUCI, SENIN (15/11/2021). DIKETAHUI, KASUS NASIONAL TURUN 57 PERSEN MINGGU LALU DARI PUNCAK GELOMBANG VARIAN DELTA PADA MUSIM PANAS. NAMUN JUMLAH PASIEN COVID-19 DI AREA BARAT TENGAH DAN TIMUR LAUT KINI NAIK MENDADAK.\n",
      "\n",
      "HTTPS://HEALTH.DETIK.COM/BERITA-DETIKHEALTH/D-5813949/CORONA-DI-AS-MENDADAK-NAIK-LAGI-USAI-SERANGAN-DELTA-SEMPAT-MEREDA\n",
      "wilayah kamu sudah 'bebas' covid-19? cek 34 kab/kota zona hijau terbaru\n",
      "\n",
      "jakarta - pemerintah rencananya bakal menerapkan pemberlakuan pembatasan kegiatan masyarakat (ppkm) level 3 terhitung 24 desember 2021 hingga 2 januari 2021. namun, kementerian kesehatan ri memastikan kebijakan ppkm level 3 ini masih dalam tahap kajian.\n",
      "menurut direktur pencegahan dan pengendalian penyakit menular langsung (p2pml) kemenkes ri dr siti nadia tarmizi, ppkm level 3 bakal diterapkan jika kasus covid-19 naik signifikan. hal ini umumnya dipicu dengan peningkatan mobilitas dan pelonggaran protokol kesehatan.\n",
      "\n",
      "https://health.detik.com/berita-detikhealth/d-5816690/wilayah-kamu-sudah-bebas-covid-19-cek-34-kabkota-zona-hijau-terbaru\n",
      "vaksin covid-19 bakal rutin setiap tahun? tergantung, ini penjelasannya\n",
      "\n",
      "jakarta - pemberian booster atau dosis ketiga vaksin covid-19 di indonesia direncanakan bakal berlangsung januari 2022. lantas adakah kemungkinan vaksinasi covid-19 bakal harus dilakukan setiap tahun seperti vaksinasi influenza?\n",
      "ketua satgas covid-19 ikatan dokter indonesia (idi) prof zubairi djoerban menjelaskan hingga kini belum ada kepastian terkait hal tersebut. menurutnya masih ada kemungkinan vaksin covid-19 harus diberikan setiap tahun, ada juga kemungkinan cukup booster diberikan sekali kemudian vaksinasi covid-19 tidak diperlukan lagi.\n",
      "\n",
      "https://health.detik.com/berita-detikhealth/d-5816582/vaksin-covid-19-bakal-rutin-setiap-tahun-tergantung-ini-penjelasannya\n",
      "ri mulai suntikkan booster di 2022, masihkah ampuh lawan varian delta cs?\n",
      "\n",
      "jakarta - pakar mengakui vaksin-vaksin yang sudah digunakan untuk dosis 1-2 memang mengalami penurunan efektivitas terhadap varian baru corona seperti varian delta. mengingat booster atau dosis ketiga vaksin covid-19 di indonesia disebut bakal dimulai awal 2022, apakah jenis vaksin yang digunakan bakal mengikuti strain virus terbaru?\n",
      "menjawab pertanyaan tersebut, ketua satgas covid-19 ikatan dokter indonesia (idi) prof zubairi djoerban kembali menyinggung riset yang sudah berlangsung terkait efektivitas vaksin covid-19 dosis 1 dan 2. ia menyebut berdasarkan riset sejauh ini, efektivitas vaksin covid-19 pfizer dan moderna terbukti menurun dalam melawan varian delta.\n",
      "\n",
      "https://health.detik.com/berita-detikhealth/d-5816534/ri-mulai-suntikkan-booster-di-2022-masihkah-ampuh-lawan-varian-delta-cs\n",
      "alert! kasus varian delta covid-19 di dki meningkat\n",
      "\n",
      "jakarta - data terbaru dari balitbangkes kemenkes ri per 13 november, menunjukkan adanya penambahan varian delta. penambahan tersebut terjadi di jawa barat ada 165 kasus, dki jakarta 90 kasus, dan sulawesi utara 86 kasus.\n",
      "dalam satu bulan terakhir, balitbangkes menyebutkan dki jakarta mengalami peningkatan kasus varian delta yang signifikan. sementara, pada varian baru seperti varian alpha, varian delta, hingga beta terbanyak di indonesia berasal dari dki jakarta, dengan total 1.327 kasus .\n",
      "\n",
      "https://health.detik.com/berita-detikhealth/d-5812940/alert-kasus-varian-delta-covid-19-di-dki-meningkat\n",
      "corona di as mendadak naik lagi usai serangan delta sempat mereda\n",
      "\n",
      "jakarta - kasus covid-19 kembali naik di sejumlah wilayah amerika serikat (as). padahal diketahui, covid-19 sempat tercatat stabil pasca serangan varian delta musim panas ini. ada apa?\n",
      "hal tersebut disampaikan oleh kepala penasihat medis gedung putih dr. anthony fauci, senin (15/11/2021). diketahui, kasus nasional turun 57 persen minggu lalu dari puncak gelombang varian delta pada musim panas. namun jumlah pasien covid-19 di area barat tengah dan timur laut kini naik mendadak.\n",
      "\n",
      "https://health.detik.com/berita-detikhealth/d-5813949/corona-di-as-mendadak-naik-lagi-usai-serangan-delta-sempat-mereda\n"
     ]
    }
   ],
   "source": [
    "# getting value fromo berita\n",
    "# CASE - FOLDING\n",
    "\n",
    "\n",
    "import spacy\n",
    "\n",
    "\n",
    "# CAPITALIZATION\n",
    "berita_gede = []\n",
    "for i in range(len(berita)):\n",
    "    berita_gede.append(berita[i].upper())\n",
    "\n",
    "for i in range(len(berita_gede)):\n",
    "    print(berita_gede[i])\n",
    "    \n",
    "    \n",
    "# KECILIN\n",
    "berita_kecil = []\n",
    "for i in range(len(berita)):\n",
    "    berita_kecil.append(berita[i].lower())\n",
    "\n",
    "for i in range(len(berita_kecil)):\n",
    "    print(berita_kecil[i])\n"
   ]
  },
  {
   "cell_type": "code",
   "execution_count": 87,
   "id": "faff07ca",
   "metadata": {},
   "outputs": [
    {
     "name": "stdout",
     "output_type": "stream",
     "text": [
      "[['wilayah', 'kamu', 'sudah', \"'\", 'bebas', \"'\", 'covid', '-', '19', '?', 'cek', '34', 'kab', '/', 'kota', 'zona', 'hijau', 'terbaru', '\\n\\n', 'jakarta', '-', 'pemerintah', 'rencananya', 'bakal', 'menerapkan', 'pemberlakuan', 'pembatasan', 'kegiatan', 'masyarakat', '(', 'ppkm', ')', 'level', '3', 'terhitung', '24', 'desember', '2021', 'hingga', '2', 'januari', '2021', '.', 'namun', ',', 'kementerian', 'kesehatan', 'ri', 'memastikan', 'kebijakan', 'ppkm', 'level', '3', 'ini', 'masih', 'dalam', 'tahap', 'kajian', '.', '\\n', 'menurut', 'direktur', 'pencegahan', 'dan', 'pengendalian', 'penyakit', 'menular', 'langsung', '(', 'p2pml', ')', 'kemenkes', 'ri', 'dr', 'siti', 'nadia', 'tarmizi', ',', 'ppkm', 'level', '3', 'bakal', 'diterapkan', 'jika', 'kasus', 'covid', '-', '19', 'naik', 'signifikan', '.', 'hal', 'ini', 'umumnya', 'dipicu', 'dengan', 'peningkatan', 'mobilitas', 'dan', 'pelonggaran', 'protokol', 'kesehatan', '.', '\\n\\n', 'https://health.detik.com/berita-detikhealth/d-5816690/wilayah-kamu-sudah-bebas-covid-19-cek-34-kabkota-zona-hijau-terbaru'], ['vaksin', 'covid', '-', '19', 'bakal', 'rutin', 'setiap', 'tahun', '?', 'tergantung', ',', 'ini', 'penjelasannya', '\\n\\n', 'jakarta', '-', 'pemberian', 'booster', 'atau', 'dosis', 'ketiga', 'vaksin', 'covid', '-', '19', 'di', 'indonesia', 'direncanakan', 'bakal', 'berlangsung', 'januari', '2022', '.', 'lantas', 'adakah', 'kemungkinan', 'vaksinasi', 'covid', '-', '19', 'bakal', 'harus', 'dilakukan', 'setiap', 'tahun', 'seperti', 'vaksinasi', 'influenza', '?', '\\n', 'ketua', 'satgas', 'covid', '-', '19', 'ikatan', 'dokter', 'indonesia', '(', 'idi', ')', 'prof', 'zubairi', 'djoerban', 'menjelaskan', 'hingga', 'kini', 'belum', 'ada', 'kepastian', 'terkait', 'hal', 'tersebut', '.', 'menurutnya', 'masih', 'ada', 'kemungkinan', 'vaksin', 'covid', '-', '19', 'harus', 'diberikan', 'setiap', 'tahun', ',', 'ada', 'juga', 'kemungkinan', 'cukup', 'booster', 'diberikan', 'sekali', 'kemudian', 'vaksinasi', 'covid', '-', '19', 'tidak', 'diperlukan', 'lagi', '.', '\\n\\n', 'https://health.detik.com/berita-detikhealth/d-5816582/vaksin-covid-19-bakal-rutin-setiap-tahun-tergantung-ini-penjelasannya'], ['ri', 'mulai', 'suntikkan', 'booster', 'di', '2022', ',', 'masihkah', 'ampuh', 'lawan', 'varian', 'delta', 'cs', '?', '\\n\\n', 'jakarta', '-', 'pakar', 'mengakui', 'vaksin', '-', 'vaksin', 'yang', 'sudah', 'digunakan', 'untuk', 'dosis', '1', '-', '2', 'memang', 'mengalami', 'penurunan', 'efektivitas', 'terhadap', 'varian', 'baru', 'corona', 'seperti', 'varian', 'delta', '.', 'mengingat', 'booster', 'atau', 'dosis', 'ketiga', 'vaksin', 'covid', '-', '19', 'di', 'indonesia', 'disebut', 'bakal', 'dimulai', 'awal', '2022', ',', 'apakah', 'jenis', 'vaksin', 'yang', 'digunakan', 'bakal', 'mengikuti', 'strain', 'virus', 'terbaru', '?', '\\n', 'menjawab', 'pertanyaan', 'tersebut', ',', 'ketua', 'satgas', 'covid', '-', '19', 'ikatan', 'dokter', 'indonesia', '(', 'idi', ')', 'prof', 'zubairi', 'djoerban', 'kembali', 'menyinggung', 'riset', 'yang', 'sudah', 'berlangsung', 'terkait', 'efektivitas', 'vaksin', 'covid', '-', '19', 'dosis', '1', 'dan', '2', '.', 'ia', 'menyebut', 'berdasarkan', 'riset', 'sejauh', 'ini', ',', 'efektivitas', 'vaksin', 'covid', '-', '19', 'pfizer', 'dan', 'moderna', 'terbukti', 'menurun', 'dalam', 'melawan', 'varian', 'delta', '.', '\\n\\n', 'https://health.detik.com/berita-detikhealth/d-5816534/ri-mulai-suntikkan-booster-di-2022-masihkah-ampuh-lawan-varian-delta-cs'], ['alert', '!', 'kasus', 'varian', 'delta', 'covid', '-', '19', 'di', 'dki', 'meningkat', '\\n\\n', 'jakarta', '-', 'data', 'terbaru', 'dari', 'balitbangkes', 'kemenkes', 'ri', 'per', '13', 'november', ',', 'menunjukkan', 'adanya', 'penambahan', 'varian', 'delta', '.', 'penambahan', 'tersebut', 'terjadi', 'di', 'jawa', 'barat', 'ada', '165', 'kasus', ',', 'dki', 'jakarta', '90', 'kasus', ',', 'dan', 'sulawesi', 'utara', '86', 'kasus', '.', '\\n', 'dalam', 'satu', 'bulan', 'terakhir', ',', 'balitbangkes', 'menyebutkan', 'dki', 'jakarta', 'mengalami', 'peningkatan', 'kasus', 'varian', 'delta', 'yang', 'signifikan', '.', 'sementara', ',', 'pada', 'varian', 'baru', 'seperti', 'varian', 'alpha', ',', 'varian', 'delta', ',', 'hingga', 'beta', 'terbanyak', 'di', 'indonesia', 'berasal', 'dari', 'dki', 'jakarta', ',', 'dengan', 'total', '1.327', 'kasus', '.', '\\n\\n', 'https://health.detik.com/berita-detikhealth/d-5812940/alert-kasus-varian-delta-covid-19-di-dki-meningkat'], ['corona', 'di', 'as', 'mendadak', 'naik', 'lagi', 'usai', 'serangan', 'delta', 'sempat', 'mereda', '\\n\\n', 'jakarta', '-', 'kasus', 'covid', '-', '19', 'kembali', 'naik', 'di', 'sejumlah', 'wilayah', 'amerika', 'serikat', '(', 'as', ')', '.', 'padahal', 'diketahui', ',', 'covid', '-', '19', 'sempat', 'tercatat', 'stabil', 'pasca', 'serangan', 'varian', 'delta', 'musim', 'panas', 'ini', '.', 'ada', 'apa', '?', '\\n', 'hal', 'tersebut', 'disampaikan', 'oleh', 'kepala', 'penasihat', 'medis', 'gedung', 'putih', 'dr.', 'anthony', 'fauci', ',', 'senin', '(', '15', '/', '11', '/', '2021', ')', '.', 'diketahui', ',', 'kasus', 'nasional', 'turun', '57', 'persen', 'minggu', 'lalu', 'dari', 'puncak', 'gelombang', 'varian', 'delta', 'pada', 'musim', 'panas', '.', 'namun', 'jumlah', 'pasien', 'covid', '-', '19', 'di', 'area', 'barat', 'tengah', 'dan', 'timur', 'laut', 'kini', 'naik', 'mendadak', '.', '\\n\\n', 'https://health.detik.com/berita-detikhealth/d-5813949/corona-di-as-mendadak-naik-lagi-usai-serangan-delta-sempat-mereda']]\n"
     ]
    }
   ],
   "source": [
    "# TOKENISASI USING THE LOWER CASE\n",
    "token = []\n",
    "for d in berita_kecil:\n",
    "    spacy_idn = nlp(d)\n",
    "    # saving tokenization in one variable \n",
    "    token.append( [token.text for token in spacy_idn])\n",
    "print(token)\n"
   ]
  },
  {
   "cell_type": "code",
   "execution_count": 155,
   "id": "0d5c792d",
   "metadata": {},
   "outputs": [
    {
     "name": "stdout",
     "output_type": "stream",
     "text": [
      "[['wilayah', \"'\", 'bebas', \"'\", 'covid', '-', '19', '?', 'cek', '34', 'kab', '/', 'kota', 'zona', 'hijau', 'terbaru', '\\n\\n', 'jakarta', '-', 'pemerintah', 'rencananya', 'menerapkan', 'pemberlakuan', 'pembatasan', 'kegiatan', 'masyarakat', '(', 'ppkm', ')', 'level', '3', 'terhitung', '24', 'desember', '2021', '2', 'januari', '2021', '.', ',', 'kementerian', 'kesehatan', 'ri', 'kebijakan', 'ppkm', 'level', '3', 'tahap', 'kajian', '.', '\\n', 'direktur', 'pencegahan', 'pengendalian', 'penyakit', 'menular', 'langsung', '(', 'p2pml', ')', 'kemenkes', 'ri', 'dr', 'siti', 'nadia', 'tarmizi', ',', 'ppkm', 'level', '3', 'diterapkan', 'covid', '-', '19', 'signifikan', '.', 'dipicu', 'peningkatan', 'mobilitas', 'pelonggaran', 'protokol', 'kesehatan', '.', '\\n\\n', 'https://health.detik.com/berita-detikhealth/d-5816690/wilayah-kamu-sudah-bebas-covid-19-cek-34-kabkota-zona-hijau-terbaru'], ['vaksin', 'covid', '-', '19', 'rutin', '?', 'tergantung', ',', 'penjelasannya', '\\n\\n', 'jakarta', '-', 'pemberian', 'booster', 'dosis', 'ketiga', 'vaksin', 'covid', '-', '19', 'indonesia', 'direncanakan', 'januari', '2022', '.', 'lantas', 'adakah', 'vaksinasi', 'covid', '-', '19', 'vaksinasi', 'influenza', '?', '\\n', 'ketua', 'satgas', 'covid', '-', '19', 'ikatan', 'dokter', 'indonesia', '(', 'idi', ')', 'prof', 'zubairi', 'djoerban', 'kepastian', 'terkait', '.', 'menurutnya', 'vaksin', 'covid', '-', '19', ',', 'booster', 'vaksinasi', 'covid', '-', '19', '.', '\\n\\n', 'https://health.detik.com/berita-detikhealth/d-5816582/vaksin-covid-19-bakal-rutin-setiap-tahun-tergantung-ini-penjelasannya'], ['ri', 'suntikkan', 'booster', '2022', ',', 'ampuh', 'lawan', 'varian', 'delta', 'cs', '?', '\\n\\n', 'jakarta', '-', 'pakar', 'mengakui', 'vaksin', '-', 'vaksin', 'dosis', '1', '-', '2', 'mengalami', 'penurunan', 'efektivitas', 'varian', 'corona', 'varian', 'delta', '.', 'booster', 'dosis', 'ketiga', 'vaksin', 'covid', '-', '19', 'indonesia', '2022', ',', 'jenis', 'vaksin', 'mengikuti', 'strain', 'virus', 'terbaru', '?', '\\n', ',', 'ketua', 'satgas', 'covid', '-', '19', 'ikatan', 'dokter', 'indonesia', '(', 'idi', ')', 'prof', 'zubairi', 'djoerban', 'menyinggung', 'riset', 'terkait', 'efektivitas', 'vaksin', 'covid', '-', '19', 'dosis', '1', '2', '.', 'menyebut', 'berdasarkan', 'riset', ',', 'efektivitas', 'vaksin', 'covid', '-', '19', 'pfizer', 'moderna', 'terbukti', 'menurun', 'melawan', 'varian', 'delta', '.', '\\n\\n', 'https://health.detik.com/berita-detikhealth/d-5816534/ri-mulai-suntikkan-booster-di-2022-masihkah-ampuh-lawan-varian-delta-cs'], ['alert', '!', 'varian', 'delta', 'covid', '-', '19', 'dki', 'meningkat', '\\n\\n', 'jakarta', '-', 'data', 'terbaru', 'balitbangkes', 'kemenkes', 'ri', '13', 'november', ',', 'penambahan', 'varian', 'delta', '.', 'penambahan', 'jawa', 'barat', '165', ',', 'dki', 'jakarta', '90', ',', 'sulawesi', 'utara', '86', '.', '\\n', ',', 'balitbangkes', 'dki', 'jakarta', 'mengalami', 'peningkatan', 'varian', 'delta', 'signifikan', '.', ',', 'varian', 'varian', 'alpha', ',', 'varian', 'delta', ',', 'beta', 'indonesia', 'berasal', 'dki', 'jakarta', ',', 'total', '1.327', '.', '\\n\\n', 'https://health.detik.com/berita-detikhealth/d-5812940/alert-kasus-varian-delta-covid-19-di-dki-meningkat'], ['corona', 'as', 'mendadak', 'serangan', 'delta', 'mereda', '\\n\\n', 'jakarta', '-', 'covid', '-', '19', 'wilayah', 'amerika', 'serikat', '(', 'as', ')', '.', ',', 'covid', '-', '19', 'tercatat', 'stabil', 'pasca', 'serangan', 'varian', 'delta', 'musim', 'panas', '.', '?', '\\n', 'kepala', 'penasihat', 'medis', 'gedung', 'putih', 'dr.', 'anthony', 'fauci', ',', 'senin', '(', '15', '/', '11', '/', '2021', ')', '.', ',', 'nasional', 'turun', '57', 'persen', 'minggu', 'puncak', 'gelombang', 'varian', 'delta', 'musim', 'panas', '.', 'pasien', 'covid', '-', '19', 'area', 'barat', 'timur', 'laut', 'mendadak', '.', '\\n\\n', 'https://health.detik.com/berita-detikhealth/d-5813949/corona-di-as-mendadak-naik-lagi-usai-serangan-delta-sempat-mereda']]\n"
     ]
    }
   ],
   "source": [
    "# ELIMINATION STOPWORDS\n",
    "sw = []\n",
    "stopwords =  nlp.Defaults.stop_words\n",
    "\n",
    "# gunain for ini karena token tadi kan ada beberapa list, nah harus diambil kata yang di dalamnya, ga boleh list \n",
    "for b in token: \n",
    "    sw.append([w for w in b if not w in stopwords])\n",
    "print(sw)"
   ]
  },
  {
   "cell_type": "code",
   "execution_count": 161,
   "id": "ab128d1e",
   "metadata": {},
   "outputs": [],
   "source": [
    "#STEMMING \n",
    "from Sastrawi.Stemmer.StemmerFactory import StemmerFactory\n",
    "# create stemmer\n",
    "factory = StemmerFactory()\n",
    "stemmer = factory.create_stemmer()\n"
   ]
  },
  {
   "cell_type": "code",
   "execution_count": 169,
   "id": "70bf2a11",
   "metadata": {},
   "outputs": [
    {
     "name": "stdout",
     "output_type": "stream",
     "text": [
      "[['wilayah', '', 'bebas', '', 'covid', '-', '19', '', 'cek', '34', 'kab', '', 'kota', 'zona', 'hijau', 'baru', '', 'jakarta', '-', 'perintah', 'rencana', 'terap', 'laku', 'batas', 'giat', 'masyarakat', '', 'ppkm', '', 'level', '3', 'hitung', '24', 'desember', '2021', '2', 'januari', '2021', '', '', 'menteri', 'sehat', 'ri', 'bijak', 'ppkm', 'level', '3', 'tahap', 'kaji', '', '', 'direktur', 'cegah', 'kendali', 'sakit', 'tular', 'langsung', '', 'p2pml', '', 'kemenkes', 'ri', 'dr', 'siti', 'nadia', 'tarmizi', '', 'ppkm', 'level', '3', 'terap', 'covid', '-', '19', 'signifikan', '', 'picu', 'tingkat', 'mobilitas', 'longgar', 'protokol', 'sehat', '', '', 'https health detik com berita-detikhealth d-5816690 wilayah-kamu-sudah-bebas-covid-19-cek-34-kabkota-zona-hijau-terbaru'], ['vaksin', 'covid', '-', '19', 'rutin', '', 'gantung', '', 'jelas', '', 'jakarta', '-', 'beri', 'booster', 'dosis', 'tiga', 'vaksin', 'covid', '-', '19', 'indonesia', 'rencana', 'januari', '2022', '', 'lantas', 'ada', 'vaksinasi', 'covid', '-', '19', 'vaksinasi', 'influenza', '', '', 'ketua', 'satgas', 'covid', '-', '19', 'ikat', 'dokter', 'indonesia', '', 'idi', '', 'prof', 'zubairi', 'djoerban', 'pasti', 'kait', '', 'turut', 'vaksin', 'covid', '-', '19', '', 'booster', 'vaksinasi', 'covid', '-', '19', '', '', 'https health detik com berita-detikhealth d-5816582 vaksin-covid-19-bakal-rutin-setiap-tahun-tergantung-ini-penjelasannya'], ['ri', 'suntik', 'booster', '2022', '', 'ampuh', 'lawan', 'varian', 'delta', 'cs', '', '', 'jakarta', '-', 'pakar', 'aku', 'vaksin', '-', 'vaksin', 'dosis', '1', '-', '2', 'alami', 'turun', 'efektivitas', 'varian', 'corona', 'varian', 'delta', '', 'booster', 'dosis', 'tiga', 'vaksin', 'covid', '-', '19', 'indonesia', '2022', '', 'jenis', 'vaksin', 'ikut', 'strain', 'virus', 'baru', '', '', '', 'ketua', 'satgas', 'covid', '-', '19', 'ikat', 'dokter', 'indonesia', '', 'idi', '', 'prof', 'zubairi', 'djoerban', 'singgung', 'riset', 'kait', 'efektivitas', 'vaksin', 'covid', '-', '19', 'dosis', '1', '2', '', 'sebut', 'dasar', 'riset', '', 'efektivitas', 'vaksin', 'covid', '-', '19', 'pfizer', 'moderna', 'bukti', 'turun', 'lawan', 'varian', 'delta', '', '', 'https health detik com berita-detikhealth d-5816534 ri-mulai-suntikkan-booster-di-2022-masihkah-ampuh-lawan-varian-delta-cs'], ['alert', '', 'varian', 'delta', 'covid', '-', '19', 'dki', 'tingkat', '', 'jakarta', '-', 'data', 'baru', 'balitbangkes', 'kemenkes', 'ri', '13', 'november', '', 'tambah', 'varian', 'delta', '', 'tambah', 'jawa', 'barat', '165', '', 'dki', 'jakarta', '90', '', 'sulawesi', 'utara', '86', '', '', '', 'balitbangkes', 'dki', 'jakarta', 'alami', 'tingkat', 'varian', 'delta', 'signifikan', '', '', 'varian', 'varian', 'alpha', '', 'varian', 'delta', '', 'beta', 'indonesia', 'asal', 'dki', 'jakarta', '', 'total', '1 327', '', '', 'https health detik com berita-detikhealth d-5812940 alert-kasus-varian-delta-covid-19-di-dki-meningkat'], ['corona', 'as', 'dadak', 'serang', 'delta', 'reda', '', 'jakarta', '-', 'covid', '-', '19', 'wilayah', 'amerika', 'serikat', '', 'as', '', '', '', 'covid', '-', '19', 'catat', 'stabil', 'pasca', 'serang', 'varian', 'delta', 'musim', 'panas', '', '', '', 'kepala', 'nasihat', 'medis', 'gedung', 'putih', 'dr', 'anthony', 'fauci', '', 'senin', '', '15', '', '11', '', '2021', '', '', '', 'nasional', 'turun', '57', 'persen', 'minggu', 'puncak', 'gelombang', 'varian', 'delta', 'musim', 'panas', '', 'pasien', 'covid', '-', '19', 'area', 'barat', 'timur', 'laut', 'dadak', '', '', 'https health detik com berita-detikhealth d-5813949 corona-di-as-mendadak-naik-lagi-usai-serangan-delta-sempat-mereda']]\n"
     ]
    }
   ],
   "source": [
    "#stemming process after removing stopwords\n",
    "steming =[] # membuat tempat buat keseluruhan berita\n",
    "for i in sw:\n",
    "    stm = [] # membuat berita aja yang mau di stemming pada iterasi ke-i\n",
    "    for j in i:\n",
    "        stm.append(stemmer.stem(j)) #stemming di iterasi ke i\n",
    "    steming.append(stm) # masukin kelist \n",
    "\n",
    "# output masih sama kaya awal, yaitu tiap file berita masuk ke dalam list masing-masing \n",
    "final = steming\n",
    "print(final)"
   ]
  },
  {
   "cell_type": "code",
   "execution_count": 154,
   "id": "09050f8d",
   "metadata": {},
   "outputs": [],
   "source": [
    "# ## TOKENISASI DAN ELIMINASI STOPWORDS\n",
    "# for i in berita:\n",
    "#     spacy_idn = nlp(i)\n",
    "#     tokenn = [token.text for token in spacy_idn]\n",
    "#     print(tokenn) # Tokenisasi pada link gabisa kah?\n",
    "#     print(\"---------------------------------------------------\")\n",
    "#     stopwords = nlp.Defaults.stop_words\n",
    "#     token_nostopwords = [w for w in tokenn if not w in stopwords]\n",
    "#     print(token_nostopwords)\n",
    "#     print(\"****************************************************\")"
   ]
  },
  {
   "cell_type": "code",
   "execution_count": 91,
   "id": "228c7f2f",
   "metadata": {},
   "outputs": [],
   "source": [
    "# # Eliminasi Stopwords\n",
    "# stopwords = nlp.Defaults.stop_words\n",
    "# token_nostopwords = [w for w in tokenn if not w in stopwords]\n",
    "# print(token_nostopwords)"
   ]
  },
  {
   "cell_type": "code",
   "execution_count": 138,
   "id": "bc4efbc7",
   "metadata": {
    "collapsed": true
   },
   "outputs": [
    {
     "ename": "TypeError",
     "evalue": "unhashable type: 'list'",
     "output_type": "error",
     "traceback": [
      "\u001b[1;31m---------------------------------------------------------------------------\u001b[0m",
      "\u001b[1;31mTypeError\u001b[0m                                 Traceback (most recent call last)",
      "Input \u001b[1;32mIn [138]\u001b[0m, in \u001b[0;36m<cell line: 4>\u001b[1;34m()\u001b[0m\n\u001b[0;32m      2\u001b[0m sw \u001b[38;5;241m=\u001b[39m [\u001b[38;5;124m\"\u001b[39m\u001b[38;5;124maku\u001b[39m\u001b[38;5;124m\"\u001b[39m, \u001b[38;5;124m\"\u001b[39m\u001b[38;5;124myang\u001b[39m\u001b[38;5;124m\"\u001b[39m]\n\u001b[0;32m      3\u001b[0m token_nostopwords \u001b[38;5;241m=\u001b[39m []\n\u001b[1;32m----> 4\u001b[0m token_nostopwords\u001b[38;5;241m.\u001b[39mappend([w \u001b[38;5;28;01mfor\u001b[39;00m w \u001b[38;5;129;01min\u001b[39;00m kalimat \u001b[38;5;28;01mif\u001b[39;00m \u001b[38;5;129;01mnot\u001b[39;00m w \u001b[38;5;129;01min\u001b[39;00m stopwords])\n\u001b[0;32m      5\u001b[0m token_nostopwords\n",
      "Input \u001b[1;32mIn [138]\u001b[0m, in \u001b[0;36m<listcomp>\u001b[1;34m(.0)\u001b[0m\n\u001b[0;32m      2\u001b[0m sw \u001b[38;5;241m=\u001b[39m [\u001b[38;5;124m\"\u001b[39m\u001b[38;5;124maku\u001b[39m\u001b[38;5;124m\"\u001b[39m, \u001b[38;5;124m\"\u001b[39m\u001b[38;5;124myang\u001b[39m\u001b[38;5;124m\"\u001b[39m]\n\u001b[0;32m      3\u001b[0m token_nostopwords \u001b[38;5;241m=\u001b[39m []\n\u001b[1;32m----> 4\u001b[0m token_nostopwords\u001b[38;5;241m.\u001b[39mappend([w \u001b[38;5;28;01mfor\u001b[39;00m w \u001b[38;5;129;01min\u001b[39;00m kalimat \u001b[38;5;28;01mif\u001b[39;00m \u001b[38;5;129;01mnot\u001b[39;00m \u001b[43mw\u001b[49m\u001b[43m \u001b[49m\u001b[38;5;129;43;01min\u001b[39;49;00m\u001b[43m \u001b[49m\u001b[43mstopwords\u001b[49m])\n\u001b[0;32m      5\u001b[0m token_nostopwords\n",
      "\u001b[1;31mTypeError\u001b[0m: unhashable type: 'list'"
     ]
    }
   ],
   "source": []
  }
 ],
 "metadata": {
  "kernelspec": {
   "display_name": "Python 3 (ipykernel)",
   "language": "python",
   "name": "python3"
  },
  "language_info": {
   "codemirror_mode": {
    "name": "ipython",
    "version": 3
   },
   "file_extension": ".py",
   "mimetype": "text/x-python",
   "name": "python",
   "nbconvert_exporter": "python",
   "pygments_lexer": "ipython3",
   "version": "3.8.13"
  }
 },
 "nbformat": 4,
 "nbformat_minor": 5
}
