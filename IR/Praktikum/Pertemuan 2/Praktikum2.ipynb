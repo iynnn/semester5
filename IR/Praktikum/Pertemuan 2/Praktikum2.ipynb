{
 "cells": [
  {
   "cell_type": "code",
   "execution_count": 3,
   "id": "5370898f",
   "metadata": {},
   "outputs": [
    {
     "name": "stdout",
     "output_type": "stream",
     "text": [
      "Kamu\n"
     ]
    }
   ],
   "source": [
    "list1 = [\"Wilayah\", \"Kamu\", \"Sudah\", \"Bebas\", \"COVID-19\",\"?\"]\n",
    "print(list1[1])"
   ]
  },
  {
   "cell_type": "code",
   "execution_count": 7,
   "id": "f749ad46",
   "metadata": {},
   "outputs": [
    {
     "name": "stdout",
     "output_type": "stream",
     "text": [
      "1\n",
      "2\n",
      "tiga\n",
      "empat\n",
      "5\n",
      "1\n",
      "2\n",
      "tiga\n",
      "empat\n",
      "5\n"
     ]
    }
   ],
   "source": [
    "list2 = [1,2,\"tiga\",\"empat\", 5]\n",
    "\n",
    "# menampilkan semua anggorta list\n",
    "for i in range (len(list2)):\n",
    "    print(list2[i])\n",
    "    \n",
    "# atau \n",
    "for list in list2:\n",
    "    print(list)"
   ]
  },
  {
   "cell_type": "code",
   "execution_count": 13,
   "id": "0b2cc6df",
   "metadata": {},
   "outputs": [
    {
     "name": "stdout",
     "output_type": "stream",
     "text": [
      "Sudah\n"
     ]
    }
   ],
   "source": [
    "# Dictionary \n",
    "dict1 = {1:\"Wilayah\", 2:\"Kamu\", 3:\"Sudah\", 4: \"Bebas\", 5:\"COVID-19\", 6:\"?\"}\n",
    "print(dict1[3])"
   ]
  },
  {
   "cell_type": "code",
   "execution_count": 69,
   "id": "f5da9f82",
   "metadata": {},
   "outputs": [
    {
     "name": "stdout",
     "output_type": "stream",
     "text": [
      "{'pengembangan': 3, 'sistem': 2, 'informasi': 1, 'penjadwalan': 1, 'model': 1, 'analisis': 2, 'sentimen': 1, 'berita': 1, 'input': 1, 'output': 1}\n"
     ]
    }
   ],
   "source": [
    "doc1 = \"pengembangan sistem informasi penjadwalan\"\n",
    "doc1_term = [\"pengembangan\", \"sistem\", \"informasi\", \"penjadwalan\"]\n",
    "doc2 = \"pengembangan model analisis sentimen berita\"\n",
    "doc2_term = [\"pengembangan\", \"model\", \"analisis\", \"sentimen\", \"berita\"]\n",
    "doc3 = \"pengembangan analisis sistem input output\"\n",
    "doc3_term = [\"pengembangan\", \"analisis\", \"sistem\", \"input\", \"output\"]\n",
    "\n",
    "corpus = [doc1, doc2, doc3]\n",
    "corpus_term = [doc1_term, doc2_term, doc3_term ]\n",
    "\n",
    "# Gabungin semua term ke vocab\n",
    "\n",
    "vocabulary = {}\n",
    "for d in corpus_term:\n",
    "    for term in d:\n",
    "        if term not in vocabulary:\n",
    "            vocabulary[term] = 1\n",
    "        else:\n",
    "            vocabulary[term] = vocabulary[term] + 1\n",
    "print(vocabulary)"
   ]
  },
  {
   "cell_type": "code",
   "execution_count": 10,
   "id": "55adbbfa",
   "metadata": {},
   "outputs": [
    {
     "name": "stdout",
     "output_type": "stream",
     "text": [
      "['pengembangan', 'sistem', 'informasi', 'penjadwalan']\n",
      "['pengembangan', 'model', 'analisis', 'sentimen', 'berita']\n",
      "['pengembangan', 'analisis', 'sistem', 'input', 'output']\n"
     ]
    }
   ],
   "source": [
    "# Tokenisasi \n",
    "def tokenisasi(text):\n",
    "    tokens = text.split(\" \")\n",
    "    return tokens\n",
    "\n",
    "\n",
    "for d in corpus:\n",
    "    token_kata = tokenisasi(d)\n",
    "    print(token_kata)"
   ]
  },
  {
   "cell_type": "code",
   "execution_count": 42,
   "id": "f08ccf22",
   "metadata": {},
   "outputs": [
    {
     "name": "stdout",
     "output_type": "stream",
     "text": [
      "['pengembangan', 'analisis', 'sistem', 'input', 'output']\n",
      "['pengembangan', 'analisis', 'sistem', 'input', 'output']\n",
      "['pengembangan', 'analisis', 'sistem', 'input', 'output']\n"
     ]
    }
   ],
   "source": [
    "# ini tokenisasi juga\n",
    "# kalo mau install di jupyternya \n",
    "#!pip install spacy\n",
    "\n",
    "from spacy.lang.id import Indonesian\n",
    "import spacy\n",
    "nlp = Indonesian() # use directly\n",
    "nlp = spacy.blank('id') #blank instance\n",
    "#Bisa pilih salah satu bentuk variabel nlp di atas atau boleh juga menggunakan keduanya pada blok program yang berbeda\n",
    "\n",
    "for d in corpus:\n",
    "    spacy_id = nlp(d)\n",
    "    token_kata = [token.text for token in spacy_id]\n",
    "    print(token_kata)\n",
    "\n"
   ]
  },
  {
   "cell_type": "code",
   "execution_count": 39,
   "id": "60e4f432",
   "metadata": {},
   "outputs": [
    {
     "name": "stdout",
     "output_type": "stream",
     "text": [
      "WILAYAH KAMU SUDAH 'BEBAS' COVID-19? CEK 34 KAB/KOTA ZONA HIJAU TERBARU\n",
      "wilayah kamu sudah 'bebas' covid-19? cek 34 kab/kota zona hijau terbaru\n"
     ]
    }
   ],
   "source": [
    "# Capitalization/Case Folding\n",
    "text = \"Wilayah Kamu sudah 'Bebas' COVID-19? Cek 34 Kab/Kota Zona Hijau Terbaru\"\n",
    "text_capital = text.upper()\n",
    "text_lower = text.lower()\n",
    "print(text_capital)\n",
    "print(text_lower)"
   ]
  },
  {
   "cell_type": "code",
   "execution_count": 50,
   "id": "e439ff8d",
   "metadata": {},
   "outputs": [
    {
     "name": "stdout",
     "output_type": "stream",
     "text": [
      "['wilayah', 'kamu', \"'\", 'bebas', \"'\", 'covid', '-', '19', '?', 'cek', '34', 'kab', '/', 'kota', 'zona', 'hijau', 'terbaru']\n"
     ]
    }
   ],
   "source": [
    "# Eliminasi Stopword\n",
    "stopwords = [\"yang\", \"dari\", \"sudah\", \"dan\"]\n",
    "# teks sama kaya di atas\n",
    "spacy_idn = nlp(text_lower)\n",
    "tokens = [token.text for token in spacy_idn]\n",
    "tokens_nostopword = [w for w in tokens if not w in stopwords]\n",
    "print(tokens_nostopword)"
   ]
  },
  {
   "cell_type": "code",
   "execution_count": 54,
   "id": "10d03c4a",
   "metadata": {},
   "outputs": [
    {
     "name": "stdout",
     "output_type": "stream",
     "text": [
      "['wilayah', \"'\", 'bebas', \"'\", 'covid', '-', '19', '?', 'cek', '34', 'kab', '/', 'kota', 'zona', 'hijau', 'terbaru']\n"
     ]
    }
   ],
   "source": [
    "# Eliminasi versi make library\n",
    "from spacy.lang.id import Indonesian\n",
    "import spacy\n",
    "nlp = Indonesian() # use directly\n",
    "nlp = spacy.blank('id') #blank instance\n",
    "\n",
    "stopwords = nlp.Defaults.stop_words\n",
    "tokens_nostopword = [w for w in tokens if not w in stopwords]\n",
    "print(tokens_nostopword)"
   ]
  },
  {
   "cell_type": "code",
   "execution_count": 58,
   "id": "86f84697",
   "metadata": {},
   "outputs": [
    {
     "name": "stdout",
     "output_type": "stream",
     "text": [
      "['saya', 'sedang', 'di', 'jalan', 'nih']\n"
     ]
    }
   ],
   "source": [
    "#NORMALIZATION\n",
    "normal_list = {\"gue\":\"saya\", \"gua\" : \"saya\", \"aku\": \"saya\", \"aq\":\"saya\", \"lagi\":\"sedang\"}\n",
    "text = \"aq lagi di jalan nih\"\n",
    "text_normal = []\n",
    "for t in text.split(\" \"):\n",
    "    text_normal.append(normal_list[t] if t in normal_list else t)\n",
    "print(text_normal)"
   ]
  },
  {
   "cell_type": "code",
   "execution_count": 60,
   "id": "afe34a72",
   "metadata": {},
   "outputs": [
    {
     "name": "stdout",
     "output_type": "stream",
     "text": [
      "Requirement already satisfied: sastrawi in c:\\users\\yanto\\anaconda3\\envs\\ir_env\\lib\\site-packages (1.0.1)\n"
     ]
    }
   ],
   "source": [
    "# Stemming \n",
    "!pip install sastrawi"
   ]
  },
  {
   "cell_type": "code",
   "execution_count": 70,
   "id": "aafabdf4",
   "metadata": {},
   "outputs": [
    {
     "name": "stdout",
     "output_type": "stream",
     "text": [
      "wilayah kamu sudah bebas covid-19 cek 34 kab kota zona hijau baru\n"
     ]
    }
   ],
   "source": [
    "from Sastrawi.Stemmer.StemmerFactory import StemmerFactory\n",
    "\n",
    "# create stemmer\n",
    "factory = StemmerFactory()\n",
    "stemmer = factory.create_stemmer()\n",
    "\n",
    "# stemming process\n",
    "text = \"Wilayah Kamu sudah 'Bebas' COVID-19? Cek 34 Kab/Kota Zona Hijau Terbaru\"\n",
    "output = stemmer.stem(text)\n",
    "print(output)"
   ]
  }
 ],
 "metadata": {
  "kernelspec": {
   "display_name": "Python 3 (ipykernel)",
   "language": "python",
   "name": "python3"
  },
  "language_info": {
   "codemirror_mode": {
    "name": "ipython",
    "version": 3
   },
   "file_extension": ".py",
   "mimetype": "text/x-python",
   "name": "python",
   "nbconvert_exporter": "python",
   "pygments_lexer": "ipython3",
   "version": "3.8.13"
  }
 },
 "nbformat": 4,
 "nbformat_minor": 5
}
