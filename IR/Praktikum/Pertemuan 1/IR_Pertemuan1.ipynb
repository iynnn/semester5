{
 "cells": [
  {
   "cell_type": "code",
   "execution_count": 11,
   "id": "d1e661b6",
   "metadata": {},
   "outputs": [],
   "source": [
    "import os, re"
   ]
  },
  {
   "cell_type": "code",
   "execution_count": null,
   "id": "8c583c87",
   "metadata": {},
   "outputs": [],
   "source": []
  },
  {
   "cell_type": "code",
   "execution_count": 12,
   "id": "bde44c81",
   "metadata": {},
   "outputs": [],
   "source": [
    "path = \"C:/Users/221911069/Information Retrieval/berita\"\n",
    "\n",
    "def read_file(folder_path):\n",
    "    file_path = []\n",
    "    for file in os.listdir(folder_path):\n",
    "        if os.path.isfile(os.path.join(folder_path, file)):\n",
    "            if file.endswith(\".txt\"):\n",
    "                file_path.append(file)\n",
    "    print(file_path)"
   ]
  },
  {
   "cell_type": "code",
   "execution_count": 33,
   "id": "865e3413",
   "metadata": {},
   "outputs": [
    {
     "name": "stdout",
     "output_type": "stream",
     "text": [
      "['berita1.txt', 'berita2.txt', 'berita3.txt', 'berita4.txt']\n"
     ]
    }
   ],
   "source": [
    "read_file(path)"
   ]
  },
  {
   "cell_type": "code",
   "execution_count": 45,
   "id": "cc871f42",
   "metadata": {},
   "outputs": [],
   "source": [
    "def querying_doc(folder_path, query):\n",
    "    texts = []\n",
    "    for file in read_text_in_file(folder_path):\n",
    "        with open(os.path.join(folder_path, file), 'r') as f:\n",
    "            texts.append(f.read())\n",
    "    for text in texts:\n",
    "        if re.search(query, text):\n",
    "            print(text)"
   ]
  },
  {
   "cell_type": "code",
   "execution_count": 65,
   "id": "b235ac82",
   "metadata": {},
   "outputs": [],
   "source": [
    "def querying_doc_V2(folder_path, query):\n",
    "    for file in read_text_in_file(folder_path):\n",
    "        with open(os.path.join(folder_path, file), 'r') as f:\n",
    "            if re.search(query, f.read()):\n",
    "                print(f\"{file}\")"
   ]
  },
  {
   "cell_type": "code",
   "execution_count": 68,
   "id": "18701dd7",
   "metadata": {},
   "outputs": [
    {
     "name": "stdout",
     "output_type": "stream",
     "text": [
      "Masukan query: tikus\n",
      "Cacar monyet merupakan penyakit yang dapat menular dari orang ke orang, namun sumber utamanya adalah hewan pengerat dan primata, seperti tikus, tupai, dan monyet yang terinfeksi.\n",
      "\n",
      "Query berada pada file:\n",
      "berita3.txt\n"
     ]
    }
   ],
   "source": [
    "query = str(input(\"Masukan query: \"))\n",
    "querying_doc(path, query)\n",
    "\n",
    "print(\"\\nQuery berada pada file:\")\n",
    "querying_doc_V2(path, query)"
   ]
  }
 ],
 "metadata": {
  "kernelspec": {
   "display_name": "Python 3 (ipykernel)",
   "language": "python",
   "name": "python3"
  },
  "language_info": {
   "codemirror_mode": {
    "name": "ipython",
    "version": 3
   },
   "file_extension": ".py",
   "mimetype": "text/x-python",
   "name": "python",
   "nbconvert_exporter": "python",
   "pygments_lexer": "ipython3",
   "version": "3.8.13"
  }
 },
 "nbformat": 4,
 "nbformat_minor": 5
}
